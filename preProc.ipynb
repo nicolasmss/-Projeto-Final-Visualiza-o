{
 "cells": [
  {
   "cell_type": "code",
   "execution_count": 2,
   "id": "015955ca",
   "metadata": {},
   "outputs": [],
   "source": [
    "import pandas as pd"
   ]
  },
  {
   "cell_type": "code",
   "execution_count": 3,
   "id": "5d96c4a6",
   "metadata": {},
   "outputs": [],
   "source": [
    "# 1. Carregar os dados\n",
    "df_dialise = pd.read_csv(\"dialiseCronica.csv\", sep=\",\", dtype=str)\n",
    "df_fav = pd.read_csv(\"ACFRS_FAV.csv\", sep=\";\", dtype=str)\n"
   ]
  },
  {
   "cell_type": "code",
   "execution_count": 4,
   "id": "721b5eb7",
   "metadata": {},
   "outputs": [
    {
     "name": "stdout",
     "output_type": "stream",
     "text": [
      "       AP_CMP   ATD_DTPDR  Cronico\n",
      "0  2014-08-01  2013-10-02  cronico\n",
      "1  2014-08-01  2014-08-11    agudo\n",
      "2  2014-08-01  2008-10-01  cronico\n",
      "3  2014-08-01  2010-05-15  cronico\n",
      "4  2014-08-01  2010-04-30  cronico\n"
     ]
    }
   ],
   "source": [
    "print(df_dialise[['AP_CMP', 'ATD_DTPDR', 'Cronico']].head(5))"
   ]
  },
  {
   "cell_type": "code",
   "execution_count": 5,
   "id": "d45b0143",
   "metadata": {},
   "outputs": [
    {
     "name": "stdout",
     "output_type": "stream",
     "text": [
      "   AP_CMP  AP_MVM\n",
      "0  201407  201408\n",
      "1  201408  201408\n",
      "2  201408  201408\n",
      "3  201408  201408\n",
      "4  201408  201408\n"
     ]
    }
   ],
   "source": [
    "print(df_fav[['AP_CMP','AP_MVM']].head(5))"
   ]
  },
  {
   "cell_type": "code",
   "execution_count": 6,
   "id": "a9627c6b",
   "metadata": {},
   "outputs": [],
   "source": [
    "# 2. Converter datas importantes\n",
    "df_dialise['AP_CMP'] = pd.to_datetime(df_dialise['AP_CMP'], format='%Y-%m-%d')\n",
    "df_dialise['ATD_DTPDR'] = pd.to_datetime(df_dialise['ATD_DTPDR'], format='%Y-%m-%d', errors='coerce')"
   ]
  },
  {
   "cell_type": "code",
   "execution_count": 7,
   "id": "27c2a385",
   "metadata": {},
   "outputs": [
    {
     "name": "stdout",
     "output_type": "stream",
     "text": [
      "      AP_CMP  ATD_DTPDR  Cronico\n",
      "0 2014-08-01 2013-10-02  cronico\n",
      "1 2014-08-01 2014-08-11    agudo\n",
      "2 2014-08-01 2008-10-01  cronico\n",
      "3 2014-08-01 2010-05-15  cronico\n",
      "4 2014-08-01 2010-04-30  cronico\n"
     ]
    }
   ],
   "source": [
    "print(df_dialise[[ 'AP_CMP', 'ATD_DTPDR', 'Cronico']].head(5))"
   ]
  },
  {
   "cell_type": "code",
   "execution_count": 8,
   "id": "8de4da16",
   "metadata": {},
   "outputs": [],
   "source": [
    "# 3. Renomear colunas do FAV (exceto a chave)\n",
    "colunas_fav = [col for col in df_fav.columns if col != \"AP_CNSPCN\"]\n",
    "df_fav_renomeado = df_fav.rename(columns={col: f\"fav_{col}\" for col in colunas_fav})\n"
   ]
  },
  {
   "cell_type": "code",
   "execution_count": 9,
   "id": "8c368677",
   "metadata": {},
   "outputs": [
    {
     "name": "stdout",
     "output_type": "stream",
     "text": [
      "  fav_AP_CMP fav_AP_MVM\n",
      "0     201407     201408\n",
      "1     201408     201408\n",
      "2     201408     201408\n",
      "3     201408     201408\n",
      "4     201408     201408\n"
     ]
    }
   ],
   "source": [
    "print(df_fav_renomeado[['fav_AP_CMP','fav_AP_MVM']].head(5))"
   ]
  },
  {
   "cell_type": "code",
   "execution_count": 10,
   "id": "f864474e",
   "metadata": {},
   "outputs": [],
   "source": [
    "df_fav_renomeado['fav_AP_CMP'] = pd.to_datetime(df_fav_renomeado['fav_AP_CMP'], format='%Y%m', errors='coerce')"
   ]
  },
  {
   "cell_type": "code",
   "execution_count": 11,
   "id": "eac84433",
   "metadata": {},
   "outputs": [
    {
     "name": "stdout",
     "output_type": "stream",
     "text": [
      "  fav_AP_CMP fav_AP_MVM\n",
      "0 2014-07-01     201408\n",
      "1 2014-08-01     201408\n",
      "2 2014-08-01     201408\n",
      "3 2014-08-01     201408\n",
      "4 2014-08-01     201408\n"
     ]
    }
   ],
   "source": [
    "print(df_fav_renomeado[['fav_AP_CMP','fav_AP_MVM']].head(5))"
   ]
  },
  {
   "cell_type": "code",
   "execution_count": 12,
   "id": "8f65e7a3",
   "metadata": {},
   "outputs": [],
   "source": [
    "# 4. Juntar os dados mantendo TODOS os registros de diálise\n",
    "df_merged = pd.merge(df_dialise, \n",
    "                    df_fav_renomeado, \n",
    "                    on=\"AP_CNSPCN\", \n",
    "                    how=\"left\")\n"
   ]
  },
  {
   "cell_type": "code",
   "execution_count": 13,
   "id": "59113deb",
   "metadata": {},
   "outputs": [
    {
     "name": "stdout",
     "output_type": "stream",
     "text": [
      "  fav_AP_CMP fav_AP_MVM\n",
      "0 2016-11-01     201611\n",
      "1        NaT        NaN\n",
      "2        NaT        NaN\n",
      "3        NaT        NaN\n",
      "4        NaT        NaN\n"
     ]
    }
   ],
   "source": [
    "print(df_merged[['fav_AP_CMP','fav_AP_MVM']].head(5))"
   ]
  },
  {
   "cell_type": "code",
   "execution_count": 14,
   "id": "69894acc",
   "metadata": {},
   "outputs": [],
   "source": [
    "# 5. Adicionar coluna de repetição de FAV apenas para registros válidos\n",
    "df_merged['fav_repeticao'] = df_merged.groupby('AP_CNSPCN')['fav_AP_CMP'].transform(lambda x: x.notna().cumsum())\n"
   ]
  },
  {
   "cell_type": "code",
   "execution_count": 15,
   "id": "55b74171",
   "metadata": {},
   "outputs": [
    {
     "name": "stdout",
     "output_type": "stream",
     "text": [
      "   fav_AP_CMP  ATD_DTPDR meses_dialise  Cronico fav_AP_MVM fav_AP_CMP  \\\n",
      "0  2016-11-01 2013-10-02          10.0  cronico     201611 2016-11-01   \n",
      "1         NaT 2014-08-11           0.0    agudo        NaN        NaT   \n",
      "2         NaT 2008-10-01          70.0  cronico        NaN        NaT   \n",
      "3         NaT 2010-05-15          51.0  cronico        NaN        NaT   \n",
      "4         NaT 2010-04-30          52.0  cronico        NaN        NaT   \n",
      "5         NaT 2011-04-20          40.0  cronico        NaN        NaT   \n",
      "6         NaT 2010-08-31          48.0  cronico        NaN        NaT   \n",
      "7         NaT 2010-05-01          51.0  cronico        NaN        NaT   \n",
      "8         NaT 2014-03-01           5.0  cronico        NaN        NaT   \n",
      "9         NaT 2013-11-22           9.0  cronico        NaN        NaT   \n",
      "10        NaT 2008-08-01          72.0  cronico        NaN        NaT   \n",
      "11        NaT 2010-09-09          47.0  cronico        NaN        NaT   \n",
      "12        NaT 2011-06-27          38.0  cronico        NaN        NaT   \n",
      "13        NaT 2009-03-10          65.0  cronico        NaN        NaT   \n",
      "14        NaT 2011-07-21          37.0  cronico        NaN        NaT   \n",
      "15        NaT 2013-04-23          16.0  cronico        NaN        NaT   \n",
      "16        NaT 2005-08-01         108.0  cronico        NaN        NaT   \n",
      "17        NaT 2009-10-01          58.0  cronico        NaN        NaT   \n",
      "18        NaT 2012-06-11          26.0  cronico        NaN        NaT   \n",
      "19        NaT 2012-06-27          26.0  cronico        NaN        NaT   \n",
      "20        NaT 2010-01-16          55.0  cronico        NaN        NaT   \n",
      "21 2016-10-01 2013-09-15          11.0  cronico     201610 2016-10-01   \n",
      "22 2018-06-01 2013-09-15          11.0  cronico     201806 2018-06-01   \n",
      "23        NaT 2012-06-23          26.0  cronico        NaN        NaT   \n",
      "\n",
      "    fav_repeticao  \n",
      "0             1.0  \n",
      "1             0.0  \n",
      "2             0.0  \n",
      "3             0.0  \n",
      "4             0.0  \n",
      "5             0.0  \n",
      "6             0.0  \n",
      "7             0.0  \n",
      "8             0.0  \n",
      "9             0.0  \n",
      "10            0.0  \n",
      "11            0.0  \n",
      "12            0.0  \n",
      "13            0.0  \n",
      "14            0.0  \n",
      "15            0.0  \n",
      "16            0.0  \n",
      "17            0.0  \n",
      "18            0.0  \n",
      "19            0.0  \n",
      "20            0.0  \n",
      "21            1.0  \n",
      "22            2.0  \n",
      "23            0.0  \n"
     ]
    }
   ],
   "source": [
    "print(df_merged[['fav_AP_CMP', 'ATD_DTPDR','meses_dialise', 'Cronico', 'fav_AP_MVM', 'fav_AP_CMP', 'fav_repeticao']].head(24))"
   ]
  },
  {
   "cell_type": "code",
   "execution_count": 16,
   "id": "37e3b3e3",
   "metadata": {},
   "outputs": [
    {
     "name": "stdout",
     "output_type": "stream",
     "text": [
      "\n",
      "Verificação dos dados:\n",
      "Datas FAV válidas: 810180\n",
      "Datas ATD_DTPDR válidas: 1139598\n",
      "Pacientes crônicos: 46809\n",
      "FAVs com repetição 1: 13374\n",
      "\n",
      "Resultado do cálculo:\n",
      "Valores não nulos em espera_fav: 2095\n",
      "          AP_CNSPCN  ATD_DTPDR fav_AP_CMP  espera_fav\n",
      "0   {}{|~}}} 2013-10-02 2016-11-01      1126.0\n",
      "21  {{}{~~}}| 2013-09-15 2016-10-01      1112.0\n",
      "24  {{||~~ 2013-03-27 2015-05-01       765.0\n",
      "26  {{{{~} 2009-08-25 2020-05-01      3902.0\n",
      "28  {{{} 2011-08-01 2016-02-01      1645.0\n"
     ]
    }
   ],
   "source": [
    "# Verificação prévia dos dados\n",
    "print(\"\\nVerificação dos dados:\")\n",
    "print(f\"Datas FAV válidas: {df_merged['fav_AP_CMP'].notna().sum()}\")\n",
    "print(f\"Datas ATD_DTPDR válidas: {df_merged['ATD_DTPDR'].notna().sum()}\")\n",
    "print(f\"Pacientes crônicos: {(df_merged['Cronico'] == 'cronico').sum()}\")\n",
    "print(f\"FAVs com repetição 1: {(df_merged['fav_repeticao'] == 1).sum()}\")\n",
    "\n",
    "# Versão corrigida do cálculo\n",
    "df_merged['espera_fav'] = df_merged.apply(\n",
    "    lambda row: (row['fav_AP_CMP'] - row['ATD_DTPDR']).days \n",
    "    if (pd.notna(row['fav_AP_CMP']) and \n",
    "        pd.notna(row['ATD_DTPDR']) and \n",
    "        str(row['Cronico']).lower() == 'cronico' and \n",
    "        row['fav_repeticao'] == 1) \n",
    "    else None,\n",
    "    axis=1\n",
    ")\n",
    "\n",
    "# Verificação pós-cálculo\n",
    "print(\"\\nResultado do cálculo:\")\n",
    "print(f\"Valores não nulos em espera_fav: {df_merged['espera_fav'].notna().sum()}\")\n",
    "print(df_merged[df_merged['espera_fav'].notna()][['AP_CNSPCN', 'ATD_DTPDR', 'fav_AP_CMP', 'espera_fav']].head())"
   ]
  },
  {
   "cell_type": "code",
   "execution_count": 17,
   "id": "8b7d9a74",
   "metadata": {},
   "outputs": [],
   "source": [
    "# 7. Salvar resultado\n",
    "df_merged.to_csv(\"dialise_fav_final2.csv\", index=False, sep=\";\", encoding='utf-8')"
   ]
  },
  {
   "cell_type": "code",
   "execution_count": 18,
   "id": "8b04b0a6",
   "metadata": {},
   "outputs": [
    {
     "name": "stdout",
     "output_type": "stream",
     "text": [
      "   AP_MVM AP_CONDIC AP_GESTAO AP_CODUNI     AP_AUTORIZ     AP_CMP   AP_PRIPAL  \\\n",
      "0  201408        MN    431490   2237253  4314203219370 2014-08-01  0305010166   \n",
      "1  201408        MN    431490   2262568  4314203319756 2014-08-01  0305010166   \n",
      "2  201408        MN    431490   2262568  4314203240490 2014-08-01  0305010166   \n",
      "3  201408        MN    431490   2237601  4314201305645 2014-08-01  0305010166   \n",
      "4  201408        MN    431490   2237598  4314203319162 2014-08-01  0305010166   \n",
      "\n",
      "  AP_VL_AP AP_UFMUN AP_TPUPS  ... fav_ACF_FLEBIT fav_ACF_HEMATO  \\\n",
      "0  2149.62   431490       05  ...              N              N   \n",
      "1    400.0   431490       05  ...            NaN            NaN   \n",
      "2  2149.62   431490       05  ...            NaN            NaN   \n",
      "3  2204.49   431490       05  ...            NaN            NaN   \n",
      "4  1529.46   431490       05  ...            NaN            NaN   \n",
      "\n",
      "  fav_ACF_VEIAVI fav_ACF_PULSO fav_ACF_VEIDIA fav_ACF_ARTDIA fav_ACF_FREMIT  \\\n",
      "0              N             N           0000           0000              1   \n",
      "1            NaN           NaN            NaN            NaN            NaN   \n",
      "2            NaN           NaN            NaN            NaN            NaN   \n",
      "3            NaN           NaN            NaN            NaN            NaN   \n",
      "4            NaN           NaN            NaN            NaN            NaN   \n",
      "\n",
      "  fav_AP_NATJUR fav_repeticao espera_fav  \n",
      "0          3069           1.0     1126.0  \n",
      "1           NaN           0.0        NaN  \n",
      "2           NaN           0.0        NaN  \n",
      "3           NaN           0.0        NaN  \n",
      "4           NaN           0.0        NaN  \n",
      "\n",
      "[5 rows x 124 columns]\n"
     ]
    }
   ],
   "source": [
    "print(df_merged.head())"
   ]
  },
  {
   "cell_type": "code",
   "execution_count": 19,
   "id": "e277b48e",
   "metadata": {},
   "outputs": [
    {
     "name": "stdout",
     "output_type": "stream",
     "text": [
      "   fav_AP_CMP  ATD_DTPDR  Cronico  fav_repeticao  espera_fav\n",
      "0  2016-11-01 2013-10-02  cronico            1.0      1126.0\n",
      "1         NaT 2014-08-11    agudo            0.0         NaN\n",
      "2         NaT 2008-10-01  cronico            0.0         NaN\n",
      "3         NaT 2010-05-15  cronico            0.0         NaN\n",
      "4         NaT 2010-04-30  cronico            0.0         NaN\n",
      "5         NaT 2011-04-20  cronico            0.0         NaN\n",
      "6         NaT 2010-08-31  cronico            0.0         NaN\n",
      "7         NaT 2010-05-01  cronico            0.0         NaN\n",
      "8         NaT 2014-03-01  cronico            0.0         NaN\n",
      "9         NaT 2013-11-22  cronico            0.0         NaN\n",
      "10        NaT 2008-08-01  cronico            0.0         NaN\n",
      "11        NaT 2010-09-09  cronico            0.0         NaN\n",
      "12        NaT 2011-06-27  cronico            0.0         NaN\n",
      "13        NaT 2009-03-10  cronico            0.0         NaN\n",
      "14        NaT 2011-07-21  cronico            0.0         NaN\n",
      "15        NaT 2013-04-23  cronico            0.0         NaN\n",
      "16        NaT 2005-08-01  cronico            0.0         NaN\n",
      "17        NaT 2009-10-01  cronico            0.0         NaN\n",
      "18        NaT 2012-06-11  cronico            0.0         NaN\n",
      "19        NaT 2012-06-27  cronico            0.0         NaN\n",
      "20        NaT 2010-01-16  cronico            0.0         NaN\n",
      "21 2016-10-01 2013-09-15  cronico            1.0      1112.0\n",
      "22 2018-06-01 2013-09-15  cronico            2.0         NaN\n",
      "23        NaT 2012-06-23  cronico            0.0         NaN\n"
     ]
    }
   ],
   "source": [
    "# Verificar os dados relevantes\n",
    "print(df_merged[['fav_AP_CMP', 'ATD_DTPDR', 'Cronico', 'fav_repeticao', 'espera_fav']].head(24))"
   ]
  }
 ],
 "metadata": {
  "kernelspec": {
   "display_name": "Python 3",
   "language": "python",
   "name": "python3"
  },
  "language_info": {
   "codemirror_mode": {
    "name": "ipython",
    "version": 3
   },
   "file_extension": ".py",
   "mimetype": "text/x-python",
   "name": "python",
   "nbconvert_exporter": "python",
   "pygments_lexer": "ipython3",
   "version": "3.11.9"
  }
 },
 "nbformat": 4,
 "nbformat_minor": 5
}
