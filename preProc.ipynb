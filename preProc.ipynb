{
 "cells": [
  {
   "cell_type": "code",
   "execution_count": 1,
   "id": "015955ca",
   "metadata": {},
   "outputs": [],
   "source": [
    "import pandas as pd"
   ]
  },
  {
   "cell_type": "code",
   "execution_count": 2,
   "id": "5d96c4a6",
   "metadata": {},
   "outputs": [],
   "source": [
    "# 1. Carregar os dados\n",
    "df_dialise = pd.read_csv(\"dialiseCronica.csv\", sep=\",\", dtype=str)\n",
    "df_fav = pd.read_csv(\"ACFRS_FAV.csv\", sep=\";\", dtype=str)\n"
   ]
  },
  {
   "cell_type": "code",
   "execution_count": 3,
   "id": "721b5eb7",
   "metadata": {},
   "outputs": [
    {
     "name": "stdout",
     "output_type": "stream",
     "text": [
      "       AP_CMP   ATD_DTPDR  Cronico\n",
      "0  2014-08-01  2013-10-02  cronico\n",
      "1  2014-08-01  2014-08-11    agudo\n",
      "2  2014-08-01  2008-10-01  cronico\n",
      "3  2014-08-01  2010-05-15  cronico\n",
      "4  2014-08-01  2010-04-30  cronico\n"
     ]
    }
   ],
   "source": [
    "print(df_dialise[['AP_CMP', 'ATD_DTPDR', 'Cronico']].head(5))"
   ]
  },
  {
   "cell_type": "code",
   "execution_count": 4,
   "id": "d45b0143",
   "metadata": {},
   "outputs": [
    {
     "name": "stdout",
     "output_type": "stream",
     "text": [
      "   AP_CMP  AP_MVM\n",
      "0  201407  201408\n",
      "1  201408  201408\n",
      "2  201408  201408\n",
      "3  201408  201408\n",
      "4  201408  201408\n"
     ]
    }
   ],
   "source": [
    "print(df_fav[['AP_CMP','AP_MVM']].head(5))"
   ]
  },
  {
   "cell_type": "code",
   "execution_count": 5,
   "id": "a9627c6b",
   "metadata": {},
   "outputs": [],
   "source": [
    "# 2. Converter datas importantes\n",
    "df_dialise['AP_CMP'] = pd.to_datetime(df_dialise['AP_CMP'], format='%Y-%m-%d')\n",
    "df_dialise['ATD_DTPDR'] = pd.to_datetime(df_dialise['ATD_DTPDR'], format='%Y-%m-%d', errors='coerce')"
   ]
  },
  {
   "cell_type": "code",
   "execution_count": 6,
   "id": "27c2a385",
   "metadata": {},
   "outputs": [
    {
     "name": "stdout",
     "output_type": "stream",
     "text": [
      "      AP_CMP  ATD_DTPDR  Cronico\n",
      "0 2014-08-01 2013-10-02  cronico\n",
      "1 2014-08-01 2014-08-11    agudo\n",
      "2 2014-08-01 2008-10-01  cronico\n",
      "3 2014-08-01 2010-05-15  cronico\n",
      "4 2014-08-01 2010-04-30  cronico\n"
     ]
    }
   ],
   "source": [
    "print(df_dialise[[ 'AP_CMP', 'ATD_DTPDR', 'Cronico']].head(5))"
   ]
  },
  {
   "cell_type": "code",
   "execution_count": 7,
   "id": "8de4da16",
   "metadata": {},
   "outputs": [],
   "source": [
    "# 3. Renomear colunas do FAV (exceto a chave)\n",
    "colunas_fav = [col for col in df_fav.columns if col != \"AP_CNSPCN\"]\n",
    "df_fav_renomeado = df_fav.rename(columns={col: f\"fav_{col}\" for col in colunas_fav})\n"
   ]
  },
  {
   "cell_type": "code",
   "execution_count": 8,
   "id": "8c368677",
   "metadata": {},
   "outputs": [
    {
     "name": "stdout",
     "output_type": "stream",
     "text": [
      "  fav_AP_CMP fav_AP_MVM\n",
      "0     201407     201408\n",
      "1     201408     201408\n",
      "2     201408     201408\n",
      "3     201408     201408\n",
      "4     201408     201408\n"
     ]
    }
   ],
   "source": [
    "print(df_fav_renomeado[['fav_AP_CMP','fav_AP_MVM']].head(5))"
   ]
  },
  {
   "cell_type": "code",
   "execution_count": 9,
   "id": "f864474e",
   "metadata": {},
   "outputs": [],
   "source": [
    "df_fav_renomeado['fav_AP_CMP'] = pd.to_datetime(df_fav_renomeado['fav_AP_CMP'], format='%Y%m', errors='coerce')"
   ]
  },
  {
   "cell_type": "code",
   "execution_count": 10,
   "id": "eac84433",
   "metadata": {},
   "outputs": [
    {
     "name": "stdout",
     "output_type": "stream",
     "text": [
      "  fav_AP_CMP fav_AP_MVM\n",
      "0 2014-07-01     201408\n",
      "1 2014-08-01     201408\n",
      "2 2014-08-01     201408\n",
      "3 2014-08-01     201408\n",
      "4 2014-08-01     201408\n"
     ]
    }
   ],
   "source": [
    "print(df_fav_renomeado[['fav_AP_CMP','fav_AP_MVM']].head(5))"
   ]
  },
  {
   "cell_type": "code",
   "execution_count": 11,
   "id": "caded24d",
   "metadata": {},
   "outputs": [
    {
     "name": "stdout",
     "output_type": "stream",
     "text": [
      "Quantidade de AP_CNSPCN repetidos:7417\n",
      "Quantidade de AP_CNSPCN nulos:28\n",
      "Quantidade de AP_CNSPCN repetidos:0\n",
      "Quantidade de AP_CNSPCN nulos:0\n"
     ]
    }
   ],
   "source": [
    "df_fav_teste = df_fav_renomeado.copy()\n",
    "\n",
    "# print quantidade de AP_CNSPCN repetidos\n",
    "print(\"Quantidade de AP_CNSPCN repetidos:\" + str(df_fav_renomeado['AP_CNSPCN'].duplicated().sum()))\n",
    "# print quantidade de AP_CNSPCN nulos\n",
    "print(\"Quantidade de AP_CNSPCN nulos:\" + str(df_fav_renomeado['AP_CNSPCN'].isnull().sum()))\n",
    "\n",
    "# remover AP_CNSPCN repetidos\n",
    "df_fav_renomeado = df_fav_renomeado.drop_duplicates(subset=['AP_CNSPCN'])\n",
    "df_fav_renomeado = df_fav_renomeado.dropna(subset=['AP_CNSPCN'])\n",
    "\n",
    "print(\"Quantidade de AP_CNSPCN repetidos:\" + str(df_fav_renomeado['AP_CNSPCN'].duplicated().sum()))\n",
    "print(\"Quantidade de AP_CNSPCN nulos:\" + str(df_fav_renomeado['AP_CNSPCN'].isnull().sum()))\n",
    "\n",
    "\n"
   ]
  },
  {
   "cell_type": "code",
   "execution_count": 12,
   "id": "1fad2b93",
   "metadata": {},
   "outputs": [
    {
     "name": "stdout",
     "output_type": "stream",
     "text": [
      "Quantidade de AP_CNSPCN únicos no FAV que não aparecem na diálise: 921\n",
      "Exemplos: ['\\x82{}{{~\\x83\\x84\\x84}\\x83|\\x84\\x83\\x81', '\\x83\\x84\\x83{{{\\x84\\x83~}|~{\\x7f\\x83', '\\x82{{\\x82{\\x82\\x84}\\x82\\x80\\x81{\\x84\\x82{', '|}~\\x84\\x7f\\x82~\\x81\\x82|\\x7f{{{\\x83', '\\x83\\x84\\x83{{}~}\\x83\\x80|\\x83{\\x80\\x7f', '\\x83\\x84\\x83{{{{\\x82\\x80\\x80\\x83\\x7f{~\\x81', '|\\x81|}\\x82\\x80\\x7f\\x7f|\\x83}{{{{', '\\x83\\x84\\x83{{{\\x82\\x82~\\x84\\x82\\x82\\x7f~}', '\\x82{\\x81\\x83{}}\\x84\\x82~\\x80\\x80\\x84}\\x82', '\\x82{{\\x83{\\x7f\\x84\\x84|\\x80|\\x83~\\x83}']\n"
     ]
    }
   ],
   "source": [
    "# ...existing code...\n",
    "\n",
    "# Conjuntos de CNS únicos\n",
    "cns_fav = set(df_fav_renomeado['AP_CNSPCN'].unique())\n",
    "cns_dialise = set(df_dialise['AP_CNSPCN'].unique())\n",
    "\n",
    "# CNS do FAV que não aparecem na diálise\n",
    "cns_fav_nao_encontrados = cns_fav - cns_dialise\n",
    "\n",
    "print(f\"Quantidade de AP_CNSPCN únicos no FAV que não aparecem na diálise: {len(cns_fav_nao_encontrados)}\")\n",
    "#printar alguns exemplos\n",
    "print(\"Exemplos:\", list(cns_fav_nao_encontrados)[:10])"
   ]
  },
  {
   "cell_type": "code",
   "execution_count": 13,
   "id": "8f65e7a3",
   "metadata": {},
   "outputs": [],
   "source": [
    "# 4. Juntar os dados mantendo TODOS os registros de diálise\n",
    "df_merged = pd.merge(df_dialise, \n",
    "                    df_fav_renomeado, \n",
    "                    on=\"AP_CNSPCN\", \n",
    "                    how=\"left\")\n"
   ]
  },
  {
   "cell_type": "code",
   "execution_count": 14,
   "id": "59113deb",
   "metadata": {},
   "outputs": [
    {
     "name": "stdout",
     "output_type": "stream",
     "text": [
      "  fav_AP_CMP fav_AP_MVM\n",
      "0 2016-11-01     201611\n",
      "1        NaT        NaN\n",
      "2        NaT        NaN\n",
      "3        NaT        NaN\n",
      "4        NaT        NaN\n"
     ]
    }
   ],
   "source": [
    "print(df_merged[['fav_AP_CMP','fav_AP_MVM']].head(5))"
   ]
  },
  {
   "cell_type": "code",
   "execution_count": 15,
   "id": "69894acc",
   "metadata": {},
   "outputs": [
    {
     "name": "stdout",
     "output_type": "stream",
     "text": [
      "Quantidade de fav_repeticao > 1: 419399\n",
      "      AP_MVM AP_CONDIC AP_GESTAO AP_CODUNI     AP_AUTORIZ     AP_CMP  \\\n",
      "238   201408        MN    431490   2262584  4314203239313 2014-08-01   \n",
      "485   201408        EP    430000   2251817  4314200108548 2014-08-01   \n",
      "771   201408        EP    430000   2246929  4314204465769 2014-07-01   \n",
      "970   201408        MN    431490   2262509  4314203320537 2014-08-01   \n",
      "1255  201408        EP    430000   2246929  4314204465703 2014-06-01   \n",
      "1307  201408        EP    430000   2242397  4314201717408 2014-08-01   \n",
      "1485  201408        PG    432250   2241048  4314204400000 2014-08-01   \n",
      "1578  201408        MN    431490   2262460  4314203316984 2014-08-01   \n",
      "1587  201408        MN    431490   2237253  4314203316368 2014-08-01   \n",
      "1633  201408        MN    431490   2262770  4314203239467 2014-08-01   \n",
      "\n",
      "       AP_PRIPAL AP_VL_AP AP_UFMUN AP_TPUPS  ... fav_ACF_PREFAV  \\\n",
      "238   0305010107  1856.35   431490       36  ...              S   \n",
      "485   0305010107    992.2   430780       36  ...              S   \n",
      "771   0305010166  2753.22   431410       05  ...              N   \n",
      "970   0305010107  1062.01   431490       36  ...              S   \n",
      "1255  0305010107  2425.64   431410       05  ...              N   \n",
      "1307  0305010107  1834.76   431690       39  ...              N   \n",
      "1485  0305010107  2164.53   432250       05  ...              S   \n",
      "1578  0305010107   895.15   431490       36  ...              N   \n",
      "1587  0305010107   358.06   431490       05  ...              N   \n",
      "1633  0305010107   551.41   431490       36  ...              S   \n",
      "\n",
      "     fav_ACF_FLEBIT fav_ACF_HEMATO fav_ACF_VEIAVI fav_ACF_PULSO  \\\n",
      "238               N              N              S             S   \n",
      "485               N              N              S             S   \n",
      "771               N              N              N             N   \n",
      "970               N              N              S             S   \n",
      "1255              N              N              N             N   \n",
      "1307              N              N              N             N   \n",
      "1485              N              N              S             S   \n",
      "1578              N              N              N             N   \n",
      "1587              N              N              N             N   \n",
      "1633              N              N              S             S   \n",
      "\n",
      "     fav_ACF_VEIDIA fav_ACF_ARTDIA fav_ACF_FREMIT fav_AP_NATJUR fav_repeticao  \n",
      "238               0              0              3           NaN           2.0  \n",
      "485               0              0              3           NaN           2.0  \n",
      "771            0001           0001              1           NaN           2.0  \n",
      "970               0              0              3          2062           2.0  \n",
      "1255           0001           0001              1           NaN           2.0  \n",
      "1307           0001           0001              1          3069           2.0  \n",
      "1485              0              0              3           NaN           2.0  \n",
      "1578              0              0              1           NaN           2.0  \n",
      "1587              0              0              1           NaN           3.0  \n",
      "1633              0              0              3          1155           2.0  \n",
      "\n",
      "[10 rows x 123 columns]\n"
     ]
    }
   ],
   "source": [
    "# 5. Adicionar coluna de repetição de FAV apenas para registros válidos\n",
    "df_merged['fav_repeticao'] = df_merged.groupby('AP_CNSPCN')['fav_AP_CMP'].transform(lambda x: x.notna().cumsum())\n",
    "\n",
    "# print fav_repeticao > 1\n",
    "print(\"Quantidade de fav_repeticao > 1: \" + str((df_merged['fav_repeticao'] > 1).sum()))\n",
    "\n",
    "# print head 10 fav_repeticao > 1\n",
    "print(df_merged[df_merged['fav_repeticao'] > 1].head(10))\n"
   ]
  },
  {
   "cell_type": "code",
   "execution_count": 16,
   "id": "55b74171",
   "metadata": {},
   "outputs": [
    {
     "name": "stdout",
     "output_type": "stream",
     "text": [
      "   fav_AP_CMP  ATD_DTPDR meses_dialise  Cronico fav_AP_MVM fav_AP_CMP  \\\n",
      "0  2016-11-01 2013-10-02          10.0  cronico     201611 2016-11-01   \n",
      "1         NaT 2014-08-11           0.0    agudo        NaN        NaT   \n",
      "2         NaT 2008-10-01          70.0  cronico        NaN        NaT   \n",
      "3         NaT 2010-05-15          51.0  cronico        NaN        NaT   \n",
      "4         NaT 2010-04-30          52.0  cronico        NaN        NaT   \n",
      "5         NaT 2011-04-20          40.0  cronico        NaN        NaT   \n",
      "6         NaT 2010-08-31          48.0  cronico        NaN        NaT   \n",
      "7         NaT 2010-05-01          51.0  cronico        NaN        NaT   \n",
      "8         NaT 2014-03-01           5.0  cronico        NaN        NaT   \n",
      "9         NaT 2013-11-22           9.0  cronico        NaN        NaT   \n",
      "10        NaT 2008-08-01          72.0  cronico        NaN        NaT   \n",
      "11        NaT 2010-09-09          47.0  cronico        NaN        NaT   \n",
      "12        NaT 2011-06-27          38.0  cronico        NaN        NaT   \n",
      "13        NaT 2009-03-10          65.0  cronico        NaN        NaT   \n",
      "14        NaT 2011-07-21          37.0  cronico        NaN        NaT   \n",
      "15        NaT 2013-04-23          16.0  cronico        NaN        NaT   \n",
      "16        NaT 2005-08-01         108.0  cronico        NaN        NaT   \n",
      "17        NaT 2009-10-01          58.0  cronico        NaN        NaT   \n",
      "18        NaT 2012-06-11          26.0  cronico        NaN        NaT   \n",
      "19        NaT 2012-06-27          26.0  cronico        NaN        NaT   \n",
      "20        NaT 2010-01-16          55.0  cronico        NaN        NaT   \n",
      "21 2016-10-01 2013-09-15          11.0  cronico     201610 2016-10-01   \n",
      "22        NaT 2012-06-23          26.0  cronico        NaN        NaT   \n",
      "23 2015-05-01 2013-03-27          17.0  cronico     201505 2015-05-01   \n",
      "\n",
      "    fav_repeticao  \n",
      "0             1.0  \n",
      "1             0.0  \n",
      "2             0.0  \n",
      "3             0.0  \n",
      "4             0.0  \n",
      "5             0.0  \n",
      "6             0.0  \n",
      "7             0.0  \n",
      "8             0.0  \n",
      "9             0.0  \n",
      "10            0.0  \n",
      "11            0.0  \n",
      "12            0.0  \n",
      "13            0.0  \n",
      "14            0.0  \n",
      "15            0.0  \n",
      "16            0.0  \n",
      "17            0.0  \n",
      "18            0.0  \n",
      "19            0.0  \n",
      "20            0.0  \n",
      "21            1.0  \n",
      "22            0.0  \n",
      "23            1.0  \n"
     ]
    }
   ],
   "source": [
    "print(df_merged[['fav_AP_CMP', 'ATD_DTPDR','meses_dialise', 'Cronico', 'fav_AP_MVM', 'fav_AP_CMP', 'fav_repeticao']].head(24))"
   ]
  },
  {
   "cell_type": "code",
   "execution_count": 17,
   "id": "37e3b3e3",
   "metadata": {},
   "outputs": [
    {
     "name": "stdout",
     "output_type": "stream",
     "text": [
      "\n",
      "Verificação dos dados:\n",
      "Datas FAV válidas: 432773\n",
      "Datas ATD_DTPDR válidas: 762682\n",
      "Pacientes crônicos: 28377\n",
      "FAVs com repetição 1: 13374\n"
     ]
    },
    {
     "ename": "KeyboardInterrupt",
     "evalue": "",
     "output_type": "error",
     "traceback": [
      "\u001b[31m---------------------------------------------------------------------------\u001b[39m",
      "\u001b[31mKeyboardInterrupt\u001b[39m                         Traceback (most recent call last)",
      "\u001b[36mCell\u001b[39m\u001b[36m \u001b[39m\u001b[32mIn[17]\u001b[39m\u001b[32m, line 9\u001b[39m\n\u001b[32m      6\u001b[39m \u001b[38;5;28mprint\u001b[39m(\u001b[33mf\u001b[39m\u001b[33m\"\u001b[39m\u001b[33mFAVs com repetição 1: \u001b[39m\u001b[38;5;132;01m{\u001b[39;00m(df_merged[\u001b[33m'\u001b[39m\u001b[33mfav_repeticao\u001b[39m\u001b[33m'\u001b[39m]\u001b[38;5;250m \u001b[39m==\u001b[38;5;250m \u001b[39m\u001b[32m1\u001b[39m).sum()\u001b[38;5;132;01m}\u001b[39;00m\u001b[33m\"\u001b[39m)\n\u001b[32m      8\u001b[39m \u001b[38;5;66;03m# Versão corrigida do cálculo\u001b[39;00m\n\u001b[32m----> \u001b[39m\u001b[32m9\u001b[39m df_merged[\u001b[33m'\u001b[39m\u001b[33mespera_fav\u001b[39m\u001b[33m'\u001b[39m] = \u001b[43mdf_merged\u001b[49m\u001b[43m.\u001b[49m\u001b[43mapply\u001b[49m\u001b[43m(\u001b[49m\n\u001b[32m     10\u001b[39m \u001b[43m    \u001b[49m\u001b[38;5;28;43;01mlambda\u001b[39;49;00m\u001b[43m \u001b[49m\u001b[43mrow\u001b[49m\u001b[43m:\u001b[49m\u001b[43m \u001b[49m\u001b[43m(\u001b[49m\u001b[43mrow\u001b[49m\u001b[43m[\u001b[49m\u001b[33;43m'\u001b[39;49m\u001b[33;43mfav_AP_CMP\u001b[39;49m\u001b[33;43m'\u001b[39;49m\u001b[43m]\u001b[49m\u001b[43m \u001b[49m\u001b[43m-\u001b[49m\u001b[43m \u001b[49m\u001b[43mrow\u001b[49m\u001b[43m[\u001b[49m\u001b[33;43m'\u001b[39;49m\u001b[33;43mATD_DTPDR\u001b[39;49m\u001b[33;43m'\u001b[39;49m\u001b[43m]\u001b[49m\u001b[43m)\u001b[49m\u001b[43m.\u001b[49m\u001b[43mdays\u001b[49m\u001b[43m \u001b[49m\n\u001b[32m     11\u001b[39m \u001b[43m    \u001b[49m\u001b[38;5;28;43;01mif\u001b[39;49;00m\u001b[43m \u001b[49m\u001b[43m(\u001b[49m\u001b[43mpd\u001b[49m\u001b[43m.\u001b[49m\u001b[43mnotna\u001b[49m\u001b[43m(\u001b[49m\u001b[43mrow\u001b[49m\u001b[43m[\u001b[49m\u001b[33;43m'\u001b[39;49m\u001b[33;43mfav_AP_CMP\u001b[39;49m\u001b[33;43m'\u001b[39;49m\u001b[43m]\u001b[49m\u001b[43m)\u001b[49m\u001b[43m \u001b[49m\u001b[38;5;129;43;01mand\u001b[39;49;00m\u001b[43m \u001b[49m\n\u001b[32m     12\u001b[39m \u001b[43m        \u001b[49m\u001b[43mpd\u001b[49m\u001b[43m.\u001b[49m\u001b[43mnotna\u001b[49m\u001b[43m(\u001b[49m\u001b[43mrow\u001b[49m\u001b[43m[\u001b[49m\u001b[33;43m'\u001b[39;49m\u001b[33;43mATD_DTPDR\u001b[39;49m\u001b[33;43m'\u001b[39;49m\u001b[43m]\u001b[49m\u001b[43m)\u001b[49m\u001b[43m \u001b[49m\u001b[38;5;129;43;01mand\u001b[39;49;00m\u001b[43m \u001b[49m\n\u001b[32m     13\u001b[39m \u001b[43m        \u001b[49m\u001b[38;5;28;43mstr\u001b[39;49m\u001b[43m(\u001b[49m\u001b[43mrow\u001b[49m\u001b[43m[\u001b[49m\u001b[33;43m'\u001b[39;49m\u001b[33;43mCronico\u001b[39;49m\u001b[33;43m'\u001b[39;49m\u001b[43m]\u001b[49m\u001b[43m)\u001b[49m\u001b[43m.\u001b[49m\u001b[43mlower\u001b[49m\u001b[43m(\u001b[49m\u001b[43m)\u001b[49m\u001b[43m \u001b[49m\u001b[43m==\u001b[49m\u001b[43m \u001b[49m\u001b[33;43m'\u001b[39;49m\u001b[33;43mcronico\u001b[39;49m\u001b[33;43m'\u001b[39;49m\u001b[43m \u001b[49m\u001b[38;5;129;43;01mand\u001b[39;49;00m\u001b[43m \u001b[49m\n\u001b[32m     14\u001b[39m \u001b[43m        \u001b[49m\u001b[43mrow\u001b[49m\u001b[43m[\u001b[49m\u001b[33;43m'\u001b[39;49m\u001b[33;43mfav_repeticao\u001b[39;49m\u001b[33;43m'\u001b[39;49m\u001b[43m]\u001b[49m\u001b[43m \u001b[49m\u001b[43m==\u001b[49m\u001b[43m \u001b[49m\u001b[32;43m1\u001b[39;49m\u001b[43m)\u001b[49m\u001b[43m \u001b[49m\n\u001b[32m     15\u001b[39m \u001b[43m    \u001b[49m\u001b[38;5;28;43;01melse\u001b[39;49;00m\u001b[43m \u001b[49m\u001b[38;5;28;43;01mNone\u001b[39;49;00m\u001b[43m,\u001b[49m\n\u001b[32m     16\u001b[39m \u001b[43m    \u001b[49m\u001b[43maxis\u001b[49m\u001b[43m=\u001b[49m\u001b[32;43m1\u001b[39;49m\n\u001b[32m     17\u001b[39m \u001b[43m)\u001b[49m\n\u001b[32m     19\u001b[39m \u001b[38;5;66;03m# Verificação pós-cálculo\u001b[39;00m\n\u001b[32m     20\u001b[39m \u001b[38;5;28mprint\u001b[39m(\u001b[33m\"\u001b[39m\u001b[38;5;130;01m\\n\u001b[39;00m\u001b[33mResultado do cálculo:\u001b[39m\u001b[33m\"\u001b[39m)\n",
      "\u001b[36mFile \u001b[39m\u001b[32mc:\\Users\\nicol\\AppData\\Local\\Programs\\Python\\Python311\\Lib\\site-packages\\pandas\\core\\frame.py:10374\u001b[39m, in \u001b[36mDataFrame.apply\u001b[39m\u001b[34m(self, func, axis, raw, result_type, args, by_row, engine, engine_kwargs, **kwargs)\u001b[39m\n\u001b[32m  10360\u001b[39m \u001b[38;5;28;01mfrom\u001b[39;00m\u001b[38;5;250m \u001b[39m\u001b[34;01mpandas\u001b[39;00m\u001b[34;01m.\u001b[39;00m\u001b[34;01mcore\u001b[39;00m\u001b[34;01m.\u001b[39;00m\u001b[34;01mapply\u001b[39;00m\u001b[38;5;250m \u001b[39m\u001b[38;5;28;01mimport\u001b[39;00m frame_apply\n\u001b[32m  10362\u001b[39m op = frame_apply(\n\u001b[32m  10363\u001b[39m     \u001b[38;5;28mself\u001b[39m,\n\u001b[32m  10364\u001b[39m     func=func,\n\u001b[32m   (...)\u001b[39m\u001b[32m  10372\u001b[39m     kwargs=kwargs,\n\u001b[32m  10373\u001b[39m )\n\u001b[32m> \u001b[39m\u001b[32m10374\u001b[39m \u001b[38;5;28;01mreturn\u001b[39;00m \u001b[43mop\u001b[49m\u001b[43m.\u001b[49m\u001b[43mapply\u001b[49m\u001b[43m(\u001b[49m\u001b[43m)\u001b[49m.__finalize__(\u001b[38;5;28mself\u001b[39m, method=\u001b[33m\"\u001b[39m\u001b[33mapply\u001b[39m\u001b[33m\"\u001b[39m)\n",
      "\u001b[36mFile \u001b[39m\u001b[32mc:\\Users\\nicol\\AppData\\Local\\Programs\\Python\\Python311\\Lib\\site-packages\\pandas\\core\\apply.py:916\u001b[39m, in \u001b[36mFrameApply.apply\u001b[39m\u001b[34m(self)\u001b[39m\n\u001b[32m    913\u001b[39m \u001b[38;5;28;01melif\u001b[39;00m \u001b[38;5;28mself\u001b[39m.raw:\n\u001b[32m    914\u001b[39m     \u001b[38;5;28;01mreturn\u001b[39;00m \u001b[38;5;28mself\u001b[39m.apply_raw(engine=\u001b[38;5;28mself\u001b[39m.engine, engine_kwargs=\u001b[38;5;28mself\u001b[39m.engine_kwargs)\n\u001b[32m--> \u001b[39m\u001b[32m916\u001b[39m \u001b[38;5;28;01mreturn\u001b[39;00m \u001b[38;5;28;43mself\u001b[39;49m\u001b[43m.\u001b[49m\u001b[43mapply_standard\u001b[49m\u001b[43m(\u001b[49m\u001b[43m)\u001b[49m\n",
      "\u001b[36mFile \u001b[39m\u001b[32mc:\\Users\\nicol\\AppData\\Local\\Programs\\Python\\Python311\\Lib\\site-packages\\pandas\\core\\apply.py:1063\u001b[39m, in \u001b[36mFrameApply.apply_standard\u001b[39m\u001b[34m(self)\u001b[39m\n\u001b[32m   1061\u001b[39m \u001b[38;5;28;01mdef\u001b[39;00m\u001b[38;5;250m \u001b[39m\u001b[34mapply_standard\u001b[39m(\u001b[38;5;28mself\u001b[39m):\n\u001b[32m   1062\u001b[39m     \u001b[38;5;28;01mif\u001b[39;00m \u001b[38;5;28mself\u001b[39m.engine == \u001b[33m\"\u001b[39m\u001b[33mpython\u001b[39m\u001b[33m\"\u001b[39m:\n\u001b[32m-> \u001b[39m\u001b[32m1063\u001b[39m         results, res_index = \u001b[38;5;28;43mself\u001b[39;49m\u001b[43m.\u001b[49m\u001b[43mapply_series_generator\u001b[49m\u001b[43m(\u001b[49m\u001b[43m)\u001b[49m\n\u001b[32m   1064\u001b[39m     \u001b[38;5;28;01melse\u001b[39;00m:\n\u001b[32m   1065\u001b[39m         results, res_index = \u001b[38;5;28mself\u001b[39m.apply_series_numba()\n",
      "\u001b[36mFile \u001b[39m\u001b[32mc:\\Users\\nicol\\AppData\\Local\\Programs\\Python\\Python311\\Lib\\site-packages\\pandas\\core\\apply.py:1081\u001b[39m, in \u001b[36mFrameApply.apply_series_generator\u001b[39m\u001b[34m(self)\u001b[39m\n\u001b[32m   1078\u001b[39m \u001b[38;5;28;01mwith\u001b[39;00m option_context(\u001b[33m\"\u001b[39m\u001b[33mmode.chained_assignment\u001b[39m\u001b[33m\"\u001b[39m, \u001b[38;5;28;01mNone\u001b[39;00m):\n\u001b[32m   1079\u001b[39m     \u001b[38;5;28;01mfor\u001b[39;00m i, v \u001b[38;5;129;01min\u001b[39;00m \u001b[38;5;28menumerate\u001b[39m(series_gen):\n\u001b[32m   1080\u001b[39m         \u001b[38;5;66;03m# ignore SettingWithCopy here in case the user mutates\u001b[39;00m\n\u001b[32m-> \u001b[39m\u001b[32m1081\u001b[39m         results[i] = \u001b[38;5;28;43mself\u001b[39;49m\u001b[43m.\u001b[49m\u001b[43mfunc\u001b[49m\u001b[43m(\u001b[49m\u001b[43mv\u001b[49m\u001b[43m,\u001b[49m\u001b[43m \u001b[49m\u001b[43m*\u001b[49m\u001b[38;5;28;43mself\u001b[39;49m\u001b[43m.\u001b[49m\u001b[43margs\u001b[49m\u001b[43m,\u001b[49m\u001b[43m \u001b[49m\u001b[43m*\u001b[49m\u001b[43m*\u001b[49m\u001b[38;5;28;43mself\u001b[39;49m\u001b[43m.\u001b[49m\u001b[43mkwargs\u001b[49m\u001b[43m)\u001b[49m\n\u001b[32m   1082\u001b[39m         \u001b[38;5;28;01mif\u001b[39;00m \u001b[38;5;28misinstance\u001b[39m(results[i], ABCSeries):\n\u001b[32m   1083\u001b[39m             \u001b[38;5;66;03m# If we have a view on v, we need to make a copy because\u001b[39;00m\n\u001b[32m   1084\u001b[39m             \u001b[38;5;66;03m#  series_generator will swap out the underlying data\u001b[39;00m\n\u001b[32m   1085\u001b[39m             results[i] = results[i].copy(deep=\u001b[38;5;28;01mFalse\u001b[39;00m)\n",
      "\u001b[36mCell\u001b[39m\u001b[36m \u001b[39m\u001b[32mIn[17]\u001b[39m\u001b[32m, line 12\u001b[39m, in \u001b[36m<lambda>\u001b[39m\u001b[34m(row)\u001b[39m\n\u001b[32m      6\u001b[39m \u001b[38;5;28mprint\u001b[39m(\u001b[33mf\u001b[39m\u001b[33m\"\u001b[39m\u001b[33mFAVs com repetição 1: \u001b[39m\u001b[38;5;132;01m{\u001b[39;00m(df_merged[\u001b[33m'\u001b[39m\u001b[33mfav_repeticao\u001b[39m\u001b[33m'\u001b[39m]\u001b[38;5;250m \u001b[39m==\u001b[38;5;250m \u001b[39m\u001b[32m1\u001b[39m).sum()\u001b[38;5;132;01m}\u001b[39;00m\u001b[33m\"\u001b[39m)\n\u001b[32m      8\u001b[39m \u001b[38;5;66;03m# Versão corrigida do cálculo\u001b[39;00m\n\u001b[32m      9\u001b[39m df_merged[\u001b[33m'\u001b[39m\u001b[33mespera_fav\u001b[39m\u001b[33m'\u001b[39m] = df_merged.apply(\n\u001b[32m     10\u001b[39m     \u001b[38;5;28;01mlambda\u001b[39;00m row: (row[\u001b[33m'\u001b[39m\u001b[33mfav_AP_CMP\u001b[39m\u001b[33m'\u001b[39m] - row[\u001b[33m'\u001b[39m\u001b[33mATD_DTPDR\u001b[39m\u001b[33m'\u001b[39m]).days \n\u001b[32m     11\u001b[39m     \u001b[38;5;28;01mif\u001b[39;00m (pd.notna(row[\u001b[33m'\u001b[39m\u001b[33mfav_AP_CMP\u001b[39m\u001b[33m'\u001b[39m]) \u001b[38;5;129;01mand\u001b[39;00m \n\u001b[32m---> \u001b[39m\u001b[32m12\u001b[39m         \u001b[43mpd\u001b[49m\u001b[43m.\u001b[49m\u001b[43mnotna\u001b[49m\u001b[43m(\u001b[49m\u001b[43mrow\u001b[49m\u001b[43m[\u001b[49m\u001b[33;43m'\u001b[39;49m\u001b[33;43mATD_DTPDR\u001b[39;49m\u001b[33;43m'\u001b[39;49m\u001b[43m]\u001b[49m\u001b[43m)\u001b[49m \u001b[38;5;129;01mand\u001b[39;00m \n\u001b[32m     13\u001b[39m         \u001b[38;5;28mstr\u001b[39m(row[\u001b[33m'\u001b[39m\u001b[33mCronico\u001b[39m\u001b[33m'\u001b[39m]).lower() == \u001b[33m'\u001b[39m\u001b[33mcronico\u001b[39m\u001b[33m'\u001b[39m \u001b[38;5;129;01mand\u001b[39;00m \n\u001b[32m     14\u001b[39m         row[\u001b[33m'\u001b[39m\u001b[33mfav_repeticao\u001b[39m\u001b[33m'\u001b[39m] == \u001b[32m1\u001b[39m) \n\u001b[32m     15\u001b[39m     \u001b[38;5;28;01melse\u001b[39;00m \u001b[38;5;28;01mNone\u001b[39;00m,\n\u001b[32m     16\u001b[39m     axis=\u001b[32m1\u001b[39m\n\u001b[32m     17\u001b[39m )\n\u001b[32m     19\u001b[39m \u001b[38;5;66;03m# Verificação pós-cálculo\u001b[39;00m\n\u001b[32m     20\u001b[39m \u001b[38;5;28mprint\u001b[39m(\u001b[33m\"\u001b[39m\u001b[38;5;130;01m\\n\u001b[39;00m\u001b[33mResultado do cálculo:\u001b[39m\u001b[33m\"\u001b[39m)\n",
      "\u001b[36mFile \u001b[39m\u001b[32mc:\\Users\\nicol\\AppData\\Local\\Programs\\Python\\Python311\\Lib\\site-packages\\pandas\\core\\dtypes\\missing.py:457\u001b[39m, in \u001b[36mnotna\u001b[39m\u001b[34m(obj)\u001b[39m\n\u001b[32m    380\u001b[39m \u001b[38;5;28;01mdef\u001b[39;00m\u001b[38;5;250m \u001b[39m\u001b[34mnotna\u001b[39m(obj: \u001b[38;5;28mobject\u001b[39m) -> \u001b[38;5;28mbool\u001b[39m | npt.NDArray[np.bool_] | NDFrame:\n\u001b[32m    381\u001b[39m \u001b[38;5;250m    \u001b[39m\u001b[33;03m\"\"\"\u001b[39;00m\n\u001b[32m    382\u001b[39m \u001b[33;03m    Detect non-missing values for an array-like object.\u001b[39;00m\n\u001b[32m    383\u001b[39m \n\u001b[32m   (...)\u001b[39m\u001b[32m    455\u001b[39m \u001b[33;03m    Name: 1, dtype: bool\u001b[39;00m\n\u001b[32m    456\u001b[39m \u001b[33;03m    \"\"\"\u001b[39;00m\n\u001b[32m--> \u001b[39m\u001b[32m457\u001b[39m     res = \u001b[43misna\u001b[49m\u001b[43m(\u001b[49m\u001b[43mobj\u001b[49m\u001b[43m)\u001b[49m\n\u001b[32m    458\u001b[39m     \u001b[38;5;28;01mif\u001b[39;00m \u001b[38;5;28misinstance\u001b[39m(res, \u001b[38;5;28mbool\u001b[39m):\n\u001b[32m    459\u001b[39m         \u001b[38;5;28;01mreturn\u001b[39;00m \u001b[38;5;129;01mnot\u001b[39;00m res\n",
      "\u001b[36mFile \u001b[39m\u001b[32mc:\\Users\\nicol\\AppData\\Local\\Programs\\Python\\Python311\\Lib\\site-packages\\pandas\\core\\dtypes\\missing.py:101\u001b[39m, in \u001b[36misna\u001b[39m\u001b[34m(obj)\u001b[39m\n\u001b[32m     96\u001b[39m \u001b[38;5;129m@overload\u001b[39m\n\u001b[32m     97\u001b[39m \u001b[38;5;28;01mdef\u001b[39;00m\u001b[38;5;250m \u001b[39m\u001b[34misna\u001b[39m(obj: \u001b[38;5;28mobject\u001b[39m) -> \u001b[38;5;28mbool\u001b[39m | npt.NDArray[np.bool_] | NDFrame:\n\u001b[32m     98\u001b[39m     ...\n\u001b[32m--> \u001b[39m\u001b[32m101\u001b[39m \u001b[38;5;28;01mdef\u001b[39;00m\u001b[38;5;250m \u001b[39m\u001b[34misna\u001b[39m(obj: \u001b[38;5;28mobject\u001b[39m) -> \u001b[38;5;28mbool\u001b[39m | npt.NDArray[np.bool_] | NDFrame:\n\u001b[32m    102\u001b[39m \u001b[38;5;250m    \u001b[39m\u001b[33;03m\"\"\"\u001b[39;00m\n\u001b[32m    103\u001b[39m \u001b[33;03m    Detect missing values for an array-like object.\u001b[39;00m\n\u001b[32m    104\u001b[39m \n\u001b[32m   (...)\u001b[39m\u001b[32m    176\u001b[39m \u001b[33;03m    Name: 1, dtype: bool\u001b[39;00m\n\u001b[32m    177\u001b[39m \u001b[33;03m    \"\"\"\u001b[39;00m\n\u001b[32m    178\u001b[39m     \u001b[38;5;28;01mreturn\u001b[39;00m _isna(obj)\n",
      "\u001b[31mKeyboardInterrupt\u001b[39m: "
     ]
    }
   ],
   "source": [
    "# Verificação prévia dos dados\n",
    "print(\"\\nVerificação dos dados:\")\n",
    "print(f\"Datas FAV válidas: {df_merged['fav_AP_CMP'].notna().sum()}\")\n",
    "print(f\"Datas ATD_DTPDR válidas: {df_merged['ATD_DTPDR'].notna().sum()}\")\n",
    "print(f\"Pacientes crônicos: {(df_merged['Cronico'] == 'cronico').sum()}\")\n",
    "print(f\"FAVs com repetição 1: {(df_merged['fav_repeticao'] == 1).sum()}\")\n",
    "\n",
    "# Versão corrigida do cálculo\n",
    "df_merged['espera_fav'] = df_merged.apply(\n",
    "    lambda row: (row['fav_AP_CMP'] - row['ATD_DTPDR']).days \n",
    "    if (pd.notna(row['fav_AP_CMP']) and \n",
    "        pd.notna(row['ATD_DTPDR']) and \n",
    "        str(row['Cronico']).lower() == 'cronico' and \n",
    "        row['fav_repeticao'] == 1) \n",
    "    else None,\n",
    "    axis=1\n",
    ")\n",
    "\n",
    "# Verificação pós-cálculo\n",
    "print(\"\\nResultado do cálculo:\")\n",
    "print(f\"Valores não nulos em espera_fav: {df_merged['espera_fav'].notna().sum()}\")\n",
    "print(df_merged[df_merged['espera_fav'].notna()][['AP_CNSPCN', 'ATD_DTPDR', 'fav_AP_CMP', 'espera_fav']].head())"
   ]
  },
  {
   "cell_type": "code",
   "execution_count": null,
   "id": "8b7d9a74",
   "metadata": {},
   "outputs": [],
   "source": [
    "# 7. Salvar resultado\n",
    "df_merged.to_csv(\"dialise_fav_final3.csv\", index=False, sep=\";\", encoding='utf-8')"
   ]
  },
  {
   "cell_type": "code",
   "execution_count": null,
   "id": "8b04b0a6",
   "metadata": {},
   "outputs": [
    {
     "name": "stdout",
     "output_type": "stream",
     "text": [
      "   AP_MVM AP_CONDIC AP_GESTAO AP_CODUNI     AP_AUTORIZ     AP_CMP   AP_PRIPAL  \\\n",
      "0  201408        MN    431490   2237253  4314203219370 2014-08-01  0305010166   \n",
      "1  201408        MN    431490   2262568  4314203319756 2014-08-01  0305010166   \n",
      "2  201408        MN    431490   2262568  4314203240490 2014-08-01  0305010166   \n",
      "3  201408        MN    431490   2237601  4314201305645 2014-08-01  0305010166   \n",
      "4  201408        MN    431490   2237598  4314203319162 2014-08-01  0305010166   \n",
      "\n",
      "  AP_VL_AP AP_UFMUN AP_TPUPS  ... fav_ACF_FLEBIT fav_ACF_HEMATO  \\\n",
      "0  2149.62   431490       05  ...              N              N   \n",
      "1    400.0   431490       05  ...            NaN            NaN   \n",
      "2  2149.62   431490       05  ...            NaN            NaN   \n",
      "3  2204.49   431490       05  ...            NaN            NaN   \n",
      "4  1529.46   431490       05  ...            NaN            NaN   \n",
      "\n",
      "  fav_ACF_VEIAVI fav_ACF_PULSO fav_ACF_VEIDIA fav_ACF_ARTDIA fav_ACF_FREMIT  \\\n",
      "0              N             N           0000           0000              1   \n",
      "1            NaN           NaN            NaN            NaN            NaN   \n",
      "2            NaN           NaN            NaN            NaN            NaN   \n",
      "3            NaN           NaN            NaN            NaN            NaN   \n",
      "4            NaN           NaN            NaN            NaN            NaN   \n",
      "\n",
      "  fav_AP_NATJUR fav_repeticao espera_fav  \n",
      "0          3069           1.0     1126.0  \n",
      "1           NaN           0.0        NaN  \n",
      "2           NaN           0.0        NaN  \n",
      "3           NaN           0.0        NaN  \n",
      "4           NaN           0.0        NaN  \n",
      "\n",
      "[5 rows x 124 columns]\n"
     ]
    }
   ],
   "source": [
    "print(df_merged.head())"
   ]
  },
  {
   "cell_type": "code",
   "execution_count": null,
   "id": "e277b48e",
   "metadata": {},
   "outputs": [
    {
     "name": "stdout",
     "output_type": "stream",
     "text": [
      "   fav_AP_CMP  ATD_DTPDR  Cronico  fav_repeticao  espera_fav\n",
      "0  2016-11-01 2013-10-02  cronico            1.0      1126.0\n",
      "1         NaT 2014-08-11    agudo            0.0         NaN\n",
      "2         NaT 2008-10-01  cronico            0.0         NaN\n",
      "3         NaT 2010-05-15  cronico            0.0         NaN\n",
      "4         NaT 2010-04-30  cronico            0.0         NaN\n",
      "5         NaT 2011-04-20  cronico            0.0         NaN\n",
      "6         NaT 2010-08-31  cronico            0.0         NaN\n",
      "7         NaT 2010-05-01  cronico            0.0         NaN\n",
      "8         NaT 2014-03-01  cronico            0.0         NaN\n",
      "9         NaT 2013-11-22  cronico            0.0         NaN\n",
      "10        NaT 2008-08-01  cronico            0.0         NaN\n",
      "11        NaT 2010-09-09  cronico            0.0         NaN\n",
      "12        NaT 2011-06-27  cronico            0.0         NaN\n",
      "13        NaT 2009-03-10  cronico            0.0         NaN\n",
      "14        NaT 2011-07-21  cronico            0.0         NaN\n",
      "15        NaT 2013-04-23  cronico            0.0         NaN\n",
      "16        NaT 2005-08-01  cronico            0.0         NaN\n",
      "17        NaT 2009-10-01  cronico            0.0         NaN\n",
      "18        NaT 2012-06-11  cronico            0.0         NaN\n",
      "19        NaT 2012-06-27  cronico            0.0         NaN\n",
      "20        NaT 2010-01-16  cronico            0.0         NaN\n",
      "21 2016-10-01 2013-09-15  cronico            1.0      1112.0\n",
      "22        NaT 2012-06-23  cronico            0.0         NaN\n",
      "23 2015-05-01 2013-03-27  cronico            1.0       765.0\n"
     ]
    }
   ],
   "source": [
    "# Verificar os dados relevantes\n",
    "print(df_merged[['fav_AP_CMP', 'ATD_DTPDR', 'Cronico', 'fav_repeticao', 'espera_fav']].head(24))"
   ]
  }
 ],
 "metadata": {
  "kernelspec": {
   "display_name": "Python 3",
   "language": "python",
   "name": "python3"
  },
  "language_info": {
   "codemirror_mode": {
    "name": "ipython",
    "version": 3
   },
   "file_extension": ".py",
   "mimetype": "text/x-python",
   "name": "python",
   "nbconvert_exporter": "python",
   "pygments_lexer": "ipython3",
   "version": "3.11.9"
  }
 },
 "nbformat": 4,
 "nbformat_minor": 5
}
