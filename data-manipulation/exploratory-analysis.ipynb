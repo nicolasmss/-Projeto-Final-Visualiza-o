{
 "cells": [
  {
   "cell_type": "markdown",
   "id": "8cf3c236",
   "metadata": {},
   "source": [
    "## Imports"
   ]
  },
  {
   "cell_type": "code",
   "execution_count": 2,
   "id": "5e93b705",
   "metadata": {},
   "outputs": [
    {
     "name": "stderr",
     "output_type": "stream",
     "text": [
      "c:\\Users\\Marnie\\anaconda3\\envs\\datasus\\Lib\\site-packages\\tqdm\\auto.py:21: TqdmWarning: IProgress not found. Please update jupyter and ipywidgets. See https://ipywidgets.readthedocs.io/en/stable/user_install.html\n",
      "  from .autonotebook import tqdm as notebook_tqdm\n"
     ]
    },
    {
     "data": {
      "text/html": [
       "\n",
       "            <div>\n",
       "                <ins><a href=\"https://ydata.ai/register\">Upgrade to ydata-sdk</a></ins>\n",
       "                <p>\n",
       "                    Improve your data and profiling with ydata-sdk, featuring data quality scoring, redundancy detection, outlier identification, text validation, and synthetic data generation.\n",
       "                </p>\n",
       "            </div>\n",
       "            "
      ],
      "text/plain": [
       "<IPython.core.display.HTML object>"
      ]
     },
     "metadata": {},
     "output_type": "display_data"
    }
   ],
   "source": [
    "import pandas as pd\n",
    "from ydata_profiling import ProfileReport"
   ]
  },
  {
   "cell_type": "markdown",
   "id": "7ac288e9",
   "metadata": {},
   "source": [
    "## ERRS"
   ]
  },
  {
   "cell_type": "code",
   "execution_count": 4,
   "id": "024af9e0",
   "metadata": {},
   "outputs": [],
   "source": [
    "path = '../data/ERRS_concat.csv'\n",
    "df = pd.read_csv(path)\n",
    "# ProfileReport(df).to_file('../data/ERRS_concat_report.html')"
   ]
  },
  {
   "cell_type": "markdown",
   "id": "63764ddd",
   "metadata": {},
   "source": [
    "## RJRS"
   ]
  },
  {
   "cell_type": "code",
   "execution_count": null,
   "id": "2a257fbc",
   "metadata": {},
   "outputs": [
    {
     "name": "stderr",
     "output_type": "stream",
     "text": [
      "C:\\Users\\Marnie\\AppData\\Local\\Temp\\ipykernel_15728\\2270009499.py:2: DtypeWarning: Columns (42,77,78,84) have mixed types. Specify dtype option on import or set low_memory=False.\n",
      "  df = pd.read_csv(path)\n"
     ]
    }
   ],
   "source": [
    "path = '../data/RJRS_concat.csv'\n",
    "df = pd.read_csv(path)\n",
    "\n",
    "# ProfileReport(df).to_file('./data/RJRS_concat_report.html')"
   ]
  },
  {
   "cell_type": "markdown",
   "id": "ef0d278b",
   "metadata": {},
   "source": [
    "## RDRS"
   ]
  },
  {
   "cell_type": "code",
   "execution_count": null,
   "id": "a4446144",
   "metadata": {},
   "outputs": [
    {
     "name": "stdout",
     "output_type": "stream",
     "text": [
      "reading dataset\n"
     ]
    },
    {
     "name": "stderr",
     "output_type": "stream",
     "text": [
      "C:\\Users\\Marnie\\AppData\\Local\\Temp\\ipykernel_4856\\2927452778.py:2: DtypeWarning: Columns (42,61,77,78,84,88,89,96,97,98,99,100,101,102) have mixed types. Specify dtype option on import or set low_memory=False.\n",
      "  df = pd.read_csv('../data/RDRS_concat.csv')\n"
     ]
    },
    {
     "name": "stdout",
     "output_type": "stream",
     "text": [
      "reading done\n"
     ]
    }
   ],
   "source": [
    "print('reading dataset')\n",
    "df = pd.read_csv('../data/RDRS_concat.csv')\n",
    "# df.read_csv('../data/dados_filtrados.csv')\n",
    "print('reading done')\n",
    "\n",
    "# print('building report')\n",
    "# ProfileReport(df, minimal=True).to_file('./data/RDRS_concat_report.html')\n",
    "# print('report done')"
   ]
  },
  {
   "cell_type": "code",
   "execution_count": 14,
   "id": "d22df650",
   "metadata": {},
   "outputs": [],
   "source": [
    "# Drop valores constantes\n",
    "df = df.drop(columns=['UTI_MES_IN', 'UTI_MES_AN', 'UTI_MES_AL', 'UTI_INT_IN', 'UTI_INT_AN', 'UTI_INT_AL',\n",
    "                 'VAL_SADT', 'VAL_RN', 'VAL_RN', 'VAL_ACOMP', 'VAL_ORTP', 'VAL_SANGUE', 'VAL_SADTSR',\n",
    "                 'VAL_TRANSP', 'VAL_OBSANG', 'VAL_PED1AC', 'RUBRICA', 'TOT_PT_SP', 'TPDISEC8', 'TPDISEC9'\n",
    "            ])"
   ]
  },
  {
   "cell_type": "code",
   "execution_count": 15,
   "id": "5778a1d7",
   "metadata": {},
   "outputs": [],
   "source": [
    "# Drop todos dados faltantes (100%)\n",
    "df = df.drop(columns=['NUM_PROC', 'CPF_AUT', 'GESTOR_DT', 'INFEHOSP', 'DIAGSEC9', 'DIAGSEC8'])\n",
    "\n",
    "# Drop muitos valores faltantes (>90%)\n",
    "df = df.drop(columns=['CID_NOTIF', 'FAEC_TP', 'AUD_JUST', 'SIS_JUST', 'DIAGSEC1', 'DIAGSEC2', 'DIAGSEC3',\n",
    "                 'DIAGSEC4', 'DIAGSEC5', 'DIAGSEC6', 'DIAGSEC7'\n",
    "            ])"
   ]
  },
  {
   "cell_type": "code",
   "execution_count": null,
   "id": "57ea63c0",
   "metadata": {},
   "outputs": [
    {
     "data": {
      "text/html": [
       "<div>\n",
       "<style scoped>\n",
       "    .dataframe tbody tr th:only-of-type {\n",
       "        vertical-align: middle;\n",
       "    }\n",
       "\n",
       "    .dataframe tbody tr th {\n",
       "        vertical-align: top;\n",
       "    }\n",
       "\n",
       "    .dataframe thead th {\n",
       "        text-align: right;\n",
       "    }\n",
       "</style>\n",
       "<table border=\"1\" class=\"dataframe\">\n",
       "  <thead>\n",
       "    <tr style=\"text-align: right;\">\n",
       "      <th></th>\n",
       "      <th>Unnamed: 0</th>\n",
       "      <th>UF_ZI</th>\n",
       "      <th>ANO_CMPT</th>\n",
       "      <th>MES_CMPT</th>\n",
       "      <th>ESPEC</th>\n",
       "      <th>CGC_HOSP</th>\n",
       "      <th>N_AIH</th>\n",
       "      <th>IDENT</th>\n",
       "      <th>CEP</th>\n",
       "      <th>MUNIC_RES</th>\n",
       "      <th>...</th>\n",
       "      <th>VAL_SP_GES</th>\n",
       "      <th>VAL_UCI</th>\n",
       "      <th>MARCA_UCI</th>\n",
       "      <th>TPDISEC1</th>\n",
       "      <th>TPDISEC2</th>\n",
       "      <th>TPDISEC3</th>\n",
       "      <th>TPDISEC4</th>\n",
       "      <th>TPDISEC5</th>\n",
       "      <th>TPDISEC6</th>\n",
       "      <th>TPDISEC7</th>\n",
       "    </tr>\n",
       "  </thead>\n",
       "  <tbody>\n",
       "    <tr>\n",
       "      <th>31149</th>\n",
       "      <td>31149</td>\n",
       "      <td>431490</td>\n",
       "      <td>2008</td>\n",
       "      <td>1</td>\n",
       "      <td>2</td>\n",
       "      <td>9.269313e+13</td>\n",
       "      <td>4307108059694</td>\n",
       "      <td>1</td>\n",
       "      <td>96610000</td>\n",
       "      <td>430690</td>\n",
       "      <td>...</td>\n",
       "      <td>NaN</td>\n",
       "      <td>NaN</td>\n",
       "      <td>NaN</td>\n",
       "      <td>NaN</td>\n",
       "      <td>NaN</td>\n",
       "      <td>NaN</td>\n",
       "      <td>NaN</td>\n",
       "      <td>NaN</td>\n",
       "      <td>NaN</td>\n",
       "      <td>NaN</td>\n",
       "    </tr>\n",
       "    <tr>\n",
       "      <th>31150</th>\n",
       "      <td>31150</td>\n",
       "      <td>431490</td>\n",
       "      <td>2008</td>\n",
       "      <td>1</td>\n",
       "      <td>2</td>\n",
       "      <td>9.269313e+13</td>\n",
       "      <td>4307108059771</td>\n",
       "      <td>1</td>\n",
       "      <td>94495420</td>\n",
       "      <td>432300</td>\n",
       "      <td>...</td>\n",
       "      <td>NaN</td>\n",
       "      <td>NaN</td>\n",
       "      <td>NaN</td>\n",
       "      <td>NaN</td>\n",
       "      <td>NaN</td>\n",
       "      <td>NaN</td>\n",
       "      <td>NaN</td>\n",
       "      <td>NaN</td>\n",
       "      <td>NaN</td>\n",
       "      <td>NaN</td>\n",
       "    </tr>\n",
       "    <tr>\n",
       "      <th>31151</th>\n",
       "      <td>31151</td>\n",
       "      <td>431490</td>\n",
       "      <td>2008</td>\n",
       "      <td>1</td>\n",
       "      <td>2</td>\n",
       "      <td>9.269313e+13</td>\n",
       "      <td>4307108059848</td>\n",
       "      <td>1</td>\n",
       "      <td>95600000</td>\n",
       "      <td>432120</td>\n",
       "      <td>...</td>\n",
       "      <td>NaN</td>\n",
       "      <td>NaN</td>\n",
       "      <td>NaN</td>\n",
       "      <td>NaN</td>\n",
       "      <td>NaN</td>\n",
       "      <td>NaN</td>\n",
       "      <td>NaN</td>\n",
       "      <td>NaN</td>\n",
       "      <td>NaN</td>\n",
       "      <td>NaN</td>\n",
       "    </tr>\n",
       "    <tr>\n",
       "      <th>31152</th>\n",
       "      <td>31152</td>\n",
       "      <td>431490</td>\n",
       "      <td>2008</td>\n",
       "      <td>1</td>\n",
       "      <td>2</td>\n",
       "      <td>9.269313e+13</td>\n",
       "      <td>4307108059903</td>\n",
       "      <td>1</td>\n",
       "      <td>94425150</td>\n",
       "      <td>432300</td>\n",
       "      <td>...</td>\n",
       "      <td>NaN</td>\n",
       "      <td>NaN</td>\n",
       "      <td>NaN</td>\n",
       "      <td>NaN</td>\n",
       "      <td>NaN</td>\n",
       "      <td>NaN</td>\n",
       "      <td>NaN</td>\n",
       "      <td>NaN</td>\n",
       "      <td>NaN</td>\n",
       "      <td>NaN</td>\n",
       "    </tr>\n",
       "    <tr>\n",
       "      <th>31153</th>\n",
       "      <td>31153</td>\n",
       "      <td>431490</td>\n",
       "      <td>2008</td>\n",
       "      <td>1</td>\n",
       "      <td>2</td>\n",
       "      <td>9.269313e+13</td>\n",
       "      <td>4307108059969</td>\n",
       "      <td>1</td>\n",
       "      <td>95745000</td>\n",
       "      <td>430468</td>\n",
       "      <td>...</td>\n",
       "      <td>NaN</td>\n",
       "      <td>NaN</td>\n",
       "      <td>NaN</td>\n",
       "      <td>NaN</td>\n",
       "      <td>NaN</td>\n",
       "      <td>NaN</td>\n",
       "      <td>NaN</td>\n",
       "      <td>NaN</td>\n",
       "      <td>NaN</td>\n",
       "      <td>NaN</td>\n",
       "    </tr>\n",
       "    <tr>\n",
       "      <th>...</th>\n",
       "      <td>...</td>\n",
       "      <td>...</td>\n",
       "      <td>...</td>\n",
       "      <td>...</td>\n",
       "      <td>...</td>\n",
       "      <td>...</td>\n",
       "      <td>...</td>\n",
       "      <td>...</td>\n",
       "      <td>...</td>\n",
       "      <td>...</td>\n",
       "      <td>...</td>\n",
       "      <td>...</td>\n",
       "      <td>...</td>\n",
       "      <td>...</td>\n",
       "      <td>...</td>\n",
       "      <td>...</td>\n",
       "      <td>...</td>\n",
       "      <td>...</td>\n",
       "      <td>...</td>\n",
       "      <td>...</td>\n",
       "      <td>...</td>\n",
       "    </tr>\n",
       "    <tr>\n",
       "      <th>12721705</th>\n",
       "      <td>60864</td>\n",
       "      <td>431490</td>\n",
       "      <td>2024</td>\n",
       "      <td>12</td>\n",
       "      <td>1</td>\n",
       "      <td>9.289855e+13</td>\n",
       "      <td>4324108961777</td>\n",
       "      <td>1</td>\n",
       "      <td>96140970</td>\n",
       "      <td>431440</td>\n",
       "      <td>...</td>\n",
       "      <td>0.0</td>\n",
       "      <td>0.0</td>\n",
       "      <td>0.0</td>\n",
       "      <td>0.0</td>\n",
       "      <td>0.0</td>\n",
       "      <td>0.0</td>\n",
       "      <td>0.0</td>\n",
       "      <td>0.0</td>\n",
       "      <td>0.0</td>\n",
       "      <td>0.0</td>\n",
       "    </tr>\n",
       "    <tr>\n",
       "      <th>12721706</th>\n",
       "      <td>60865</td>\n",
       "      <td>431490</td>\n",
       "      <td>2024</td>\n",
       "      <td>12</td>\n",
       "      <td>1</td>\n",
       "      <td>9.289855e+13</td>\n",
       "      <td>4324108961788</td>\n",
       "      <td>1</td>\n",
       "      <td>94170240</td>\n",
       "      <td>430920</td>\n",
       "      <td>...</td>\n",
       "      <td>0.0</td>\n",
       "      <td>0.0</td>\n",
       "      <td>0.0</td>\n",
       "      <td>0.0</td>\n",
       "      <td>0.0</td>\n",
       "      <td>0.0</td>\n",
       "      <td>0.0</td>\n",
       "      <td>0.0</td>\n",
       "      <td>0.0</td>\n",
       "      <td>0.0</td>\n",
       "    </tr>\n",
       "    <tr>\n",
       "      <th>12721707</th>\n",
       "      <td>60866</td>\n",
       "      <td>431490</td>\n",
       "      <td>2024</td>\n",
       "      <td>12</td>\n",
       "      <td>1</td>\n",
       "      <td>9.289855e+13</td>\n",
       "      <td>4324108961799</td>\n",
       "      <td>1</td>\n",
       "      <td>95625000</td>\n",
       "      <td>431033</td>\n",
       "      <td>...</td>\n",
       "      <td>0.0</td>\n",
       "      <td>0.0</td>\n",
       "      <td>0.0</td>\n",
       "      <td>0.0</td>\n",
       "      <td>0.0</td>\n",
       "      <td>0.0</td>\n",
       "      <td>0.0</td>\n",
       "      <td>0.0</td>\n",
       "      <td>0.0</td>\n",
       "      <td>0.0</td>\n",
       "    </tr>\n",
       "    <tr>\n",
       "      <th>12721708</th>\n",
       "      <td>60867</td>\n",
       "      <td>431490</td>\n",
       "      <td>2024</td>\n",
       "      <td>12</td>\n",
       "      <td>1</td>\n",
       "      <td>9.289855e+13</td>\n",
       "      <td>4324108961800</td>\n",
       "      <td>1</td>\n",
       "      <td>91420612</td>\n",
       "      <td>431490</td>\n",
       "      <td>...</td>\n",
       "      <td>0.0</td>\n",
       "      <td>0.0</td>\n",
       "      <td>0.0</td>\n",
       "      <td>0.0</td>\n",
       "      <td>0.0</td>\n",
       "      <td>0.0</td>\n",
       "      <td>0.0</td>\n",
       "      <td>0.0</td>\n",
       "      <td>0.0</td>\n",
       "      <td>0.0</td>\n",
       "    </tr>\n",
       "    <tr>\n",
       "      <th>12721709</th>\n",
       "      <td>60868</td>\n",
       "      <td>431490</td>\n",
       "      <td>2024</td>\n",
       "      <td>12</td>\n",
       "      <td>1</td>\n",
       "      <td>9.289855e+13</td>\n",
       "      <td>4324108961810</td>\n",
       "      <td>1</td>\n",
       "      <td>90810000</td>\n",
       "      <td>431490</td>\n",
       "      <td>...</td>\n",
       "      <td>0.0</td>\n",
       "      <td>0.0</td>\n",
       "      <td>0.0</td>\n",
       "      <td>0.0</td>\n",
       "      <td>0.0</td>\n",
       "      <td>0.0</td>\n",
       "      <td>0.0</td>\n",
       "      <td>0.0</td>\n",
       "      <td>0.0</td>\n",
       "      <td>0.0</td>\n",
       "    </tr>\n",
       "  </tbody>\n",
       "</table>\n",
       "<p>2966259 rows × 77 columns</p>\n",
       "</div>"
      ],
      "text/plain": [
       "          Unnamed: 0   UF_ZI  ANO_CMPT  MES_CMPT  ESPEC      CGC_HOSP  \\\n",
       "31149          31149  431490      2008         1      2  9.269313e+13   \n",
       "31150          31150  431490      2008         1      2  9.269313e+13   \n",
       "31151          31151  431490      2008         1      2  9.269313e+13   \n",
       "31152          31152  431490      2008         1      2  9.269313e+13   \n",
       "31153          31153  431490      2008         1      2  9.269313e+13   \n",
       "...              ...     ...       ...       ...    ...           ...   \n",
       "12721705       60864  431490      2024        12      1  9.289855e+13   \n",
       "12721706       60865  431490      2024        12      1  9.289855e+13   \n",
       "12721707       60866  431490      2024        12      1  9.289855e+13   \n",
       "12721708       60867  431490      2024        12      1  9.289855e+13   \n",
       "12721709       60868  431490      2024        12      1  9.289855e+13   \n",
       "\n",
       "                  N_AIH  IDENT       CEP  MUNIC_RES  ...  VAL_SP_GES  VAL_UCI  \\\n",
       "31149     4307108059694      1  96610000     430690  ...         NaN      NaN   \n",
       "31150     4307108059771      1  94495420     432300  ...         NaN      NaN   \n",
       "31151     4307108059848      1  95600000     432120  ...         NaN      NaN   \n",
       "31152     4307108059903      1  94425150     432300  ...         NaN      NaN   \n",
       "31153     4307108059969      1  95745000     430468  ...         NaN      NaN   \n",
       "...                 ...    ...       ...        ...  ...         ...      ...   \n",
       "12721705  4324108961777      1  96140970     431440  ...         0.0      0.0   \n",
       "12721706  4324108961788      1  94170240     430920  ...         0.0      0.0   \n",
       "12721707  4324108961799      1  95625000     431033  ...         0.0      0.0   \n",
       "12721708  4324108961800      1  91420612     431490  ...         0.0      0.0   \n",
       "12721709  4324108961810      1  90810000     431490  ...         0.0      0.0   \n",
       "\n",
       "          MARCA_UCI  TPDISEC1  TPDISEC2  TPDISEC3  TPDISEC4  TPDISEC5  \\\n",
       "31149           NaN       NaN       NaN       NaN       NaN       NaN   \n",
       "31150           NaN       NaN       NaN       NaN       NaN       NaN   \n",
       "31151           NaN       NaN       NaN       NaN       NaN       NaN   \n",
       "31152           NaN       NaN       NaN       NaN       NaN       NaN   \n",
       "31153           NaN       NaN       NaN       NaN       NaN       NaN   \n",
       "...             ...       ...       ...       ...       ...       ...   \n",
       "12721705        0.0       0.0       0.0       0.0       0.0       0.0   \n",
       "12721706        0.0       0.0       0.0       0.0       0.0       0.0   \n",
       "12721707        0.0       0.0       0.0       0.0       0.0       0.0   \n",
       "12721708        0.0       0.0       0.0       0.0       0.0       0.0   \n",
       "12721709        0.0       0.0       0.0       0.0       0.0       0.0   \n",
       "\n",
       "          TPDISEC6  TPDISEC7  \n",
       "31149          NaN       NaN  \n",
       "31150          NaN       NaN  \n",
       "31151          NaN       NaN  \n",
       "31152          NaN       NaN  \n",
       "31153          NaN       NaN  \n",
       "...            ...       ...  \n",
       "12721705       0.0       0.0  \n",
       "12721706       0.0       0.0  \n",
       "12721707       0.0       0.0  \n",
       "12721708       0.0       0.0  \n",
       "12721709       0.0       0.0  \n",
       "\n",
       "[2966259 rows x 77 columns]"
      ]
     },
     "execution_count": 18,
     "metadata": {},
     "output_type": "execute_result"
    }
   ],
   "source": [
    "# Manter apenas observações de porto alegre\n",
    "CODIGO_POA = 431490\n",
    "df = df[df['MUNIC_MOV'] == CODIGO_POA]\n",
    "df = df.drop(columns=['MUNIC_MOV'])"
   ]
  },
  {
   "cell_type": "code",
   "execution_count": null,
   "id": "aef41501",
   "metadata": {},
   "outputs": [
    {
     "name": "stderr",
     "output_type": "stream",
     "text": [
      "100%|██████████| 78/78 [00:41<00:00,  1.88it/s]5<00:00,  9.58it/s, Describe variable: TPDISEC7]  \n",
      "Summarize dataset: 100%|██████████| 84/84 [00:55<00:00,  1.52it/s, Completed]                  \n",
      "Generate report structure: 100%|██████████| 1/1 [00:34<00:00, 34.23s/it]\n",
      "Render HTML: 100%|██████████| 1/1 [00:02<00:00,  2.23s/it]\n",
      "Export report to file: 100%|██████████| 1/1 [00:00<00:00, 68.49it/s]\n"
     ]
    }
   ],
   "source": [
    "profile = ProfileReport(df, minimal=True)\n",
    "profile.to_file('../data/RDRS_APOS_TRATAMENTO.html')"
   ]
  },
  {
   "cell_type": "code",
   "execution_count": null,
   "id": "ba296560",
   "metadata": {},
   "outputs": [],
   "source": [
    "# Ajustar Sexo para 1 = M = Masculino, 2 = 3 = F = Feminino\n",
    "sexo_map = {\n",
    "    1: 'M',\n",
    "    2: 'F',\n",
    "    3: 'F'\n",
    "}\n",
    "\n",
    "df['GENERO'] = df['SEXO'].map(sexo_map)\n",
    "df['GENERO'] = df['GENERO'].fillna('NI')\n",
    "df = df.drop(columns=['SEXO'])"
   ]
  },
  {
   "cell_type": "code",
   "execution_count": 28,
   "id": "3b5725ca",
   "metadata": {},
   "outputs": [],
   "source": [
    "# Dropar valores constantes (depois dos filtros)\n",
    "df = df.drop(columns=['UF_ZI', 'GESTAO', 'SEQ_AIH5', 'VAL_SH_GES', 'VAL_SP_GES'])"
   ]
  },
  {
   "cell_type": "code",
   "execution_count": 29,
   "id": "bac0310a",
   "metadata": {},
   "outputs": [
    {
     "name": "stderr",
     "output_type": "stream",
     "text": [
      "100%|██████████| 72/72 [00:38<00:00,  1.86it/s]3<00:00,  9.15it/s, Describe variable: GENERO]    \n",
      "Summarize dataset: 100%|██████████| 78/78 [00:53<00:00,  1.45it/s, Completed]                \n",
      "Generate report structure: 100%|██████████| 1/1 [00:25<00:00, 25.71s/it]\n",
      "Render HTML: 100%|██████████| 1/1 [00:02<00:00,  2.05s/it]\n",
      "Export report to file: 100%|██████████| 1/1 [00:00<00:00, 66.65it/s]\n"
     ]
    }
   ],
   "source": [
    "profile = ProfileReport(df, minimal=True)\n",
    "profile.to_file('../data/RDRS_APOS_TRATAMENTO.html')"
   ]
  },
  {
   "cell_type": "code",
   "execution_count": 31,
   "id": "58b5896e",
   "metadata": {},
   "outputs": [
    {
     "data": {
      "text/plain": [
       "8142379     0\n",
       "4983972     0\n",
       "7639835     0\n",
       "10234085    0\n",
       "6952239     0\n",
       "10365409    0\n",
       "6327296     0\n",
       "7006598     0\n",
       "6758510     0\n",
       "12578370    0\n",
       "Name: ETNIA, dtype: object"
      ]
     },
     "execution_count": 31,
     "metadata": {},
     "output_type": "execute_result"
    }
   ],
   "source": [
    "# Pensamos em utilizar ETNIA como um fator de identificação, porém devido 16% de dados faltantes e\n",
    "# ser um dado frágil (depende de quem preenche e da identificação pessoal), decidimos descartar.\n",
    "df['ETNIA'].sample(10)"
   ]
  },
  {
   "cell_type": "code",
   "execution_count": 35,
   "id": "509ac438",
   "metadata": {},
   "outputs": [],
   "source": [
    "df.to_csv('../data/dados_filtrados.csv')"
   ]
  },
  {
   "cell_type": "markdown",
   "id": "fbd604d7",
   "metadata": {},
   "source": [
    "## Análise exploratória"
   ]
  },
  {
   "cell_type": "code",
   "execution_count": 34,
   "id": "62d21f7f",
   "metadata": {},
   "outputs": [],
   "source": [
    "# Estes códigos indicam o início do tratamento dialítico e são fundamentais para estabelecer o ponto de partida na análise do tempo # até a confecção da FAV:\n",
    "DIALISE =  {\n",
    "    '3x_semana'            : '0305010107',\n",
    "    'hiv_hepatites'        : '0305010115',\n",
    "    'pediatrica_4x_semana' : '0305010204',\n",
    "    'dpi'                  : '0305010026',\n",
    "    'dpac_dpa'             : '0305010182'\n",
    "}\n",
    "FAV = {\n",
    "    'hemodialise'     : '0418010030',\n",
    "    'ptfe'            : '0418010013',\n",
    "    'autologo'        : '0418010021',\n",
    "    'acesso_generico' : '0406020086'\n",
    "}"
   ]
  }
 ],
 "metadata": {
  "kernelspec": {
   "display_name": "datasus",
   "language": "python",
   "name": "python3"
  },
  "language_info": {
   "codemirror_mode": {
    "name": "ipython",
    "version": 3
   },
   "file_extension": ".py",
   "mimetype": "text/x-python",
   "name": "python",
   "nbconvert_exporter": "python",
   "pygments_lexer": "ipython3",
   "version": "3.12.0"
  }
 },
 "nbformat": 4,
 "nbformat_minor": 5
}
