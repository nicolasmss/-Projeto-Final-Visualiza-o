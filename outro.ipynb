{
 "cells": [
  {
   "cell_type": "code",
   "execution_count": 59,
   "id": "cfdebc9b",
   "metadata": {},
   "outputs": [],
   "source": [
    "import pandas as pd\n",
    "from dash import Dash, html, dcc\n",
    "import plotly.express as px\n",
    "import plotly.graph_objects as go\n",
    "import numpy as np"
   ]
  },
  {
   "cell_type": "code",
   "execution_count": null,
   "id": "2566e485",
   "metadata": {},
   "outputs": [
    {
     "name": "stderr",
     "output_type": "stream",
     "text": [
      "C:\\Users\\Marnie\\AppData\\Local\\Temp\\ipykernel_35100\\2474414082.py:1: DtypeWarning: Columns (20,37,104,107,118,119) have mixed types. Specify dtype option on import or set low_memory=False.\n",
      "  df = pd.read_csv('dialise_fav_final2.csv', sep=';')\n"
     ]
    },
    {
     "data": {
      "text/html": [
       "<div>\n",
       "<style scoped>\n",
       "    .dataframe tbody tr th:only-of-type {\n",
       "        vertical-align: middle;\n",
       "    }\n",
       "\n",
       "    .dataframe tbody tr th {\n",
       "        vertical-align: top;\n",
       "    }\n",
       "\n",
       "    .dataframe thead th {\n",
       "        text-align: right;\n",
       "    }\n",
       "</style>\n",
       "<table border=\"1\" class=\"dataframe\">\n",
       "  <thead>\n",
       "    <tr style=\"text-align: right;\">\n",
       "      <th></th>\n",
       "      <th>AP_MVM</th>\n",
       "      <th>AP_CONDIC</th>\n",
       "      <th>AP_GESTAO</th>\n",
       "      <th>AP_CODUNI</th>\n",
       "      <th>AP_AUTORIZ</th>\n",
       "      <th>AP_CMP</th>\n",
       "      <th>AP_PRIPAL</th>\n",
       "      <th>AP_VL_AP</th>\n",
       "      <th>AP_UFMUN</th>\n",
       "      <th>AP_TPUPS</th>\n",
       "      <th>...</th>\n",
       "      <th>fav_ACF_FLEBIT</th>\n",
       "      <th>fav_ACF_HEMATO</th>\n",
       "      <th>fav_ACF_VEIAVI</th>\n",
       "      <th>fav_ACF_PULSO</th>\n",
       "      <th>fav_ACF_VEIDIA</th>\n",
       "      <th>fav_ACF_ARTDIA</th>\n",
       "      <th>fav_ACF_FREMIT</th>\n",
       "      <th>fav_AP_NATJUR</th>\n",
       "      <th>fav_repeticao</th>\n",
       "      <th>espera_fav</th>\n",
       "    </tr>\n",
       "  </thead>\n",
       "  <tbody>\n",
       "    <tr>\n",
       "      <th>363470</th>\n",
       "      <td>201807</td>\n",
       "      <td>PG</td>\n",
       "      <td>431330</td>\n",
       "      <td>2241161</td>\n",
       "      <td>4318206465705</td>\n",
       "      <td>2018-07-01</td>\n",
       "      <td>305010107.0</td>\n",
       "      <td>2602.07</td>\n",
       "      <td>431330</td>\n",
       "      <td>5</td>\n",
       "      <td>...</td>\n",
       "      <td>NaN</td>\n",
       "      <td>NaN</td>\n",
       "      <td>NaN</td>\n",
       "      <td>NaN</td>\n",
       "      <td>NaN</td>\n",
       "      <td>NaN</td>\n",
       "      <td>NaN</td>\n",
       "      <td>NaN</td>\n",
       "      <td>0.0</td>\n",
       "      <td>NaN</td>\n",
       "    </tr>\n",
       "    <tr>\n",
       "      <th>730449</th>\n",
       "      <td>202112</td>\n",
       "      <td>EP</td>\n",
       "      <td>430000</td>\n",
       "      <td>2257815</td>\n",
       "      <td>4321207942645</td>\n",
       "      <td>2021-12-01</td>\n",
       "      <td>305010107.0</td>\n",
       "      <td>1571.62</td>\n",
       "      <td>431350</td>\n",
       "      <td>5</td>\n",
       "      <td>...</td>\n",
       "      <td>N</td>\n",
       "      <td>N</td>\n",
       "      <td>N</td>\n",
       "      <td>N</td>\n",
       "      <td>0001</td>\n",
       "      <td>0001</td>\n",
       "      <td>1.0</td>\n",
       "      <td>3069.0</td>\n",
       "      <td>12.0</td>\n",
       "      <td>NaN</td>\n",
       "    </tr>\n",
       "    <tr>\n",
       "      <th>464267</th>\n",
       "      <td>201907</td>\n",
       "      <td>EP</td>\n",
       "      <td>430000</td>\n",
       "      <td>2244306</td>\n",
       "      <td>4319205035772</td>\n",
       "      <td>2019-06-01</td>\n",
       "      <td>305010107.0</td>\n",
       "      <td>400.00</td>\n",
       "      <td>431690</td>\n",
       "      <td>5</td>\n",
       "      <td>...</td>\n",
       "      <td>N</td>\n",
       "      <td>N</td>\n",
       "      <td>S</td>\n",
       "      <td>S</td>\n",
       "      <td>0</td>\n",
       "      <td>0</td>\n",
       "      <td>3.0</td>\n",
       "      <td>2062.0</td>\n",
       "      <td>7.0</td>\n",
       "      <td>NaN</td>\n",
       "    </tr>\n",
       "    <tr>\n",
       "      <th>499136</th>\n",
       "      <td>201911</td>\n",
       "      <td>PG</td>\n",
       "      <td>431490</td>\n",
       "      <td>2237601</td>\n",
       "      <td>4319209383863</td>\n",
       "      <td>2019-11-01</td>\n",
       "      <td>305010107.0</td>\n",
       "      <td>2604.05</td>\n",
       "      <td>431490</td>\n",
       "      <td>5</td>\n",
       "      <td>...</td>\n",
       "      <td>N</td>\n",
       "      <td>N</td>\n",
       "      <td>S</td>\n",
       "      <td>S</td>\n",
       "      <td>0003</td>\n",
       "      <td>0003</td>\n",
       "      <td>4.0</td>\n",
       "      <td>2011.0</td>\n",
       "      <td>4.0</td>\n",
       "      <td>NaN</td>\n",
       "    </tr>\n",
       "    <tr>\n",
       "      <th>305988</th>\n",
       "      <td>201712</td>\n",
       "      <td>EP</td>\n",
       "      <td>430000</td>\n",
       "      <td>2231069</td>\n",
       "      <td>4317201427165</td>\n",
       "      <td>2017-12-01</td>\n",
       "      <td>305010115.0</td>\n",
       "      <td>3549.94</td>\n",
       "      <td>430060</td>\n",
       "      <td>36</td>\n",
       "      <td>...</td>\n",
       "      <td>NaN</td>\n",
       "      <td>NaN</td>\n",
       "      <td>NaN</td>\n",
       "      <td>NaN</td>\n",
       "      <td>NaN</td>\n",
       "      <td>NaN</td>\n",
       "      <td>NaN</td>\n",
       "      <td>NaN</td>\n",
       "      <td>0.0</td>\n",
       "      <td>NaN</td>\n",
       "    </tr>\n",
       "  </tbody>\n",
       "</table>\n",
       "<p>5 rows × 124 columns</p>\n",
       "</div>"
      ],
      "text/plain": [
       "        AP_MVM AP_CONDIC  AP_GESTAO  AP_CODUNI     AP_AUTORIZ      AP_CMP  \\\n",
       "363470  201807        PG     431330    2241161  4318206465705  2018-07-01   \n",
       "730449  202112        EP     430000    2257815  4321207942645  2021-12-01   \n",
       "464267  201907        EP     430000    2244306  4319205035772  2019-06-01   \n",
       "499136  201911        PG     431490    2237601  4319209383863  2019-11-01   \n",
       "305988  201712        EP     430000    2231069  4317201427165  2017-12-01   \n",
       "\n",
       "          AP_PRIPAL  AP_VL_AP  AP_UFMUN  AP_TPUPS  ...  fav_ACF_FLEBIT  \\\n",
       "363470  305010107.0   2602.07    431330         5  ...             NaN   \n",
       "730449  305010107.0   1571.62    431350         5  ...               N   \n",
       "464267  305010107.0    400.00    431690         5  ...               N   \n",
       "499136  305010107.0   2604.05    431490         5  ...               N   \n",
       "305988  305010115.0   3549.94    430060        36  ...             NaN   \n",
       "\n",
       "       fav_ACF_HEMATO  fav_ACF_VEIAVI  fav_ACF_PULSO fav_ACF_VEIDIA  \\\n",
       "363470            NaN             NaN            NaN            NaN   \n",
       "730449              N               N              N           0001   \n",
       "464267              N               S              S              0   \n",
       "499136              N               S              S           0003   \n",
       "305988            NaN             NaN            NaN            NaN   \n",
       "\n",
       "        fav_ACF_ARTDIA  fav_ACF_FREMIT fav_AP_NATJUR  fav_repeticao  \\\n",
       "363470             NaN             NaN           NaN            0.0   \n",
       "730449            0001             1.0        3069.0           12.0   \n",
       "464267               0             3.0        2062.0            7.0   \n",
       "499136            0003             4.0        2011.0            4.0   \n",
       "305988             NaN             NaN           NaN            0.0   \n",
       "\n",
       "        espera_fav  \n",
       "363470         NaN  \n",
       "730449         NaN  \n",
       "464267         NaN  \n",
       "499136         NaN  \n",
       "305988         NaN  \n",
       "\n",
       "[5 rows x 124 columns]"
      ]
     },
     "execution_count": 5,
     "metadata": {},
     "output_type": "execute_result"
    }
   ],
   "source": [
    "df = pd.read_csv('dialise_fav_final2.csv', sep=';')\n",
    "df.sample(5)"
   ]
  },
  {
   "cell_type": "markdown",
   "id": "85798fbb",
   "metadata": {},
   "source": [
    "# Pergunta 1"
   ]
  },
  {
   "cell_type": "code",
   "execution_count": 48,
   "id": "cec06454",
   "metadata": {},
   "outputs": [
    {
     "data": {
      "text/html": [
       "<div>\n",
       "<style scoped>\n",
       "    .dataframe tbody tr th:only-of-type {\n",
       "        vertical-align: middle;\n",
       "    }\n",
       "\n",
       "    .dataframe tbody tr th {\n",
       "        vertical-align: top;\n",
       "    }\n",
       "\n",
       "    .dataframe thead th {\n",
       "        text-align: right;\n",
       "    }\n",
       "</style>\n",
       "<table border=\"1\" class=\"dataframe\">\n",
       "  <thead>\n",
       "    <tr style=\"text-align: right;\">\n",
       "      <th></th>\n",
       "      <th>data_primeira_dialise</th>\n",
       "      <th>cronico</th>\n",
       "      <th>data_atendimento_dialitico</th>\n",
       "      <th>obito</th>\n",
       "      <th>data_atendimento_fav</th>\n",
       "    </tr>\n",
       "  </thead>\n",
       "  <tbody>\n",
       "    <tr>\n",
       "      <th>540399</th>\n",
       "      <td>2019-04-12</td>\n",
       "      <td>repetido</td>\n",
       "      <td>2020-03-01</td>\n",
       "      <td>0</td>\n",
       "      <td>2019-12-01</td>\n",
       "    </tr>\n",
       "    <tr>\n",
       "      <th>49339</th>\n",
       "      <td>2004-05-06</td>\n",
       "      <td>repetido</td>\n",
       "      <td>2015-03-01</td>\n",
       "      <td>0</td>\n",
       "      <td>NaN</td>\n",
       "    </tr>\n",
       "    <tr>\n",
       "      <th>1009526</th>\n",
       "      <td>2023-03-14</td>\n",
       "      <td>repetido</td>\n",
       "      <td>2024-05-01</td>\n",
       "      <td>0</td>\n",
       "      <td>NaN</td>\n",
       "    </tr>\n",
       "    <tr>\n",
       "      <th>1027951</th>\n",
       "      <td>2024-06-03</td>\n",
       "      <td>agudo</td>\n",
       "      <td>2024-06-01</td>\n",
       "      <td>0</td>\n",
       "      <td>2024-09-01</td>\n",
       "    </tr>\n",
       "    <tr>\n",
       "      <th>548511</th>\n",
       "      <td>2020-04-13</td>\n",
       "      <td>agudo</td>\n",
       "      <td>2020-04-01</td>\n",
       "      <td>0</td>\n",
       "      <td>NaN</td>\n",
       "    </tr>\n",
       "    <tr>\n",
       "      <th>926440</th>\n",
       "      <td>2023-07-01</td>\n",
       "      <td>agudo</td>\n",
       "      <td>2023-09-01</td>\n",
       "      <td>0</td>\n",
       "      <td>NaN</td>\n",
       "    </tr>\n",
       "    <tr>\n",
       "      <th>614475</th>\n",
       "      <td>2019-02-03</td>\n",
       "      <td>repetido</td>\n",
       "      <td>2020-11-01</td>\n",
       "      <td>0</td>\n",
       "      <td>2019-06-01</td>\n",
       "    </tr>\n",
       "    <tr>\n",
       "      <th>428705</th>\n",
       "      <td>2014-12-19</td>\n",
       "      <td>repetido</td>\n",
       "      <td>2019-03-01</td>\n",
       "      <td>0</td>\n",
       "      <td>2015-01-01</td>\n",
       "    </tr>\n",
       "    <tr>\n",
       "      <th>901303</th>\n",
       "      <td>2022-08-11</td>\n",
       "      <td>repetido</td>\n",
       "      <td>2023-06-01</td>\n",
       "      <td>0</td>\n",
       "      <td>2022-10-01</td>\n",
       "    </tr>\n",
       "    <tr>\n",
       "      <th>307534</th>\n",
       "      <td>2017-01-16</td>\n",
       "      <td>repetido</td>\n",
       "      <td>2018-01-01</td>\n",
       "      <td>0</td>\n",
       "      <td>2017-03-01</td>\n",
       "    </tr>\n",
       "  </tbody>\n",
       "</table>\n",
       "</div>"
      ],
      "text/plain": [
       "        data_primeira_dialise   cronico data_atendimento_dialitico  obito  \\\n",
       "540399             2019-04-12  repetido                 2020-03-01      0   \n",
       "49339              2004-05-06  repetido                 2015-03-01      0   \n",
       "1009526            2023-03-14  repetido                 2024-05-01      0   \n",
       "1027951            2024-06-03     agudo                 2024-06-01      0   \n",
       "548511             2020-04-13     agudo                 2020-04-01      0   \n",
       "926440             2023-07-01     agudo                 2023-09-01      0   \n",
       "614475             2019-02-03  repetido                 2020-11-01      0   \n",
       "428705             2014-12-19  repetido                 2019-03-01      0   \n",
       "901303             2022-08-11  repetido                 2023-06-01      0   \n",
       "307534             2017-01-16  repetido                 2018-01-01      0   \n",
       "\n",
       "        data_atendimento_fav  \n",
       "540399            2019-12-01  \n",
       "49339                    NaN  \n",
       "1009526                  NaN  \n",
       "1027951           2024-09-01  \n",
       "548511                   NaN  \n",
       "926440                   NaN  \n",
       "614475            2019-06-01  \n",
       "428705            2015-01-01  \n",
       "901303            2022-10-01  \n",
       "307534            2017-03-01  "
      ]
     },
     "execution_count": 48,
     "metadata": {},
     "output_type": "execute_result"
    }
   ],
   "source": [
    "# Tempo de espera - Grafico de Linha + média por ano\n",
    "df_espera = pd.DataFrame()\n",
    "df_espera['data_primeira_dialise']      = df['ATD_DTPDR']\n",
    "df_espera['cronico']                    = df['Cronico']\n",
    "df_espera['data_atendimento_dialitico'] = df['AP_CMP']\n",
    "df_espera['obito']                      = df['AP_OBITO']\n",
    "df_espera['data_atendimento_fav']       = df['fav_AP_CMP']\n",
    "df_espera.sample(10)"
   ]
  },
  {
   "cell_type": "code",
   "execution_count": 49,
   "id": "4b0159e7",
   "metadata": {},
   "outputs": [
    {
     "name": "stderr",
     "output_type": "stream",
     "text": [
      "C:\\Users\\Marnie\\AppData\\Local\\Temp\\ipykernel_35100\\2896329900.py:2: UserWarning: Boolean Series key will be reindexed to match DataFrame index.\n",
      "  df_espera_mortos_validos = df_espera[df_espera.obito == 1][df_espera.data_atendimento_fav.notna()]\n"
     ]
    },
    {
     "data": {
      "text/html": [
       "<div>\n",
       "<style scoped>\n",
       "    .dataframe tbody tr th:only-of-type {\n",
       "        vertical-align: middle;\n",
       "    }\n",
       "\n",
       "    .dataframe tbody tr th {\n",
       "        vertical-align: top;\n",
       "    }\n",
       "\n",
       "    .dataframe thead th {\n",
       "        text-align: right;\n",
       "    }\n",
       "</style>\n",
       "<table border=\"1\" class=\"dataframe\">\n",
       "  <thead>\n",
       "    <tr style=\"text-align: right;\">\n",
       "      <th></th>\n",
       "      <th>data_primeira_dialise</th>\n",
       "      <th>cronico</th>\n",
       "      <th>data_atendimento_dialitico</th>\n",
       "      <th>obito</th>\n",
       "      <th>data_atendimento_fav</th>\n",
       "    </tr>\n",
       "  </thead>\n",
       "  <tbody>\n",
       "    <tr>\n",
       "      <th>1037799</th>\n",
       "      <td>2023-12-18</td>\n",
       "      <td>repetido</td>\n",
       "      <td>2024-07-01</td>\n",
       "      <td>0</td>\n",
       "      <td>2024-07-01</td>\n",
       "    </tr>\n",
       "    <tr>\n",
       "      <th>1061810</th>\n",
       "      <td>2018-06-20</td>\n",
       "      <td>repetido</td>\n",
       "      <td>2024-08-01</td>\n",
       "      <td>0</td>\n",
       "      <td>2021-02-01</td>\n",
       "    </tr>\n",
       "    <tr>\n",
       "      <th>524701</th>\n",
       "      <td>2019-04-05</td>\n",
       "      <td>repetido</td>\n",
       "      <td>2020-01-01</td>\n",
       "      <td>0</td>\n",
       "      <td>2021-02-01</td>\n",
       "    </tr>\n",
       "    <tr>\n",
       "      <th>702263</th>\n",
       "      <td>2011-04-13</td>\n",
       "      <td>repetido</td>\n",
       "      <td>2021-09-01</td>\n",
       "      <td>0</td>\n",
       "      <td>2023-03-01</td>\n",
       "    </tr>\n",
       "    <tr>\n",
       "      <th>676667</th>\n",
       "      <td>2017-09-01</td>\n",
       "      <td>repetido</td>\n",
       "      <td>2021-06-01</td>\n",
       "      <td>0</td>\n",
       "      <td>2021-07-01</td>\n",
       "    </tr>\n",
       "    <tr>\n",
       "      <th>404212</th>\n",
       "      <td>2017-11-01</td>\n",
       "      <td>repetido</td>\n",
       "      <td>2018-12-01</td>\n",
       "      <td>0</td>\n",
       "      <td>2021-03-01</td>\n",
       "    </tr>\n",
       "    <tr>\n",
       "      <th>207497</th>\n",
       "      <td>2013-06-06</td>\n",
       "      <td>repetido</td>\n",
       "      <td>2016-12-01</td>\n",
       "      <td>0</td>\n",
       "      <td>2016-10-01</td>\n",
       "    </tr>\n",
       "    <tr>\n",
       "      <th>929535</th>\n",
       "      <td>2022-06-15</td>\n",
       "      <td>repetido</td>\n",
       "      <td>2023-09-01</td>\n",
       "      <td>0</td>\n",
       "      <td>2022-07-01</td>\n",
       "    </tr>\n",
       "    <tr>\n",
       "      <th>1094123</th>\n",
       "      <td>2021-06-26</td>\n",
       "      <td>repetido</td>\n",
       "      <td>2024-10-01</td>\n",
       "      <td>0</td>\n",
       "      <td>2019-10-01</td>\n",
       "    </tr>\n",
       "    <tr>\n",
       "      <th>404547</th>\n",
       "      <td>2016-11-17</td>\n",
       "      <td>repetido</td>\n",
       "      <td>2018-12-01</td>\n",
       "      <td>0</td>\n",
       "      <td>2016-05-01</td>\n",
       "    </tr>\n",
       "  </tbody>\n",
       "</table>\n",
       "</div>"
      ],
      "text/plain": [
       "        data_primeira_dialise   cronico data_atendimento_dialitico  obito  \\\n",
       "1037799            2023-12-18  repetido                 2024-07-01      0   \n",
       "1061810            2018-06-20  repetido                 2024-08-01      0   \n",
       "524701             2019-04-05  repetido                 2020-01-01      0   \n",
       "702263             2011-04-13  repetido                 2021-09-01      0   \n",
       "676667             2017-09-01  repetido                 2021-06-01      0   \n",
       "404212             2017-11-01  repetido                 2018-12-01      0   \n",
       "207497             2013-06-06  repetido                 2016-12-01      0   \n",
       "929535             2022-06-15  repetido                 2023-09-01      0   \n",
       "1094123            2021-06-26  repetido                 2024-10-01      0   \n",
       "404547             2016-11-17  repetido                 2018-12-01      0   \n",
       "\n",
       "        data_atendimento_fav  \n",
       "1037799           2024-07-01  \n",
       "1061810           2021-02-01  \n",
       "524701            2021-02-01  \n",
       "702263            2023-03-01  \n",
       "676667            2021-07-01  \n",
       "404212            2021-03-01  \n",
       "207497            2016-10-01  \n",
       "929535            2022-07-01  \n",
       "1094123           2019-10-01  \n",
       "404547            2016-05-01  "
      ]
     },
     "execution_count": 49,
     "metadata": {},
     "output_type": "execute_result"
    }
   ],
   "source": [
    "# Para os casos de morte, podemos desconsiderar o tempo de espera (?)\n",
    "df_espera_mortos_validos = df_espera[df_espera.obito == 1][df_espera.data_atendimento_fav.notna()]\n",
    "\n",
    "# Remover todos os mortos\n",
    "df_espera = df_espera[df_espera.obito != 1]\n",
    "\n",
    "# Inserir apenas falecidos válidos\n",
    "df_espera = pd.concat([df_espera, df_espera_mortos_validos])\n",
    "df_espera.sample(10)"
   ]
  },
  {
   "cell_type": "code",
   "execution_count": 50,
   "id": "0e00c490",
   "metadata": {},
   "outputs": [
    {
     "data": {
      "text/html": [
       "<div>\n",
       "<style scoped>\n",
       "    .dataframe tbody tr th:only-of-type {\n",
       "        vertical-align: middle;\n",
       "    }\n",
       "\n",
       "    .dataframe tbody tr th {\n",
       "        vertical-align: top;\n",
       "    }\n",
       "\n",
       "    .dataframe thead th {\n",
       "        text-align: right;\n",
       "    }\n",
       "</style>\n",
       "<table border=\"1\" class=\"dataframe\">\n",
       "  <thead>\n",
       "    <tr style=\"text-align: right;\">\n",
       "      <th></th>\n",
       "      <th>data_primeira_dialise</th>\n",
       "      <th>cronico</th>\n",
       "      <th>data_atendimento_dialitico</th>\n",
       "      <th>obito</th>\n",
       "      <th>data_atendimento_fav</th>\n",
       "    </tr>\n",
       "  </thead>\n",
       "  <tbody>\n",
       "    <tr>\n",
       "      <th>170361</th>\n",
       "      <td>2016-07-26</td>\n",
       "      <td>agudo</td>\n",
       "      <td>2016-07-01</td>\n",
       "      <td>0</td>\n",
       "      <td>2018-11-01</td>\n",
       "    </tr>\n",
       "    <tr>\n",
       "      <th>1114716</th>\n",
       "      <td>2024-10-16</td>\n",
       "      <td>agudo</td>\n",
       "      <td>2024-11-01</td>\n",
       "      <td>0</td>\n",
       "      <td>2024-12-01</td>\n",
       "    </tr>\n",
       "    <tr>\n",
       "      <th>657908</th>\n",
       "      <td>2021-03-26</td>\n",
       "      <td>agudo</td>\n",
       "      <td>2021-03-01</td>\n",
       "      <td>0</td>\n",
       "      <td>2020-06-01</td>\n",
       "    </tr>\n",
       "    <tr>\n",
       "      <th>1115454</th>\n",
       "      <td>2024-10-01</td>\n",
       "      <td>agudo</td>\n",
       "      <td>2024-11-01</td>\n",
       "      <td>1</td>\n",
       "      <td>2024-11-01</td>\n",
       "    </tr>\n",
       "    <tr>\n",
       "      <th>46841</th>\n",
       "      <td>2015-01-06</td>\n",
       "      <td>agudo</td>\n",
       "      <td>2015-03-01</td>\n",
       "      <td>0</td>\n",
       "      <td>2015-02-01</td>\n",
       "    </tr>\n",
       "  </tbody>\n",
       "</table>\n",
       "</div>"
      ],
      "text/plain": [
       "        data_primeira_dialise cronico data_atendimento_dialitico  obito  \\\n",
       "170361             2016-07-26   agudo                 2016-07-01      0   \n",
       "1114716            2024-10-16   agudo                 2024-11-01      0   \n",
       "657908             2021-03-26   agudo                 2021-03-01      0   \n",
       "1115454            2024-10-01   agudo                 2024-11-01      1   \n",
       "46841              2015-01-06   agudo                 2015-03-01      0   \n",
       "\n",
       "        data_atendimento_fav  \n",
       "170361            2018-11-01  \n",
       "1114716           2024-12-01  \n",
       "657908            2020-06-01  \n",
       "1115454           2024-11-01  \n",
       "46841             2015-02-01  "
      ]
     },
     "execution_count": 50,
     "metadata": {},
     "output_type": "execute_result"
    }
   ],
   "source": [
    "# Priorizar remover repetidos NaN\n",
    "df_espera = df_espera[df_espera.cronico != 'repetido']\n",
    "df_espera.sample(5)"
   ]
  },
  {
   "cell_type": "code",
   "execution_count": 51,
   "id": "9dad058e",
   "metadata": {},
   "outputs": [
    {
     "data": {
      "text/html": [
       "<div>\n",
       "<style scoped>\n",
       "    .dataframe tbody tr th:only-of-type {\n",
       "        vertical-align: middle;\n",
       "    }\n",
       "\n",
       "    .dataframe tbody tr th {\n",
       "        vertical-align: top;\n",
       "    }\n",
       "\n",
       "    .dataframe thead th {\n",
       "        text-align: right;\n",
       "    }\n",
       "</style>\n",
       "<table border=\"1\" class=\"dataframe\">\n",
       "  <thead>\n",
       "    <tr style=\"text-align: right;\">\n",
       "      <th></th>\n",
       "      <th>data_primeira_dialise</th>\n",
       "      <th>cronico</th>\n",
       "      <th>data_atendimento_dialitico</th>\n",
       "      <th>obito</th>\n",
       "      <th>data_atendimento_fav</th>\n",
       "    </tr>\n",
       "  </thead>\n",
       "  <tbody>\n",
       "    <tr>\n",
       "      <th>37749</th>\n",
       "      <td>2014-10-11</td>\n",
       "      <td>cronico</td>\n",
       "      <td>2015-01-01</td>\n",
       "      <td>0</td>\n",
       "      <td>2014-11-01</td>\n",
       "    </tr>\n",
       "    <tr>\n",
       "      <th>415859</th>\n",
       "      <td>2018-10-26</td>\n",
       "      <td>cronico</td>\n",
       "      <td>2019-01-01</td>\n",
       "      <td>0</td>\n",
       "      <td>2018-09-01</td>\n",
       "    </tr>\n",
       "    <tr>\n",
       "      <th>1132206</th>\n",
       "      <td>2022-01-31</td>\n",
       "      <td>cronico</td>\n",
       "      <td>2024-12-01</td>\n",
       "      <td>0</td>\n",
       "      <td>2024-11-01</td>\n",
       "    </tr>\n",
       "    <tr>\n",
       "      <th>888952</th>\n",
       "      <td>2023-02-09</td>\n",
       "      <td>cronico</td>\n",
       "      <td>2023-05-01</td>\n",
       "      <td>0</td>\n",
       "      <td>2023-04-01</td>\n",
       "    </tr>\n",
       "    <tr>\n",
       "      <th>1107562</th>\n",
       "      <td>2004-12-22</td>\n",
       "      <td>cronico</td>\n",
       "      <td>2024-11-01</td>\n",
       "      <td>0</td>\n",
       "      <td>2024-12-01</td>\n",
       "    </tr>\n",
       "    <tr>\n",
       "      <th>1138697</th>\n",
       "      <td>2018-04-14</td>\n",
       "      <td>cronico</td>\n",
       "      <td>2024-12-01</td>\n",
       "      <td>0</td>\n",
       "      <td>2024-11-01</td>\n",
       "    </tr>\n",
       "    <tr>\n",
       "      <th>1114510</th>\n",
       "      <td>2007-06-29</td>\n",
       "      <td>cronico</td>\n",
       "      <td>2024-11-01</td>\n",
       "      <td>0</td>\n",
       "      <td>2024-11-01</td>\n",
       "    </tr>\n",
       "    <tr>\n",
       "      <th>191916</th>\n",
       "      <td>2016-05-25</td>\n",
       "      <td>cronico</td>\n",
       "      <td>2016-10-01</td>\n",
       "      <td>0</td>\n",
       "      <td>2015-10-01</td>\n",
       "    </tr>\n",
       "    <tr>\n",
       "      <th>97984</th>\n",
       "      <td>2015-03-15</td>\n",
       "      <td>cronico</td>\n",
       "      <td>2015-10-01</td>\n",
       "      <td>0</td>\n",
       "      <td>2015-11-01</td>\n",
       "    </tr>\n",
       "    <tr>\n",
       "      <th>338110</th>\n",
       "      <td>2018-01-19</td>\n",
       "      <td>cronico</td>\n",
       "      <td>2018-04-01</td>\n",
       "      <td>0</td>\n",
       "      <td>2018-05-01</td>\n",
       "    </tr>\n",
       "  </tbody>\n",
       "</table>\n",
       "</div>"
      ],
      "text/plain": [
       "        data_primeira_dialise  cronico data_atendimento_dialitico  obito  \\\n",
       "37749              2014-10-11  cronico                 2015-01-01      0   \n",
       "415859             2018-10-26  cronico                 2019-01-01      0   \n",
       "1132206            2022-01-31  cronico                 2024-12-01      0   \n",
       "888952             2023-02-09  cronico                 2023-05-01      0   \n",
       "1107562            2004-12-22  cronico                 2024-11-01      0   \n",
       "1138697            2018-04-14  cronico                 2024-12-01      0   \n",
       "1114510            2007-06-29  cronico                 2024-11-01      0   \n",
       "191916             2016-05-25  cronico                 2016-10-01      0   \n",
       "97984              2015-03-15  cronico                 2015-10-01      0   \n",
       "338110             2018-01-19  cronico                 2018-04-01      0   \n",
       "\n",
       "        data_atendimento_fav  \n",
       "37749             2014-11-01  \n",
       "415859            2018-09-01  \n",
       "1132206           2024-11-01  \n",
       "888952            2023-04-01  \n",
       "1107562           2024-12-01  \n",
       "1138697           2024-11-01  \n",
       "1114510           2024-11-01  \n",
       "191916            2015-10-01  \n",
       "97984             2015-11-01  \n",
       "338110            2018-05-01  "
      ]
     },
     "execution_count": 51,
     "metadata": {},
     "output_type": "execute_result"
    }
   ],
   "source": [
    "# Remover observações que não são agudos e que não tiveram atendimento FAV\n",
    "# Para garantir, vamos remover todos que não tiveram data_primeira_dialise também\n",
    "df_espera = df_espera[df_espera.cronico != 'agudo']\n",
    "df_espera = df_espera[df_espera.data_atendimento_fav.notna()]\n",
    "df_espera = df_espera[df_espera.data_primeira_dialise.notna()]\n",
    "df_espera.sample(10)"
   ]
  },
  {
   "cell_type": "code",
   "execution_count": 52,
   "id": "2eec2b5a",
   "metadata": {},
   "outputs": [
    {
     "data": {
      "text/html": [
       "<div>\n",
       "<style scoped>\n",
       "    .dataframe tbody tr th:only-of-type {\n",
       "        vertical-align: middle;\n",
       "    }\n",
       "\n",
       "    .dataframe tbody tr th {\n",
       "        vertical-align: top;\n",
       "    }\n",
       "\n",
       "    .dataframe thead th {\n",
       "        text-align: right;\n",
       "    }\n",
       "</style>\n",
       "<table border=\"1\" class=\"dataframe\">\n",
       "  <thead>\n",
       "    <tr style=\"text-align: right;\">\n",
       "      <th></th>\n",
       "      <th>data_primeira_dialise</th>\n",
       "      <th>cronico</th>\n",
       "      <th>data_atendimento_dialitico</th>\n",
       "      <th>obito</th>\n",
       "      <th>data_atendimento_fav</th>\n",
       "      <th>tempo_entre_fav_e_primeira_dialise</th>\n",
       "      <th>tempo_anos</th>\n",
       "    </tr>\n",
       "  </thead>\n",
       "  <tbody>\n",
       "    <tr>\n",
       "      <th>422408</th>\n",
       "      <td>2018-11-16</td>\n",
       "      <td>cronico</td>\n",
       "      <td>2019-02-01</td>\n",
       "      <td>0</td>\n",
       "      <td>2020-08-01</td>\n",
       "      <td>624</td>\n",
       "      <td>1.708419</td>\n",
       "    </tr>\n",
       "    <tr>\n",
       "      <th>1107554</th>\n",
       "      <td>2004-12-22</td>\n",
       "      <td>cronico</td>\n",
       "      <td>2024-11-01</td>\n",
       "      <td>0</td>\n",
       "      <td>2024-11-01</td>\n",
       "      <td>7254</td>\n",
       "      <td>19.860370</td>\n",
       "    </tr>\n",
       "    <tr>\n",
       "      <th>645626</th>\n",
       "      <td>2019-07-22</td>\n",
       "      <td>cronico</td>\n",
       "      <td>2021-03-01</td>\n",
       "      <td>0</td>\n",
       "      <td>2022-07-01</td>\n",
       "      <td>1075</td>\n",
       "      <td>2.943190</td>\n",
       "    </tr>\n",
       "    <tr>\n",
       "      <th>650708</th>\n",
       "      <td>2020-12-31</td>\n",
       "      <td>cronico</td>\n",
       "      <td>2021-03-01</td>\n",
       "      <td>0</td>\n",
       "      <td>2021-05-01</td>\n",
       "      <td>121</td>\n",
       "      <td>0.331280</td>\n",
       "    </tr>\n",
       "    <tr>\n",
       "      <th>1109033</th>\n",
       "      <td>2022-03-16</td>\n",
       "      <td>cronico</td>\n",
       "      <td>2024-11-01</td>\n",
       "      <td>0</td>\n",
       "      <td>2024-11-01</td>\n",
       "      <td>961</td>\n",
       "      <td>2.631075</td>\n",
       "    </tr>\n",
       "    <tr>\n",
       "      <th>61578</th>\n",
       "      <td>2005-02-14</td>\n",
       "      <td>cronico</td>\n",
       "      <td>2015-05-01</td>\n",
       "      <td>0</td>\n",
       "      <td>2015-07-01</td>\n",
       "      <td>3789</td>\n",
       "      <td>10.373717</td>\n",
       "    </tr>\n",
       "    <tr>\n",
       "      <th>490918</th>\n",
       "      <td>2019-07-02</td>\n",
       "      <td>cronico</td>\n",
       "      <td>2019-10-01</td>\n",
       "      <td>0</td>\n",
       "      <td>2021-03-01</td>\n",
       "      <td>608</td>\n",
       "      <td>1.664613</td>\n",
       "    </tr>\n",
       "    <tr>\n",
       "      <th>202051</th>\n",
       "      <td>2016-09-22</td>\n",
       "      <td>cronico</td>\n",
       "      <td>2016-12-01</td>\n",
       "      <td>0</td>\n",
       "      <td>2016-12-01</td>\n",
       "      <td>70</td>\n",
       "      <td>0.191650</td>\n",
       "    </tr>\n",
       "    <tr>\n",
       "      <th>1111523</th>\n",
       "      <td>2022-03-07</td>\n",
       "      <td>cronico</td>\n",
       "      <td>2024-11-01</td>\n",
       "      <td>0</td>\n",
       "      <td>2024-11-01</td>\n",
       "      <td>970</td>\n",
       "      <td>2.655715</td>\n",
       "    </tr>\n",
       "    <tr>\n",
       "      <th>1116058</th>\n",
       "      <td>2018-04-24</td>\n",
       "      <td>cronico</td>\n",
       "      <td>2024-11-01</td>\n",
       "      <td>1</td>\n",
       "      <td>2024-12-01</td>\n",
       "      <td>2413</td>\n",
       "      <td>6.606434</td>\n",
       "    </tr>\n",
       "  </tbody>\n",
       "</table>\n",
       "</div>"
      ],
      "text/plain": [
       "        data_primeira_dialise  cronico data_atendimento_dialitico  obito  \\\n",
       "422408             2018-11-16  cronico                 2019-02-01      0   \n",
       "1107554            2004-12-22  cronico                 2024-11-01      0   \n",
       "645626             2019-07-22  cronico                 2021-03-01      0   \n",
       "650708             2020-12-31  cronico                 2021-03-01      0   \n",
       "1109033            2022-03-16  cronico                 2024-11-01      0   \n",
       "61578              2005-02-14  cronico                 2015-05-01      0   \n",
       "490918             2019-07-02  cronico                 2019-10-01      0   \n",
       "202051             2016-09-22  cronico                 2016-12-01      0   \n",
       "1111523            2022-03-07  cronico                 2024-11-01      0   \n",
       "1116058            2018-04-24  cronico                 2024-11-01      1   \n",
       "\n",
       "        data_atendimento_fav  tempo_entre_fav_e_primeira_dialise  tempo_anos  \n",
       "422408            2020-08-01                                 624    1.708419  \n",
       "1107554           2024-11-01                                7254   19.860370  \n",
       "645626            2022-07-01                                1075    2.943190  \n",
       "650708            2021-05-01                                 121    0.331280  \n",
       "1109033           2024-11-01                                 961    2.631075  \n",
       "61578             2015-07-01                                3789   10.373717  \n",
       "490918            2021-03-01                                 608    1.664613  \n",
       "202051            2016-12-01                                  70    0.191650  \n",
       "1111523           2024-11-01                                 970    2.655715  \n",
       "1116058           2024-12-01                                2413    6.606434  "
      ]
     },
     "execution_count": 52,
     "metadata": {},
     "output_type": "execute_result"
    }
   ],
   "source": [
    "# Calcular tempo de espera\n",
    "df_espera['data_atendimento_fav'] = pd.to_datetime(df_espera['data_atendimento_fav'])\n",
    "df_espera['data_primeira_dialise'] = pd.to_datetime(df_espera['data_primeira_dialise'])\n",
    "\n",
    "# Calcular a diferença\n",
    "df_espera['tempo_entre_fav_e_primeira_dialise'] = (\n",
    "    df_espera['data_atendimento_fav'] - df_espera['data_primeira_dialise']\n",
    ").dt.days  # em dias\n",
    "\n",
    "df_espera['tempo_anos'] = df_espera['tempo_entre_fav_e_primeira_dialise'] / 365.25\n",
    "\n",
    "# Remover esperas negativas\n",
    "df_espera = df_espera[df_espera['tempo_entre_fav_e_primeira_dialise'] > 0]\n",
    "df_espera.sample(10)"
   ]
  },
  {
   "cell_type": "code",
   "execution_count": 53,
   "id": "0dad0711",
   "metadata": {},
   "outputs": [],
   "source": [
    "# Manter dados apenas a partir de janeiro de 2014 devido criação do dataset\n",
    "\n",
    "df_espera['data_atendimento_dialitico'] = pd.to_datetime(df_espera['data_atendimento_dialitico'])\n",
    "df_espera['data_atendimento_fav'] = pd.to_datetime(df_espera['data_atendimento_fav'])\n",
    "df_espera['data_primeira_dialise'] = pd.to_datetime(df_espera['data_primeira_dialise'])\n",
    "\n",
    "df_espera = df_espera[\n",
    "        (df_espera['data_atendimento_dialitico'] >= '2014-01-01') &\n",
    "        (df_espera['data_atendimento_fav'] >= '2014-01-01') &\n",
    "        (df_espera['data_primeira_dialise'] >= '2014-01-01') ]"
   ]
  },
  {
   "cell_type": "code",
   "execution_count": 65,
   "id": "af5352cf",
   "metadata": {},
   "outputs": [
    {
     "data": {
      "application/vnd.plotly.v1+json": {
       "config": {
        "plotlyServerURL": "https://plot.ly"
       },
       "data": [
        {
         "bingroup": "x",
         "hovertemplate": "Tempo de espera (dias)=%{x}<br>count=%{y}<extra></extra>",
         "legendgroup": "",
         "marker": {
          "color": "#636efa",
          "pattern": {
           "shape": ""
          }
         },
         "name": "",
         "nbinsx": 394,
         "orientation": "v",
         "showlegend": false,
         "type": "histogram",
         "x": {
          "bdata": "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",
          "dtype": "i2"
         },
         "xaxis": "x",
         "yaxis": "y"
        }
       ],
       "layout": {
        "bargap": 0.05,
        "barmode": "relative",
        "legend": {
         "tracegroupgap": 0
        },
        "template": {
         "data": {
          "bar": [
           {
            "error_x": {
             "color": "#2a3f5f"
            },
            "error_y": {
             "color": "#2a3f5f"
            },
            "marker": {
             "line": {
              "color": "white",
              "width": 0.5
             },
             "pattern": {
              "fillmode": "overlay",
              "size": 10,
              "solidity": 0.2
             }
            },
            "type": "bar"
           }
          ],
          "barpolar": [
           {
            "marker": {
             "line": {
              "color": "white",
              "width": 0.5
             },
             "pattern": {
              "fillmode": "overlay",
              "size": 10,
              "solidity": 0.2
             }
            },
            "type": "barpolar"
           }
          ],
          "carpet": [
           {
            "aaxis": {
             "endlinecolor": "#2a3f5f",
             "gridcolor": "#C8D4E3",
             "linecolor": "#C8D4E3",
             "minorgridcolor": "#C8D4E3",
             "startlinecolor": "#2a3f5f"
            },
            "baxis": {
             "endlinecolor": "#2a3f5f",
             "gridcolor": "#C8D4E3",
             "linecolor": "#C8D4E3",
             "minorgridcolor": "#C8D4E3",
             "startlinecolor": "#2a3f5f"
            },
            "type": "carpet"
           }
          ],
          "choropleth": [
           {
            "colorbar": {
             "outlinewidth": 0,
             "ticks": ""
            },
            "type": "choropleth"
           }
          ],
          "contour": [
           {
            "colorbar": {
             "outlinewidth": 0,
             "ticks": ""
            },
            "colorscale": [
             [
              0,
              "#0d0887"
             ],
             [
              0.1111111111111111,
              "#46039f"
             ],
             [
              0.2222222222222222,
              "#7201a8"
             ],
             [
              0.3333333333333333,
              "#9c179e"
             ],
             [
              0.4444444444444444,
              "#bd3786"
             ],
             [
              0.5555555555555556,
              "#d8576b"
             ],
             [
              0.6666666666666666,
              "#ed7953"
             ],
             [
              0.7777777777777778,
              "#fb9f3a"
             ],
             [
              0.8888888888888888,
              "#fdca26"
             ],
             [
              1,
              "#f0f921"
             ]
            ],
            "type": "contour"
           }
          ],
          "contourcarpet": [
           {
            "colorbar": {
             "outlinewidth": 0,
             "ticks": ""
            },
            "type": "contourcarpet"
           }
          ],
          "heatmap": [
           {
            "colorbar": {
             "outlinewidth": 0,
             "ticks": ""
            },
            "colorscale": [
             [
              0,
              "#0d0887"
             ],
             [
              0.1111111111111111,
              "#46039f"
             ],
             [
              0.2222222222222222,
              "#7201a8"
             ],
             [
              0.3333333333333333,
              "#9c179e"
             ],
             [
              0.4444444444444444,
              "#bd3786"
             ],
             [
              0.5555555555555556,
              "#d8576b"
             ],
             [
              0.6666666666666666,
              "#ed7953"
             ],
             [
              0.7777777777777778,
              "#fb9f3a"
             ],
             [
              0.8888888888888888,
              "#fdca26"
             ],
             [
              1,
              "#f0f921"
             ]
            ],
            "type": "heatmap"
           }
          ],
          "histogram": [
           {
            "marker": {
             "pattern": {
              "fillmode": "overlay",
              "size": 10,
              "solidity": 0.2
             }
            },
            "type": "histogram"
           }
          ],
          "histogram2d": [
           {
            "colorbar": {
             "outlinewidth": 0,
             "ticks": ""
            },
            "colorscale": [
             [
              0,
              "#0d0887"
             ],
             [
              0.1111111111111111,
              "#46039f"
             ],
             [
              0.2222222222222222,
              "#7201a8"
             ],
             [
              0.3333333333333333,
              "#9c179e"
             ],
             [
              0.4444444444444444,
              "#bd3786"
             ],
             [
              0.5555555555555556,
              "#d8576b"
             ],
             [
              0.6666666666666666,
              "#ed7953"
             ],
             [
              0.7777777777777778,
              "#fb9f3a"
             ],
             [
              0.8888888888888888,
              "#fdca26"
             ],
             [
              1,
              "#f0f921"
             ]
            ],
            "type": "histogram2d"
           }
          ],
          "histogram2dcontour": [
           {
            "colorbar": {
             "outlinewidth": 0,
             "ticks": ""
            },
            "colorscale": [
             [
              0,
              "#0d0887"
             ],
             [
              0.1111111111111111,
              "#46039f"
             ],
             [
              0.2222222222222222,
              "#7201a8"
             ],
             [
              0.3333333333333333,
              "#9c179e"
             ],
             [
              0.4444444444444444,
              "#bd3786"
             ],
             [
              0.5555555555555556,
              "#d8576b"
             ],
             [
              0.6666666666666666,
              "#ed7953"
             ],
             [
              0.7777777777777778,
              "#fb9f3a"
             ],
             [
              0.8888888888888888,
              "#fdca26"
             ],
             [
              1,
              "#f0f921"
             ]
            ],
            "type": "histogram2dcontour"
           }
          ],
          "mesh3d": [
           {
            "colorbar": {
             "outlinewidth": 0,
             "ticks": ""
            },
            "type": "mesh3d"
           }
          ],
          "parcoords": [
           {
            "line": {
             "colorbar": {
              "outlinewidth": 0,
              "ticks": ""
             }
            },
            "type": "parcoords"
           }
          ],
          "pie": [
           {
            "automargin": true,
            "type": "pie"
           }
          ],
          "scatter": [
           {
            "fillpattern": {
             "fillmode": "overlay",
             "size": 10,
             "solidity": 0.2
            },
            "type": "scatter"
           }
          ],
          "scatter3d": [
           {
            "line": {
             "colorbar": {
              "outlinewidth": 0,
              "ticks": ""
             }
            },
            "marker": {
             "colorbar": {
              "outlinewidth": 0,
              "ticks": ""
             }
            },
            "type": "scatter3d"
           }
          ],
          "scattercarpet": [
           {
            "marker": {
             "colorbar": {
              "outlinewidth": 0,
              "ticks": ""
             }
            },
            "type": "scattercarpet"
           }
          ],
          "scattergeo": [
           {
            "marker": {
             "colorbar": {
              "outlinewidth": 0,
              "ticks": ""
             }
            },
            "type": "scattergeo"
           }
          ],
          "scattergl": [
           {
            "marker": {
             "colorbar": {
              "outlinewidth": 0,
              "ticks": ""
             }
            },
            "type": "scattergl"
           }
          ],
          "scattermap": [
           {
            "marker": {
             "colorbar": {
              "outlinewidth": 0,
              "ticks": ""
             }
            },
            "type": "scattermap"
           }
          ],
          "scattermapbox": [
           {
            "marker": {
             "colorbar": {
              "outlinewidth": 0,
              "ticks": ""
             }
            },
            "type": "scattermapbox"
           }
          ],
          "scatterpolar": [
           {
            "marker": {
             "colorbar": {
              "outlinewidth": 0,
              "ticks": ""
             }
            },
            "type": "scatterpolar"
           }
          ],
          "scatterpolargl": [
           {
            "marker": {
             "colorbar": {
              "outlinewidth": 0,
              "ticks": ""
             }
            },
            "type": "scatterpolargl"
           }
          ],
          "scatterternary": [
           {
            "marker": {
             "colorbar": {
              "outlinewidth": 0,
              "ticks": ""
             }
            },
            "type": "scatterternary"
           }
          ],
          "surface": [
           {
            "colorbar": {
             "outlinewidth": 0,
             "ticks": ""
            },
            "colorscale": [
             [
              0,
              "#0d0887"
             ],
             [
              0.1111111111111111,
              "#46039f"
             ],
             [
              0.2222222222222222,
              "#7201a8"
             ],
             [
              0.3333333333333333,
              "#9c179e"
             ],
             [
              0.4444444444444444,
              "#bd3786"
             ],
             [
              0.5555555555555556,
              "#d8576b"
             ],
             [
              0.6666666666666666,
              "#ed7953"
             ],
             [
              0.7777777777777778,
              "#fb9f3a"
             ],
             [
              0.8888888888888888,
              "#fdca26"
             ],
             [
              1,
              "#f0f921"
             ]
            ],
            "type": "surface"
           }
          ],
          "table": [
           {
            "cells": {
             "fill": {
              "color": "#EBF0F8"
             },
             "line": {
              "color": "white"
             }
            },
            "header": {
             "fill": {
              "color": "#C8D4E3"
             },
             "line": {
              "color": "white"
             }
            },
            "type": "table"
           }
          ]
         },
         "layout": {
          "annotationdefaults": {
           "arrowcolor": "#2a3f5f",
           "arrowhead": 0,
           "arrowwidth": 1
          },
          "autotypenumbers": "strict",
          "coloraxis": {
           "colorbar": {
            "outlinewidth": 0,
            "ticks": ""
           }
          },
          "colorscale": {
           "diverging": [
            [
             0,
             "#8e0152"
            ],
            [
             0.1,
             "#c51b7d"
            ],
            [
             0.2,
             "#de77ae"
            ],
            [
             0.3,
             "#f1b6da"
            ],
            [
             0.4,
             "#fde0ef"
            ],
            [
             0.5,
             "#f7f7f7"
            ],
            [
             0.6,
             "#e6f5d0"
            ],
            [
             0.7,
             "#b8e186"
            ],
            [
             0.8,
             "#7fbc41"
            ],
            [
             0.9,
             "#4d9221"
            ],
            [
             1,
             "#276419"
            ]
           ],
           "sequential": [
            [
             0,
             "#0d0887"
            ],
            [
             0.1111111111111111,
             "#46039f"
            ],
            [
             0.2222222222222222,
             "#7201a8"
            ],
            [
             0.3333333333333333,
             "#9c179e"
            ],
            [
             0.4444444444444444,
             "#bd3786"
            ],
            [
             0.5555555555555556,
             "#d8576b"
            ],
            [
             0.6666666666666666,
             "#ed7953"
            ],
            [
             0.7777777777777778,
             "#fb9f3a"
            ],
            [
             0.8888888888888888,
             "#fdca26"
            ],
            [
             1,
             "#f0f921"
            ]
           ],
           "sequentialminus": [
            [
             0,
             "#0d0887"
            ],
            [
             0.1111111111111111,
             "#46039f"
            ],
            [
             0.2222222222222222,
             "#7201a8"
            ],
            [
             0.3333333333333333,
             "#9c179e"
            ],
            [
             0.4444444444444444,
             "#bd3786"
            ],
            [
             0.5555555555555556,
             "#d8576b"
            ],
            [
             0.6666666666666666,
             "#ed7953"
            ],
            [
             0.7777777777777778,
             "#fb9f3a"
            ],
            [
             0.8888888888888888,
             "#fdca26"
            ],
            [
             1,
             "#f0f921"
            ]
           ]
          },
          "colorway": [
           "#636efa",
           "#EF553B",
           "#00cc96",
           "#ab63fa",
           "#FFA15A",
           "#19d3f3",
           "#FF6692",
           "#B6E880",
           "#FF97FF",
           "#FECB52"
          ],
          "font": {
           "color": "#2a3f5f"
          },
          "geo": {
           "bgcolor": "white",
           "lakecolor": "white",
           "landcolor": "white",
           "showlakes": true,
           "showland": true,
           "subunitcolor": "#C8D4E3"
          },
          "hoverlabel": {
           "align": "left"
          },
          "hovermode": "closest",
          "mapbox": {
           "style": "light"
          },
          "paper_bgcolor": "white",
          "plot_bgcolor": "white",
          "polar": {
           "angularaxis": {
            "gridcolor": "#EBF0F8",
            "linecolor": "#EBF0F8",
            "ticks": ""
           },
           "bgcolor": "white",
           "radialaxis": {
            "gridcolor": "#EBF0F8",
            "linecolor": "#EBF0F8",
            "ticks": ""
           }
          },
          "scene": {
           "xaxis": {
            "backgroundcolor": "white",
            "gridcolor": "#DFE8F3",
            "gridwidth": 2,
            "linecolor": "#EBF0F8",
            "showbackground": true,
            "ticks": "",
            "zerolinecolor": "#EBF0F8"
           },
           "yaxis": {
            "backgroundcolor": "white",
            "gridcolor": "#DFE8F3",
            "gridwidth": 2,
            "linecolor": "#EBF0F8",
            "showbackground": true,
            "ticks": "",
            "zerolinecolor": "#EBF0F8"
           },
           "zaxis": {
            "backgroundcolor": "white",
            "gridcolor": "#DFE8F3",
            "gridwidth": 2,
            "linecolor": "#EBF0F8",
            "showbackground": true,
            "ticks": "",
            "zerolinecolor": "#EBF0F8"
           }
          },
          "shapedefaults": {
           "line": {
            "color": "#2a3f5f"
           }
          },
          "ternary": {
           "aaxis": {
            "gridcolor": "#DFE8F3",
            "linecolor": "#A2B1C6",
            "ticks": ""
           },
           "baxis": {
            "gridcolor": "#DFE8F3",
            "linecolor": "#A2B1C6",
            "ticks": ""
           },
           "bgcolor": "white",
           "caxis": {
            "gridcolor": "#DFE8F3",
            "linecolor": "#A2B1C6",
            "ticks": ""
           }
          },
          "title": {
           "x": 0.05
          },
          "xaxis": {
           "automargin": true,
           "gridcolor": "#EBF0F8",
           "linecolor": "#EBF0F8",
           "ticks": "",
           "title": {
            "standoff": 15
           },
           "zerolinecolor": "#EBF0F8",
           "zerolinewidth": 2
          },
          "yaxis": {
           "automargin": true,
           "gridcolor": "#EBF0F8",
           "linecolor": "#EBF0F8",
           "ticks": "",
           "title": {
            "standoff": 15
           },
           "zerolinecolor": "#EBF0F8",
           "zerolinewidth": 2
          }
         }
        },
        "title": {
         "text": "Distribuição do Tempo de Espera para atendimento no FAV"
        },
        "xaxis": {
         "anchor": "y",
         "domain": [
          0,
          1
         ],
         "title": {
          "text": "Tempo de espera (dias)"
         }
        },
        "yaxis": {
         "anchor": "x",
         "domain": [
          0,
          1
         ],
         "title": {
          "text": "Quantidade de pessoas"
         }
        }
       }
      }
     },
     "metadata": {},
     "output_type": "display_data"
    }
   ],
   "source": [
    "# Grafico de tempo de espera\n",
    "max_tempo = df_espera['tempo_entre_fav_e_primeira_dialise'].max()\n",
    "bins = list(range(0, int(max_tempo) + 10, 10))\n",
    "\n",
    "# Plotar o histograma\n",
    "fig1_p1 = px.histogram(\n",
    "    df_espera,\n",
    "    x='tempo_entre_fav_e_primeira_dialise',\n",
    "    nbins=len(bins),\n",
    "    title='Distribuição do Tempo de Espera para atendimento no FAV',\n",
    "    labels={'tempo_entre_fav_e_primeira_dialise': 'Tempo de espera (dias)', 'count': 'Quantidade de pessoas'},\n",
    ")\n",
    "\n",
    "# Personalizar layout\n",
    "fig1_p1.update_layout(\n",
    "    xaxis_title='Tempo de espera (dias)',\n",
    "    yaxis_title='Quantidade de pessoas',\n",
    "    bargap=0.05,\n",
    "    template='plotly_white'\n",
    ")\n",
    "\n",
    "fig1_p1.show()\n"
   ]
  },
  {
   "cell_type": "code",
   "execution_count": 66,
   "id": "263aa07d",
   "metadata": {},
   "outputs": [
    {
     "data": {
      "application/vnd.plotly.v1+json": {
       "config": {
        "plotlyServerURL": "https://plot.ly"
       },
       "data": [
        {
         "hovertemplate": "Ano da Primeira Diálise=%{x}<br>Tempo médio de espera (dias)=%{marker.color}<extra></extra>",
         "legendgroup": "",
         "marker": {
          "color": {
           "bdata": "jyOjSL+PkUB6uXqv1N2LQMVXfMVXjpFApIB/RwGHh0D+KJpfg0iMQIy3ss8h7odA0efgjm7giUB1xnaf91uGQJrd6OsxpoJA7g8yVHZwdUAK0rWnIH1jQA==",
           "dtype": "f8"
          },
          "coloraxis": "coloraxis",
          "pattern": {
           "shape": ""
          }
         },
         "name": "",
         "orientation": "v",
         "showlegend": false,
         "text": {
          "bdata": "jyOjSL+PkUB6uXqv1N2LQMVXfMVXjpFApIB/RwGHh0D+KJpfg0iMQIy3ss8h7odA0efgjm7giUB1xnaf91uGQJrd6OsxpoJA7g8yVHZwdUAK0rWnIH1jQA==",
          "dtype": "f8"
         },
         "textposition": "outside",
         "texttemplate": "%{text:.0f} dias",
         "type": "bar",
         "x": {
          "bdata": "3gcAAN8HAADgBwAA4QcAAOIHAADjBwAA5AcAAOUHAADmBwAA5wcAAOgHAAA=",
          "dtype": "i4"
         },
         "xaxis": "x",
         "y": {
          "bdata": "jyOjSL+PkUB6uXqv1N2LQMVXfMVXjpFApIB/RwGHh0D+KJpfg0iMQIy3ss8h7odA0efgjm7giUB1xnaf91uGQJrd6OsxpoJA7g8yVHZwdUAK0rWnIH1jQA==",
          "dtype": "f8"
         },
         "yaxis": "y"
        }
       ],
       "layout": {
        "barmode": "relative",
        "coloraxis": {
         "colorbar": {
          "title": {
           "text": "Tempo médio de espera (dias)"
          }
         },
         "colorscale": [
          [
           0,
           "rgb(247,251,255)"
          ],
          [
           0.125,
           "rgb(222,235,247)"
          ],
          [
           0.25,
           "rgb(198,219,239)"
          ],
          [
           0.375,
           "rgb(158,202,225)"
          ],
          [
           0.5,
           "rgb(107,174,214)"
          ],
          [
           0.625,
           "rgb(66,146,198)"
          ],
          [
           0.75,
           "rgb(33,113,181)"
          ],
          [
           0.875,
           "rgb(8,81,156)"
          ],
          [
           1,
           "rgb(8,48,107)"
          ]
         ]
        },
        "height": 500,
        "legend": {
         "tracegroupgap": 0
        },
        "plot_bgcolor": "white",
        "template": {
         "data": {
          "bar": [
           {
            "error_x": {
             "color": "#2a3f5f"
            },
            "error_y": {
             "color": "#2a3f5f"
            },
            "marker": {
             "line": {
              "color": "#E5ECF6",
              "width": 0.5
             },
             "pattern": {
              "fillmode": "overlay",
              "size": 10,
              "solidity": 0.2
             }
            },
            "type": "bar"
           }
          ],
          "barpolar": [
           {
            "marker": {
             "line": {
              "color": "#E5ECF6",
              "width": 0.5
             },
             "pattern": {
              "fillmode": "overlay",
              "size": 10,
              "solidity": 0.2
             }
            },
            "type": "barpolar"
           }
          ],
          "carpet": [
           {
            "aaxis": {
             "endlinecolor": "#2a3f5f",
             "gridcolor": "white",
             "linecolor": "white",
             "minorgridcolor": "white",
             "startlinecolor": "#2a3f5f"
            },
            "baxis": {
             "endlinecolor": "#2a3f5f",
             "gridcolor": "white",
             "linecolor": "white",
             "minorgridcolor": "white",
             "startlinecolor": "#2a3f5f"
            },
            "type": "carpet"
           }
          ],
          "choropleth": [
           {
            "colorbar": {
             "outlinewidth": 0,
             "ticks": ""
            },
            "type": "choropleth"
           }
          ],
          "contour": [
           {
            "colorbar": {
             "outlinewidth": 0,
             "ticks": ""
            },
            "colorscale": [
             [
              0,
              "#0d0887"
             ],
             [
              0.1111111111111111,
              "#46039f"
             ],
             [
              0.2222222222222222,
              "#7201a8"
             ],
             [
              0.3333333333333333,
              "#9c179e"
             ],
             [
              0.4444444444444444,
              "#bd3786"
             ],
             [
              0.5555555555555556,
              "#d8576b"
             ],
             [
              0.6666666666666666,
              "#ed7953"
             ],
             [
              0.7777777777777778,
              "#fb9f3a"
             ],
             [
              0.8888888888888888,
              "#fdca26"
             ],
             [
              1,
              "#f0f921"
             ]
            ],
            "type": "contour"
           }
          ],
          "contourcarpet": [
           {
            "colorbar": {
             "outlinewidth": 0,
             "ticks": ""
            },
            "type": "contourcarpet"
           }
          ],
          "heatmap": [
           {
            "colorbar": {
             "outlinewidth": 0,
             "ticks": ""
            },
            "colorscale": [
             [
              0,
              "#0d0887"
             ],
             [
              0.1111111111111111,
              "#46039f"
             ],
             [
              0.2222222222222222,
              "#7201a8"
             ],
             [
              0.3333333333333333,
              "#9c179e"
             ],
             [
              0.4444444444444444,
              "#bd3786"
             ],
             [
              0.5555555555555556,
              "#d8576b"
             ],
             [
              0.6666666666666666,
              "#ed7953"
             ],
             [
              0.7777777777777778,
              "#fb9f3a"
             ],
             [
              0.8888888888888888,
              "#fdca26"
             ],
             [
              1,
              "#f0f921"
             ]
            ],
            "type": "heatmap"
           }
          ],
          "histogram": [
           {
            "marker": {
             "pattern": {
              "fillmode": "overlay",
              "size": 10,
              "solidity": 0.2
             }
            },
            "type": "histogram"
           }
          ],
          "histogram2d": [
           {
            "colorbar": {
             "outlinewidth": 0,
             "ticks": ""
            },
            "colorscale": [
             [
              0,
              "#0d0887"
             ],
             [
              0.1111111111111111,
              "#46039f"
             ],
             [
              0.2222222222222222,
              "#7201a8"
             ],
             [
              0.3333333333333333,
              "#9c179e"
             ],
             [
              0.4444444444444444,
              "#bd3786"
             ],
             [
              0.5555555555555556,
              "#d8576b"
             ],
             [
              0.6666666666666666,
              "#ed7953"
             ],
             [
              0.7777777777777778,
              "#fb9f3a"
             ],
             [
              0.8888888888888888,
              "#fdca26"
             ],
             [
              1,
              "#f0f921"
             ]
            ],
            "type": "histogram2d"
           }
          ],
          "histogram2dcontour": [
           {
            "colorbar": {
             "outlinewidth": 0,
             "ticks": ""
            },
            "colorscale": [
             [
              0,
              "#0d0887"
             ],
             [
              0.1111111111111111,
              "#46039f"
             ],
             [
              0.2222222222222222,
              "#7201a8"
             ],
             [
              0.3333333333333333,
              "#9c179e"
             ],
             [
              0.4444444444444444,
              "#bd3786"
             ],
             [
              0.5555555555555556,
              "#d8576b"
             ],
             [
              0.6666666666666666,
              "#ed7953"
             ],
             [
              0.7777777777777778,
              "#fb9f3a"
             ],
             [
              0.8888888888888888,
              "#fdca26"
             ],
             [
              1,
              "#f0f921"
             ]
            ],
            "type": "histogram2dcontour"
           }
          ],
          "mesh3d": [
           {
            "colorbar": {
             "outlinewidth": 0,
             "ticks": ""
            },
            "type": "mesh3d"
           }
          ],
          "parcoords": [
           {
            "line": {
             "colorbar": {
              "outlinewidth": 0,
              "ticks": ""
             }
            },
            "type": "parcoords"
           }
          ],
          "pie": [
           {
            "automargin": true,
            "type": "pie"
           }
          ],
          "scatter": [
           {
            "fillpattern": {
             "fillmode": "overlay",
             "size": 10,
             "solidity": 0.2
            },
            "type": "scatter"
           }
          ],
          "scatter3d": [
           {
            "line": {
             "colorbar": {
              "outlinewidth": 0,
              "ticks": ""
             }
            },
            "marker": {
             "colorbar": {
              "outlinewidth": 0,
              "ticks": ""
             }
            },
            "type": "scatter3d"
           }
          ],
          "scattercarpet": [
           {
            "marker": {
             "colorbar": {
              "outlinewidth": 0,
              "ticks": ""
             }
            },
            "type": "scattercarpet"
           }
          ],
          "scattergeo": [
           {
            "marker": {
             "colorbar": {
              "outlinewidth": 0,
              "ticks": ""
             }
            },
            "type": "scattergeo"
           }
          ],
          "scattergl": [
           {
            "marker": {
             "colorbar": {
              "outlinewidth": 0,
              "ticks": ""
             }
            },
            "type": "scattergl"
           }
          ],
          "scattermap": [
           {
            "marker": {
             "colorbar": {
              "outlinewidth": 0,
              "ticks": ""
             }
            },
            "type": "scattermap"
           }
          ],
          "scattermapbox": [
           {
            "marker": {
             "colorbar": {
              "outlinewidth": 0,
              "ticks": ""
             }
            },
            "type": "scattermapbox"
           }
          ],
          "scatterpolar": [
           {
            "marker": {
             "colorbar": {
              "outlinewidth": 0,
              "ticks": ""
             }
            },
            "type": "scatterpolar"
           }
          ],
          "scatterpolargl": [
           {
            "marker": {
             "colorbar": {
              "outlinewidth": 0,
              "ticks": ""
             }
            },
            "type": "scatterpolargl"
           }
          ],
          "scatterternary": [
           {
            "marker": {
             "colorbar": {
              "outlinewidth": 0,
              "ticks": ""
             }
            },
            "type": "scatterternary"
           }
          ],
          "surface": [
           {
            "colorbar": {
             "outlinewidth": 0,
             "ticks": ""
            },
            "colorscale": [
             [
              0,
              "#0d0887"
             ],
             [
              0.1111111111111111,
              "#46039f"
             ],
             [
              0.2222222222222222,
              "#7201a8"
             ],
             [
              0.3333333333333333,
              "#9c179e"
             ],
             [
              0.4444444444444444,
              "#bd3786"
             ],
             [
              0.5555555555555556,
              "#d8576b"
             ],
             [
              0.6666666666666666,
              "#ed7953"
             ],
             [
              0.7777777777777778,
              "#fb9f3a"
             ],
             [
              0.8888888888888888,
              "#fdca26"
             ],
             [
              1,
              "#f0f921"
             ]
            ],
            "type": "surface"
           }
          ],
          "table": [
           {
            "cells": {
             "fill": {
              "color": "#EBF0F8"
             },
             "line": {
              "color": "white"
             }
            },
            "header": {
             "fill": {
              "color": "#C8D4E3"
             },
             "line": {
              "color": "white"
             }
            },
            "type": "table"
           }
          ]
         },
         "layout": {
          "annotationdefaults": {
           "arrowcolor": "#2a3f5f",
           "arrowhead": 0,
           "arrowwidth": 1
          },
          "autotypenumbers": "strict",
          "coloraxis": {
           "colorbar": {
            "outlinewidth": 0,
            "ticks": ""
           }
          },
          "colorscale": {
           "diverging": [
            [
             0,
             "#8e0152"
            ],
            [
             0.1,
             "#c51b7d"
            ],
            [
             0.2,
             "#de77ae"
            ],
            [
             0.3,
             "#f1b6da"
            ],
            [
             0.4,
             "#fde0ef"
            ],
            [
             0.5,
             "#f7f7f7"
            ],
            [
             0.6,
             "#e6f5d0"
            ],
            [
             0.7,
             "#b8e186"
            ],
            [
             0.8,
             "#7fbc41"
            ],
            [
             0.9,
             "#4d9221"
            ],
            [
             1,
             "#276419"
            ]
           ],
           "sequential": [
            [
             0,
             "#0d0887"
            ],
            [
             0.1111111111111111,
             "#46039f"
            ],
            [
             0.2222222222222222,
             "#7201a8"
            ],
            [
             0.3333333333333333,
             "#9c179e"
            ],
            [
             0.4444444444444444,
             "#bd3786"
            ],
            [
             0.5555555555555556,
             "#d8576b"
            ],
            [
             0.6666666666666666,
             "#ed7953"
            ],
            [
             0.7777777777777778,
             "#fb9f3a"
            ],
            [
             0.8888888888888888,
             "#fdca26"
            ],
            [
             1,
             "#f0f921"
            ]
           ],
           "sequentialminus": [
            [
             0,
             "#0d0887"
            ],
            [
             0.1111111111111111,
             "#46039f"
            ],
            [
             0.2222222222222222,
             "#7201a8"
            ],
            [
             0.3333333333333333,
             "#9c179e"
            ],
            [
             0.4444444444444444,
             "#bd3786"
            ],
            [
             0.5555555555555556,
             "#d8576b"
            ],
            [
             0.6666666666666666,
             "#ed7953"
            ],
            [
             0.7777777777777778,
             "#fb9f3a"
            ],
            [
             0.8888888888888888,
             "#fdca26"
            ],
            [
             1,
             "#f0f921"
            ]
           ]
          },
          "colorway": [
           "#636efa",
           "#EF553B",
           "#00cc96",
           "#ab63fa",
           "#FFA15A",
           "#19d3f3",
           "#FF6692",
           "#B6E880",
           "#FF97FF",
           "#FECB52"
          ],
          "font": {
           "color": "#2a3f5f"
          },
          "geo": {
           "bgcolor": "white",
           "lakecolor": "white",
           "landcolor": "#E5ECF6",
           "showlakes": true,
           "showland": true,
           "subunitcolor": "white"
          },
          "hoverlabel": {
           "align": "left"
          },
          "hovermode": "closest",
          "mapbox": {
           "style": "light"
          },
          "paper_bgcolor": "white",
          "plot_bgcolor": "#E5ECF6",
          "polar": {
           "angularaxis": {
            "gridcolor": "white",
            "linecolor": "white",
            "ticks": ""
           },
           "bgcolor": "#E5ECF6",
           "radialaxis": {
            "gridcolor": "white",
            "linecolor": "white",
            "ticks": ""
           }
          },
          "scene": {
           "xaxis": {
            "backgroundcolor": "#E5ECF6",
            "gridcolor": "white",
            "gridwidth": 2,
            "linecolor": "white",
            "showbackground": true,
            "ticks": "",
            "zerolinecolor": "white"
           },
           "yaxis": {
            "backgroundcolor": "#E5ECF6",
            "gridcolor": "white",
            "gridwidth": 2,
            "linecolor": "white",
            "showbackground": true,
            "ticks": "",
            "zerolinecolor": "white"
           },
           "zaxis": {
            "backgroundcolor": "#E5ECF6",
            "gridcolor": "white",
            "gridwidth": 2,
            "linecolor": "white",
            "showbackground": true,
            "ticks": "",
            "zerolinecolor": "white"
           }
          },
          "shapedefaults": {
           "line": {
            "color": "#2a3f5f"
           }
          },
          "ternary": {
           "aaxis": {
            "gridcolor": "white",
            "linecolor": "white",
            "ticks": ""
           },
           "baxis": {
            "gridcolor": "white",
            "linecolor": "white",
            "ticks": ""
           },
           "bgcolor": "#E5ECF6",
           "caxis": {
            "gridcolor": "white",
            "linecolor": "white",
            "ticks": ""
           }
          },
          "title": {
           "x": 0.05
          },
          "xaxis": {
           "automargin": true,
           "gridcolor": "white",
           "linecolor": "white",
           "ticks": "",
           "title": {
            "standoff": 15
           },
           "zerolinecolor": "white",
           "zerolinewidth": 2
          },
          "yaxis": {
           "automargin": true,
           "gridcolor": "white",
           "linecolor": "white",
           "ticks": "",
           "title": {
            "standoff": 15
           },
           "zerolinecolor": "white",
           "zerolinewidth": 2
          }
         }
        },
        "title": {
         "text": "Tempo Médio de Espera por Ano da Primeira Diálise até a FAV"
        },
        "uniformtext": {
         "minsize": 8,
         "mode": "hide"
        },
        "width": 900,
        "xaxis": {
         "anchor": "y",
         "domain": [
          0,
          1
         ],
         "tickmode": "linear",
         "title": {
          "text": "Ano da primeira diálise"
         }
        },
        "yaxis": {
         "anchor": "x",
         "domain": [
          0,
          1
         ],
         "title": {
          "text": "Tempo médio de espera (dias)"
         }
        }
       }
      }
     },
     "metadata": {},
     "output_type": "display_data"
    }
   ],
   "source": [
    "df_agrupado = df_espera.groupby('ano_primeira_dialise')['tempo_entre_fav_e_primeira_dialise'].mean().reset_index()\n",
    "\n",
    "fig2_p1 = px.bar(\n",
    "    df_agrupado,\n",
    "    x='ano_primeira_dialise',\n",
    "    y='tempo_entre_fav_e_primeira_dialise',\n",
    "    text='tempo_entre_fav_e_primeira_dialise',\n",
    "    labels={\n",
    "        'ano_primeira_dialise': 'Ano da Primeira Diálise',\n",
    "        'tempo_entre_fav_e_primeira_dialise': 'Tempo médio de espera (dias)'\n",
    "    },\n",
    "    title='Tempo Médio de Espera por Ano da Primeira Diálise até a FAV',\n",
    "    color='tempo_entre_fav_e_primeira_dialise',\n",
    "    color_continuous_scale='Blues'\n",
    ")\n",
    "\n",
    "# Personalizar layout\n",
    "fig2_p1.update_traces(texttemplate='%{text:.0f} dias', textposition='outside')\n",
    "\n",
    "fig2_p1.update_layout(\n",
    "    xaxis=dict(tickmode='linear'),\n",
    "    yaxis_title='Tempo médio de espera (dias)',\n",
    "    xaxis_title='Ano da primeira diálise',\n",
    "    uniformtext_minsize=8,\n",
    "    uniformtext_mode='hide',\n",
    "    plot_bgcolor='white',\n",
    "    width=900,\n",
    "    height=500\n",
    ")\n",
    "\n",
    "fig2_p1.show()\n"
   ]
  },
  {
   "cell_type": "markdown",
   "id": "9d0940cc",
   "metadata": {},
   "source": [
    "# Pergunta 2"
   ]
  },
  {
   "cell_type": "code",
   "execution_count": 73,
   "id": "bd4843c6",
   "metadata": {},
   "outputs": [
    {
     "data": {
      "application/vnd.plotly.v1+json": {
       "config": {
        "plotlyServerURL": "https://plot.ly"
       },
       "data": [
        {
         "line": {
          "color": "blue",
          "width": 2
         },
         "mode": "lines",
         "name": "Tempo médio de espera",
         "type": "scatter",
         "x": [
          "2014-01-01T00:00:00.000000000",
          "2014-02-01T00:00:00.000000000",
          "2014-03-01T00:00:00.000000000",
          "2014-04-01T00:00:00.000000000",
          "2014-05-01T00:00:00.000000000",
          "2014-06-01T00:00:00.000000000",
          "2014-07-01T00:00:00.000000000",
          "2014-08-01T00:00:00.000000000",
          "2014-09-01T00:00:00.000000000",
          "2014-10-01T00:00:00.000000000",
          "2014-11-01T00:00:00.000000000",
          "2014-12-01T00:00:00.000000000",
          "2015-01-01T00:00:00.000000000",
          "2015-02-01T00:00:00.000000000",
          "2015-03-01T00:00:00.000000000",
          "2015-04-01T00:00:00.000000000",
          "2015-05-01T00:00:00.000000000",
          "2015-06-01T00:00:00.000000000",
          "2015-07-01T00:00:00.000000000",
          "2015-08-01T00:00:00.000000000",
          "2015-09-01T00:00:00.000000000",
          "2015-10-01T00:00:00.000000000",
          "2015-11-01T00:00:00.000000000",
          "2015-12-01T00:00:00.000000000",
          "2016-01-01T00:00:00.000000000",
          "2016-02-01T00:00:00.000000000",
          "2016-03-01T00:00:00.000000000",
          "2016-04-01T00:00:00.000000000",
          "2016-05-01T00:00:00.000000000",
          "2016-06-01T00:00:00.000000000",
          "2016-07-01T00:00:00.000000000",
          "2016-08-01T00:00:00.000000000",
          "2016-09-01T00:00:00.000000000",
          "2016-10-01T00:00:00.000000000",
          "2016-11-01T00:00:00.000000000",
          "2016-12-01T00:00:00.000000000",
          "2017-01-01T00:00:00.000000000",
          "2017-02-01T00:00:00.000000000",
          "2017-03-01T00:00:00.000000000",
          "2017-04-01T00:00:00.000000000",
          "2017-05-01T00:00:00.000000000",
          "2017-06-01T00:00:00.000000000",
          "2017-07-01T00:00:00.000000000",
          "2017-08-01T00:00:00.000000000",
          "2017-09-01T00:00:00.000000000",
          "2017-10-01T00:00:00.000000000",
          "2017-11-01T00:00:00.000000000",
          "2017-12-01T00:00:00.000000000",
          "2018-01-01T00:00:00.000000000",
          "2018-02-01T00:00:00.000000000",
          "2018-03-01T00:00:00.000000000",
          "2018-04-01T00:00:00.000000000",
          "2018-05-01T00:00:00.000000000",
          "2018-06-01T00:00:00.000000000",
          "2018-07-01T00:00:00.000000000",
          "2018-08-01T00:00:00.000000000",
          "2018-09-01T00:00:00.000000000",
          "2018-10-01T00:00:00.000000000",
          "2018-11-01T00:00:00.000000000",
          "2018-12-01T00:00:00.000000000",
          "2019-01-01T00:00:00.000000000",
          "2019-02-01T00:00:00.000000000",
          "2019-03-01T00:00:00.000000000",
          "2019-04-01T00:00:00.000000000",
          "2019-05-01T00:00:00.000000000",
          "2019-06-01T00:00:00.000000000",
          "2019-07-01T00:00:00.000000000",
          "2019-08-01T00:00:00.000000000",
          "2019-09-01T00:00:00.000000000",
          "2019-10-01T00:00:00.000000000",
          "2019-11-01T00:00:00.000000000",
          "2019-12-01T00:00:00.000000000",
          "2020-01-01T00:00:00.000000000",
          "2020-02-01T00:00:00.000000000",
          "2020-03-01T00:00:00.000000000",
          "2020-04-01T00:00:00.000000000",
          "2020-05-01T00:00:00.000000000",
          "2020-06-01T00:00:00.000000000",
          "2020-07-01T00:00:00.000000000",
          "2020-08-01T00:00:00.000000000",
          "2020-09-01T00:00:00.000000000",
          "2020-10-01T00:00:00.000000000",
          "2020-11-01T00:00:00.000000000",
          "2020-12-01T00:00:00.000000000",
          "2021-01-01T00:00:00.000000000",
          "2021-02-01T00:00:00.000000000",
          "2021-03-01T00:00:00.000000000",
          "2021-04-01T00:00:00.000000000",
          "2021-05-01T00:00:00.000000000",
          "2021-06-01T00:00:00.000000000",
          "2021-07-01T00:00:00.000000000",
          "2021-08-01T00:00:00.000000000",
          "2021-09-01T00:00:00.000000000",
          "2021-10-01T00:00:00.000000000",
          "2021-11-01T00:00:00.000000000",
          "2021-12-01T00:00:00.000000000",
          "2022-01-01T00:00:00.000000000",
          "2022-02-01T00:00:00.000000000",
          "2022-03-01T00:00:00.000000000",
          "2022-04-01T00:00:00.000000000",
          "2022-05-01T00:00:00.000000000",
          "2022-06-01T00:00:00.000000000",
          "2022-07-01T00:00:00.000000000",
          "2022-08-01T00:00:00.000000000",
          "2022-09-01T00:00:00.000000000",
          "2022-10-01T00:00:00.000000000",
          "2022-11-01T00:00:00.000000000",
          "2022-12-01T00:00:00.000000000",
          "2023-01-01T00:00:00.000000000",
          "2023-02-01T00:00:00.000000000",
          "2023-03-01T00:00:00.000000000",
          "2023-04-01T00:00:00.000000000",
          "2023-05-01T00:00:00.000000000",
          "2023-06-01T00:00:00.000000000",
          "2023-07-01T00:00:00.000000000",
          "2023-08-01T00:00:00.000000000",
          "2023-09-01T00:00:00.000000000",
          "2023-10-01T00:00:00.000000000",
          "2023-11-01T00:00:00.000000000",
          "2023-12-01T00:00:00.000000000",
          "2024-01-01T00:00:00.000000000",
          "2024-02-01T00:00:00.000000000",
          "2024-03-01T00:00:00.000000000",
          "2024-04-01T00:00:00.000000000",
          "2024-05-01T00:00:00.000000000",
          "2024-06-01T00:00:00.000000000",
          "2024-07-01T00:00:00.000000000",
          "2024-08-01T00:00:00.000000000",
          "2024-09-01T00:00:00.000000000"
         ],
         "y": {
          "bdata": "S0tLS0vxjkCY0F5Ce1GRQI31obE+JJ1AG8prKK8xhkBddNFFF12HQDqyZyAqHXpAGAwGg8EknkBWFme0e+CAQGZmZmZmboFAOY7jOI4NfUAjq8uwV96WQDX2MAvIT5ZAxVd8xVekeECamZmZmdiCQDVIgzRIm5RARe1K1K5kdUATtStRu2J3QNC0Nf5ubnpA5TWU11Dud0C5pxGWe2J5QGkfJAPqsZBARERERETkjEBAYVSnyYGOQPrm6JujcZ5AWHiFV3hld0AN5TWUV8eWQNbV1dXV0ZNAXUFMriD0kUBVVVVVVZV9QJ1zzjnnkHZABpfK9q67jEBHfWejvtGaQB6YawfmLpFAvxoT6YF6eEB7pT9nO1qTQJjQXkL7e5pAIQ3SIA3OiUB7FK5H4Zp8QJsdtQj5O4hApXiBTIpHd0BsKK+hvNZ5QJnOYjqL8YhAvXr16tULd0BmZmZm5lWQQGr9SoFaYZRACrWAMYmHkUBzc3Nzc6N5QM6YM+aMWXtARmAERmBUdUAN5TWU1wR4QL+jV8b2W3VAvcjaKt6VkkC9sFVQm62UQH6KS4ZgyYlAmAtUodF3kkCwjjbvU5STQBpO6r48RndAriAmVxDbg0DaavAcgbJyQFEURVEUTZFAh+1meRJ5dEBECVhECTiTQC+66KILS4pAZZNNNtmshUBYeIVXeDV0QOhsx4cgZYhASojiL3KmdUBB0VaD58yMQCbSA5WzF45A59XEs6J5hkBUL+ZTL2ZvQPQFfUFfyItAJ3VfHlt5c0B9Z6O+syF0QNOKeydZFpFA+s3Wod/scUDhgw8++N+PQCv7HFITvHBAG2YHRxCHkUDbsz3bs/WIQGIYhmEYyYVARmI1XPxAiEC3bdu2bZOOQPKUIE8JkIpAjoCUdiPwjEC4vzJR6B6NQAzDMAzDOHJAt/CrMZFufUCx5BdLfp+MQM3MzMxML4ZA4zp41dPdikD0Qi/0Qm9tQKOLLrroEoVAUU3HXCKceECH0X5TnoOHQKuqqqrKSYJAj813w4+OiEAKCgoKCi6BQCZRTGm7HoZAbjnT4ShShUD8wA/8wCeEQK3RGq3R2mpAyYMBZ1wfgkD3wEbvivx8QBhpxwqEWYJApze96U2RgkDSV/45EtKAQAOTTs2D/HhAuWQI1tGmekAXg4pwS516QPmsG0yRL3FAdZMYBFameEC/Ofrm6IN5QDpspMNGQnZAxOQKYnK1dUAor6G8hh91QJTGRybQA3JACxR6iqjPcUDPyfRVwhBxQEtLS0tLW1xA0tCWlzQ0b0D9FWY1inhnQPDF1Q86AmpAWvkJcVbeZkCSJEmSJMlgQK0Oo0zFE2FALS0tLS0tXEC2bNmyZctTQLETO7ETm0lA",
          "dtype": "f8"
         }
        }
       ],
       "layout": {
        "annotations": [
         {
          "showarrow": false,
          "text": "COVID-19",
          "x": "2020-03-01",
          "xanchor": "left",
          "xref": "x",
          "y": 1,
          "yanchor": "top",
          "yref": "y domain"
         }
        ],
        "height": 500,
        "shapes": [
         {
          "fillcolor": "red",
          "layer": "below",
          "line": {
           "width": 0
          },
          "opacity": 0.2,
          "type": "rect",
          "x0": "2020-03-01",
          "x1": "2021-12-31",
          "xref": "x",
          "y0": 0,
          "y1": 1,
          "yref": "y domain"
         }
        ],
        "template": {
         "data": {
          "bar": [
           {
            "error_x": {
             "color": "#2a3f5f"
            },
            "error_y": {
             "color": "#2a3f5f"
            },
            "marker": {
             "line": {
              "color": "white",
              "width": 0.5
             },
             "pattern": {
              "fillmode": "overlay",
              "size": 10,
              "solidity": 0.2
             }
            },
            "type": "bar"
           }
          ],
          "barpolar": [
           {
            "marker": {
             "line": {
              "color": "white",
              "width": 0.5
             },
             "pattern": {
              "fillmode": "overlay",
              "size": 10,
              "solidity": 0.2
             }
            },
            "type": "barpolar"
           }
          ],
          "carpet": [
           {
            "aaxis": {
             "endlinecolor": "#2a3f5f",
             "gridcolor": "#C8D4E3",
             "linecolor": "#C8D4E3",
             "minorgridcolor": "#C8D4E3",
             "startlinecolor": "#2a3f5f"
            },
            "baxis": {
             "endlinecolor": "#2a3f5f",
             "gridcolor": "#C8D4E3",
             "linecolor": "#C8D4E3",
             "minorgridcolor": "#C8D4E3",
             "startlinecolor": "#2a3f5f"
            },
            "type": "carpet"
           }
          ],
          "choropleth": [
           {
            "colorbar": {
             "outlinewidth": 0,
             "ticks": ""
            },
            "type": "choropleth"
           }
          ],
          "contour": [
           {
            "colorbar": {
             "outlinewidth": 0,
             "ticks": ""
            },
            "colorscale": [
             [
              0,
              "#0d0887"
             ],
             [
              0.1111111111111111,
              "#46039f"
             ],
             [
              0.2222222222222222,
              "#7201a8"
             ],
             [
              0.3333333333333333,
              "#9c179e"
             ],
             [
              0.4444444444444444,
              "#bd3786"
             ],
             [
              0.5555555555555556,
              "#d8576b"
             ],
             [
              0.6666666666666666,
              "#ed7953"
             ],
             [
              0.7777777777777778,
              "#fb9f3a"
             ],
             [
              0.8888888888888888,
              "#fdca26"
             ],
             [
              1,
              "#f0f921"
             ]
            ],
            "type": "contour"
           }
          ],
          "contourcarpet": [
           {
            "colorbar": {
             "outlinewidth": 0,
             "ticks": ""
            },
            "type": "contourcarpet"
           }
          ],
          "heatmap": [
           {
            "colorbar": {
             "outlinewidth": 0,
             "ticks": ""
            },
            "colorscale": [
             [
              0,
              "#0d0887"
             ],
             [
              0.1111111111111111,
              "#46039f"
             ],
             [
              0.2222222222222222,
              "#7201a8"
             ],
             [
              0.3333333333333333,
              "#9c179e"
             ],
             [
              0.4444444444444444,
              "#bd3786"
             ],
             [
              0.5555555555555556,
              "#d8576b"
             ],
             [
              0.6666666666666666,
              "#ed7953"
             ],
             [
              0.7777777777777778,
              "#fb9f3a"
             ],
             [
              0.8888888888888888,
              "#fdca26"
             ],
             [
              1,
              "#f0f921"
             ]
            ],
            "type": "heatmap"
           }
          ],
          "histogram": [
           {
            "marker": {
             "pattern": {
              "fillmode": "overlay",
              "size": 10,
              "solidity": 0.2
             }
            },
            "type": "histogram"
           }
          ],
          "histogram2d": [
           {
            "colorbar": {
             "outlinewidth": 0,
             "ticks": ""
            },
            "colorscale": [
             [
              0,
              "#0d0887"
             ],
             [
              0.1111111111111111,
              "#46039f"
             ],
             [
              0.2222222222222222,
              "#7201a8"
             ],
             [
              0.3333333333333333,
              "#9c179e"
             ],
             [
              0.4444444444444444,
              "#bd3786"
             ],
             [
              0.5555555555555556,
              "#d8576b"
             ],
             [
              0.6666666666666666,
              "#ed7953"
             ],
             [
              0.7777777777777778,
              "#fb9f3a"
             ],
             [
              0.8888888888888888,
              "#fdca26"
             ],
             [
              1,
              "#f0f921"
             ]
            ],
            "type": "histogram2d"
           }
          ],
          "histogram2dcontour": [
           {
            "colorbar": {
             "outlinewidth": 0,
             "ticks": ""
            },
            "colorscale": [
             [
              0,
              "#0d0887"
             ],
             [
              0.1111111111111111,
              "#46039f"
             ],
             [
              0.2222222222222222,
              "#7201a8"
             ],
             [
              0.3333333333333333,
              "#9c179e"
             ],
             [
              0.4444444444444444,
              "#bd3786"
             ],
             [
              0.5555555555555556,
              "#d8576b"
             ],
             [
              0.6666666666666666,
              "#ed7953"
             ],
             [
              0.7777777777777778,
              "#fb9f3a"
             ],
             [
              0.8888888888888888,
              "#fdca26"
             ],
             [
              1,
              "#f0f921"
             ]
            ],
            "type": "histogram2dcontour"
           }
          ],
          "mesh3d": [
           {
            "colorbar": {
             "outlinewidth": 0,
             "ticks": ""
            },
            "type": "mesh3d"
           }
          ],
          "parcoords": [
           {
            "line": {
             "colorbar": {
              "outlinewidth": 0,
              "ticks": ""
             }
            },
            "type": "parcoords"
           }
          ],
          "pie": [
           {
            "automargin": true,
            "type": "pie"
           }
          ],
          "scatter": [
           {
            "fillpattern": {
             "fillmode": "overlay",
             "size": 10,
             "solidity": 0.2
            },
            "type": "scatter"
           }
          ],
          "scatter3d": [
           {
            "line": {
             "colorbar": {
              "outlinewidth": 0,
              "ticks": ""
             }
            },
            "marker": {
             "colorbar": {
              "outlinewidth": 0,
              "ticks": ""
             }
            },
            "type": "scatter3d"
           }
          ],
          "scattercarpet": [
           {
            "marker": {
             "colorbar": {
              "outlinewidth": 0,
              "ticks": ""
             }
            },
            "type": "scattercarpet"
           }
          ],
          "scattergeo": [
           {
            "marker": {
             "colorbar": {
              "outlinewidth": 0,
              "ticks": ""
             }
            },
            "type": "scattergeo"
           }
          ],
          "scattergl": [
           {
            "marker": {
             "colorbar": {
              "outlinewidth": 0,
              "ticks": ""
             }
            },
            "type": "scattergl"
           }
          ],
          "scattermap": [
           {
            "marker": {
             "colorbar": {
              "outlinewidth": 0,
              "ticks": ""
             }
            },
            "type": "scattermap"
           }
          ],
          "scattermapbox": [
           {
            "marker": {
             "colorbar": {
              "outlinewidth": 0,
              "ticks": ""
             }
            },
            "type": "scattermapbox"
           }
          ],
          "scatterpolar": [
           {
            "marker": {
             "colorbar": {
              "outlinewidth": 0,
              "ticks": ""
             }
            },
            "type": "scatterpolar"
           }
          ],
          "scatterpolargl": [
           {
            "marker": {
             "colorbar": {
              "outlinewidth": 0,
              "ticks": ""
             }
            },
            "type": "scatterpolargl"
           }
          ],
          "scatterternary": [
           {
            "marker": {
             "colorbar": {
              "outlinewidth": 0,
              "ticks": ""
             }
            },
            "type": "scatterternary"
           }
          ],
          "surface": [
           {
            "colorbar": {
             "outlinewidth": 0,
             "ticks": ""
            },
            "colorscale": [
             [
              0,
              "#0d0887"
             ],
             [
              0.1111111111111111,
              "#46039f"
             ],
             [
              0.2222222222222222,
              "#7201a8"
             ],
             [
              0.3333333333333333,
              "#9c179e"
             ],
             [
              0.4444444444444444,
              "#bd3786"
             ],
             [
              0.5555555555555556,
              "#d8576b"
             ],
             [
              0.6666666666666666,
              "#ed7953"
             ],
             [
              0.7777777777777778,
              "#fb9f3a"
             ],
             [
              0.8888888888888888,
              "#fdca26"
             ],
             [
              1,
              "#f0f921"
             ]
            ],
            "type": "surface"
           }
          ],
          "table": [
           {
            "cells": {
             "fill": {
              "color": "#EBF0F8"
             },
             "line": {
              "color": "white"
             }
            },
            "header": {
             "fill": {
              "color": "#C8D4E3"
             },
             "line": {
              "color": "white"
             }
            },
            "type": "table"
           }
          ]
         },
         "layout": {
          "annotationdefaults": {
           "arrowcolor": "#2a3f5f",
           "arrowhead": 0,
           "arrowwidth": 1
          },
          "autotypenumbers": "strict",
          "coloraxis": {
           "colorbar": {
            "outlinewidth": 0,
            "ticks": ""
           }
          },
          "colorscale": {
           "diverging": [
            [
             0,
             "#8e0152"
            ],
            [
             0.1,
             "#c51b7d"
            ],
            [
             0.2,
             "#de77ae"
            ],
            [
             0.3,
             "#f1b6da"
            ],
            [
             0.4,
             "#fde0ef"
            ],
            [
             0.5,
             "#f7f7f7"
            ],
            [
             0.6,
             "#e6f5d0"
            ],
            [
             0.7,
             "#b8e186"
            ],
            [
             0.8,
             "#7fbc41"
            ],
            [
             0.9,
             "#4d9221"
            ],
            [
             1,
             "#276419"
            ]
           ],
           "sequential": [
            [
             0,
             "#0d0887"
            ],
            [
             0.1111111111111111,
             "#46039f"
            ],
            [
             0.2222222222222222,
             "#7201a8"
            ],
            [
             0.3333333333333333,
             "#9c179e"
            ],
            [
             0.4444444444444444,
             "#bd3786"
            ],
            [
             0.5555555555555556,
             "#d8576b"
            ],
            [
             0.6666666666666666,
             "#ed7953"
            ],
            [
             0.7777777777777778,
             "#fb9f3a"
            ],
            [
             0.8888888888888888,
             "#fdca26"
            ],
            [
             1,
             "#f0f921"
            ]
           ],
           "sequentialminus": [
            [
             0,
             "#0d0887"
            ],
            [
             0.1111111111111111,
             "#46039f"
            ],
            [
             0.2222222222222222,
             "#7201a8"
            ],
            [
             0.3333333333333333,
             "#9c179e"
            ],
            [
             0.4444444444444444,
             "#bd3786"
            ],
            [
             0.5555555555555556,
             "#d8576b"
            ],
            [
             0.6666666666666666,
             "#ed7953"
            ],
            [
             0.7777777777777778,
             "#fb9f3a"
            ],
            [
             0.8888888888888888,
             "#fdca26"
            ],
            [
             1,
             "#f0f921"
            ]
           ]
          },
          "colorway": [
           "#636efa",
           "#EF553B",
           "#00cc96",
           "#ab63fa",
           "#FFA15A",
           "#19d3f3",
           "#FF6692",
           "#B6E880",
           "#FF97FF",
           "#FECB52"
          ],
          "font": {
           "color": "#2a3f5f"
          },
          "geo": {
           "bgcolor": "white",
           "lakecolor": "white",
           "landcolor": "white",
           "showlakes": true,
           "showland": true,
           "subunitcolor": "#C8D4E3"
          },
          "hoverlabel": {
           "align": "left"
          },
          "hovermode": "closest",
          "mapbox": {
           "style": "light"
          },
          "paper_bgcolor": "white",
          "plot_bgcolor": "white",
          "polar": {
           "angularaxis": {
            "gridcolor": "#EBF0F8",
            "linecolor": "#EBF0F8",
            "ticks": ""
           },
           "bgcolor": "white",
           "radialaxis": {
            "gridcolor": "#EBF0F8",
            "linecolor": "#EBF0F8",
            "ticks": ""
           }
          },
          "scene": {
           "xaxis": {
            "backgroundcolor": "white",
            "gridcolor": "#DFE8F3",
            "gridwidth": 2,
            "linecolor": "#EBF0F8",
            "showbackground": true,
            "ticks": "",
            "zerolinecolor": "#EBF0F8"
           },
           "yaxis": {
            "backgroundcolor": "white",
            "gridcolor": "#DFE8F3",
            "gridwidth": 2,
            "linecolor": "#EBF0F8",
            "showbackground": true,
            "ticks": "",
            "zerolinecolor": "#EBF0F8"
           },
           "zaxis": {
            "backgroundcolor": "white",
            "gridcolor": "#DFE8F3",
            "gridwidth": 2,
            "linecolor": "#EBF0F8",
            "showbackground": true,
            "ticks": "",
            "zerolinecolor": "#EBF0F8"
           }
          },
          "shapedefaults": {
           "line": {
            "color": "#2a3f5f"
           }
          },
          "ternary": {
           "aaxis": {
            "gridcolor": "#DFE8F3",
            "linecolor": "#A2B1C6",
            "ticks": ""
           },
           "baxis": {
            "gridcolor": "#DFE8F3",
            "linecolor": "#A2B1C6",
            "ticks": ""
           },
           "bgcolor": "white",
           "caxis": {
            "gridcolor": "#DFE8F3",
            "linecolor": "#A2B1C6",
            "ticks": ""
           }
          },
          "title": {
           "x": 0.05
          },
          "xaxis": {
           "automargin": true,
           "gridcolor": "#EBF0F8",
           "linecolor": "#EBF0F8",
           "ticks": "",
           "title": {
            "standoff": 15
           },
           "zerolinecolor": "#EBF0F8",
           "zerolinewidth": 2
          },
          "yaxis": {
           "automargin": true,
           "gridcolor": "#EBF0F8",
           "linecolor": "#EBF0F8",
           "ticks": "",
           "title": {
            "standoff": 15
           },
           "zerolinecolor": "#EBF0F8",
           "zerolinewidth": 2
          }
         }
        },
        "title": {
         "text": "Média do Tempo de Espera por Mês"
        },
        "width": 1000,
        "xaxis": {
         "dtick": "M12",
         "showgrid": true,
         "tickformat": "%Y",
         "title": {
          "text": "Ano"
         }
        },
        "yaxis": {
         "title": {
          "text": "Tempo médio de espera (dias)"
         }
        }
       }
      }
     },
     "metadata": {},
     "output_type": "display_data"
    }
   ],
   "source": [
    "# Garantir que a coluna data_primeira_dialise está em datetime\n",
    "df_espera['data_primeira_dialise'] = pd.to_datetime(df_espera['data_primeira_dialise'])\n",
    "\n",
    "# Criar coluna de ano-mês\n",
    "df_espera['ano_mes'] = df_espera['data_primeira_dialise'].dt.to_period('M').astype(str)\n",
    "\n",
    "# Agrupar por ano-mês\n",
    "df_mes = df_espera.groupby('ano_mes')['tempo_entre_fav_e_primeira_dialise'].mean().reset_index()\n",
    "\n",
    "# Converter ano-mês para datetime (para plotar no eixo)\n",
    "df_mes['ano_mes_dt'] = pd.to_datetime(df_mes['ano_mes'])\n",
    "\n",
    "# === Gráfico de Linha (sem pontos) ===\n",
    "fig1_p2 = go.Figure()\n",
    "\n",
    "fig1_p2.add_trace(go.Scatter(\n",
    "    x=df_mes['ano_mes_dt'],\n",
    "    y=df_mes['tempo_entre_fav_e_primeira_dialise'],\n",
    "    mode='lines',  # <-- Somente linha, sem pontos\n",
    "    name='Tempo médio de espera',\n",
    "    line=dict(color='blue', width=2)\n",
    "))\n",
    "\n",
    "# === Tarja vermelha para COVID-19 (março de 2020 até dezembro de 2021) ===\n",
    "fig1_p2.add_vrect(\n",
    "    x0=\"2020-03-01\", x1=\"2021-12-31\",\n",
    "    fillcolor=\"red\", opacity=0.2,\n",
    "    layer=\"below\", line_width=0,\n",
    "    annotation_text=\"COVID-19\", annotation_position=\"top left\"\n",
    ")\n",
    "\n",
    "# === Layout ===\n",
    "fig1_p2.update_layout(\n",
    "    title='Média do Tempo de Espera por Mês',\n",
    "    xaxis_title='Ano',\n",
    "    yaxis_title='Tempo médio de espera (dias)',\n",
    "    template='plotly_white',\n",
    "    width=1000,\n",
    "    height=500,\n",
    "    xaxis=dict(\n",
    "        tickformat='%Y',  # Mostra apenas o ano no eixo X\n",
    "        dtick=\"M12\",      # Um tick por ano\n",
    "        showgrid=True\n",
    "    )\n",
    ")\n",
    "\n",
    "fig1_p2.show()\n",
    "\n"
   ]
  },
  {
   "cell_type": "markdown",
   "id": "7494261f",
   "metadata": {},
   "source": [
    "# DASH Dashboard"
   ]
  },
  {
   "cell_type": "code",
   "execution_count": 74,
   "id": "605a6a03",
   "metadata": {},
   "outputs": [
    {
     "data": {
      "text/html": [
       "\n",
       "        <iframe\n",
       "            width=\"100%\"\n",
       "            height=\"650\"\n",
       "            src=\"http://127.0.0.1:8050/\"\n",
       "            frameborder=\"0\"\n",
       "            allowfullscreen\n",
       "            \n",
       "        ></iframe>\n",
       "        "
      ],
      "text/plain": [
       "<IPython.lib.display.IFrame at 0x27acf1e5e50>"
      ]
     },
     "metadata": {},
     "output_type": "display_data"
    }
   ],
   "source": [
    "# === App Dash ===\n",
    "app = Dash(__name__)\n",
    "\n",
    "app.layout = html.Div(children=[\n",
    "    html.H1(children='Dashboard - Tempo de Espera na FAV'),\n",
    "\n",
    "    html.Div(children='''\n",
    "        Análise dos tempos de espera entre a primeira diálise e o atendimento na FAV.\n",
    "    '''),\n",
    "\n",
    "    dcc.Graph(\n",
    "        id='bar-plot',\n",
    "        figure=fig1_p1\n",
    "    ),\n",
    "    dcc.Graph(\n",
    "        id='histogram',\n",
    "        figure=fig2_p1\n",
    "    ),\n",
    "\n",
    "    dcc.Graph(\n",
    "    id='line-plot',\n",
    "    figure=fig1_p2\n",
    "    )\n",
    "])\n",
    "\n",
    "if __name__ == '__main__':\n",
    "    app.run_server(debug=True)"
   ]
  },
  {
   "cell_type": "code",
   "execution_count": null,
   "id": "3fa3bb2b",
   "metadata": {},
   "outputs": [],
   "source": []
  }
 ],
 "metadata": {
  "kernelspec": {
   "display_name": "datasus",
   "language": "python",
   "name": "python3"
  },
  "language_info": {
   "codemirror_mode": {
    "name": "ipython",
    "version": 3
   },
   "file_extension": ".py",
   "mimetype": "text/x-python",
   "name": "python",
   "nbconvert_exporter": "python",
   "pygments_lexer": "ipython3",
   "version": "3.12.0"
  }
 },
 "nbformat": 4,
 "nbformat_minor": 5
}
