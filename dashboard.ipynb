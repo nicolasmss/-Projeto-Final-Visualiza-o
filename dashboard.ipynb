{
 "cells": [
  {
   "cell_type": "markdown",
   "id": "6024f68d",
   "metadata": {},
   "source": [
    "# Imports e definições gerais"
   ]
  },
  {
   "cell_type": "code",
   "execution_count": 3,
   "id": "cfdebc9b",
   "metadata": {},
   "outputs": [],
   "source": [
    "import pandas as pd\n",
    "from dash import Dash, html, dcc\n",
    "import plotly.express as px\n",
    "import plotly.graph_objects as go\n",
    "import numpy as np"
   ]
  },
  {
   "cell_type": "code",
   "execution_count": 4,
   "id": "2566e485",
   "metadata": {},
   "outputs": [
    {
     "name": "stderr",
     "output_type": "stream",
     "text": [
      "/tmp/ipykernel_26421/3187438065.py:4: DtypeWarning: Columns (20,37,104) have mixed types. Specify dtype option on import or set low_memory=False.\n",
      "  df = pd.read_csv(ARQUIVO_CSV, sep=SEPARADOR)\n"
     ]
    },
    {
     "ename": "",
     "evalue": "",
     "output_type": "error",
     "traceback": [
      "\u001b[1;31mThe Kernel crashed while executing code in the current cell or a previous cell. \n",
      "\u001b[1;31mPlease review the code in the cell(s) to identify a possible cause of the failure. \n",
      "\u001b[1;31mClick <a href='https://aka.ms/vscodeJupyterKernelCrash'>here</a> for more info. \n",
      "\u001b[1;31mView Jupyter <a href='command:jupyter.viewOutput'>log</a> for further details."
     ]
    }
   ],
   "source": [
    "ARQUIVO_CSV = 'dialise_fav_final3.csv'\n",
    "SEPARADOR   = ';'\n",
    "\n",
    "df = pd.read_csv(ARQUIVO_CSV, sep=SEPARADOR)\n",
    "df.sample(5)"
   ]
  },
  {
   "cell_type": "code",
   "execution_count": null,
   "id": "646bc4c9",
   "metadata": {},
   "outputs": [],
   "source": [
    "paleta = {\n",
    "    'azul_principal': '#0077B6',\n",
    "    'azul_claro'    : '#90E0EF',\n",
    "    'ciano'         : '#48CAE4',\n",
    "    'azul_escuro'   : '#023E8A',\n",
    "    'cinza_texto'   : '#6C757D',\n",
    "    'fundo'         : '#FFFFFF',\n",
    "    'cinza_claro'   : '#F8F9FA'\n",
    "}"
   ]
  },
  {
   "cell_type": "markdown",
   "id": "efb71656",
   "metadata": {},
   "source": [
    "# Tratamento de Dados"
   ]
  },
  {
   "cell_type": "code",
   "execution_count": null,
   "id": "cec06454",
   "metadata": {},
   "outputs": [],
   "source": [
    "df_espera = pd.DataFrame()\n",
    "\n",
    "# Pergunta 1 e 2\n",
    "df_espera['data_primeira_dialise']      = df['ATD_DTPDR']\n",
    "df_espera['cronico']                    = df['Cronico']\n",
    "df_espera['data_atendimento_dialitico'] = df['AP_CMP']\n",
    "df_espera['obito']                      = df['AP_OBITO']\n",
    "df_espera['data_atendimento_fav']       = df['fav_AP_CMP']\n",
    "df_espera.sample(10)\n",
    "\n",
    "# Pergunta 3\n",
    "df_espera['genero'] = df['AP_SEXO']\n",
    "df_espera['idade'] = df['AP_NUIDADE']\n",
    "\n",
    "# Pergunta 4\n",
    "df_espera['hospital'] = df['fav_AP_CODUNI']"
   ]
  },
  {
   "cell_type": "code",
   "execution_count": null,
   "id": "4b0159e7",
   "metadata": {},
   "outputs": [
    {
     "name": "stderr",
     "output_type": "stream",
     "text": [
      "/tmp/ipykernel_18655/2896329900.py:2: UserWarning:\n",
      "\n",
      "Boolean Series key will be reindexed to match DataFrame index.\n",
      "\n"
     ]
    },
    {
     "data": {
      "text/html": [
       "<div>\n",
       "<style scoped>\n",
       "    .dataframe tbody tr th:only-of-type {\n",
       "        vertical-align: middle;\n",
       "    }\n",
       "\n",
       "    .dataframe tbody tr th {\n",
       "        vertical-align: top;\n",
       "    }\n",
       "\n",
       "    .dataframe thead th {\n",
       "        text-align: right;\n",
       "    }\n",
       "</style>\n",
       "<table border=\"1\" class=\"dataframe\">\n",
       "  <thead>\n",
       "    <tr style=\"text-align: right;\">\n",
       "      <th></th>\n",
       "      <th>data_primeira_dialise</th>\n",
       "      <th>cronico</th>\n",
       "      <th>data_atendimento_dialitico</th>\n",
       "      <th>obito</th>\n",
       "      <th>data_atendimento_fav</th>\n",
       "      <th>genero</th>\n",
       "      <th>idade</th>\n",
       "      <th>hospital</th>\n",
       "    </tr>\n",
       "  </thead>\n",
       "  <tbody>\n",
       "    <tr>\n",
       "      <th>602417</th>\n",
       "      <td>2021-01-01</td>\n",
       "      <td>repetido</td>\n",
       "      <td>2022-12-01</td>\n",
       "      <td>0</td>\n",
       "      <td>NaN</td>\n",
       "      <td>F</td>\n",
       "      <td>23</td>\n",
       "      <td>NaN</td>\n",
       "    </tr>\n",
       "    <tr>\n",
       "      <th>523158</th>\n",
       "      <td>2021-06-22</td>\n",
       "      <td>repetido</td>\n",
       "      <td>2021-12-01</td>\n",
       "      <td>0</td>\n",
       "      <td>2020-09-01</td>\n",
       "      <td>M</td>\n",
       "      <td>59</td>\n",
       "      <td>2242397.0</td>\n",
       "    </tr>\n",
       "    <tr>\n",
       "      <th>424472</th>\n",
       "      <td>2020-07-09</td>\n",
       "      <td>agudo</td>\n",
       "      <td>2020-08-01</td>\n",
       "      <td>0</td>\n",
       "      <td>2020-08-01</td>\n",
       "      <td>F</td>\n",
       "      <td>47</td>\n",
       "      <td>2257815.0</td>\n",
       "    </tr>\n",
       "    <tr>\n",
       "      <th>283221</th>\n",
       "      <td>2015-11-05</td>\n",
       "      <td>repetido</td>\n",
       "      <td>2018-08-01</td>\n",
       "      <td>0</td>\n",
       "      <td>2015-11-01</td>\n",
       "      <td>F</td>\n",
       "      <td>61</td>\n",
       "      <td>2226952.0</td>\n",
       "    </tr>\n",
       "    <tr>\n",
       "      <th>584104</th>\n",
       "      <td>2022-09-07</td>\n",
       "      <td>agudo</td>\n",
       "      <td>2022-09-01</td>\n",
       "      <td>0</td>\n",
       "      <td>NaN</td>\n",
       "      <td>F</td>\n",
       "      <td>34</td>\n",
       "      <td>NaN</td>\n",
       "    </tr>\n",
       "    <tr>\n",
       "      <th>137489</th>\n",
       "      <td>2015-12-17</td>\n",
       "      <td>repetido</td>\n",
       "      <td>2016-07-01</td>\n",
       "      <td>0</td>\n",
       "      <td>2015-03-01</td>\n",
       "      <td>F</td>\n",
       "      <td>52</td>\n",
       "      <td>2253046.0</td>\n",
       "    </tr>\n",
       "    <tr>\n",
       "      <th>605152</th>\n",
       "      <td>2019-01-26</td>\n",
       "      <td>repetido</td>\n",
       "      <td>2023-01-01</td>\n",
       "      <td>0</td>\n",
       "      <td>2021-05-01</td>\n",
       "      <td>F</td>\n",
       "      <td>46</td>\n",
       "      <td>2230577.0</td>\n",
       "    </tr>\n",
       "    <tr>\n",
       "      <th>137258</th>\n",
       "      <td>1997-08-01</td>\n",
       "      <td>repetido</td>\n",
       "      <td>2016-07-01</td>\n",
       "      <td>0</td>\n",
       "      <td>NaN</td>\n",
       "      <td>M</td>\n",
       "      <td>58</td>\n",
       "      <td>NaN</td>\n",
       "    </tr>\n",
       "    <tr>\n",
       "      <th>338540</th>\n",
       "      <td>2018-01-17</td>\n",
       "      <td>repetido</td>\n",
       "      <td>2019-05-01</td>\n",
       "      <td>0</td>\n",
       "      <td>2018-05-01</td>\n",
       "      <td>F</td>\n",
       "      <td>50</td>\n",
       "      <td>2261057.0</td>\n",
       "    </tr>\n",
       "    <tr>\n",
       "      <th>235624</th>\n",
       "      <td>2016-01-14</td>\n",
       "      <td>repetido</td>\n",
       "      <td>2017-12-01</td>\n",
       "      <td>0</td>\n",
       "      <td>2016-01-01</td>\n",
       "      <td>M</td>\n",
       "      <td>57</td>\n",
       "      <td>2237253.0</td>\n",
       "    </tr>\n",
       "  </tbody>\n",
       "</table>\n",
       "</div>"
      ],
      "text/plain": [
       "       data_primeira_dialise   cronico data_atendimento_dialitico  obito  \\\n",
       "602417            2021-01-01  repetido                 2022-12-01      0   \n",
       "523158            2021-06-22  repetido                 2021-12-01      0   \n",
       "424472            2020-07-09     agudo                 2020-08-01      0   \n",
       "283221            2015-11-05  repetido                 2018-08-01      0   \n",
       "584104            2022-09-07     agudo                 2022-09-01      0   \n",
       "137489            2015-12-17  repetido                 2016-07-01      0   \n",
       "605152            2019-01-26  repetido                 2023-01-01      0   \n",
       "137258            1997-08-01  repetido                 2016-07-01      0   \n",
       "338540            2018-01-17  repetido                 2019-05-01      0   \n",
       "235624            2016-01-14  repetido                 2017-12-01      0   \n",
       "\n",
       "       data_atendimento_fav genero  idade   hospital  \n",
       "602417                  NaN      F     23        NaN  \n",
       "523158           2020-09-01      M     59  2242397.0  \n",
       "424472           2020-08-01      F     47  2257815.0  \n",
       "283221           2015-11-01      F     61  2226952.0  \n",
       "584104                  NaN      F     34        NaN  \n",
       "137489           2015-03-01      F     52  2253046.0  \n",
       "605152           2021-05-01      F     46  2230577.0  \n",
       "137258                  NaN      M     58        NaN  \n",
       "338540           2018-05-01      F     50  2261057.0  \n",
       "235624           2016-01-01      M     57  2237253.0  "
      ]
     },
     "execution_count": 14,
     "metadata": {},
     "output_type": "execute_result"
    }
   ],
   "source": [
    "# Para os casos de morte, podemos desconsiderar o tempo de espera (?)\n",
    "df_espera_mortos_validos = df_espera[df_espera.obito == 1][df_espera.data_atendimento_fav.notna()]\n",
    "\n",
    "# Remover todos os mortos\n",
    "df_espera = df_espera[df_espera.obito != 1]\n",
    "\n",
    "# Inserir apenas falecidos válidos\n",
    "df_espera = pd.concat([df_espera, df_espera_mortos_validos])\n",
    "df_espera.sample(10)"
   ]
  },
  {
   "cell_type": "code",
   "execution_count": null,
   "id": "0e00c490",
   "metadata": {},
   "outputs": [
    {
     "data": {
      "text/html": [
       "<div>\n",
       "<style scoped>\n",
       "    .dataframe tbody tr th:only-of-type {\n",
       "        vertical-align: middle;\n",
       "    }\n",
       "\n",
       "    .dataframe tbody tr th {\n",
       "        vertical-align: top;\n",
       "    }\n",
       "\n",
       "    .dataframe thead th {\n",
       "        text-align: right;\n",
       "    }\n",
       "</style>\n",
       "<table border=\"1\" class=\"dataframe\">\n",
       "  <thead>\n",
       "    <tr style=\"text-align: right;\">\n",
       "      <th></th>\n",
       "      <th>data_primeira_dialise</th>\n",
       "      <th>cronico</th>\n",
       "      <th>data_atendimento_dialitico</th>\n",
       "      <th>obito</th>\n",
       "      <th>data_atendimento_fav</th>\n",
       "      <th>genero</th>\n",
       "      <th>idade</th>\n",
       "      <th>hospital</th>\n",
       "    </tr>\n",
       "  </thead>\n",
       "  <tbody>\n",
       "    <tr>\n",
       "      <th>1761</th>\n",
       "      <td>2013-07-03</td>\n",
       "      <td>cronico</td>\n",
       "      <td>2014-08-01</td>\n",
       "      <td>0</td>\n",
       "      <td>NaN</td>\n",
       "      <td>F</td>\n",
       "      <td>66</td>\n",
       "      <td>NaN</td>\n",
       "    </tr>\n",
       "    <tr>\n",
       "      <th>527397</th>\n",
       "      <td>2021-10-14</td>\n",
       "      <td>agudo</td>\n",
       "      <td>2021-12-01</td>\n",
       "      <td>0</td>\n",
       "      <td>2021-11-01</td>\n",
       "      <td>F</td>\n",
       "      <td>63</td>\n",
       "      <td>2255456.0</td>\n",
       "    </tr>\n",
       "    <tr>\n",
       "      <th>195539</th>\n",
       "      <td>2017-05-29</td>\n",
       "      <td>agudo</td>\n",
       "      <td>2017-05-01</td>\n",
       "      <td>0</td>\n",
       "      <td>NaN</td>\n",
       "      <td>M</td>\n",
       "      <td>70</td>\n",
       "      <td>NaN</td>\n",
       "    </tr>\n",
       "    <tr>\n",
       "      <th>70942</th>\n",
       "      <td>2015-07-31</td>\n",
       "      <td>agudo</td>\n",
       "      <td>2015-08-01</td>\n",
       "      <td>0</td>\n",
       "      <td>NaN</td>\n",
       "      <td>F</td>\n",
       "      <td>65</td>\n",
       "      <td>NaN</td>\n",
       "    </tr>\n",
       "    <tr>\n",
       "      <th>114245</th>\n",
       "      <td>2008-05-26</td>\n",
       "      <td>cronico</td>\n",
       "      <td>2016-03-01</td>\n",
       "      <td>0</td>\n",
       "      <td>2014-09-01</td>\n",
       "      <td>M</td>\n",
       "      <td>55</td>\n",
       "      <td>2237601.0</td>\n",
       "    </tr>\n",
       "  </tbody>\n",
       "</table>\n",
       "</div>"
      ],
      "text/plain": [
       "       data_primeira_dialise  cronico data_atendimento_dialitico  obito  \\\n",
       "1761              2013-07-03  cronico                 2014-08-01      0   \n",
       "527397            2021-10-14    agudo                 2021-12-01      0   \n",
       "195539            2017-05-29    agudo                 2017-05-01      0   \n",
       "70942             2015-07-31    agudo                 2015-08-01      0   \n",
       "114245            2008-05-26  cronico                 2016-03-01      0   \n",
       "\n",
       "       data_atendimento_fav genero  idade   hospital  \n",
       "1761                    NaN      F     66        NaN  \n",
       "527397           2021-11-01      F     63  2255456.0  \n",
       "195539                  NaN      M     70        NaN  \n",
       "70942                   NaN      F     65        NaN  \n",
       "114245           2014-09-01      M     55  2237601.0  "
      ]
     },
     "execution_count": 15,
     "metadata": {},
     "output_type": "execute_result"
    }
   ],
   "source": [
    "# Priorizar remover repetidos NaN\n",
    "df_espera = df_espera[df_espera.cronico != 'repetido']\n",
    "df_espera.sample(5)"
   ]
  },
  {
   "cell_type": "code",
   "execution_count": null,
   "id": "9dad058e",
   "metadata": {},
   "outputs": [
    {
     "data": {
      "text/html": [
       "<div>\n",
       "<style scoped>\n",
       "    .dataframe tbody tr th:only-of-type {\n",
       "        vertical-align: middle;\n",
       "    }\n",
       "\n",
       "    .dataframe tbody tr th {\n",
       "        vertical-align: top;\n",
       "    }\n",
       "\n",
       "    .dataframe thead th {\n",
       "        text-align: right;\n",
       "    }\n",
       "</style>\n",
       "<table border=\"1\" class=\"dataframe\">\n",
       "  <thead>\n",
       "    <tr style=\"text-align: right;\">\n",
       "      <th></th>\n",
       "      <th>data_primeira_dialise</th>\n",
       "      <th>cronico</th>\n",
       "      <th>data_atendimento_dialitico</th>\n",
       "      <th>obito</th>\n",
       "      <th>data_atendimento_fav</th>\n",
       "      <th>genero</th>\n",
       "      <th>idade</th>\n",
       "      <th>hospital</th>\n",
       "    </tr>\n",
       "  </thead>\n",
       "  <tbody>\n",
       "    <tr>\n",
       "      <th>23537</th>\n",
       "      <td>2014-09-12</td>\n",
       "      <td>cronico</td>\n",
       "      <td>2014-12-01</td>\n",
       "      <td>0</td>\n",
       "      <td>2014-10-01</td>\n",
       "      <td>M</td>\n",
       "      <td>46</td>\n",
       "      <td>2253046.0</td>\n",
       "    </tr>\n",
       "    <tr>\n",
       "      <th>76756</th>\n",
       "      <td>2015-06-25</td>\n",
       "      <td>cronico</td>\n",
       "      <td>2015-09-01</td>\n",
       "      <td>0</td>\n",
       "      <td>2015-11-01</td>\n",
       "      <td>F</td>\n",
       "      <td>53</td>\n",
       "      <td>2226952.0</td>\n",
       "    </tr>\n",
       "    <tr>\n",
       "      <th>628504</th>\n",
       "      <td>2023-01-17</td>\n",
       "      <td>cronico</td>\n",
       "      <td>2023-04-01</td>\n",
       "      <td>0</td>\n",
       "      <td>2023-06-01</td>\n",
       "      <td>F</td>\n",
       "      <td>44</td>\n",
       "      <td>2246988.0</td>\n",
       "    </tr>\n",
       "    <tr>\n",
       "      <th>355619</th>\n",
       "      <td>2019-05-17</td>\n",
       "      <td>cronico</td>\n",
       "      <td>2019-08-01</td>\n",
       "      <td>0</td>\n",
       "      <td>2019-06-01</td>\n",
       "      <td>M</td>\n",
       "      <td>60</td>\n",
       "      <td>2255456.0</td>\n",
       "    </tr>\n",
       "    <tr>\n",
       "      <th>356424</th>\n",
       "      <td>2019-03-02</td>\n",
       "      <td>cronico</td>\n",
       "      <td>2019-08-01</td>\n",
       "      <td>0</td>\n",
       "      <td>2019-10-01</td>\n",
       "      <td>M</td>\n",
       "      <td>76</td>\n",
       "      <td>2700662.0</td>\n",
       "    </tr>\n",
       "    <tr>\n",
       "      <th>448802</th>\n",
       "      <td>2020-08-14</td>\n",
       "      <td>cronico</td>\n",
       "      <td>2020-11-01</td>\n",
       "      <td>0</td>\n",
       "      <td>2020-09-01</td>\n",
       "      <td>M</td>\n",
       "      <td>62</td>\n",
       "      <td>2262460.0</td>\n",
       "    </tr>\n",
       "    <tr>\n",
       "      <th>86898</th>\n",
       "      <td>2015-07-27</td>\n",
       "      <td>cronico</td>\n",
       "      <td>2015-10-01</td>\n",
       "      <td>0</td>\n",
       "      <td>2015-08-01</td>\n",
       "      <td>F</td>\n",
       "      <td>45</td>\n",
       "      <td>2247968.0</td>\n",
       "    </tr>\n",
       "    <tr>\n",
       "      <th>232362</th>\n",
       "      <td>2017-09-22</td>\n",
       "      <td>cronico</td>\n",
       "      <td>2017-12-01</td>\n",
       "      <td>0</td>\n",
       "      <td>2018-06-01</td>\n",
       "      <td>F</td>\n",
       "      <td>56</td>\n",
       "      <td>2262584.0</td>\n",
       "    </tr>\n",
       "    <tr>\n",
       "      <th>683702</th>\n",
       "      <td>2023-10-21</td>\n",
       "      <td>cronico</td>\n",
       "      <td>2024-01-01</td>\n",
       "      <td>0</td>\n",
       "      <td>2024-02-01</td>\n",
       "      <td>F</td>\n",
       "      <td>34</td>\n",
       "      <td>2262460.0</td>\n",
       "    </tr>\n",
       "    <tr>\n",
       "      <th>34384</th>\n",
       "      <td>2014-10-31</td>\n",
       "      <td>cronico</td>\n",
       "      <td>2015-01-01</td>\n",
       "      <td>0</td>\n",
       "      <td>2015-03-01</td>\n",
       "      <td>M</td>\n",
       "      <td>41</td>\n",
       "      <td>2262509.0</td>\n",
       "    </tr>\n",
       "  </tbody>\n",
       "</table>\n",
       "</div>"
      ],
      "text/plain": [
       "       data_primeira_dialise  cronico data_atendimento_dialitico  obito  \\\n",
       "23537             2014-09-12  cronico                 2014-12-01      0   \n",
       "76756             2015-06-25  cronico                 2015-09-01      0   \n",
       "628504            2023-01-17  cronico                 2023-04-01      0   \n",
       "355619            2019-05-17  cronico                 2019-08-01      0   \n",
       "356424            2019-03-02  cronico                 2019-08-01      0   \n",
       "448802            2020-08-14  cronico                 2020-11-01      0   \n",
       "86898             2015-07-27  cronico                 2015-10-01      0   \n",
       "232362            2017-09-22  cronico                 2017-12-01      0   \n",
       "683702            2023-10-21  cronico                 2024-01-01      0   \n",
       "34384             2014-10-31  cronico                 2015-01-01      0   \n",
       "\n",
       "       data_atendimento_fav genero  idade   hospital  \n",
       "23537            2014-10-01      M     46  2253046.0  \n",
       "76756            2015-11-01      F     53  2226952.0  \n",
       "628504           2023-06-01      F     44  2246988.0  \n",
       "355619           2019-06-01      M     60  2255456.0  \n",
       "356424           2019-10-01      M     76  2700662.0  \n",
       "448802           2020-09-01      M     62  2262460.0  \n",
       "86898            2015-08-01      F     45  2247968.0  \n",
       "232362           2018-06-01      F     56  2262584.0  \n",
       "683702           2024-02-01      F     34  2262460.0  \n",
       "34384            2015-03-01      M     41  2262509.0  "
      ]
     },
     "execution_count": 16,
     "metadata": {},
     "output_type": "execute_result"
    }
   ],
   "source": [
    "# Remover observações que não são agudos e que não tiveram atendimento FAV\n",
    "# Para garantir, vamos remover todos que não tiveram data_primeira_dialise também\n",
    "df_espera = df_espera[df_espera.cronico != 'agudo']\n",
    "df_espera = df_espera[df_espera.data_atendimento_fav.notna()]\n",
    "df_espera = df_espera[df_espera.data_primeira_dialise.notna()]\n",
    "df_espera.sample(10)"
   ]
  },
  {
   "cell_type": "code",
   "execution_count": null,
   "id": "2eec2b5a",
   "metadata": {},
   "outputs": [
    {
     "data": {
      "text/html": [
       "<div>\n",
       "<style scoped>\n",
       "    .dataframe tbody tr th:only-of-type {\n",
       "        vertical-align: middle;\n",
       "    }\n",
       "\n",
       "    .dataframe tbody tr th {\n",
       "        vertical-align: top;\n",
       "    }\n",
       "\n",
       "    .dataframe thead th {\n",
       "        text-align: right;\n",
       "    }\n",
       "</style>\n",
       "<table border=\"1\" class=\"dataframe\">\n",
       "  <thead>\n",
       "    <tr style=\"text-align: right;\">\n",
       "      <th></th>\n",
       "      <th>data_primeira_dialise</th>\n",
       "      <th>cronico</th>\n",
       "      <th>data_atendimento_dialitico</th>\n",
       "      <th>obito</th>\n",
       "      <th>data_atendimento_fav</th>\n",
       "      <th>genero</th>\n",
       "      <th>idade</th>\n",
       "      <th>hospital</th>\n",
       "      <th>tempo_entre_fav_e_primeira_dialise</th>\n",
       "      <th>tempo_anos</th>\n",
       "    </tr>\n",
       "  </thead>\n",
       "  <tbody>\n",
       "    <tr>\n",
       "      <th>33243</th>\n",
       "      <td>2014-10-10</td>\n",
       "      <td>cronico</td>\n",
       "      <td>2015-01-01</td>\n",
       "      <td>0</td>\n",
       "      <td>2021-05-01</td>\n",
       "      <td>M</td>\n",
       "      <td>57</td>\n",
       "      <td>2256029.0</td>\n",
       "      <td>2395</td>\n",
       "      <td>6.557153</td>\n",
       "    </tr>\n",
       "    <tr>\n",
       "      <th>1717</th>\n",
       "      <td>2012-04-18</td>\n",
       "      <td>cronico</td>\n",
       "      <td>2014-08-01</td>\n",
       "      <td>0</td>\n",
       "      <td>2016-07-01</td>\n",
       "      <td>M</td>\n",
       "      <td>65</td>\n",
       "      <td>2253054.0</td>\n",
       "      <td>1535</td>\n",
       "      <td>4.202601</td>\n",
       "    </tr>\n",
       "    <tr>\n",
       "      <th>675382</th>\n",
       "      <td>2023-08-19</td>\n",
       "      <td>cronico</td>\n",
       "      <td>2023-11-01</td>\n",
       "      <td>0</td>\n",
       "      <td>2023-10-01</td>\n",
       "      <td>F</td>\n",
       "      <td>66</td>\n",
       "      <td>2255456.0</td>\n",
       "      <td>43</td>\n",
       "      <td>0.117728</td>\n",
       "    </tr>\n",
       "    <tr>\n",
       "      <th>4565</th>\n",
       "      <td>2010-08-27</td>\n",
       "      <td>cronico</td>\n",
       "      <td>2014-08-01</td>\n",
       "      <td>0</td>\n",
       "      <td>2014-08-01</td>\n",
       "      <td>M</td>\n",
       "      <td>56</td>\n",
       "      <td>2262460.0</td>\n",
       "      <td>1435</td>\n",
       "      <td>3.928816</td>\n",
       "    </tr>\n",
       "    <tr>\n",
       "      <th>379266</th>\n",
       "      <td>2019-09-19</td>\n",
       "      <td>cronico</td>\n",
       "      <td>2019-12-01</td>\n",
       "      <td>0</td>\n",
       "      <td>2019-10-01</td>\n",
       "      <td>F</td>\n",
       "      <td>65</td>\n",
       "      <td>2230577.0</td>\n",
       "      <td>12</td>\n",
       "      <td>0.032854</td>\n",
       "    </tr>\n",
       "    <tr>\n",
       "      <th>95943</th>\n",
       "      <td>2015-09-24</td>\n",
       "      <td>cronico</td>\n",
       "      <td>2015-12-01</td>\n",
       "      <td>0</td>\n",
       "      <td>2015-11-01</td>\n",
       "      <td>F</td>\n",
       "      <td>58</td>\n",
       "      <td>2262568.0</td>\n",
       "      <td>38</td>\n",
       "      <td>0.104038</td>\n",
       "    </tr>\n",
       "    <tr>\n",
       "      <th>515385</th>\n",
       "      <td>2021-07-06</td>\n",
       "      <td>cronico</td>\n",
       "      <td>2021-10-01</td>\n",
       "      <td>0</td>\n",
       "      <td>2021-10-01</td>\n",
       "      <td>F</td>\n",
       "      <td>49</td>\n",
       "      <td>2227290.0</td>\n",
       "      <td>87</td>\n",
       "      <td>0.238193</td>\n",
       "    </tr>\n",
       "    <tr>\n",
       "      <th>664721</th>\n",
       "      <td>2023-07-14</td>\n",
       "      <td>cronico</td>\n",
       "      <td>2023-10-01</td>\n",
       "      <td>0</td>\n",
       "      <td>2023-10-01</td>\n",
       "      <td>F</td>\n",
       "      <td>46</td>\n",
       "      <td>2262509.0</td>\n",
       "      <td>79</td>\n",
       "      <td>0.216290</td>\n",
       "    </tr>\n",
       "    <tr>\n",
       "      <th>484816</th>\n",
       "      <td>2021-02-23</td>\n",
       "      <td>cronico</td>\n",
       "      <td>2021-05-01</td>\n",
       "      <td>0</td>\n",
       "      <td>2021-04-01</td>\n",
       "      <td>M</td>\n",
       "      <td>77</td>\n",
       "      <td>2236370.0</td>\n",
       "      <td>37</td>\n",
       "      <td>0.101300</td>\n",
       "    </tr>\n",
       "    <tr>\n",
       "      <th>4178</th>\n",
       "      <td>2011-06-18</td>\n",
       "      <td>cronico</td>\n",
       "      <td>2014-08-01</td>\n",
       "      <td>0</td>\n",
       "      <td>2015-02-01</td>\n",
       "      <td>F</td>\n",
       "      <td>55</td>\n",
       "      <td>2261898.0</td>\n",
       "      <td>1324</td>\n",
       "      <td>3.624914</td>\n",
       "    </tr>\n",
       "  </tbody>\n",
       "</table>\n",
       "</div>"
      ],
      "text/plain": [
       "       data_primeira_dialise  cronico data_atendimento_dialitico  obito  \\\n",
       "33243             2014-10-10  cronico                 2015-01-01      0   \n",
       "1717              2012-04-18  cronico                 2014-08-01      0   \n",
       "675382            2023-08-19  cronico                 2023-11-01      0   \n",
       "4565              2010-08-27  cronico                 2014-08-01      0   \n",
       "379266            2019-09-19  cronico                 2019-12-01      0   \n",
       "95943             2015-09-24  cronico                 2015-12-01      0   \n",
       "515385            2021-07-06  cronico                 2021-10-01      0   \n",
       "664721            2023-07-14  cronico                 2023-10-01      0   \n",
       "484816            2021-02-23  cronico                 2021-05-01      0   \n",
       "4178              2011-06-18  cronico                 2014-08-01      0   \n",
       "\n",
       "       data_atendimento_fav genero  idade   hospital  \\\n",
       "33243            2021-05-01      M     57  2256029.0   \n",
       "1717             2016-07-01      M     65  2253054.0   \n",
       "675382           2023-10-01      F     66  2255456.0   \n",
       "4565             2014-08-01      M     56  2262460.0   \n",
       "379266           2019-10-01      F     65  2230577.0   \n",
       "95943            2015-11-01      F     58  2262568.0   \n",
       "515385           2021-10-01      F     49  2227290.0   \n",
       "664721           2023-10-01      F     46  2262509.0   \n",
       "484816           2021-04-01      M     77  2236370.0   \n",
       "4178             2015-02-01      F     55  2261898.0   \n",
       "\n",
       "        tempo_entre_fav_e_primeira_dialise  tempo_anos  \n",
       "33243                                 2395    6.557153  \n",
       "1717                                  1535    4.202601  \n",
       "675382                                  43    0.117728  \n",
       "4565                                  1435    3.928816  \n",
       "379266                                  12    0.032854  \n",
       "95943                                   38    0.104038  \n",
       "515385                                  87    0.238193  \n",
       "664721                                  79    0.216290  \n",
       "484816                                  37    0.101300  \n",
       "4178                                  1324    3.624914  "
      ]
     },
     "execution_count": 17,
     "metadata": {},
     "output_type": "execute_result"
    }
   ],
   "source": [
    "# Calcular tempo de espera\n",
    "df_espera['data_atendimento_fav'] = pd.to_datetime(df_espera['data_atendimento_fav'])\n",
    "df_espera['data_primeira_dialise'] = pd.to_datetime(df_espera['data_primeira_dialise'])\n",
    "\n",
    "# Calcular a diferença\n",
    "df_espera['tempo_entre_fav_e_primeira_dialise'] = (\n",
    "    df_espera['data_atendimento_fav'] - df_espera['data_primeira_dialise']\n",
    ").dt.days  # em dias\n",
    "\n",
    "df_espera['tempo_anos'] = df_espera['tempo_entre_fav_e_primeira_dialise'] / 365.25\n",
    "\n",
    "# Remover esperas negativas\n",
    "df_espera = df_espera[df_espera['tempo_entre_fav_e_primeira_dialise'] > 0]\n",
    "df_espera.sample(10)"
   ]
  },
  {
   "cell_type": "code",
   "execution_count": 1,
   "id": "0dad0711",
   "metadata": {},
   "outputs": [
    {
     "ename": "NameError",
     "evalue": "name 'pd' is not defined",
     "output_type": "error",
     "traceback": [
      "\u001b[31m---------------------------------------------------------------------------\u001b[39m",
      "\u001b[31mNameError\u001b[39m                                 Traceback (most recent call last)",
      "\u001b[36mCell\u001b[39m\u001b[36m \u001b[39m\u001b[32mIn[1]\u001b[39m\u001b[32m, line 2\u001b[39m\n\u001b[32m      1\u001b[39m \u001b[38;5;66;03m# Manter dados apenas a partir de janeiro de 2014 devido criação do dataset\u001b[39;00m\n\u001b[32m----> \u001b[39m\u001b[32m2\u001b[39m df_espera[\u001b[33m'\u001b[39m\u001b[33mdata_atendimento_dialitico\u001b[39m\u001b[33m'\u001b[39m] = \u001b[43mpd\u001b[49m.to_datetime(df_espera[\u001b[33m'\u001b[39m\u001b[33mdata_atendimento_dialitico\u001b[39m\u001b[33m'\u001b[39m])\n\u001b[32m      3\u001b[39m df_espera[\u001b[33m'\u001b[39m\u001b[33mdata_atendimento_fav\u001b[39m\u001b[33m'\u001b[39m] = pd.to_datetime(df_espera[\u001b[33m'\u001b[39m\u001b[33mdata_atendimento_fav\u001b[39m\u001b[33m'\u001b[39m])\n\u001b[32m      4\u001b[39m df_espera[\u001b[33m'\u001b[39m\u001b[33mdata_primeira_dialise\u001b[39m\u001b[33m'\u001b[39m] = pd.to_datetime(df_espera[\u001b[33m'\u001b[39m\u001b[33mdata_primeira_dialise\u001b[39m\u001b[33m'\u001b[39m])\n",
      "\u001b[31mNameError\u001b[39m: name 'pd' is not defined"
     ]
    }
   ],
   "source": [
    "# Manter dados apenas a partir de janeiro de 2014 devido criação do dataset\n",
    "df_espera['data_atendimento_dialitico'] = pd.to_datetime(df_espera['data_atendimento_dialitico'])\n",
    "df_espera['data_atendimento_fav'] = pd.to_datetime(df_espera['data_atendimento_fav'])\n",
    "df_espera['data_primeira_dialise'] = pd.to_datetime(df_espera['data_primeira_dialise'])\n",
    "\n",
    "df_espera = df_espera[\n",
    "        (df_espera['data_atendimento_dialitico'] >= '2014-01-01') &\n",
    "        (df_espera['data_atendimento_fav'] >= '2014-01-01') &\n",
    "        (df_espera['data_primeira_dialise'] >= '2014-01-01') ]"
   ]
  },
  {
   "cell_type": "code",
   "execution_count": 19,
   "id": "e3c54485",
   "metadata": {},
   "outputs": [],
   "source": [
    "df_perfil = df_espera[(df_espera.genero.notna()) & (df_espera.idade.notna())]"
   ]
  },
  {
   "cell_type": "code",
   "execution_count": 21,
   "id": "f0f1c7d8",
   "metadata": {},
   "outputs": [
    {
     "data": {
      "text/html": [
       "<div>\n",
       "<style scoped>\n",
       "    .dataframe tbody tr th:only-of-type {\n",
       "        vertical-align: middle;\n",
       "    }\n",
       "\n",
       "    .dataframe tbody tr th {\n",
       "        vertical-align: top;\n",
       "    }\n",
       "\n",
       "    .dataframe thead th {\n",
       "        text-align: right;\n",
       "    }\n",
       "</style>\n",
       "<table border=\"1\" class=\"dataframe\">\n",
       "  <thead>\n",
       "    <tr style=\"text-align: right;\">\n",
       "      <th></th>\n",
       "      <th>data_primeira_dialise</th>\n",
       "      <th>cronico</th>\n",
       "      <th>data_atendimento_dialitico</th>\n",
       "      <th>obito</th>\n",
       "      <th>data_atendimento_fav</th>\n",
       "      <th>genero</th>\n",
       "      <th>idade</th>\n",
       "      <th>hospital</th>\n",
       "      <th>tempo_entre_fav_e_primeira_dialise</th>\n",
       "      <th>tempo_anos</th>\n",
       "    </tr>\n",
       "  </thead>\n",
       "  <tbody>\n",
       "    <tr>\n",
       "      <th>177215</th>\n",
       "      <td>2016-11-03</td>\n",
       "      <td>cronico</td>\n",
       "      <td>2017-02-01</td>\n",
       "      <td>0</td>\n",
       "      <td>2016-12-01</td>\n",
       "      <td>F</td>\n",
       "      <td>26</td>\n",
       "      <td>2256029.0</td>\n",
       "      <td>28</td>\n",
       "      <td>0.07666</td>\n",
       "    </tr>\n",
       "  </tbody>\n",
       "</table>\n",
       "</div>"
      ],
      "text/plain": [
       "       data_primeira_dialise  cronico data_atendimento_dialitico  obito  \\\n",
       "177215            2016-11-03  cronico                 2017-02-01      0   \n",
       "\n",
       "       data_atendimento_fav genero  idade   hospital  \\\n",
       "177215           2016-12-01      F     26  2256029.0   \n",
       "\n",
       "        tempo_entre_fav_e_primeira_dialise  tempo_anos  \n",
       "177215                                  28     0.07666  "
      ]
     },
     "execution_count": 21,
     "metadata": {},
     "output_type": "execute_result"
    }
   ],
   "source": [
    "df_hospital = df_espera[df_espera.hospital.notna()]\n",
    "df_hospital.sample()"
   ]
  },
  {
   "cell_type": "markdown",
   "id": "380d85f9",
   "metadata": {},
   "source": [
    "# 1) Após o início da diálise crônica, qual é o tempo médio até a confecção da Fístula Arterial Venosa (FAV) nos hospitais de POA/RS?"
   ]
  },
  {
   "cell_type": "code",
   "execution_count": 12,
   "id": "af5352cf",
   "metadata": {},
   "outputs": [
    {
     "data": {
      "application/vnd.plotly.v1+json": {
       "config": {
        "plotlyServerURL": "https://plot.ly"
       },
       "data": [
        {
         "bingroup": "x",
         "hovertemplate": "Tempo de espera (dias)=%{x}<br>count=%{y}<extra></extra>",
         "legendgroup": "",
         "marker": {
          "color": "#0077B6",
          "pattern": {
           "shape": ""
          }
         },
         "name": "",
         "nbinsx": 394,
         "orientation": "v",
         "showlegend": false,
         "type": "histogram",
         "x": {
          "bdata": "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",
          "dtype": "i2"
         },
         "xaxis": "x",
         "yaxis": "y"
        }
       ],
       "layout": {
        "bargap": 0.05,
        "barmode": "relative",
        "font": {
         "color": "#023E8A"
        },
        "legend": {
         "tracegroupgap": 0
        },
        "paper_bgcolor": "#FFFFFF",
        "plot_bgcolor": "#FFFFFF",
        "template": {
         "data": {
          "bar": [
           {
            "error_x": {
             "color": "#2a3f5f"
            },
            "error_y": {
             "color": "#2a3f5f"
            },
            "marker": {
             "line": {
              "color": "white",
              "width": 0.5
             },
             "pattern": {
              "fillmode": "overlay",
              "size": 10,
              "solidity": 0.2
             }
            },
            "type": "bar"
           }
          ],
          "barpolar": [
           {
            "marker": {
             "line": {
              "color": "white",
              "width": 0.5
             },
             "pattern": {
              "fillmode": "overlay",
              "size": 10,
              "solidity": 0.2
             }
            },
            "type": "barpolar"
           }
          ],
          "carpet": [
           {
            "aaxis": {
             "endlinecolor": "#2a3f5f",
             "gridcolor": "#C8D4E3",
             "linecolor": "#C8D4E3",
             "minorgridcolor": "#C8D4E3",
             "startlinecolor": "#2a3f5f"
            },
            "baxis": {
             "endlinecolor": "#2a3f5f",
             "gridcolor": "#C8D4E3",
             "linecolor": "#C8D4E3",
             "minorgridcolor": "#C8D4E3",
             "startlinecolor": "#2a3f5f"
            },
            "type": "carpet"
           }
          ],
          "choropleth": [
           {
            "colorbar": {
             "outlinewidth": 0,
             "ticks": ""
            },
            "type": "choropleth"
           }
          ],
          "contour": [
           {
            "colorbar": {
             "outlinewidth": 0,
             "ticks": ""
            },
            "colorscale": [
             [
              0,
              "#0d0887"
             ],
             [
              0.1111111111111111,
              "#46039f"
             ],
             [
              0.2222222222222222,
              "#7201a8"
             ],
             [
              0.3333333333333333,
              "#9c179e"
             ],
             [
              0.4444444444444444,
              "#bd3786"
             ],
             [
              0.5555555555555556,
              "#d8576b"
             ],
             [
              0.6666666666666666,
              "#ed7953"
             ],
             [
              0.7777777777777778,
              "#fb9f3a"
             ],
             [
              0.8888888888888888,
              "#fdca26"
             ],
             [
              1,
              "#f0f921"
             ]
            ],
            "type": "contour"
           }
          ],
          "contourcarpet": [
           {
            "colorbar": {
             "outlinewidth": 0,
             "ticks": ""
            },
            "type": "contourcarpet"
           }
          ],
          "heatmap": [
           {
            "colorbar": {
             "outlinewidth": 0,
             "ticks": ""
            },
            "colorscale": [
             [
              0,
              "#0d0887"
             ],
             [
              0.1111111111111111,
              "#46039f"
             ],
             [
              0.2222222222222222,
              "#7201a8"
             ],
             [
              0.3333333333333333,
              "#9c179e"
             ],
             [
              0.4444444444444444,
              "#bd3786"
             ],
             [
              0.5555555555555556,
              "#d8576b"
             ],
             [
              0.6666666666666666,
              "#ed7953"
             ],
             [
              0.7777777777777778,
              "#fb9f3a"
             ],
             [
              0.8888888888888888,
              "#fdca26"
             ],
             [
              1,
              "#f0f921"
             ]
            ],
            "type": "heatmap"
           }
          ],
          "histogram": [
           {
            "marker": {
             "pattern": {
              "fillmode": "overlay",
              "size": 10,
              "solidity": 0.2
             }
            },
            "type": "histogram"
           }
          ],
          "histogram2d": [
           {
            "colorbar": {
             "outlinewidth": 0,
             "ticks": ""
            },
            "colorscale": [
             [
              0,
              "#0d0887"
             ],
             [
              0.1111111111111111,
              "#46039f"
             ],
             [
              0.2222222222222222,
              "#7201a8"
             ],
             [
              0.3333333333333333,
              "#9c179e"
             ],
             [
              0.4444444444444444,
              "#bd3786"
             ],
             [
              0.5555555555555556,
              "#d8576b"
             ],
             [
              0.6666666666666666,
              "#ed7953"
             ],
             [
              0.7777777777777778,
              "#fb9f3a"
             ],
             [
              0.8888888888888888,
              "#fdca26"
             ],
             [
              1,
              "#f0f921"
             ]
            ],
            "type": "histogram2d"
           }
          ],
          "histogram2dcontour": [
           {
            "colorbar": {
             "outlinewidth": 0,
             "ticks": ""
            },
            "colorscale": [
             [
              0,
              "#0d0887"
             ],
             [
              0.1111111111111111,
              "#46039f"
             ],
             [
              0.2222222222222222,
              "#7201a8"
             ],
             [
              0.3333333333333333,
              "#9c179e"
             ],
             [
              0.4444444444444444,
              "#bd3786"
             ],
             [
              0.5555555555555556,
              "#d8576b"
             ],
             [
              0.6666666666666666,
              "#ed7953"
             ],
             [
              0.7777777777777778,
              "#fb9f3a"
             ],
             [
              0.8888888888888888,
              "#fdca26"
             ],
             [
              1,
              "#f0f921"
             ]
            ],
            "type": "histogram2dcontour"
           }
          ],
          "mesh3d": [
           {
            "colorbar": {
             "outlinewidth": 0,
             "ticks": ""
            },
            "type": "mesh3d"
           }
          ],
          "parcoords": [
           {
            "line": {
             "colorbar": {
              "outlinewidth": 0,
              "ticks": ""
             }
            },
            "type": "parcoords"
           }
          ],
          "pie": [
           {
            "automargin": true,
            "type": "pie"
           }
          ],
          "scatter": [
           {
            "fillpattern": {
             "fillmode": "overlay",
             "size": 10,
             "solidity": 0.2
            },
            "type": "scatter"
           }
          ],
          "scatter3d": [
           {
            "line": {
             "colorbar": {
              "outlinewidth": 0,
              "ticks": ""
             }
            },
            "marker": {
             "colorbar": {
              "outlinewidth": 0,
              "ticks": ""
             }
            },
            "type": "scatter3d"
           }
          ],
          "scattercarpet": [
           {
            "marker": {
             "colorbar": {
              "outlinewidth": 0,
              "ticks": ""
             }
            },
            "type": "scattercarpet"
           }
          ],
          "scattergeo": [
           {
            "marker": {
             "colorbar": {
              "outlinewidth": 0,
              "ticks": ""
             }
            },
            "type": "scattergeo"
           }
          ],
          "scattergl": [
           {
            "marker": {
             "colorbar": {
              "outlinewidth": 0,
              "ticks": ""
             }
            },
            "type": "scattergl"
           }
          ],
          "scattermap": [
           {
            "marker": {
             "colorbar": {
              "outlinewidth": 0,
              "ticks": ""
             }
            },
            "type": "scattermap"
           }
          ],
          "scattermapbox": [
           {
            "marker": {
             "colorbar": {
              "outlinewidth": 0,
              "ticks": ""
             }
            },
            "type": "scattermapbox"
           }
          ],
          "scatterpolar": [
           {
            "marker": {
             "colorbar": {
              "outlinewidth": 0,
              "ticks": ""
             }
            },
            "type": "scatterpolar"
           }
          ],
          "scatterpolargl": [
           {
            "marker": {
             "colorbar": {
              "outlinewidth": 0,
              "ticks": ""
             }
            },
            "type": "scatterpolargl"
           }
          ],
          "scatterternary": [
           {
            "marker": {
             "colorbar": {
              "outlinewidth": 0,
              "ticks": ""
             }
            },
            "type": "scatterternary"
           }
          ],
          "surface": [
           {
            "colorbar": {
             "outlinewidth": 0,
             "ticks": ""
            },
            "colorscale": [
             [
              0,
              "#0d0887"
             ],
             [
              0.1111111111111111,
              "#46039f"
             ],
             [
              0.2222222222222222,
              "#7201a8"
             ],
             [
              0.3333333333333333,
              "#9c179e"
             ],
             [
              0.4444444444444444,
              "#bd3786"
             ],
             [
              0.5555555555555556,
              "#d8576b"
             ],
             [
              0.6666666666666666,
              "#ed7953"
             ],
             [
              0.7777777777777778,
              "#fb9f3a"
             ],
             [
              0.8888888888888888,
              "#fdca26"
             ],
             [
              1,
              "#f0f921"
             ]
            ],
            "type": "surface"
           }
          ],
          "table": [
           {
            "cells": {
             "fill": {
              "color": "#EBF0F8"
             },
             "line": {
              "color": "white"
             }
            },
            "header": {
             "fill": {
              "color": "#C8D4E3"
             },
             "line": {
              "color": "white"
             }
            },
            "type": "table"
           }
          ]
         },
         "layout": {
          "annotationdefaults": {
           "arrowcolor": "#2a3f5f",
           "arrowhead": 0,
           "arrowwidth": 1
          },
          "autotypenumbers": "strict",
          "coloraxis": {
           "colorbar": {
            "outlinewidth": 0,
            "ticks": ""
           }
          },
          "colorscale": {
           "diverging": [
            [
             0,
             "#8e0152"
            ],
            [
             0.1,
             "#c51b7d"
            ],
            [
             0.2,
             "#de77ae"
            ],
            [
             0.3,
             "#f1b6da"
            ],
            [
             0.4,
             "#fde0ef"
            ],
            [
             0.5,
             "#f7f7f7"
            ],
            [
             0.6,
             "#e6f5d0"
            ],
            [
             0.7,
             "#b8e186"
            ],
            [
             0.8,
             "#7fbc41"
            ],
            [
             0.9,
             "#4d9221"
            ],
            [
             1,
             "#276419"
            ]
           ],
           "sequential": [
            [
             0,
             "#0d0887"
            ],
            [
             0.1111111111111111,
             "#46039f"
            ],
            [
             0.2222222222222222,
             "#7201a8"
            ],
            [
             0.3333333333333333,
             "#9c179e"
            ],
            [
             0.4444444444444444,
             "#bd3786"
            ],
            [
             0.5555555555555556,
             "#d8576b"
            ],
            [
             0.6666666666666666,
             "#ed7953"
            ],
            [
             0.7777777777777778,
             "#fb9f3a"
            ],
            [
             0.8888888888888888,
             "#fdca26"
            ],
            [
             1,
             "#f0f921"
            ]
           ],
           "sequentialminus": [
            [
             0,
             "#0d0887"
            ],
            [
             0.1111111111111111,
             "#46039f"
            ],
            [
             0.2222222222222222,
             "#7201a8"
            ],
            [
             0.3333333333333333,
             "#9c179e"
            ],
            [
             0.4444444444444444,
             "#bd3786"
            ],
            [
             0.5555555555555556,
             "#d8576b"
            ],
            [
             0.6666666666666666,
             "#ed7953"
            ],
            [
             0.7777777777777778,
             "#fb9f3a"
            ],
            [
             0.8888888888888888,
             "#fdca26"
            ],
            [
             1,
             "#f0f921"
            ]
           ]
          },
          "colorway": [
           "#636efa",
           "#EF553B",
           "#00cc96",
           "#ab63fa",
           "#FFA15A",
           "#19d3f3",
           "#FF6692",
           "#B6E880",
           "#FF97FF",
           "#FECB52"
          ],
          "font": {
           "color": "#2a3f5f"
          },
          "geo": {
           "bgcolor": "white",
           "lakecolor": "white",
           "landcolor": "white",
           "showlakes": true,
           "showland": true,
           "subunitcolor": "#C8D4E3"
          },
          "hoverlabel": {
           "align": "left"
          },
          "hovermode": "closest",
          "mapbox": {
           "style": "light"
          },
          "paper_bgcolor": "white",
          "plot_bgcolor": "white",
          "polar": {
           "angularaxis": {
            "gridcolor": "#EBF0F8",
            "linecolor": "#EBF0F8",
            "ticks": ""
           },
           "bgcolor": "white",
           "radialaxis": {
            "gridcolor": "#EBF0F8",
            "linecolor": "#EBF0F8",
            "ticks": ""
           }
          },
          "scene": {
           "xaxis": {
            "backgroundcolor": "white",
            "gridcolor": "#DFE8F3",
            "gridwidth": 2,
            "linecolor": "#EBF0F8",
            "showbackground": true,
            "ticks": "",
            "zerolinecolor": "#EBF0F8"
           },
           "yaxis": {
            "backgroundcolor": "white",
            "gridcolor": "#DFE8F3",
            "gridwidth": 2,
            "linecolor": "#EBF0F8",
            "showbackground": true,
            "ticks": "",
            "zerolinecolor": "#EBF0F8"
           },
           "zaxis": {
            "backgroundcolor": "white",
            "gridcolor": "#DFE8F3",
            "gridwidth": 2,
            "linecolor": "#EBF0F8",
            "showbackground": true,
            "ticks": "",
            "zerolinecolor": "#EBF0F8"
           }
          },
          "shapedefaults": {
           "line": {
            "color": "#2a3f5f"
           }
          },
          "ternary": {
           "aaxis": {
            "gridcolor": "#DFE8F3",
            "linecolor": "#A2B1C6",
            "ticks": ""
           },
           "baxis": {
            "gridcolor": "#DFE8F3",
            "linecolor": "#A2B1C6",
            "ticks": ""
           },
           "bgcolor": "white",
           "caxis": {
            "gridcolor": "#DFE8F3",
            "linecolor": "#A2B1C6",
            "ticks": ""
           }
          },
          "title": {
           "x": 0.05
          },
          "xaxis": {
           "automargin": true,
           "gridcolor": "#EBF0F8",
           "linecolor": "#EBF0F8",
           "ticks": "",
           "title": {
            "standoff": 15
           },
           "zerolinecolor": "#EBF0F8",
           "zerolinewidth": 2
          },
          "yaxis": {
           "automargin": true,
           "gridcolor": "#EBF0F8",
           "linecolor": "#EBF0F8",
           "ticks": "",
           "title": {
            "standoff": 15
           },
           "zerolinecolor": "#EBF0F8",
           "zerolinewidth": 2
          }
         }
        },
        "title": {
         "font": {
          "color": "#023E8A",
          "size": 18
         },
         "text": "Distribuição do Tempo de Espera para Atendimento no FAV"
        },
        "xaxis": {
         "anchor": "y",
         "domain": [
          0,
          1
         ],
         "gridcolor": "#F8F9FA",
         "linecolor": "#6C757D",
         "tickfont": {
          "color": "#023E8A"
         },
         "title": {
          "text": "Tempo de espera (dias)"
         }
        },
        "yaxis": {
         "anchor": "x",
         "domain": [
          0,
          1
         ],
         "gridcolor": "#F8F9FA",
         "linecolor": "#6C757D",
         "tickfont": {
          "color": "#023E8A"
         },
         "title": {
          "text": "Quantidade de pessoas"
         }
        }
       }
      }
     },
     "metadata": {},
     "output_type": "display_data"
    }
   ],
   "source": [
    "# Gráfico de tempo de espera\n",
    "max_tempo = df_espera['tempo_entre_fav_e_primeira_dialise'].max()\n",
    "bins = list(range(0, int(max_tempo) + 10, 10))\n",
    "\n",
    "# Plotar histograma\n",
    "fig1_p1 = px.histogram(\n",
    "    df_espera,\n",
    "    x='tempo_entre_fav_e_primeira_dialise',\n",
    "    nbins=len(bins),\n",
    "    title='Distribuição do Tempo de Espera para Atendimento no FAV',\n",
    "    labels={\n",
    "        'tempo_entre_fav_e_primeira_dialise': 'Tempo de espera (dias)',\n",
    "        'count': 'Quantidade de pessoas'\n",
    "    },\n",
    "    color_discrete_sequence=[paleta['azul_principal']]  # Cor das barras\n",
    ")\n",
    "\n",
    "# Layout personalizado com a paleta\n",
    "fig1_p1.update_layout(\n",
    "    xaxis_title='Tempo de espera (dias)',\n",
    "    yaxis_title='Quantidade de pessoas',\n",
    "    bargap=0.05,\n",
    "    template='plotly_white',\n",
    "    plot_bgcolor=paleta['fundo'],\n",
    "    paper_bgcolor=paleta['fundo'],\n",
    "    font=dict(color=paleta['azul_escuro']),\n",
    "    title_font=dict(size=18, color=paleta['azul_escuro']),\n",
    "    xaxis=dict(\n",
    "        gridcolor=paleta['cinza_claro'],\n",
    "        linecolor=paleta['cinza_texto'],\n",
    "        tickfont=dict(color=paleta['azul_escuro'])\n",
    "    ),\n",
    "    yaxis=dict(\n",
    "        gridcolor=paleta['cinza_claro'],\n",
    "        linecolor=paleta['cinza_texto'],\n",
    "        tickfont=dict(color=paleta['azul_escuro'])\n",
    "    )\n",
    ")\n",
    "\n",
    "fig1_p1.show()"
   ]
  },
  {
   "cell_type": "code",
   "execution_count": 14,
   "id": "263aa07d",
   "metadata": {},
   "outputs": [
    {
     "data": {
      "application/vnd.plotly.v1+json": {
       "config": {
        "plotlyServerURL": "https://plot.ly"
       },
       "data": [
        {
         "hovertemplate": "Ano da Primeira Diálise=%{x}<br>Tempo médio de espera (dias)=%{marker.color}<extra></extra>",
         "legendgroup": "",
         "marker": {
          "color": {
           "bdata": "m0DhZKwpfEC5i7u4i3tuQCpnt/CrMWtADEVmi1qta0Ar+TYtV/xmQKzmE15IMGRA6D6tJRBQY0B4IH4H4sdhQC6GdN5iWGJARSFsH+arXUDWXoEchJVRQA==",
           "dtype": "f8"
          },
          "coloraxis": "coloraxis",
          "pattern": {
           "shape": ""
          }
         },
         "name": "",
         "orientation": "v",
         "showlegend": false,
         "text": {
          "bdata": "m0DhZKwpfEC5i7u4i3tuQCpnt/CrMWtADEVmi1qta0Ar+TYtV/xmQKzmE15IMGRA6D6tJRBQY0B4IH4H4sdhQC6GdN5iWGJARSFsH+arXUDWXoEchJVRQA==",
          "dtype": "f8"
         },
         "textposition": "outside",
         "texttemplate": "%{text:.0f} dias",
         "type": "bar",
         "x": {
          "bdata": "3gcAAN8HAADgBwAA4QcAAOIHAADjBwAA5AcAAOUHAADmBwAA5wcAAOgHAAA=",
          "dtype": "i4"
         },
         "xaxis": "x",
         "y": {
          "bdata": "m0DhZKwpfEC5i7u4i3tuQCpnt/CrMWtADEVmi1qta0Ar+TYtV/xmQKzmE15IMGRA6D6tJRBQY0B4IH4H4sdhQC6GdN5iWGJARSFsH+arXUDWXoEchJVRQA==",
          "dtype": "f8"
         },
         "yaxis": "y"
        }
       ],
       "layout": {
        "barmode": "relative",
        "coloraxis": {
         "colorbar": {
          "title": {
           "text": "Tempo médio de espera (dias)"
          }
         },
         "colorscale": [
          [
           0,
           "rgb(247,251,255)"
          ],
          [
           0.125,
           "rgb(222,235,247)"
          ],
          [
           0.25,
           "rgb(198,219,239)"
          ],
          [
           0.375,
           "rgb(158,202,225)"
          ],
          [
           0.5,
           "rgb(107,174,214)"
          ],
          [
           0.625,
           "rgb(66,146,198)"
          ],
          [
           0.75,
           "rgb(33,113,181)"
          ],
          [
           0.875,
           "rgb(8,81,156)"
          ],
          [
           1,
           "rgb(8,48,107)"
          ]
         ]
        },
        "height": 500,
        "legend": {
         "tracegroupgap": 0
        },
        "plot_bgcolor": "white",
        "template": {
         "data": {
          "bar": [
           {
            "error_x": {
             "color": "#2a3f5f"
            },
            "error_y": {
             "color": "#2a3f5f"
            },
            "marker": {
             "line": {
              "color": "#E5ECF6",
              "width": 0.5
             },
             "pattern": {
              "fillmode": "overlay",
              "size": 10,
              "solidity": 0.2
             }
            },
            "type": "bar"
           }
          ],
          "barpolar": [
           {
            "marker": {
             "line": {
              "color": "#E5ECF6",
              "width": 0.5
             },
             "pattern": {
              "fillmode": "overlay",
              "size": 10,
              "solidity": 0.2
             }
            },
            "type": "barpolar"
           }
          ],
          "carpet": [
           {
            "aaxis": {
             "endlinecolor": "#2a3f5f",
             "gridcolor": "white",
             "linecolor": "white",
             "minorgridcolor": "white",
             "startlinecolor": "#2a3f5f"
            },
            "baxis": {
             "endlinecolor": "#2a3f5f",
             "gridcolor": "white",
             "linecolor": "white",
             "minorgridcolor": "white",
             "startlinecolor": "#2a3f5f"
            },
            "type": "carpet"
           }
          ],
          "choropleth": [
           {
            "colorbar": {
             "outlinewidth": 0,
             "ticks": ""
            },
            "type": "choropleth"
           }
          ],
          "contour": [
           {
            "colorbar": {
             "outlinewidth": 0,
             "ticks": ""
            },
            "colorscale": [
             [
              0,
              "#0d0887"
             ],
             [
              0.1111111111111111,
              "#46039f"
             ],
             [
              0.2222222222222222,
              "#7201a8"
             ],
             [
              0.3333333333333333,
              "#9c179e"
             ],
             [
              0.4444444444444444,
              "#bd3786"
             ],
             [
              0.5555555555555556,
              "#d8576b"
             ],
             [
              0.6666666666666666,
              "#ed7953"
             ],
             [
              0.7777777777777778,
              "#fb9f3a"
             ],
             [
              0.8888888888888888,
              "#fdca26"
             ],
             [
              1,
              "#f0f921"
             ]
            ],
            "type": "contour"
           }
          ],
          "contourcarpet": [
           {
            "colorbar": {
             "outlinewidth": 0,
             "ticks": ""
            },
            "type": "contourcarpet"
           }
          ],
          "heatmap": [
           {
            "colorbar": {
             "outlinewidth": 0,
             "ticks": ""
            },
            "colorscale": [
             [
              0,
              "#0d0887"
             ],
             [
              0.1111111111111111,
              "#46039f"
             ],
             [
              0.2222222222222222,
              "#7201a8"
             ],
             [
              0.3333333333333333,
              "#9c179e"
             ],
             [
              0.4444444444444444,
              "#bd3786"
             ],
             [
              0.5555555555555556,
              "#d8576b"
             ],
             [
              0.6666666666666666,
              "#ed7953"
             ],
             [
              0.7777777777777778,
              "#fb9f3a"
             ],
             [
              0.8888888888888888,
              "#fdca26"
             ],
             [
              1,
              "#f0f921"
             ]
            ],
            "type": "heatmap"
           }
          ],
          "histogram": [
           {
            "marker": {
             "pattern": {
              "fillmode": "overlay",
              "size": 10,
              "solidity": 0.2
             }
            },
            "type": "histogram"
           }
          ],
          "histogram2d": [
           {
            "colorbar": {
             "outlinewidth": 0,
             "ticks": ""
            },
            "colorscale": [
             [
              0,
              "#0d0887"
             ],
             [
              0.1111111111111111,
              "#46039f"
             ],
             [
              0.2222222222222222,
              "#7201a8"
             ],
             [
              0.3333333333333333,
              "#9c179e"
             ],
             [
              0.4444444444444444,
              "#bd3786"
             ],
             [
              0.5555555555555556,
              "#d8576b"
             ],
             [
              0.6666666666666666,
              "#ed7953"
             ],
             [
              0.7777777777777778,
              "#fb9f3a"
             ],
             [
              0.8888888888888888,
              "#fdca26"
             ],
             [
              1,
              "#f0f921"
             ]
            ],
            "type": "histogram2d"
           }
          ],
          "histogram2dcontour": [
           {
            "colorbar": {
             "outlinewidth": 0,
             "ticks": ""
            },
            "colorscale": [
             [
              0,
              "#0d0887"
             ],
             [
              0.1111111111111111,
              "#46039f"
             ],
             [
              0.2222222222222222,
              "#7201a8"
             ],
             [
              0.3333333333333333,
              "#9c179e"
             ],
             [
              0.4444444444444444,
              "#bd3786"
             ],
             [
              0.5555555555555556,
              "#d8576b"
             ],
             [
              0.6666666666666666,
              "#ed7953"
             ],
             [
              0.7777777777777778,
              "#fb9f3a"
             ],
             [
              0.8888888888888888,
              "#fdca26"
             ],
             [
              1,
              "#f0f921"
             ]
            ],
            "type": "histogram2dcontour"
           }
          ],
          "mesh3d": [
           {
            "colorbar": {
             "outlinewidth": 0,
             "ticks": ""
            },
            "type": "mesh3d"
           }
          ],
          "parcoords": [
           {
            "line": {
             "colorbar": {
              "outlinewidth": 0,
              "ticks": ""
             }
            },
            "type": "parcoords"
           }
          ],
          "pie": [
           {
            "automargin": true,
            "type": "pie"
           }
          ],
          "scatter": [
           {
            "fillpattern": {
             "fillmode": "overlay",
             "size": 10,
             "solidity": 0.2
            },
            "type": "scatter"
           }
          ],
          "scatter3d": [
           {
            "line": {
             "colorbar": {
              "outlinewidth": 0,
              "ticks": ""
             }
            },
            "marker": {
             "colorbar": {
              "outlinewidth": 0,
              "ticks": ""
             }
            },
            "type": "scatter3d"
           }
          ],
          "scattercarpet": [
           {
            "marker": {
             "colorbar": {
              "outlinewidth": 0,
              "ticks": ""
             }
            },
            "type": "scattercarpet"
           }
          ],
          "scattergeo": [
           {
            "marker": {
             "colorbar": {
              "outlinewidth": 0,
              "ticks": ""
             }
            },
            "type": "scattergeo"
           }
          ],
          "scattergl": [
           {
            "marker": {
             "colorbar": {
              "outlinewidth": 0,
              "ticks": ""
             }
            },
            "type": "scattergl"
           }
          ],
          "scattermap": [
           {
            "marker": {
             "colorbar": {
              "outlinewidth": 0,
              "ticks": ""
             }
            },
            "type": "scattermap"
           }
          ],
          "scattermapbox": [
           {
            "marker": {
             "colorbar": {
              "outlinewidth": 0,
              "ticks": ""
             }
            },
            "type": "scattermapbox"
           }
          ],
          "scatterpolar": [
           {
            "marker": {
             "colorbar": {
              "outlinewidth": 0,
              "ticks": ""
             }
            },
            "type": "scatterpolar"
           }
          ],
          "scatterpolargl": [
           {
            "marker": {
             "colorbar": {
              "outlinewidth": 0,
              "ticks": ""
             }
            },
            "type": "scatterpolargl"
           }
          ],
          "scatterternary": [
           {
            "marker": {
             "colorbar": {
              "outlinewidth": 0,
              "ticks": ""
             }
            },
            "type": "scatterternary"
           }
          ],
          "surface": [
           {
            "colorbar": {
             "outlinewidth": 0,
             "ticks": ""
            },
            "colorscale": [
             [
              0,
              "#0d0887"
             ],
             [
              0.1111111111111111,
              "#46039f"
             ],
             [
              0.2222222222222222,
              "#7201a8"
             ],
             [
              0.3333333333333333,
              "#9c179e"
             ],
             [
              0.4444444444444444,
              "#bd3786"
             ],
             [
              0.5555555555555556,
              "#d8576b"
             ],
             [
              0.6666666666666666,
              "#ed7953"
             ],
             [
              0.7777777777777778,
              "#fb9f3a"
             ],
             [
              0.8888888888888888,
              "#fdca26"
             ],
             [
              1,
              "#f0f921"
             ]
            ],
            "type": "surface"
           }
          ],
          "table": [
           {
            "cells": {
             "fill": {
              "color": "#EBF0F8"
             },
             "line": {
              "color": "white"
             }
            },
            "header": {
             "fill": {
              "color": "#C8D4E3"
             },
             "line": {
              "color": "white"
             }
            },
            "type": "table"
           }
          ]
         },
         "layout": {
          "annotationdefaults": {
           "arrowcolor": "#2a3f5f",
           "arrowhead": 0,
           "arrowwidth": 1
          },
          "autotypenumbers": "strict",
          "coloraxis": {
           "colorbar": {
            "outlinewidth": 0,
            "ticks": ""
           }
          },
          "colorscale": {
           "diverging": [
            [
             0,
             "#8e0152"
            ],
            [
             0.1,
             "#c51b7d"
            ],
            [
             0.2,
             "#de77ae"
            ],
            [
             0.3,
             "#f1b6da"
            ],
            [
             0.4,
             "#fde0ef"
            ],
            [
             0.5,
             "#f7f7f7"
            ],
            [
             0.6,
             "#e6f5d0"
            ],
            [
             0.7,
             "#b8e186"
            ],
            [
             0.8,
             "#7fbc41"
            ],
            [
             0.9,
             "#4d9221"
            ],
            [
             1,
             "#276419"
            ]
           ],
           "sequential": [
            [
             0,
             "#0d0887"
            ],
            [
             0.1111111111111111,
             "#46039f"
            ],
            [
             0.2222222222222222,
             "#7201a8"
            ],
            [
             0.3333333333333333,
             "#9c179e"
            ],
            [
             0.4444444444444444,
             "#bd3786"
            ],
            [
             0.5555555555555556,
             "#d8576b"
            ],
            [
             0.6666666666666666,
             "#ed7953"
            ],
            [
             0.7777777777777778,
             "#fb9f3a"
            ],
            [
             0.8888888888888888,
             "#fdca26"
            ],
            [
             1,
             "#f0f921"
            ]
           ],
           "sequentialminus": [
            [
             0,
             "#0d0887"
            ],
            [
             0.1111111111111111,
             "#46039f"
            ],
            [
             0.2222222222222222,
             "#7201a8"
            ],
            [
             0.3333333333333333,
             "#9c179e"
            ],
            [
             0.4444444444444444,
             "#bd3786"
            ],
            [
             0.5555555555555556,
             "#d8576b"
            ],
            [
             0.6666666666666666,
             "#ed7953"
            ],
            [
             0.7777777777777778,
             "#fb9f3a"
            ],
            [
             0.8888888888888888,
             "#fdca26"
            ],
            [
             1,
             "#f0f921"
            ]
           ]
          },
          "colorway": [
           "#636efa",
           "#EF553B",
           "#00cc96",
           "#ab63fa",
           "#FFA15A",
           "#19d3f3",
           "#FF6692",
           "#B6E880",
           "#FF97FF",
           "#FECB52"
          ],
          "font": {
           "color": "#2a3f5f"
          },
          "geo": {
           "bgcolor": "white",
           "lakecolor": "white",
           "landcolor": "#E5ECF6",
           "showlakes": true,
           "showland": true,
           "subunitcolor": "white"
          },
          "hoverlabel": {
           "align": "left"
          },
          "hovermode": "closest",
          "mapbox": {
           "style": "light"
          },
          "paper_bgcolor": "white",
          "plot_bgcolor": "#E5ECF6",
          "polar": {
           "angularaxis": {
            "gridcolor": "white",
            "linecolor": "white",
            "ticks": ""
           },
           "bgcolor": "#E5ECF6",
           "radialaxis": {
            "gridcolor": "white",
            "linecolor": "white",
            "ticks": ""
           }
          },
          "scene": {
           "xaxis": {
            "backgroundcolor": "#E5ECF6",
            "gridcolor": "white",
            "gridwidth": 2,
            "linecolor": "white",
            "showbackground": true,
            "ticks": "",
            "zerolinecolor": "white"
           },
           "yaxis": {
            "backgroundcolor": "#E5ECF6",
            "gridcolor": "white",
            "gridwidth": 2,
            "linecolor": "white",
            "showbackground": true,
            "ticks": "",
            "zerolinecolor": "white"
           },
           "zaxis": {
            "backgroundcolor": "#E5ECF6",
            "gridcolor": "white",
            "gridwidth": 2,
            "linecolor": "white",
            "showbackground": true,
            "ticks": "",
            "zerolinecolor": "white"
           }
          },
          "shapedefaults": {
           "line": {
            "color": "#2a3f5f"
           }
          },
          "ternary": {
           "aaxis": {
            "gridcolor": "white",
            "linecolor": "white",
            "ticks": ""
           },
           "baxis": {
            "gridcolor": "white",
            "linecolor": "white",
            "ticks": ""
           },
           "bgcolor": "#E5ECF6",
           "caxis": {
            "gridcolor": "white",
            "linecolor": "white",
            "ticks": ""
           }
          },
          "title": {
           "x": 0.05
          },
          "xaxis": {
           "automargin": true,
           "gridcolor": "white",
           "linecolor": "white",
           "ticks": "",
           "title": {
            "standoff": 15
           },
           "zerolinecolor": "white",
           "zerolinewidth": 2
          },
          "yaxis": {
           "automargin": true,
           "gridcolor": "white",
           "linecolor": "white",
           "ticks": "",
           "title": {
            "standoff": 15
           },
           "zerolinecolor": "white",
           "zerolinewidth": 2
          }
         }
        },
        "title": {
         "text": "Tempo Médio de Espera por Ano da Primeira Diálise até a FAV"
        },
        "uniformtext": {
         "minsize": 8,
         "mode": "hide"
        },
        "width": 900,
        "xaxis": {
         "anchor": "y",
         "domain": [
          0,
          1
         ],
         "tickmode": "linear",
         "title": {
          "text": "Ano da primeira diálise"
         }
        },
        "yaxis": {
         "anchor": "x",
         "domain": [
          0,
          1
         ],
         "title": {
          "text": "Tempo médio de espera (dias)"
         }
        }
       }
      }
     },
     "metadata": {},
     "output_type": "display_data"
    }
   ],
   "source": [
    "df_espera['ano_primeira_dialise'] = df_espera['data_primeira_dialise'].dt.year\n",
    "df_agrupado = df_espera.groupby('ano_primeira_dialise')['tempo_entre_fav_e_primeira_dialise'].mean().reset_index()\n",
    "\n",
    "fig2_p1 = px.bar(\n",
    "    df_agrupado,\n",
    "    x='ano_primeira_dialise',\n",
    "    y='tempo_entre_fav_e_primeira_dialise',\n",
    "    text='tempo_entre_fav_e_primeira_dialise',\n",
    "    labels={\n",
    "        'ano_primeira_dialise': 'Ano da Primeira Diálise',\n",
    "        'tempo_entre_fav_e_primeira_dialise': 'Tempo médio de espera (dias)'\n",
    "    },\n",
    "    title='Tempo Médio de Espera por Ano da Primeira Diálise até a FAV',\n",
    "    color='tempo_entre_fav_e_primeira_dialise',\n",
    "    color_continuous_scale='Blues'\n",
    ")\n",
    "\n",
    "# Personalizar layout\n",
    "fig2_p1.update_traces(texttemplate='%{text:.0f} dias', textposition='outside')\n",
    "\n",
    "fig2_p1.update_layout(\n",
    "    xaxis=dict(tickmode='linear'),\n",
    "    yaxis_title='Tempo médio de espera (dias)',\n",
    "    xaxis_title='Ano da primeira diálise',\n",
    "    uniformtext_minsize=8,\n",
    "    uniformtext_mode='hide',\n",
    "    plot_bgcolor='white',\n",
    "    width=900,\n",
    "    height=500\n",
    ")\n",
    "\n",
    "fig2_p1.show()\n"
   ]
  },
  {
   "cell_type": "markdown",
   "id": "9d0940cc",
   "metadata": {},
   "source": [
    "# 2) Houve mudanças na demora ao longo dos anos, especialmente em períodos críticos como a pandemia de COVID-19?"
   ]
  },
  {
   "cell_type": "code",
   "execution_count": null,
   "id": "bd4843c6",
   "metadata": {},
   "outputs": [
    {
     "data": {
      "application/vnd.plotly.v1+json": {
       "config": {
        "plotlyServerURL": "https://plot.ly"
       },
       "data": [
        {
         "line": {
          "color": "#0077B6",
          "width": 3
         },
         "mode": "lines",
         "name": "Tempo médio de espera",
         "type": "scatter",
         "x": [
          "2014-01-01T00:00:00.000000000",
          "2014-02-01T00:00:00.000000000",
          "2014-03-01T00:00:00.000000000",
          "2014-04-01T00:00:00.000000000",
          "2014-05-01T00:00:00.000000000",
          "2014-06-01T00:00:00.000000000",
          "2014-07-01T00:00:00.000000000",
          "2014-08-01T00:00:00.000000000",
          "2014-09-01T00:00:00.000000000",
          "2014-10-01T00:00:00.000000000",
          "2014-11-01T00:00:00.000000000",
          "2014-12-01T00:00:00.000000000",
          "2015-01-01T00:00:00.000000000",
          "2015-02-01T00:00:00.000000000",
          "2015-03-01T00:00:00.000000000",
          "2015-04-01T00:00:00.000000000",
          "2015-05-01T00:00:00.000000000",
          "2015-06-01T00:00:00.000000000",
          "2015-07-01T00:00:00.000000000",
          "2015-08-01T00:00:00.000000000",
          "2015-09-01T00:00:00.000000000",
          "2015-10-01T00:00:00.000000000",
          "2015-11-01T00:00:00.000000000",
          "2015-12-01T00:00:00.000000000",
          "2016-01-01T00:00:00.000000000",
          "2016-02-01T00:00:00.000000000",
          "2016-03-01T00:00:00.000000000",
          "2016-04-01T00:00:00.000000000",
          "2016-05-01T00:00:00.000000000",
          "2016-06-01T00:00:00.000000000",
          "2016-07-01T00:00:00.000000000",
          "2016-08-01T00:00:00.000000000",
          "2016-09-01T00:00:00.000000000",
          "2016-10-01T00:00:00.000000000",
          "2016-11-01T00:00:00.000000000",
          "2016-12-01T00:00:00.000000000",
          "2017-01-01T00:00:00.000000000",
          "2017-02-01T00:00:00.000000000",
          "2017-03-01T00:00:00.000000000",
          "2017-04-01T00:00:00.000000000",
          "2017-05-01T00:00:00.000000000",
          "2017-06-01T00:00:00.000000000",
          "2017-07-01T00:00:00.000000000",
          "2017-08-01T00:00:00.000000000",
          "2017-09-01T00:00:00.000000000",
          "2017-10-01T00:00:00.000000000",
          "2017-11-01T00:00:00.000000000",
          "2017-12-01T00:00:00.000000000",
          "2018-01-01T00:00:00.000000000",
          "2018-02-01T00:00:00.000000000",
          "2018-03-01T00:00:00.000000000",
          "2018-04-01T00:00:00.000000000",
          "2018-05-01T00:00:00.000000000",
          "2018-06-01T00:00:00.000000000",
          "2018-07-01T00:00:00.000000000",
          "2018-08-01T00:00:00.000000000",
          "2018-09-01T00:00:00.000000000",
          "2018-10-01T00:00:00.000000000",
          "2018-11-01T00:00:00.000000000",
          "2018-12-01T00:00:00.000000000",
          "2019-01-01T00:00:00.000000000",
          "2019-02-01T00:00:00.000000000",
          "2019-03-01T00:00:00.000000000",
          "2019-04-01T00:00:00.000000000",
          "2019-05-01T00:00:00.000000000",
          "2019-06-01T00:00:00.000000000",
          "2019-07-01T00:00:00.000000000",
          "2019-08-01T00:00:00.000000000",
          "2019-09-01T00:00:00.000000000",
          "2019-10-01T00:00:00.000000000",
          "2019-11-01T00:00:00.000000000",
          "2019-12-01T00:00:00.000000000",
          "2020-01-01T00:00:00.000000000",
          "2020-02-01T00:00:00.000000000",
          "2020-03-01T00:00:00.000000000",
          "2020-04-01T00:00:00.000000000",
          "2020-05-01T00:00:00.000000000",
          "2020-06-01T00:00:00.000000000",
          "2020-07-01T00:00:00.000000000",
          "2020-08-01T00:00:00.000000000",
          "2020-09-01T00:00:00.000000000",
          "2020-10-01T00:00:00.000000000",
          "2020-11-01T00:00:00.000000000",
          "2020-12-01T00:00:00.000000000",
          "2021-01-01T00:00:00.000000000",
          "2021-02-01T00:00:00.000000000",
          "2021-03-01T00:00:00.000000000",
          "2021-04-01T00:00:00.000000000",
          "2021-05-01T00:00:00.000000000",
          "2021-06-01T00:00:00.000000000",
          "2021-07-01T00:00:00.000000000",
          "2021-08-01T00:00:00.000000000",
          "2021-09-01T00:00:00.000000000",
          "2021-10-01T00:00:00.000000000",
          "2021-11-01T00:00:00.000000000",
          "2021-12-01T00:00:00.000000000",
          "2022-01-01T00:00:00.000000000",
          "2022-02-01T00:00:00.000000000",
          "2022-03-01T00:00:00.000000000",
          "2022-04-01T00:00:00.000000000",
          "2022-05-01T00:00:00.000000000",
          "2022-06-01T00:00:00.000000000",
          "2022-07-01T00:00:00.000000000",
          "2022-08-01T00:00:00.000000000",
          "2022-09-01T00:00:00.000000000",
          "2022-10-01T00:00:00.000000000",
          "2022-11-01T00:00:00.000000000",
          "2022-12-01T00:00:00.000000000",
          "2023-01-01T00:00:00.000000000",
          "2023-02-01T00:00:00.000000000",
          "2023-03-01T00:00:00.000000000",
          "2023-04-01T00:00:00.000000000",
          "2023-05-01T00:00:00.000000000",
          "2023-06-01T00:00:00.000000000",
          "2023-07-01T00:00:00.000000000",
          "2023-08-01T00:00:00.000000000",
          "2023-09-01T00:00:00.000000000",
          "2023-10-01T00:00:00.000000000",
          "2023-11-01T00:00:00.000000000",
          "2023-12-01T00:00:00.000000000",
          "2024-01-01T00:00:00.000000000",
          "2024-02-01T00:00:00.000000000",
          "2024-03-01T00:00:00.000000000",
          "2024-04-01T00:00:00.000000000",
          "2024-05-01T00:00:00.000000000",
          "2024-06-01T00:00:00.000000000",
          "2024-07-01T00:00:00.000000000",
          "2024-08-01T00:00:00.000000000",
          "2024-09-01T00:00:00.000000000"
         ],
         "y": {
          "bdata": "uuiiiy50i0AZnI/B+RiQQG7btm3b9opAdmIndmIBhEBQcckQrHuCQBQUFBQUpHRAi5swv6tFbECvRO1K1GZxQIhKR/YMBHNAfdYNpshfdkDKJptssslvQAd1UAd1IHRArfyEOCvfbkB2tHmf4iJ2QOU1lNdQtm5AtbS0tLQ0YkBTK7VSK5VpQEtH9gxExWtAymsor6Gsb0DohV7ohV5qQAAAAAAAsGxArfyEOCufbUDjK77iK45xQAAAAADAiHFAfPDBBx9MbEB5DeU1lAdwQAAAAAAAJG1AJr9Y8ovlYkAAAAAAwPh0QBy5kRu5EVdAqIM6qINKakDirPyEOEtwQL2G8hrKY25ATjbZZJMNYUAAAAAAgCdsQJqZmZmZGW9AAAAAAADqZkB605ve9EZuQFmWZVmWxWdAkYUsZCHbZUAWX/EVXwFtQKuqqqqqPm5A3zE1sHesZEB3d3d3d1dyQA4cOHDggG5AMI+tCBrObECO4ziO4zRpQBzHcRzHsWxAm2yyySabYUBcvuVbvqVtQNu2bdu2uWZADw8PDw+/ZUB7x9TA3nFuQGqC8Vb2eWlAAAAAAABQZkBVVVVVVXFpQJqmaZqmCW9A6Hme53nOYkDwwQcffMBhQFBxyRCsY19AtJfQXkIbZ0DJEKyjzXtjQFLiZ5T4WV1AMZ3FdBazZ0A/gvsI7gNoQIiHh4eHh11A3IT5XS3uZ0CISkf2DKRrQLdt27ZtY2JAbMEWbMEWYUBPG+i0gW5lQK+hvIbyql9AKVyPwvXoa0DFTuzETmRrQAAAAAAARmNAspCFLGQBVECrqqqqquphQAAAAAAAQFxA6wZT5LN+YUAHU+SzbkBgQMhWBA0ntWFAjuM4juNAZkCvXr169aplQDvavE9xyWBAK/scUhPMX0CvobyG8lpcQFf2OaQm2GZAdrR5n+IyYEA3ciM3cqNiQHIcx3Ecu2FAG8prKK+pYkDS1Pm1h5xhQFdqpVZqJWBAs6asKWvqZECkQRqkQZpgQHepJ+O3K2FAAAAAAAC6ZUAN5TWU1+BjQMs9jbDcM2RAH3zwwQevY0ByHMdxHEdjQMmN3MiNHGJAJUmSJEmiXUBUOrJnIAphQODp1vywyF9AZmZmZmamZECXlpaWlq5iQFVVVVVV9V5AISEhISEhY0AAAAAAgEthQFRcMgTrqF5ALL7iK76iWUBjIj1QOTthQNYNpshn/V1AMzMzMzOzWkAzMzMzM79aQMprKK+hnF5A5MePHz++WkDy48ePH79ZQFVVVVVV4VZAep7neZ6nVUAs9zTCcq9WQMxjK4KGk1RAiYiIiIjIVECrqqqqqt5RQOaeRljuqU9AriAmVxCTSkAzMzMzM0NCQPHw8PDw8EFA",
          "dtype": "f8"
         }
        }
       ],
       "layout": {
        "annotations": [
         {
          "font": {
           "color": "red",
           "size": 12
          },
          "showarrow": false,
          "text": "COVID-19",
          "x": "2020-03-01",
          "xanchor": "left",
          "xref": "x",
          "y": 1,
          "yanchor": "top",
          "yref": "y domain"
         }
        ],
        "font": {
         "color": "#023E8A"
        },
        "height": 500,
        "paper_bgcolor": "#FFFFFF",
        "plot_bgcolor": "#FFFFFF",
        "shapes": [
         {
          "fillcolor": "red",
          "layer": "below",
          "line": {
           "width": 0
          },
          "opacity": 0.2,
          "type": "rect",
          "x0": "2020-03-01",
          "x1": "2021-12-31",
          "xref": "x",
          "y0": 0,
          "y1": 1,
          "yref": "y domain"
         }
        ],
        "template": {
         "data": {
          "bar": [
           {
            "error_x": {
             "color": "#2a3f5f"
            },
            "error_y": {
             "color": "#2a3f5f"
            },
            "marker": {
             "line": {
              "color": "white",
              "width": 0.5
             },
             "pattern": {
              "fillmode": "overlay",
              "size": 10,
              "solidity": 0.2
             }
            },
            "type": "bar"
           }
          ],
          "barpolar": [
           {
            "marker": {
             "line": {
              "color": "white",
              "width": 0.5
             },
             "pattern": {
              "fillmode": "overlay",
              "size": 10,
              "solidity": 0.2
             }
            },
            "type": "barpolar"
           }
          ],
          "carpet": [
           {
            "aaxis": {
             "endlinecolor": "#2a3f5f",
             "gridcolor": "#C8D4E3",
             "linecolor": "#C8D4E3",
             "minorgridcolor": "#C8D4E3",
             "startlinecolor": "#2a3f5f"
            },
            "baxis": {
             "endlinecolor": "#2a3f5f",
             "gridcolor": "#C8D4E3",
             "linecolor": "#C8D4E3",
             "minorgridcolor": "#C8D4E3",
             "startlinecolor": "#2a3f5f"
            },
            "type": "carpet"
           }
          ],
          "choropleth": [
           {
            "colorbar": {
             "outlinewidth": 0,
             "ticks": ""
            },
            "type": "choropleth"
           }
          ],
          "contour": [
           {
            "colorbar": {
             "outlinewidth": 0,
             "ticks": ""
            },
            "colorscale": [
             [
              0,
              "#0d0887"
             ],
             [
              0.1111111111111111,
              "#46039f"
             ],
             [
              0.2222222222222222,
              "#7201a8"
             ],
             [
              0.3333333333333333,
              "#9c179e"
             ],
             [
              0.4444444444444444,
              "#bd3786"
             ],
             [
              0.5555555555555556,
              "#d8576b"
             ],
             [
              0.6666666666666666,
              "#ed7953"
             ],
             [
              0.7777777777777778,
              "#fb9f3a"
             ],
             [
              0.8888888888888888,
              "#fdca26"
             ],
             [
              1,
              "#f0f921"
             ]
            ],
            "type": "contour"
           }
          ],
          "contourcarpet": [
           {
            "colorbar": {
             "outlinewidth": 0,
             "ticks": ""
            },
            "type": "contourcarpet"
           }
          ],
          "heatmap": [
           {
            "colorbar": {
             "outlinewidth": 0,
             "ticks": ""
            },
            "colorscale": [
             [
              0,
              "#0d0887"
             ],
             [
              0.1111111111111111,
              "#46039f"
             ],
             [
              0.2222222222222222,
              "#7201a8"
             ],
             [
              0.3333333333333333,
              "#9c179e"
             ],
             [
              0.4444444444444444,
              "#bd3786"
             ],
             [
              0.5555555555555556,
              "#d8576b"
             ],
             [
              0.6666666666666666,
              "#ed7953"
             ],
             [
              0.7777777777777778,
              "#fb9f3a"
             ],
             [
              0.8888888888888888,
              "#fdca26"
             ],
             [
              1,
              "#f0f921"
             ]
            ],
            "type": "heatmap"
           }
          ],
          "histogram": [
           {
            "marker": {
             "pattern": {
              "fillmode": "overlay",
              "size": 10,
              "solidity": 0.2
             }
            },
            "type": "histogram"
           }
          ],
          "histogram2d": [
           {
            "colorbar": {
             "outlinewidth": 0,
             "ticks": ""
            },
            "colorscale": [
             [
              0,
              "#0d0887"
             ],
             [
              0.1111111111111111,
              "#46039f"
             ],
             [
              0.2222222222222222,
              "#7201a8"
             ],
             [
              0.3333333333333333,
              "#9c179e"
             ],
             [
              0.4444444444444444,
              "#bd3786"
             ],
             [
              0.5555555555555556,
              "#d8576b"
             ],
             [
              0.6666666666666666,
              "#ed7953"
             ],
             [
              0.7777777777777778,
              "#fb9f3a"
             ],
             [
              0.8888888888888888,
              "#fdca26"
             ],
             [
              1,
              "#f0f921"
             ]
            ],
            "type": "histogram2d"
           }
          ],
          "histogram2dcontour": [
           {
            "colorbar": {
             "outlinewidth": 0,
             "ticks": ""
            },
            "colorscale": [
             [
              0,
              "#0d0887"
             ],
             [
              0.1111111111111111,
              "#46039f"
             ],
             [
              0.2222222222222222,
              "#7201a8"
             ],
             [
              0.3333333333333333,
              "#9c179e"
             ],
             [
              0.4444444444444444,
              "#bd3786"
             ],
             [
              0.5555555555555556,
              "#d8576b"
             ],
             [
              0.6666666666666666,
              "#ed7953"
             ],
             [
              0.7777777777777778,
              "#fb9f3a"
             ],
             [
              0.8888888888888888,
              "#fdca26"
             ],
             [
              1,
              "#f0f921"
             ]
            ],
            "type": "histogram2dcontour"
           }
          ],
          "mesh3d": [
           {
            "colorbar": {
             "outlinewidth": 0,
             "ticks": ""
            },
            "type": "mesh3d"
           }
          ],
          "parcoords": [
           {
            "line": {
             "colorbar": {
              "outlinewidth": 0,
              "ticks": ""
             }
            },
            "type": "parcoords"
           }
          ],
          "pie": [
           {
            "automargin": true,
            "type": "pie"
           }
          ],
          "scatter": [
           {
            "fillpattern": {
             "fillmode": "overlay",
             "size": 10,
             "solidity": 0.2
            },
            "type": "scatter"
           }
          ],
          "scatter3d": [
           {
            "line": {
             "colorbar": {
              "outlinewidth": 0,
              "ticks": ""
             }
            },
            "marker": {
             "colorbar": {
              "outlinewidth": 0,
              "ticks": ""
             }
            },
            "type": "scatter3d"
           }
          ],
          "scattercarpet": [
           {
            "marker": {
             "colorbar": {
              "outlinewidth": 0,
              "ticks": ""
             }
            },
            "type": "scattercarpet"
           }
          ],
          "scattergeo": [
           {
            "marker": {
             "colorbar": {
              "outlinewidth": 0,
              "ticks": ""
             }
            },
            "type": "scattergeo"
           }
          ],
          "scattergl": [
           {
            "marker": {
             "colorbar": {
              "outlinewidth": 0,
              "ticks": ""
             }
            },
            "type": "scattergl"
           }
          ],
          "scattermap": [
           {
            "marker": {
             "colorbar": {
              "outlinewidth": 0,
              "ticks": ""
             }
            },
            "type": "scattermap"
           }
          ],
          "scattermapbox": [
           {
            "marker": {
             "colorbar": {
              "outlinewidth": 0,
              "ticks": ""
             }
            },
            "type": "scattermapbox"
           }
          ],
          "scatterpolar": [
           {
            "marker": {
             "colorbar": {
              "outlinewidth": 0,
              "ticks": ""
             }
            },
            "type": "scatterpolar"
           }
          ],
          "scatterpolargl": [
           {
            "marker": {
             "colorbar": {
              "outlinewidth": 0,
              "ticks": ""
             }
            },
            "type": "scatterpolargl"
           }
          ],
          "scatterternary": [
           {
            "marker": {
             "colorbar": {
              "outlinewidth": 0,
              "ticks": ""
             }
            },
            "type": "scatterternary"
           }
          ],
          "surface": [
           {
            "colorbar": {
             "outlinewidth": 0,
             "ticks": ""
            },
            "colorscale": [
             [
              0,
              "#0d0887"
             ],
             [
              0.1111111111111111,
              "#46039f"
             ],
             [
              0.2222222222222222,
              "#7201a8"
             ],
             [
              0.3333333333333333,
              "#9c179e"
             ],
             [
              0.4444444444444444,
              "#bd3786"
             ],
             [
              0.5555555555555556,
              "#d8576b"
             ],
             [
              0.6666666666666666,
              "#ed7953"
             ],
             [
              0.7777777777777778,
              "#fb9f3a"
             ],
             [
              0.8888888888888888,
              "#fdca26"
             ],
             [
              1,
              "#f0f921"
             ]
            ],
            "type": "surface"
           }
          ],
          "table": [
           {
            "cells": {
             "fill": {
              "color": "#EBF0F8"
             },
             "line": {
              "color": "white"
             }
            },
            "header": {
             "fill": {
              "color": "#C8D4E3"
             },
             "line": {
              "color": "white"
             }
            },
            "type": "table"
           }
          ]
         },
         "layout": {
          "annotationdefaults": {
           "arrowcolor": "#2a3f5f",
           "arrowhead": 0,
           "arrowwidth": 1
          },
          "autotypenumbers": "strict",
          "coloraxis": {
           "colorbar": {
            "outlinewidth": 0,
            "ticks": ""
           }
          },
          "colorscale": {
           "diverging": [
            [
             0,
             "#8e0152"
            ],
            [
             0.1,
             "#c51b7d"
            ],
            [
             0.2,
             "#de77ae"
            ],
            [
             0.3,
             "#f1b6da"
            ],
            [
             0.4,
             "#fde0ef"
            ],
            [
             0.5,
             "#f7f7f7"
            ],
            [
             0.6,
             "#e6f5d0"
            ],
            [
             0.7,
             "#b8e186"
            ],
            [
             0.8,
             "#7fbc41"
            ],
            [
             0.9,
             "#4d9221"
            ],
            [
             1,
             "#276419"
            ]
           ],
           "sequential": [
            [
             0,
             "#0d0887"
            ],
            [
             0.1111111111111111,
             "#46039f"
            ],
            [
             0.2222222222222222,
             "#7201a8"
            ],
            [
             0.3333333333333333,
             "#9c179e"
            ],
            [
             0.4444444444444444,
             "#bd3786"
            ],
            [
             0.5555555555555556,
             "#d8576b"
            ],
            [
             0.6666666666666666,
             "#ed7953"
            ],
            [
             0.7777777777777778,
             "#fb9f3a"
            ],
            [
             0.8888888888888888,
             "#fdca26"
            ],
            [
             1,
             "#f0f921"
            ]
           ],
           "sequentialminus": [
            [
             0,
             "#0d0887"
            ],
            [
             0.1111111111111111,
             "#46039f"
            ],
            [
             0.2222222222222222,
             "#7201a8"
            ],
            [
             0.3333333333333333,
             "#9c179e"
            ],
            [
             0.4444444444444444,
             "#bd3786"
            ],
            [
             0.5555555555555556,
             "#d8576b"
            ],
            [
             0.6666666666666666,
             "#ed7953"
            ],
            [
             0.7777777777777778,
             "#fb9f3a"
            ],
            [
             0.8888888888888888,
             "#fdca26"
            ],
            [
             1,
             "#f0f921"
            ]
           ]
          },
          "colorway": [
           "#636efa",
           "#EF553B",
           "#00cc96",
           "#ab63fa",
           "#FFA15A",
           "#19d3f3",
           "#FF6692",
           "#B6E880",
           "#FF97FF",
           "#FECB52"
          ],
          "font": {
           "color": "#2a3f5f"
          },
          "geo": {
           "bgcolor": "white",
           "lakecolor": "white",
           "landcolor": "white",
           "showlakes": true,
           "showland": true,
           "subunitcolor": "#C8D4E3"
          },
          "hoverlabel": {
           "align": "left"
          },
          "hovermode": "closest",
          "mapbox": {
           "style": "light"
          },
          "paper_bgcolor": "white",
          "plot_bgcolor": "white",
          "polar": {
           "angularaxis": {
            "gridcolor": "#EBF0F8",
            "linecolor": "#EBF0F8",
            "ticks": ""
           },
           "bgcolor": "white",
           "radialaxis": {
            "gridcolor": "#EBF0F8",
            "linecolor": "#EBF0F8",
            "ticks": ""
           }
          },
          "scene": {
           "xaxis": {
            "backgroundcolor": "white",
            "gridcolor": "#DFE8F3",
            "gridwidth": 2,
            "linecolor": "#EBF0F8",
            "showbackground": true,
            "ticks": "",
            "zerolinecolor": "#EBF0F8"
           },
           "yaxis": {
            "backgroundcolor": "white",
            "gridcolor": "#DFE8F3",
            "gridwidth": 2,
            "linecolor": "#EBF0F8",
            "showbackground": true,
            "ticks": "",
            "zerolinecolor": "#EBF0F8"
           },
           "zaxis": {
            "backgroundcolor": "white",
            "gridcolor": "#DFE8F3",
            "gridwidth": 2,
            "linecolor": "#EBF0F8",
            "showbackground": true,
            "ticks": "",
            "zerolinecolor": "#EBF0F8"
           }
          },
          "shapedefaults": {
           "line": {
            "color": "#2a3f5f"
           }
          },
          "ternary": {
           "aaxis": {
            "gridcolor": "#DFE8F3",
            "linecolor": "#A2B1C6",
            "ticks": ""
           },
           "baxis": {
            "gridcolor": "#DFE8F3",
            "linecolor": "#A2B1C6",
            "ticks": ""
           },
           "bgcolor": "white",
           "caxis": {
            "gridcolor": "#DFE8F3",
            "linecolor": "#A2B1C6",
            "ticks": ""
           }
          },
          "title": {
           "x": 0.05
          },
          "xaxis": {
           "automargin": true,
           "gridcolor": "#EBF0F8",
           "linecolor": "#EBF0F8",
           "ticks": "",
           "title": {
            "standoff": 15
           },
           "zerolinecolor": "#EBF0F8",
           "zerolinewidth": 2
          },
          "yaxis": {
           "automargin": true,
           "gridcolor": "#EBF0F8",
           "linecolor": "#EBF0F8",
           "ticks": "",
           "title": {
            "standoff": 15
           },
           "zerolinecolor": "#EBF0F8",
           "zerolinewidth": 2
          }
         }
        },
        "title": {
         "font": {
          "color": "#023E8A",
          "size": 18
         },
         "text": "Média do Tempo de Espera por Mês"
        },
        "width": 1000,
        "xaxis": {
         "dtick": "M12",
         "gridcolor": "#F8F9FA",
         "linecolor": "#6C757D",
         "showgrid": true,
         "tickfont": {
          "color": "#023E8A"
         },
         "tickformat": "%Y",
         "title": {
          "text": "Ano"
         }
        },
        "yaxis": {
         "gridcolor": "#F8F9FA",
         "linecolor": "#6C757D",
         "showgrid": true,
         "tickfont": {
          "color": "#023E8A"
         },
         "title": {
          "text": "Tempo médio de espera (dias)"
         }
        }
       }
      }
     },
     "metadata": {},
     "output_type": "display_data"
    }
   ],
   "source": [
    "# Garantir que a coluna data_primeira_dialise está em datetime\n",
    "df_espera['data_primeira_dialise'] = pd.to_datetime(df_espera['data_primeira_dialise'])\n",
    "\n",
    "# Criar coluna de ano-mês\n",
    "df_espera['ano_mes'] = df_espera['data_primeira_dialise'].dt.to_period('M').astype(str)\n",
    "\n",
    "# Agrupar por ano-mês\n",
    "df_mes = df_espera.groupby('ano_mes')['tempo_entre_fav_e_primeira_dialise'].mean().reset_index()\n",
    "\n",
    "# Converter ano-mês para datetime (para plotar no eixo)\n",
    "df_mes['ano_mes_dt'] = pd.to_datetime(df_mes['ano_mes'])\n",
    "\n",
    "# Gráfico de Linha (sem pontos)\n",
    "fig1_p2 = go.Figure()\n",
    "\n",
    "fig1_p2.add_trace(go.Scatter(\n",
    "    x=df_mes['ano_mes_dt'],\n",
    "    y=df_mes['tempo_entre_fav_e_primeira_dialise'],\n",
    "    mode='lines',\n",
    "    name='Tempo médio de espera',\n",
    "    line=dict(color=paleta['azul_principal'], width=3)\n",
    "))\n",
    "\n",
    "# Tarja vermelha para COVID-19 (março de 2020 até dezembro de 2021)\n",
    "fig1_p2.add_vrect(\n",
    "    x0=\"2020-03-01\", x1=\"2021-12-31\",\n",
    "    fillcolor=\"red\", opacity=0.2,\n",
    "    layer=\"below\", line_width=0,\n",
    "    annotation_text=\"COVID-19\", annotation_position=\"top left\",\n",
    "    annotation_font_size=12, annotation_font_color=\"red\"\n",
    ")\n",
    "\n",
    "# Layout final com paleta aplicada\n",
    "fig1_p2.update_layout(\n",
    "    title='Média do Tempo de Espera por Mês',\n",
    "    xaxis_title='Ano',\n",
    "    yaxis_title='Tempo médio de espera (dias)',\n",
    "    template='plotly_white',\n",
    "    plot_bgcolor=paleta['fundo'],\n",
    "    paper_bgcolor=paleta['fundo'],\n",
    "    font=dict(color=paleta['azul_escuro']),\n",
    "    title_font=dict(size=18, color=paleta['azul_escuro']),\n",
    "    width=1000,\n",
    "    height=500,\n",
    "    xaxis=dict(\n",
    "        tickformat='%Y',\n",
    "        dtick=\"M12\",\n",
    "        showgrid=True,\n",
    "        gridcolor=paleta['cinza_claro'],\n",
    "        linecolor=paleta['cinza_texto'],\n",
    "        tickfont=dict(color=paleta['azul_escuro'])\n",
    "    ),\n",
    "    yaxis=dict(\n",
    "        showgrid=True,\n",
    "        gridcolor=paleta['cinza_claro'],\n",
    "        linecolor=paleta['cinza_texto'],\n",
    "        tickfont=dict(color=paleta['azul_escuro'])\n",
    "    )\n",
    ")\n",
    "\n",
    "fig1_p2.show()"
   ]
  },
  {
   "cell_type": "markdown",
   "id": "4bee7b48",
   "metadata": {},
   "source": [
    "# 3) Existem perfis de pacientes que apresentam maior demora para a confecção da FAV?"
   ]
  },
  {
   "cell_type": "code",
   "execution_count": 11,
   "id": "7c70a9ef",
   "metadata": {},
   "outputs": [
    {
     "data": {
      "application/vnd.plotly.v1+json": {
       "config": {
        "plotlyServerURL": "https://plot.ly"
       },
       "data": [
        {
         "hovertemplate": "Gênero=F<br>Idade=%{x}<br>Tempo de espera (dias)=%{y}<extra></extra>",
         "legendgroup": "F",
         "marker": {
          "color": "#00cc96",
          "symbol": "circle"
         },
         "mode": "markers",
         "name": "F",
         "showlegend": true,
         "type": "scattergl",
         "x": {
          "bdata": "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",
          "dtype": "i1"
         },
         "xaxis": "x",
         "y": {
          "bdata": "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",
          "dtype": "i2"
         },
         "yaxis": "y"
        },
        {
         "hovertemplate": "Gênero=M<br>Idade=%{x}<br>Tempo de espera (dias)=%{y}<extra></extra>",
         "legendgroup": "M",
         "marker": {
          "color": "#ab63fa",
          "symbol": "circle"
         },
         "mode": "markers",
         "name": "M",
         "showlegend": true,
         "type": "scattergl",
         "x": {
          "bdata": "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",
          "dtype": "i1"
         },
         "xaxis": "x",
         "y": {
          "bdata": "vQDaAHQBwAE9DegB7wBwAGEAbgDuAekAvAFoAZEAVwBkANcBiQLOAF0AFgH/Af8A6ACLAOEErQJtAU0DUQBgAK4BigVtAIIGQALYAd0B5QJ9B74BmQA+AGQAfACKAGUHKgI/BSQFrwZMARMEgwJFBegADAHIAGIAFwSiACgFDQNGAPMFNgFWDswBbgHJAEoA1wzCAXwASAYgAeMDQQISAnoA2wO6AdkA4gZqAFoBaQBwACoCUgF9AG8AvQcsATMAWQNQACUAZwAYAzkCBgDlAMsJwwCyATwARQA1AVsAVwAWAEUA5gB3ATcAVgI0AF0AJQyPAEQEGwE9AC0AhgDmAEEAVAUDAAoAgQALAAEAKgBbACcACgAVAEcAAgAZAOEAoQADAq4APAApAAEA3AAxAV8ANwDwATAA2wACAFsACwAlAhwACQAmAB8AWQADAFIATABdAA0AigACAAoAVwAuArgAXwAIAHUIHgCUACgAHgDBAFgA3wCIABAALAAkAGgABAASAAoAQwAvACgALgAKAG8AFQA4AIsAGQAFAAMARQAFAB8AEQAPACAAEwCIB7AF0wCeAAUAaQBAADEAFgAaAAwAGwAvADgASQAbAAIAGgCBAC4ApgBXAC0AOAEpACAAMwBLADYATwCWAD8ARgAOAL8DkQAxABUAFACnADcANgB5ABAAkQMIAB4AEADrAiMAAwAQAIYArAHWAM4CQACBAJMDmwAfAIQAAgVbCRkAHgCAAAoAPQAIALoAeQA/AIAARQATALEAIgBsAVUAAwAjAE8HigJxALwAXgAjAC8AkQAcAHgANQDeACcABwAEAFkAqQA6AFYACwAaAAkAMQBPADAAzQABAWQHlQBsASsADwCHAHsBPgA9AKcApQBAAGYAQQAuAAgATwBYAAkAEAAWAAUADQC2AKMAPgAGAEoALQA5AEcAPgEBAiMALABbAB4AHQA9AB0ALACJADcAWAAQAAUA4ABaAAwAIQAgAC0ALgAZAE0AcQAMAIEAAQAvAIkACwAaAAQACAAFABkAFwBUABkARgD6AF4AFAClBlEAEgASACIAGgBeAJUBkQBeAD4AGQBfACoABAAmABMASAA7AIwACgBVBxYABABDAKsADwDcAN4BMAA+AAgAVgAXABEAXQGHAogAFQEjAA4ARAAQAJsEHgAyAI0AMgAlAA0BBgEtAFMAJAATADEAEgAQACsASgBoAGYAHQACAD0ALwAoAzAAEwAcAAEAFAAQAGoA9gMYAEwARAAcAIwARABAABAAJAFdAAoAIQBDADcAHANMAG0AHQAmAqMAswCgAGsBEwAOAEsASABCAAQAFAArABcADAAJAAoAHwDSABoACQDhBA0AOABNACoAagBuAEgAMAAUADcAEAETAIEAAwBCAB8AUQAHABUAEABRAAIAFQDOASUAMwA9ABIHcQAGAAQALwAQAAcAQAooAB0ARAAlAEYASQIcAAoAegAHAFkAEwAIABsAGgAQAFgAFAACAMgBAgDzAOQBFQAaAAIAbwCdAFsAdgAwAEcApwBFAAwAsgEKAGAAHwAFACgACgDnAA8AhgBUAA8AOAAZAIIAmwEIADQAAQCMADUADAM5AHYAUgALBvgARQAaABgAyQB3AFEAOwB3ACoALQCOACwASwAmAE8ADgAdACQAGAANACIF1gAaAEIAQQBKAEcMbgBYACQABAAGADAAJQANANkANABJAFEATwBZABMADgAbADcAPABNAQgADwA7AOUEQAA6AEQAHgA7ADwBHgAcCA4BVgAOABYAxAA5AGkADgAZAFUADwCdASIAjwD+APwADwAiAA8AogQRAGACIgB+AAYAhQCWACMAIQAZAJkABQA9AIkA9QGTAKoAQQCzBCAAEQApACEAHgAVAFkFEAAWAG4AHQDYAQkAmQBnAtUATgATAEMAGAAMAdwIJAAJAAwAJwCMAIsAHwApAKEAHwAiAPMAWQA6ACsAQwDTAKsAfAAwABoAWQd5AQ0ABgAHACsARQAxADkALgANACwDBQC+AIAAUQB/ACYAIwCyAGACLQALALgCCQCQAKQCEgAFAKsAMQAoAFgACQBRAAsAUgADACkAegDRAD8AMABNAMgAMAXAAR8AnAAbACgASQANABAACQAZCToBEQApAE4ALgAdAA4ARQAuAOUAxgBlAE4BFQADACMAGwKlAacAEQAkAAMAngBoAHAAkQCDADYAMgMqACoBDAAfAFkNMgASABUARwAeAUQAqQAyABsA7QAEAC8AIAA+AC8AGAAuANMHUwJoAZsBSwPDBuUDUAB4ABIAUABnACAAYwAIAI4A1AR9AAcABgANABYEMwAzACkAYwALADMADQDfAiUDBwAqADgAqgBWBH4AdwAfAD8AHgIrABkAgwAlAScAAQAfACsAcQAYAEcADQAPANEAagA4ADAAPgA9ACEAOwAOAEAAMgAXAFYAegAGAAoAVAJUAQwAFACRACUAIgAtACAACQAMABgATgArAFAACwAhAB4AOAAQAEAAaAADADQBOgAqACwALwB1ADMAowArAFsACQAiAKsAKgBIAa8AIgALAGQADgC9Ab0A/wJEAAwAGwAfABsACwBwAAIAHwBCAAUALwE+ACYAAwCWBfEAlQBeAHkBIwAuAhQAhgCDAM0CeQE0ABIAHgB8ABgAXwAwAAABfw4KADwAOAA/AGcAzQB7AjMAyQBEAAQADgBQADgAlABwA6YAOgA1AGIAHAAQAE8ACAAuAFUAEwBtAKkCLQA6AB4AOwCNABIAVgAcAJsAEABbAIgASgADACIABgBVAAYAUAAUABwAVgNtA1kAUgAfAMoA/wM6AKcALAAcAB8ABQFKAKkDAQVhADsCLABEADAAdwBQAFcA7gACAMMECwB8AA4AjgBXAHsMFAAwADQAzAFBAGwAHgCAACIADwDKAE8IYwAhAM0AKgBbAb8ANwIHAG4AuABEASwCFQBSAEIAAQBGAEwBKwhGACQAEQE8AB0ArwBrAEMAIQA9ABsAFwFGAAgA2QA7ACIAhAAoAjYAkAAQAF0AFwBFAG4AjQAYAL4A4gJeBVoA4AUdAAQAmgEPAGcAJwASAEQAXgAiAGEBUgBVAEYAEAAQAGICBACYABgAmgB4ASQAQgAVAD8AEQByBUEAKgAFADgABQAKAFsBSwAUAA4AWQElAA8AogAGAIIEDQAMAEIAIQGYACMAOAAGBUwASgAkAQ4APAEcACkAhAA+AL0ARgCRAAwA/QC0AB4AggEWAKIBFQCZACUAAQAsABgAIQCnAUAA+QA3ACIAqwozAKYHegDUASIAUwC1ALYDFwCzCA8AVgAMAFwAbQAQAFIA2QBDAB0ALABDAIIJHwBHABYAvwU4ADoAHwACAJUAzwBPAB4AlQDeADwA3QHIAFwCAwARAEcAKwCTAJ8BCAAfABQAlQDbAgoAGAA3ALUBqQBUAB4AewUHAGQACAFKACoAMwDBANAAhgA3AIcACAAoAGUAGQAOACIAggFeBXgAyAATAAICHAAMABAArgAQABQASgAnABMA1gA4AEkAKAA4AGICPgEpBHMGLwBnALIBVAAcAAcAGgCPDFIAKwB1ACoA8ABEADoANgAnAOMDOwUaAEYACwBIAAYByAEUATMCBQAOAkgBEwDhAFoAHwDwAaQAOABNAGIECgA/AAoACgC9AwoAuwAIAEgAIgAlAAoANAARAAUAFABiAAkAGAAZAHcAMwBaAJ0ARwFfACQAAgAyAKwACwCAAhAAYgEpBD0AegANACwAJgAkAAoAzAEWBBEAFABGAJUAJAE+AAMAbAAHAGMAhwOwAGkAIwCGAHQBEQAaAA8A5QOPABEAXABfABgABQAMAdIAHABvA3EAGABoAK0AJQAyABcAHgAtAAgBhwt0AGgACQAIAGwBmwAFAAkARwAPADUATQAeAGUAJQBmAAQANQCZAIoAGQAFAOkBaADIAC8ALgAZABAAZAAmAMQAoAA7AIMABwA0AAIEKwBUAAEADwBFAG0AGgBBAAwAEgBKAEAAeQEwAIAAIwFWAH0ABgAvAFUAGAAbACMARQAMACEAjgBpAEMACgDMABsABQBZAA8AXQBRAEoAxQC1ADwAiAAPABAAHQAQADcAXQCrAMEBFwCXBeMAUgDnAQIHiwARACAATgKdAF0AfQAPABwAlgAXAAgA3QDDAC8AIABGABYAHwBMACgJKQC7AqoCVgBIADkAmQA7AE4AZABxAEYAPQBPAFoA1wPTABAAGgA+Al8ABgAFABgASQBbANMA1gAHAI4AAwApAO0ABQAlAMQFFAAMAD0ADgB3BXkA6AaxACgBJgAdAJ0AVQIlABcAGQAkAMkADQCZAgUAHQAKANkKeQBTAAcCWwAOAWAALAAPAMMCxwETAC0CtAMeAAgACQBYAAsAFQA8AEgA5gINAE0ADAABAB4AWAABAAcAngCkBA0ACwCMACwAUQAJADEATQAnADICkABpADgASwAEAAQAgA0ZADYAVwCgAAgAagACAB4AKAEPAVoBJwAQACYA1AJoACEAYgAmALwB5gBFAGgA0ADDAxIAZgCEABoAqgAbACMASwA5ANQAGAAwAJoBXgFDAFMA6AB5AFQAJQGqAB4ARQAnACwAAgADAMMFTgBZABsARAAXADMAKABIAY8ATABYAR4AWAAeAGYAFgA5ADYAVQEHABAALwAVAAIAIgDvASICZgBoAD4AHwDhAJIAHwCAAUcALAAkAF4AuwAqAEYAEgAjBQcAggACABsAcAAIADoATAIDAOAAoAAbAOEILABlCBEDPgANABgEFAAbABIANgA+C7sA4QARAB4AEQAQAA8A1gANAE8B5gA8ARoA9AAqACMAXwAQASMATQQDACoAIgAxA0EAHQAUAFwAJwDXAWIAMgBBBgYAzgB9AC4ArgAZAVsAEgEUAPsB6ASOAHIAGQALAHAAaAEVABUAsgBUAKYAAwAIADgBTgBRACsAOgDNABwBIQCzAEIDPgA9AJ4AAwAyAkQAFQDRBzgAYACAAJ8BiwA2AAEACgB4Ai0AFgB3ACgAJwA0ALgAJQAsABIAXAB2AHsAagBkAO0AOAI2ABEAfgAjABgAJAAFACkAEQAKAAkAGABFADoANQBOAAQAzwAbAK4A9QAIB3QAMAFtAk8BHQAtABQAFgFvAkwBMgACAE8AlQBKAGcAwAEMAB4AbwCsAEkAGgBhACYAUAByAVQAbwCAAIYAoABCAFcALAAFAAIAAQBxAAwAcADuA5AAMQAeAGoACQAFAKQARAAjADMATgGlAB0AAgARAJAAAQBgAZkA2AAZACYAXAAVAMwAeQDHA1MAcQARABYAJQLFANYACwBEAFgALwAxAEYAFwASAB8AcAADAOkANAAnAGkAPwBDAKsBKgA4ABAAAgAMAA4AAgBPCB4ACwBBACEAaQBwAAsA6QEzAC8AXwDHBXEAQgGMAGEAgABSAPkAtQAaAOIAXgS7AGAAGgANAD8AZQAGAj4DBgFXALIGbQBbBH8ADQE2ADIAZwRDANkAhgA7AIEAJwBsBAQCGAFfAW8AGAEWADkAWQAbANQAJgAnAJYAIAAUAEYAVQCFAAEALQAxACQAJAAtABwAOgAXAAsE5wAyAAkADwDAAWsAfgBXAIgA6QAzAMYAswBNADUAQwAmAA8AKQB+BEUADwDjAAEAIgARABkAKwAEAA4AJgA8AN8AFQA7ADsAfAA0ACMA/AQPADAAkAAhAB8AQADFATwAAQAZAT4AgABtABcAFQCKACsADQAtAAIA2AAWAA8AkQAfAEgAGAAfAGYAOwC/AkkAOAAVAEAAhQA+AEUAaQCKAB4AAQAVABIAuQA3AC0ATwAOADMAKgAWAFICTwBqAFYAAwD5AJ4AdQCWBQoAHAAPAC0AsQAjALIAvQA5AL8BmQB1ACgBCgBUAQkAgAAuADMAIwC9AHcAHQBFAGUAIwD4AH4BWABMAPEA4AD/AjsAOgAXAFQAbAAhAA0APwA2ADAAeQA4ABYAVQApAEoAOgAsABQA8QAVAQcAhAALAAwARAElAAMANwBeABQAzACkAQIBXgAbAFwAEQB2AGkBEAAGAKUAgwBbAOcBGgARABoANwBdAH8ACgBAAJgAdwAhBIUClQFPACsCCQAXAM4AuAAeABUAHAAvALUADQAVABUAFgDpAIMAGwBvACUADwBXAA4ABwW8AgYAcwShAA8ATgMEAFkAWwDLBVMAEgD1AAIARwQFAdwADwAOAOsAFgACABcAAgAPAMIAMwAxAHMAZwCRACgDnAB4ABsADwApACAABQDVACYAQgRPADAAHgAlABMAXwDGABAAdgAaAB0A9wEkAKMAKABSAB0BzgMaAG0ADQBBABcA6AEcASgBKgDhAHQAHABiABkABADeAjQAcQBTAAUACABLAPUAAwA+AIYCyQEmAA4ALAANAB4ACQAFASsAngAbAMkIMgAnACoAZwAuBRUBOwCYAB0AFQFMASIAMgAMAXQADQBYAAgAbABDAAUAtQBUAC8AUQCVABAABAADAO0BnQATATIATwDIAy8ASgATAZUBMAAXADEAPQBUAJ4ClAZdAJ0AHQA1ABsABACUAHIAAgBNAM8CowAMARMALQAMABYATAAoABgACQBEAAcAeQAbAB0AHwAeAJIAcAAlABsBKAABAIAAAwAxANoA2QB8ADoALAAlADEALQArAOoAOgA0AEgANQAGAAYA2QTlAAsAfgAVALcALgM7ACYAJQAzAFoA7wIrASkAGwAaACQADgBCAAUABgATAFQAIAHnABcA0QDtAAMAOQEsAFUBIQASAUgAMgAWAA8AHQBJAAkAawGgAQgACwFbAJoBuQETAoUAEgB8AFQAZAB7AGwATwACAE8AKQEvAGwAiAANAKUACwEKADAD9QA9AAYAHwBjAIIABQJkAFwAugA7ACcBDgAvAAsAFgCrAVQEqQLIAG8AEQAyAHIAeQFtACoACQA1ACkAMQEdABQAFAAdAB8DAgCEALkHKwB2AQ4D3gCMAgEAsgCjABIAHgAbAF0BRwC6CC0B2AADAMEAIwAaAKYBCAAaABIAJQAsAMkA2gQHAhEAfQCPAI4AIAGIALgAHgAsAOQBDwAaAAIAtAAOABIAbQETAA0AKAB+BxQAHAAvADUAVwCXAA4AFQAZAIIAWAFMAGAAAgAzAI0AVgAeABIAXAA+ADAAvAA0ADsBDwAZALIAkgISABMA6gCpAMgDHQAFAGkArAAxAAcAYgB4AG4BvwAgAIoAdAAPAGEBEwAaAJ0CEwBbAEMAAwA9AGgAFQCcACEAjAAjAEQABgAgAGYAKwBtAEoADgETAIQA6gIuABEA4QHWAjMAGQDnADEAVAA8AEoAFQAdAG0AgwFrADEACwAPAFMAswAMABYAHABcADsABwAmADIAQQEVAKUAXADSAjsAWwA0AB4AFAFJALIAtgMpCC0AIAA4AFUAqwALAE0AUgEQAFUGvwAbABcAMQAiAHcAMQBeAAsAJgUBACMADwCOAQoAAQADA5MAIgAeAK8ACwALAAkAiACGAJwAQgOMAA0AHgDKAF8ABwAqAH0AGQIhAJ8AhwDoANEA1gAHAA4AtABjAHwAYgAHAFAAJwB2AIkAyAGSAD8AgQAMADwAkwFhAF4AqwBlACAAFgArAEoAJgATABoBFQAkAv4AHgBZChsBOABlAAkAtwC3ACwAUgAUACAAngCyAgAB7ABkAAQAPgBbADgBFwDPAGUARgBJAB4ACABVABgAQAAqACUAGgAWABIBIABuAE8BFwBLAOcBKQ4TAEYADwADAEwAHwGTAFwADAAhACQAeAEKABAACQAOACUADAB4AJoDCQA0AEAAowBDAGEAGQAMAF8ARgAwAB0ADgATAKAABQASACMALAGuAwoAswANADgCGAAlAgYAHwAKACMAvAFiAAgAJgAOACwALAAbAA0AMAA5ACkALgpsAGIAIQAEAAcAPQBcAE8AEgALABcAPACtAKcAEAB0AG0AZQA0AJAAFgDFBAMAvAADAEwJBAEVAK4ABQChAQsAhAGKAdYAJgA7ABwAgACuAIMAQQEmAT0AcQAXAJgAFQAkAHwBIgAdACgATQDVA8AJEAAIABgAqACuBTIAAAKNACIAyAA5Az0ATgAIABcABABVAB4AZwB4AAQALwAoACAACgAdAHsAMgDmADcAHwAGADMDDgB4AKMFBgEBAIsA+gA9AC0AwgAmACgAJwAjABIAUgETAJoBywI3AHMArACFAAoABwAiAGIGgQBEABkAWwABAIAAWwCVALkB+wAEABgALAKyBTYAwgAJACwABgAMARsALAAtAAABYQDjADEBKgACAWsAewDZAEwAEACDAAEADwA9AAUBkwB2AF4ASwCWAD4AHADFAFwAeQDLAF8BMAAdAAIACAFrADsHVAA6AD4AMQAiAC0AvADoAJcBdAAnAHoAZwBkAFgBRgAoAC4ARQDRA0gAZQCJACIABAA9AEgAGACRAA4BHgAuAIoADQAKAEQADAA3AA0AOgBHAEcAPgCAAIwBMQAyAFMAIQAMAQoA4gAjACoCVwCrAAwAfQCyCfQCWAAHABsAMQALACsAUAAlALMAEgARACkANAF/ASkARQAyABwAHwDiAMEADgAvAREAHwATABcAggAIAH0AKgA7ACsA9AAtAG8GLADJAAEAKwLTAAkABwN6AA4AHgBhASMAAgBGAAIABQAeALEAbAD8AEEAFwAmABkB6QASAR0BCwAEADYAmgAPAHkAEQCzAKgALwDmASgAZwCuABAAAwGRAEwBYQALAAMAtQMYAA0ACgBKAJAAkQBtAOEC+wC2Ai0ABAAkAMAAUwANACIA6AAkAEEAQQABAH8AxAAyAHUAbwAjARMAngCqAAQAGQAyAJYANwCjABkAugAaAF8AUQDGAygAjABhAFYAawAWAEUAUgsTAB0AmwEGAB0AFACFAIkARQAXAGkAIwGHByAAQACIABQALgG5AUkAEwCWALcAjQBtAQIAWgAiADwADwA8AFEBBQCmABEA7QAkAE4AMwAyARsAHgBgALcB5QYjACUA9QL+AOkBhAAhAAEAkQAzARAAHwB5APoAEgAUAOUAEAC4AJAAEgB3AD0AJQATAAcASQAAAigAOgAKAEkAIABOABAAKwBDAA0A+gBIAFECCACMALUBoAAQAO4AAgBZARcAfgDDABQAxABVBBYADABoAMQATAAqAA4ATAAMAFEAbgBCAHAADgAlAAwAaAE4AVgDNwBRABAADAAIAHEAHwA4AI4AZwAHACwBKgAUAZ4AKwAxACkAMQAvAA0AGQCeAIEANABXAVUAIAALAFcAGwAPAA4AkQFOAH4BMQGZAC8AKgBNACgAQwAPAJgARQALAB0ASwAbAEYDagUjAFgAwQB4ACMARQDbAMUAEQAXADQAkwNjAE4AWwDfAAkADQAaAHgCegAnAGwAXgAUAO0ATwBiAHUAwQAYAD8AIgBLAAUAdwBHAGcAEgD4AOoBCQIKAIMAogACAKwABwD+AIYASQCNAH4AHAB0AHsAOgA0AFEADQBzAGsDJAAfAicAFAANAQkBKQAeBEMALgDNAGwAbgEMAFgAPQARADsAHABaAMkAIQByAG0A+QB1AJIAYgAFACoATAAMAAcAOQAWAAMBKwBkAXEAegCjAU0AcQBEAGkAtgAjAVoAHABEAJYACwAfADwAgQBgAAoAPACKAIYBDAAjAHEASQBIABcAKwC5AAIADgEaACkAKgBMAEYDQAB5AacAAQAvAI4AUAAKAikArwBaAk0BsQFUATgAVAC6AB8AJwAoAEcA8wA2AH0AeQBOAEYAUQOKABMA4QAvAEcARAA2AEcAvABdAGEAPABHAHcAFgBQAKMAOgBvAO0A0wAOASkAaQAOAMoAGwASAN0ADQAMBCAAKwBIABoAAQAMAC4BMABXABMCSAAnAEEAOQAlAGsBfQAVAE8A9QEMADEAYQdsCDQABgAIAIEALACgABsAOwA3AWsALQCIABcACAANAA4AbwCoAH4AVAAtAGoALwAoAGUB0wIDAHQAYwCBAKQA9wCyAAoAYQCrAAcAZQA9Ag0AHQALAF0AYgCJABUARwAzAfIATgFeAJMCZgB2ADMAKACTAEkAEQBzALQAhAEEAOEABgAXAHIAngATAAEA7AAFAUAAbwBUAK4CSAL3AEkD0QBZAAsAJAAkARAAnwBrAT4AXgAuABYBPwBGAFcAIAAFAEwAPACqAB0AaAAqABMAHQJXAq8BMgLlAU4BLQCmAAsAewBEAFAATAAUAJ8DAgFwAacC5AA8AKoAFAB7ADsADQCrAFQAKgDgABEAUAA3AScACQCTACAAnABVAGQCkABCAPYCCgAWAEwAXABBAEEANQCYAFQArgAcAEAAXwEgAasAdgBHAyEAEQAQAEIAHAC1ACEArgAqAHQABAChAH8AaAIbADwALQClAEABPgHJADMAMQCOASQBGwA+AEAAUQJqALQAGgBqAJMASgBHAJ8AWAArACIAEwAwADAAjQBUAAYAEQAoAMgArAC/AAoAAwD2AEgAdAADAlcAMgBcAKMA7wBEAAQAFABkACQAvAAvABQA0wAqAGkAVwAeCCcAFgASARUAUQC9AA0AFQAvAQkADwBcAFwAiABfAzMAvgC4AAkDfQAMABsAigB8AHwACgFsAA0AegBGASgAXQCvABcAVQDMAC8A6QBXAAUAQQJoAEUAPgA9ACgAswEvABIAZQBJACsApgBIAE8ADgASACAAFQA0AQ0AeQAYAHgA0gALAEIAKQAuAK0AogAnAA4ArABfALQAjQAOACMACwAVAh8BGgA1AFsAIgCQACMAPwAZAEECJQAdABYAnwCBASsBUwCdAMcBLQAnAFwAGAB3ABsALQDxAXsAUAAWAMcAEwMsAGoAVQBtAYIAZQBZBDMAMwALAo0A3gFDALIAXQAaAAABQQA1AEMAFgAhAPwATAAKAEwAgAAOAG0AQQByAE0AMQG6Bx4AkwB4ABoAeAB8APQBDgBNAhUAmQACANcAlQAaAPIAjQEVAIcAzQEgAG0BFgCvAEwAOgA+APIAQwCiAD0A9wDjClgA3gByAEUAZAABAd4BzwBpAAoACQA5AK8BGgAxACEATQAEAEQANgDBAN4AbAB1ADEAEQAyAEAAMAA/ABsAvwC9ACUABgAJAHkAVgAqAF8APAAFAegApQBrAZoCoQBnAEACEwApAH4AQgDjAJYA5gBuAHYAAAIeAE0AxQEIAHQAaQB5ADABKAAiADIAOQCVAM4ANwBuAEsAswAhAEMAGQAEAP0AMwDfAaYAAQBEAL0A7QAbAC4AhgBLAE8ALQA/AFAAWQAaADsAFwAWABMAJwAJAKgAJgD7AWUADgCJAGIAIgBGAFEAqwCdACMACAAEACwABACoAD8AXABbABQAPAEQAHUABQEdABoAewAXASEA4gBSAf0AWgDKAUUAogASABwAPQIZAE8ATgCVA8sA8AAkAE8AIwBdADAAJQBlAQ4AjgAkAQMAJQAFABIAaQENAQ8APQARAGYBQgAdABgAUQAGACIAKgCKAAUAEgCpAD8AggENAAQABwE/ACsAMAADAB4A7wIJAZIAHADtAAgABAEqAAEARwAeAA0AzQAWAJkAEgBjAAYAHwAyAJ8AHwCtARUAHQAGAAUARgAeACgAFQBRACYAcAApAZIAFQAMAFMAeACGANkACAAgAAIArABgACEAtQGJB9sBYQADACkBSABCATcAEwAiAEcA0QDJABAA2gA0ADUALgCZACcAZAA8APYAMgAaAHwAWgCAAGwBHQBAABAAQwB4AZAAZgBrABQBMQGTAIUA0QAfADgA7gkTAdsBdwAbAA8ApQEeAXsAEgB+AAkAPAATAD4ABgAtABYMBwASAC4AewAzAG8DeACAAUwAxgAyADMAKQAUAJIAIwCWAGsBDABAAAcARQA6AAgAegC8APkALQBgAAoAuAAvAFIAmQBdAJMAEwEhAPAAOwDNAB4AHgAWADoAkQAuALgAkAArAGQACABxAScAlQAoAAsAGQARASsBbgBoAPoAOQDIAGIB6gJOALkAygA1AWkATgD+AFgAugBoAKoAYQFNAFgAVgBPAIkAIgAUAk4AGQA4ADMAnQCSAR0ASQDtAKwALACMAEwBOgCWAEMAQQC6ANUAVwC2AAkAPwAkAC4AegAXAJMAqABwAE0BTQABAFAAQQBMAD8AYwAmABsAFwETAHYBiAFiBAIAIAENAF4ANAAuAB0ALgAVADUAVwEfAAYARAAkAC0AoQGLANAAjwAXAHcARQAPAAcAIwCDAEkB2gZiAEoEjAF0AHQAKAEzACgAtgCvACMA1gAlAPAAGwEWAE8ABwBNAEwACgB0AJIAJQAUAW0AFgCCACYAKgBUADsAGAAKAF4AWABsACoJBwBjAF4AgQEQAGkEKACLARIAMgAOAA0AkAFeABoAEwBkCFUAnQARAEEBHgBgAD4ARgAGABAAEgASACkAEwHRAF8A6wMGAA8B1QAfAEQBSAAGACsAEgARAhUAcABQAEcBFQAnAAoAJAAVAJUAMwBnAA8AdQCYAC0A1wAtACMAhgBLACUAgQBTADEAFQBpAJEApgA0D0UALQBIArwAJQAHACwALAA8AN0BUwB4AFoA6AB8AEwAMQByAE0AcQApAOMAcgAJACUAIABFAC0ApAAtADgAUgADADwARgCFAHUACQAmAAgANgBjAG4AdQDVAJwAHAAhAPwAOAAaAAYAIgBHAHwAMADOACgAXwBtAE4AQgAXADAADQANAEQAjQBSAC4AJQBuAPUAOQARAAUALQDCAEkABwArAO4AaABpAGcAlAA9BZIASAA7ACcAMQBEABsAPQA7AEEAkgAyADoDrABSAFEAqAAxAEMAMQA/AFsAGwBLADwAYgBeAKIDLwB+AEwAEwBCABcALgAmAIYAZAAhAGAAIAAGACcADACcAMMAfQOdADsAIAARACMAEwB9AB0AkQAgAGoAVAAEADsAHQCdACYAagBqAP0BhQBhADcAFQBmAAIATgANABgABwAMABcALABTADkAIgBwAD0AUAA7ABoAAwB4AIgABgBHAHEAFQAyAAQAWQAjANwISABEAAQATgBLABEAnABNAH4AQgQgABcAKwCAAAwAJAAwADsAQgD2DQgANAADAJAAFQBzAAYAGwAYADcAbwA1ACAAswIpAC4ALwC+AAoARgAXAGQAPgAiACEAKQAFAKoA8gBYAAkAIQAfACsACQAuABEACQAyACoAEgAXABcAHwBNAC8ACwBDAC4CPgANAMYAHAABADkABQAcABsADABaABsACAArAAYAIwAZAAoANQCuAAcAWQAfABoANQAwACcAEQAnADsAHwA1AAsAFQAbAFEADAASAAMAFgAsACcANgAWAD4AFgBLAB0ANwAVAAsABgArAC8ASQBGAAoAmQAQABUABgAJADUAOQA8ADwAQAAqAEEAAwASAAsAKgALAAQAEgAEAA==",
          "dtype": "i2"
         },
         "yaxis": "y"
        }
       ],
       "layout": {
        "font": {
         "color": "#023E8A"
        },
        "legend": {
         "title": {
          "text": "Gênero"
         },
         "tracegroupgap": 0
        },
        "paper_bgcolor": "#FFFFFF",
        "plot_bgcolor": "#FFFFFF",
        "template": {
         "data": {
          "bar": [
           {
            "error_x": {
             "color": "#2a3f5f"
            },
            "error_y": {
             "color": "#2a3f5f"
            },
            "marker": {
             "line": {
              "color": "#E5ECF6",
              "width": 0.5
             },
             "pattern": {
              "fillmode": "overlay",
              "size": 10,
              "solidity": 0.2
             }
            },
            "type": "bar"
           }
          ],
          "barpolar": [
           {
            "marker": {
             "line": {
              "color": "#E5ECF6",
              "width": 0.5
             },
             "pattern": {
              "fillmode": "overlay",
              "size": 10,
              "solidity": 0.2
             }
            },
            "type": "barpolar"
           }
          ],
          "carpet": [
           {
            "aaxis": {
             "endlinecolor": "#2a3f5f",
             "gridcolor": "white",
             "linecolor": "white",
             "minorgridcolor": "white",
             "startlinecolor": "#2a3f5f"
            },
            "baxis": {
             "endlinecolor": "#2a3f5f",
             "gridcolor": "white",
             "linecolor": "white",
             "minorgridcolor": "white",
             "startlinecolor": "#2a3f5f"
            },
            "type": "carpet"
           }
          ],
          "choropleth": [
           {
            "colorbar": {
             "outlinewidth": 0,
             "ticks": ""
            },
            "type": "choropleth"
           }
          ],
          "contour": [
           {
            "colorbar": {
             "outlinewidth": 0,
             "ticks": ""
            },
            "colorscale": [
             [
              0,
              "#0d0887"
             ],
             [
              0.1111111111111111,
              "#46039f"
             ],
             [
              0.2222222222222222,
              "#7201a8"
             ],
             [
              0.3333333333333333,
              "#9c179e"
             ],
             [
              0.4444444444444444,
              "#bd3786"
             ],
             [
              0.5555555555555556,
              "#d8576b"
             ],
             [
              0.6666666666666666,
              "#ed7953"
             ],
             [
              0.7777777777777778,
              "#fb9f3a"
             ],
             [
              0.8888888888888888,
              "#fdca26"
             ],
             [
              1,
              "#f0f921"
             ]
            ],
            "type": "contour"
           }
          ],
          "contourcarpet": [
           {
            "colorbar": {
             "outlinewidth": 0,
             "ticks": ""
            },
            "type": "contourcarpet"
           }
          ],
          "heatmap": [
           {
            "colorbar": {
             "outlinewidth": 0,
             "ticks": ""
            },
            "colorscale": [
             [
              0,
              "#0d0887"
             ],
             [
              0.1111111111111111,
              "#46039f"
             ],
             [
              0.2222222222222222,
              "#7201a8"
             ],
             [
              0.3333333333333333,
              "#9c179e"
             ],
             [
              0.4444444444444444,
              "#bd3786"
             ],
             [
              0.5555555555555556,
              "#d8576b"
             ],
             [
              0.6666666666666666,
              "#ed7953"
             ],
             [
              0.7777777777777778,
              "#fb9f3a"
             ],
             [
              0.8888888888888888,
              "#fdca26"
             ],
             [
              1,
              "#f0f921"
             ]
            ],
            "type": "heatmap"
           }
          ],
          "histogram": [
           {
            "marker": {
             "pattern": {
              "fillmode": "overlay",
              "size": 10,
              "solidity": 0.2
             }
            },
            "type": "histogram"
           }
          ],
          "histogram2d": [
           {
            "colorbar": {
             "outlinewidth": 0,
             "ticks": ""
            },
            "colorscale": [
             [
              0,
              "#0d0887"
             ],
             [
              0.1111111111111111,
              "#46039f"
             ],
             [
              0.2222222222222222,
              "#7201a8"
             ],
             [
              0.3333333333333333,
              "#9c179e"
             ],
             [
              0.4444444444444444,
              "#bd3786"
             ],
             [
              0.5555555555555556,
              "#d8576b"
             ],
             [
              0.6666666666666666,
              "#ed7953"
             ],
             [
              0.7777777777777778,
              "#fb9f3a"
             ],
             [
              0.8888888888888888,
              "#fdca26"
             ],
             [
              1,
              "#f0f921"
             ]
            ],
            "type": "histogram2d"
           }
          ],
          "histogram2dcontour": [
           {
            "colorbar": {
             "outlinewidth": 0,
             "ticks": ""
            },
            "colorscale": [
             [
              0,
              "#0d0887"
             ],
             [
              0.1111111111111111,
              "#46039f"
             ],
             [
              0.2222222222222222,
              "#7201a8"
             ],
             [
              0.3333333333333333,
              "#9c179e"
             ],
             [
              0.4444444444444444,
              "#bd3786"
             ],
             [
              0.5555555555555556,
              "#d8576b"
             ],
             [
              0.6666666666666666,
              "#ed7953"
             ],
             [
              0.7777777777777778,
              "#fb9f3a"
             ],
             [
              0.8888888888888888,
              "#fdca26"
             ],
             [
              1,
              "#f0f921"
             ]
            ],
            "type": "histogram2dcontour"
           }
          ],
          "mesh3d": [
           {
            "colorbar": {
             "outlinewidth": 0,
             "ticks": ""
            },
            "type": "mesh3d"
           }
          ],
          "parcoords": [
           {
            "line": {
             "colorbar": {
              "outlinewidth": 0,
              "ticks": ""
             }
            },
            "type": "parcoords"
           }
          ],
          "pie": [
           {
            "automargin": true,
            "type": "pie"
           }
          ],
          "scatter": [
           {
            "fillpattern": {
             "fillmode": "overlay",
             "size": 10,
             "solidity": 0.2
            },
            "type": "scatter"
           }
          ],
          "scatter3d": [
           {
            "line": {
             "colorbar": {
              "outlinewidth": 0,
              "ticks": ""
             }
            },
            "marker": {
             "colorbar": {
              "outlinewidth": 0,
              "ticks": ""
             }
            },
            "type": "scatter3d"
           }
          ],
          "scattercarpet": [
           {
            "marker": {
             "colorbar": {
              "outlinewidth": 0,
              "ticks": ""
             }
            },
            "type": "scattercarpet"
           }
          ],
          "scattergeo": [
           {
            "marker": {
             "colorbar": {
              "outlinewidth": 0,
              "ticks": ""
             }
            },
            "type": "scattergeo"
           }
          ],
          "scattergl": [
           {
            "marker": {
             "colorbar": {
              "outlinewidth": 0,
              "ticks": ""
             }
            },
            "type": "scattergl"
           }
          ],
          "scattermap": [
           {
            "marker": {
             "colorbar": {
              "outlinewidth": 0,
              "ticks": ""
             }
            },
            "type": "scattermap"
           }
          ],
          "scattermapbox": [
           {
            "marker": {
             "colorbar": {
              "outlinewidth": 0,
              "ticks": ""
             }
            },
            "type": "scattermapbox"
           }
          ],
          "scatterpolar": [
           {
            "marker": {
             "colorbar": {
              "outlinewidth": 0,
              "ticks": ""
             }
            },
            "type": "scatterpolar"
           }
          ],
          "scatterpolargl": [
           {
            "marker": {
             "colorbar": {
              "outlinewidth": 0,
              "ticks": ""
             }
            },
            "type": "scatterpolargl"
           }
          ],
          "scatterternary": [
           {
            "marker": {
             "colorbar": {
              "outlinewidth": 0,
              "ticks": ""
             }
            },
            "type": "scatterternary"
           }
          ],
          "surface": [
           {
            "colorbar": {
             "outlinewidth": 0,
             "ticks": ""
            },
            "colorscale": [
             [
              0,
              "#0d0887"
             ],
             [
              0.1111111111111111,
              "#46039f"
             ],
             [
              0.2222222222222222,
              "#7201a8"
             ],
             [
              0.3333333333333333,
              "#9c179e"
             ],
             [
              0.4444444444444444,
              "#bd3786"
             ],
             [
              0.5555555555555556,
              "#d8576b"
             ],
             [
              0.6666666666666666,
              "#ed7953"
             ],
             [
              0.7777777777777778,
              "#fb9f3a"
             ],
             [
              0.8888888888888888,
              "#fdca26"
             ],
             [
              1,
              "#f0f921"
             ]
            ],
            "type": "surface"
           }
          ],
          "table": [
           {
            "cells": {
             "fill": {
              "color": "#EBF0F8"
             },
             "line": {
              "color": "white"
             }
            },
            "header": {
             "fill": {
              "color": "#C8D4E3"
             },
             "line": {
              "color": "white"
             }
            },
            "type": "table"
           }
          ]
         },
         "layout": {
          "annotationdefaults": {
           "arrowcolor": "#2a3f5f",
           "arrowhead": 0,
           "arrowwidth": 1
          },
          "autotypenumbers": "strict",
          "coloraxis": {
           "colorbar": {
            "outlinewidth": 0,
            "ticks": ""
           }
          },
          "colorscale": {
           "diverging": [
            [
             0,
             "#8e0152"
            ],
            [
             0.1,
             "#c51b7d"
            ],
            [
             0.2,
             "#de77ae"
            ],
            [
             0.3,
             "#f1b6da"
            ],
            [
             0.4,
             "#fde0ef"
            ],
            [
             0.5,
             "#f7f7f7"
            ],
            [
             0.6,
             "#e6f5d0"
            ],
            [
             0.7,
             "#b8e186"
            ],
            [
             0.8,
             "#7fbc41"
            ],
            [
             0.9,
             "#4d9221"
            ],
            [
             1,
             "#276419"
            ]
           ],
           "sequential": [
            [
             0,
             "#0d0887"
            ],
            [
             0.1111111111111111,
             "#46039f"
            ],
            [
             0.2222222222222222,
             "#7201a8"
            ],
            [
             0.3333333333333333,
             "#9c179e"
            ],
            [
             0.4444444444444444,
             "#bd3786"
            ],
            [
             0.5555555555555556,
             "#d8576b"
            ],
            [
             0.6666666666666666,
             "#ed7953"
            ],
            [
             0.7777777777777778,
             "#fb9f3a"
            ],
            [
             0.8888888888888888,
             "#fdca26"
            ],
            [
             1,
             "#f0f921"
            ]
           ],
           "sequentialminus": [
            [
             0,
             "#0d0887"
            ],
            [
             0.1111111111111111,
             "#46039f"
            ],
            [
             0.2222222222222222,
             "#7201a8"
            ],
            [
             0.3333333333333333,
             "#9c179e"
            ],
            [
             0.4444444444444444,
             "#bd3786"
            ],
            [
             0.5555555555555556,
             "#d8576b"
            ],
            [
             0.6666666666666666,
             "#ed7953"
            ],
            [
             0.7777777777777778,
             "#fb9f3a"
            ],
            [
             0.8888888888888888,
             "#fdca26"
            ],
            [
             1,
             "#f0f921"
            ]
           ]
          },
          "colorway": [
           "#636efa",
           "#EF553B",
           "#00cc96",
           "#ab63fa",
           "#FFA15A",
           "#19d3f3",
           "#FF6692",
           "#B6E880",
           "#FF97FF",
           "#FECB52"
          ],
          "font": {
           "color": "#2a3f5f"
          },
          "geo": {
           "bgcolor": "white",
           "lakecolor": "white",
           "landcolor": "#E5ECF6",
           "showlakes": true,
           "showland": true,
           "subunitcolor": "white"
          },
          "hoverlabel": {
           "align": "left"
          },
          "hovermode": "closest",
          "mapbox": {
           "style": "light"
          },
          "paper_bgcolor": "white",
          "plot_bgcolor": "#E5ECF6",
          "polar": {
           "angularaxis": {
            "gridcolor": "white",
            "linecolor": "white",
            "ticks": ""
           },
           "bgcolor": "#E5ECF6",
           "radialaxis": {
            "gridcolor": "white",
            "linecolor": "white",
            "ticks": ""
           }
          },
          "scene": {
           "xaxis": {
            "backgroundcolor": "#E5ECF6",
            "gridcolor": "white",
            "gridwidth": 2,
            "linecolor": "white",
            "showbackground": true,
            "ticks": "",
            "zerolinecolor": "white"
           },
           "yaxis": {
            "backgroundcolor": "#E5ECF6",
            "gridcolor": "white",
            "gridwidth": 2,
            "linecolor": "white",
            "showbackground": true,
            "ticks": "",
            "zerolinecolor": "white"
           },
           "zaxis": {
            "backgroundcolor": "#E5ECF6",
            "gridcolor": "white",
            "gridwidth": 2,
            "linecolor": "white",
            "showbackground": true,
            "ticks": "",
            "zerolinecolor": "white"
           }
          },
          "shapedefaults": {
           "line": {
            "color": "#2a3f5f"
           }
          },
          "ternary": {
           "aaxis": {
            "gridcolor": "white",
            "linecolor": "white",
            "ticks": ""
           },
           "baxis": {
            "gridcolor": "white",
            "linecolor": "white",
            "ticks": ""
           },
           "bgcolor": "#E5ECF6",
           "caxis": {
            "gridcolor": "white",
            "linecolor": "white",
            "ticks": ""
           }
          },
          "title": {
           "x": 0.05
          },
          "xaxis": {
           "automargin": true,
           "gridcolor": "white",
           "linecolor": "white",
           "ticks": "",
           "title": {
            "standoff": 15
           },
           "zerolinecolor": "white",
           "zerolinewidth": 2
          },
          "yaxis": {
           "automargin": true,
           "gridcolor": "white",
           "linecolor": "white",
           "ticks": "",
           "title": {
            "standoff": 15
           },
           "zerolinecolor": "white",
           "zerolinewidth": 2
          }
         }
        },
        "title": {
         "font": {
          "color": "#023E8A",
          "size": 18
         },
         "text": "Perfil dos Pacientes vs Tempo de Espera para Confecção da FAV"
        },
        "xaxis": {
         "anchor": "y",
         "domain": [
          0,
          1
         ],
         "gridcolor": "#F8F9FA",
         "linecolor": "#6C757D",
         "title": {
          "text": "Idade"
         }
        },
        "yaxis": {
         "anchor": "x",
         "domain": [
          0,
          1
         ],
         "gridcolor": "#F8F9FA",
         "linecolor": "#6C757D",
         "title": {
          "text": "Tempo de espera (dias)"
         }
        }
       }
      }
     },
     "metadata": {},
     "output_type": "display_data"
    }
   ],
   "source": [
    "fig = px.scatter(\n",
    "    df_perfil,\n",
    "    x='idade',\n",
    "    y='tempo_entre_fav_e_primeira_dialise',\n",
    "    color='genero',\n",
    "    labels={\n",
    "        'idade': 'Idade',\n",
    "        'tempo_entre_fav_e_primeira_dialise': 'Tempo de espera (dias)',\n",
    "        'genero': 'Gênero'\n",
    "    },\n",
    "    title='Perfil dos Pacientes vs Tempo de Espera para Confecção da FAV',\n",
    "    color_discrete_map={\n",
    "        'Feminino': '#0077B6',\n",
    "        'Masculino': '#90E0EF'\n",
    "    }\n",
    ")\n",
    "\n",
    "# Layout com paleta médica\n",
    "fig.update_layout(\n",
    "    plot_bgcolor=paleta['fundo'],\n",
    "    paper_bgcolor=paleta['fundo'],\n",
    "    font=dict(color=paleta['azul_escuro']),\n",
    "    title_font=dict(size=18, color=paleta['azul_escuro']),\n",
    "    xaxis=dict(\n",
    "        title='Idade',\n",
    "        gridcolor=paleta['cinza_claro'],\n",
    "        linecolor=paleta['cinza_texto']\n",
    "    ),\n",
    "    yaxis=dict(\n",
    "        title='Tempo de espera (dias)',\n",
    "        gridcolor=paleta['cinza_claro'],\n",
    "        linecolor=paleta['cinza_texto']\n",
    "    )\n",
    ")\n",
    "\n",
    "fig.show()"
   ]
  },
  {
   "cell_type": "markdown",
   "id": "abb1937f",
   "metadata": {},
   "source": [
    "# 4) Existe variação no tempo de espera para a confecção da FAV entre diferentes unidades hospitalares de Porto Alegre?"
   ]
  },
  {
   "cell_type": "code",
   "execution_count": 24,
   "id": "3a170546",
   "metadata": {},
   "outputs": [
    {
     "data": {
      "text/html": [
       "<div>\n",
       "<style scoped>\n",
       "    .dataframe tbody tr th:only-of-type {\n",
       "        vertical-align: middle;\n",
       "    }\n",
       "\n",
       "    .dataframe tbody tr th {\n",
       "        vertical-align: top;\n",
       "    }\n",
       "\n",
       "    .dataframe thead th {\n",
       "        text-align: right;\n",
       "    }\n",
       "</style>\n",
       "<table border=\"1\" class=\"dataframe\">\n",
       "  <thead>\n",
       "    <tr style=\"text-align: right;\">\n",
       "      <th></th>\n",
       "      <th>data_primeira_dialise</th>\n",
       "      <th>cronico</th>\n",
       "      <th>data_atendimento_dialitico</th>\n",
       "      <th>obito</th>\n",
       "      <th>data_atendimento_fav</th>\n",
       "      <th>genero</th>\n",
       "      <th>idade</th>\n",
       "      <th>hospital</th>\n",
       "      <th>tempo_entre_fav_e_primeira_dialise</th>\n",
       "      <th>tempo_anos</th>\n",
       "    </tr>\n",
       "  </thead>\n",
       "  <tbody>\n",
       "    <tr>\n",
       "      <th>25</th>\n",
       "      <td>2016-10-31</td>\n",
       "      <td>cronico</td>\n",
       "      <td>2017-02-01</td>\n",
       "      <td>0</td>\n",
       "      <td>2016-11-01</td>\n",
       "      <td>M</td>\n",
       "      <td>36</td>\n",
       "      <td>2266474.0</td>\n",
       "      <td>1</td>\n",
       "      <td>0.002738</td>\n",
       "    </tr>\n",
       "    <tr>\n",
       "      <th>44</th>\n",
       "      <td>2021-05-31</td>\n",
       "      <td>cronico</td>\n",
       "      <td>2021-08-01</td>\n",
       "      <td>0</td>\n",
       "      <td>2021-06-01</td>\n",
       "      <td>M</td>\n",
       "      <td>50</td>\n",
       "      <td>2253046.0</td>\n",
       "      <td>1</td>\n",
       "      <td>0.002738</td>\n",
       "    </tr>\n",
       "    <tr>\n",
       "      <th>28</th>\n",
       "      <td>2018-01-31</td>\n",
       "      <td>cronico</td>\n",
       "      <td>2018-04-01</td>\n",
       "      <td>0</td>\n",
       "      <td>2018-02-01</td>\n",
       "      <td>F</td>\n",
       "      <td>53</td>\n",
       "      <td>2252295.0</td>\n",
       "      <td>1</td>\n",
       "      <td>0.002738</td>\n",
       "    </tr>\n",
       "    <tr>\n",
       "      <th>43</th>\n",
       "      <td>2021-07-31</td>\n",
       "      <td>cronico</td>\n",
       "      <td>2021-10-01</td>\n",
       "      <td>0</td>\n",
       "      <td>2021-08-01</td>\n",
       "      <td>M</td>\n",
       "      <td>56</td>\n",
       "      <td>2707918.0</td>\n",
       "      <td>1</td>\n",
       "      <td>0.002738</td>\n",
       "    </tr>\n",
       "    <tr>\n",
       "      <th>2</th>\n",
       "      <td>2014-01-31</td>\n",
       "      <td>cronico</td>\n",
       "      <td>2024-02-01</td>\n",
       "      <td>0</td>\n",
       "      <td>2024-08-01</td>\n",
       "      <td>F</td>\n",
       "      <td>37</td>\n",
       "      <td>2262509.0</td>\n",
       "      <td>3835</td>\n",
       "      <td>10.499658</td>\n",
       "    </tr>\n",
       "  </tbody>\n",
       "</table>\n",
       "</div>"
      ],
      "text/plain": [
       "   data_primeira_dialise  cronico data_atendimento_dialitico  obito  \\\n",
       "25            2016-10-31  cronico                 2017-02-01      0   \n",
       "44            2021-05-31  cronico                 2021-08-01      0   \n",
       "28            2018-01-31  cronico                 2018-04-01      0   \n",
       "43            2021-07-31  cronico                 2021-10-01      0   \n",
       "2             2014-01-31  cronico                 2024-02-01      0   \n",
       "\n",
       "   data_atendimento_fav genero  idade   hospital  \\\n",
       "25           2016-11-01      M     36  2266474.0   \n",
       "44           2021-06-01      M     50  2253046.0   \n",
       "28           2018-02-01      F     53  2252295.0   \n",
       "43           2021-08-01      M     56  2707918.0   \n",
       "2            2024-08-01      F     37  2262509.0   \n",
       "\n",
       "    tempo_entre_fav_e_primeira_dialise  tempo_anos  \n",
       "25                                   1    0.002738  \n",
       "44                                   1    0.002738  \n",
       "28                                   1    0.002738  \n",
       "43                                   1    0.002738  \n",
       "2                                 3835   10.499658  "
      ]
     },
     "execution_count": 24,
     "metadata": {},
     "output_type": "execute_result"
    }
   ],
   "source": [
    "df_espera['hospital'] = df_espera['hospital'].astype(str)\n",
    "\n",
    "top_25_maiores = df_espera.sort_values(by='tempo_entre_fav_e_primeira_dialise', ascending=False).head(25)\n",
    "\n",
    "top_25_menores = df_espera.sort_values(by='tempo_entre_fav_e_primeira_dialise', ascending=True).head(25)\n",
    "\n",
    "df_extremos = pd.concat([top_25_maiores, top_25_menores]).reset_index(drop=True)\n",
    "df_extremos[['hospital', 'idade', 'genero', 'tempo_entre_fav_e_primeira_dialise', 'data_primeira_dialise', 'data_atendimento_fav']]\n",
    "df_extremos.sample(5)"
   ]
  },
  {
   "cell_type": "code",
   "execution_count": null,
   "id": "abfe5993",
   "metadata": {},
   "outputs": [],
   "source": [
    "df_extremos['grupo'] = ['Maior Tempo'] * 25 + ['Menor Tempo'] * 25\n",
    "\n",
    "# Criar uma coluna identificadora para o paciente (indexado)\n",
    "df_extremos['id_paciente'] = df_extremos.index.astype(str)\n",
    "\n",
    "# Construir matriz pivô: linhas = hospital, colunas = id_paciente, valores = tempo de espera\n",
    "heatmap_data = df_extremos.pivot(\n",
    "    index='hospital',\n",
    "    columns='id_paciente',\n",
    "    values='tempo_entre_fav_e_primeira_dialise'\n",
    ")\n",
    "\n",
    "# Plotar o heatmap\n",
    "fig1_p4 = px.imshow(\n",
    "    heatmap_data,\n",
    "    color_continuous_scale='Blues',\n",
    "    labels=dict(color=\"Tempo de espera (dias)\", x=\"Paciente\", y=\"Hospital\"),\n",
    "    aspect='auto',\n",
    "    title='Heatmap dos 25 Maiores e 25 Menores Tempos de Espera para FAV'\n",
    ")\n",
    "\n",
    "# Layout com paleta\n",
    "fig1_p4.update_layout(\n",
    "    plot_bgcolor=paleta['fundo'],\n",
    "    paper_bgcolor=paleta['fundo'],\n",
    "    font=dict(color=paleta['azul_escuro']),\n",
    "    title_font=dict(size=18, color=paleta['azul_escuro']),\n",
    "    xaxis=dict(side='bottom')\n",
    ")\n",
    "\n",
    "fig1_p4.show()"
   ]
  },
  {
   "cell_type": "markdown",
   "id": "7494261f",
   "metadata": {},
   "source": [
    "# DASH Dashboard"
   ]
  },
  {
   "cell_type": "code",
   "execution_count": 74,
   "id": "605a6a03",
   "metadata": {},
   "outputs": [
    {
     "data": {
      "text/html": [
       "\n",
       "        <iframe\n",
       "            width=\"100%\"\n",
       "            height=\"650\"\n",
       "            src=\"http://127.0.0.1:8050/\"\n",
       "            frameborder=\"0\"\n",
       "            allowfullscreen\n",
       "            \n",
       "        ></iframe>\n",
       "        "
      ],
      "text/plain": [
       "<IPython.lib.display.IFrame at 0x27acf1e5e50>"
      ]
     },
     "metadata": {},
     "output_type": "display_data"
    }
   ],
   "source": [
    "# === App Dash ===\n",
    "app = Dash(__name__)\n",
    "\n",
    "app.layout = html.Div(children=[\n",
    "    html.H1(children='Dashboard - Tempo de Espera na FAV'),\n",
    "\n",
    "    html.Div(children='''\n",
    "        Análise dos tempos de espera entre a primeira diálise e o atendimento na FAV.\n",
    "    '''),\n",
    "\n",
    "    dcc.Graph(\n",
    "        id='bar-plot',\n",
    "        figure=fig1_p1\n",
    "    ),\n",
    "    dcc.Graph(\n",
    "        id='histogram',\n",
    "        figure=fig2_p1\n",
    "    ),\n",
    "\n",
    "    dcc.Graph(\n",
    "    id='line-plot',\n",
    "    figure=fig1_p2\n",
    "    )\n",
    "])\n",
    "\n",
    "if __name__ == '__main__':\n",
    "    app.run_server(debug=True)"
   ]
  },
  {
   "cell_type": "code",
   "execution_count": null,
   "id": "3fa3bb2b",
   "metadata": {},
   "outputs": [],
   "source": []
  }
 ],
 "metadata": {
  "kernelspec": {
   "display_name": "TicTacToe",
   "language": "python",
   "name": "python3"
  },
  "language_info": {
   "codemirror_mode": {
    "name": "ipython",
    "version": 3
   },
   "file_extension": ".py",
   "mimetype": "text/x-python",
   "name": "python",
   "nbconvert_exporter": "python",
   "pygments_lexer": "ipython3",
   "version": "3.12.2"
  }
 },
 "nbformat": 4,
 "nbformat_minor": 5
}
