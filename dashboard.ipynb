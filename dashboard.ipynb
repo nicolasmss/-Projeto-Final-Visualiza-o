{
 "cells": [
  {
   "cell_type": "code",
   "execution_count": 2,
   "id": "cfdebc9b",
   "metadata": {},
   "outputs": [],
   "source": [
    "import pandas as pd\n",
    "from dash import Dash, html, dcc\n",
    "import plotly.express as px\n",
    "import plotly.graph_objects as go\n",
    "import numpy as np"
   ]
  },
  {
   "cell_type": "code",
   "execution_count": 3,
   "id": "2566e485",
   "metadata": {},
   "outputs": [
    {
     "name": "stderr",
     "output_type": "stream",
     "text": [
      "/tmp/ipykernel_10737/2972920874.py:1: DtypeWarning: Columns (20,37,104) have mixed types. Specify dtype option on import or set low_memory=False.\n",
      "  df = pd.read_csv('dialise_fav_final3.csv', sep=';')\n"
     ]
    },
    {
     "data": {
      "text/html": [
       "<div>\n",
       "<style scoped>\n",
       "    .dataframe tbody tr th:only-of-type {\n",
       "        vertical-align: middle;\n",
       "    }\n",
       "\n",
       "    .dataframe tbody tr th {\n",
       "        vertical-align: top;\n",
       "    }\n",
       "\n",
       "    .dataframe thead th {\n",
       "        text-align: right;\n",
       "    }\n",
       "</style>\n",
       "<table border=\"1\" class=\"dataframe\">\n",
       "  <thead>\n",
       "    <tr style=\"text-align: right;\">\n",
       "      <th></th>\n",
       "      <th>AP_MVM</th>\n",
       "      <th>AP_CONDIC</th>\n",
       "      <th>AP_GESTAO</th>\n",
       "      <th>AP_CODUNI</th>\n",
       "      <th>AP_AUTORIZ</th>\n",
       "      <th>AP_CMP</th>\n",
       "      <th>AP_PRIPAL</th>\n",
       "      <th>AP_VL_AP</th>\n",
       "      <th>AP_UFMUN</th>\n",
       "      <th>AP_TPUPS</th>\n",
       "      <th>...</th>\n",
       "      <th>fav_ACF_FLEBIT</th>\n",
       "      <th>fav_ACF_HEMATO</th>\n",
       "      <th>fav_ACF_VEIAVI</th>\n",
       "      <th>fav_ACF_PULSO</th>\n",
       "      <th>fav_ACF_VEIDIA</th>\n",
       "      <th>fav_ACF_ARTDIA</th>\n",
       "      <th>fav_ACF_FREMIT</th>\n",
       "      <th>fav_AP_NATJUR</th>\n",
       "      <th>fav_repeticao</th>\n",
       "      <th>espera_fav</th>\n",
       "    </tr>\n",
       "  </thead>\n",
       "  <tbody>\n",
       "    <tr>\n",
       "      <th>5805</th>\n",
       "      <td>201408</td>\n",
       "      <td>EP</td>\n",
       "      <td>430000</td>\n",
       "      <td>2226952</td>\n",
       "      <td>4314200153780</td>\n",
       "      <td>2014-08-01</td>\n",
       "      <td>305010107.0</td>\n",
       "      <td>2516.84</td>\n",
       "      <td>432120</td>\n",
       "      <td>36</td>\n",
       "      <td>...</td>\n",
       "      <td>NaN</td>\n",
       "      <td>NaN</td>\n",
       "      <td>NaN</td>\n",
       "      <td>NaN</td>\n",
       "      <td>NaN</td>\n",
       "      <td>NaN</td>\n",
       "      <td>NaN</td>\n",
       "      <td>NaN</td>\n",
       "      <td>0.0</td>\n",
       "      <td>NaN</td>\n",
       "    </tr>\n",
       "    <tr>\n",
       "      <th>281346</th>\n",
       "      <td>201808</td>\n",
       "      <td>PG</td>\n",
       "      <td>431710</td>\n",
       "      <td>2247488</td>\n",
       "      <td>4318210064070</td>\n",
       "      <td>2018-08-01</td>\n",
       "      <td>305010107.0</td>\n",
       "      <td>2602.14</td>\n",
       "      <td>431710</td>\n",
       "      <td>39</td>\n",
       "      <td>...</td>\n",
       "      <td>N</td>\n",
       "      <td>N</td>\n",
       "      <td>N</td>\n",
       "      <td>N</td>\n",
       "      <td>0000</td>\n",
       "      <td>0000</td>\n",
       "      <td>1.0</td>\n",
       "      <td>NaN</td>\n",
       "      <td>42.0</td>\n",
       "      <td>NaN</td>\n",
       "    </tr>\n",
       "    <tr>\n",
       "      <th>140177</th>\n",
       "      <td>201608</td>\n",
       "      <td>PG</td>\n",
       "      <td>431870</td>\n",
       "      <td>2232022</td>\n",
       "      <td>4316204728726</td>\n",
       "      <td>2016-08-01</td>\n",
       "      <td>305010107.0</td>\n",
       "      <td>2346.46</td>\n",
       "      <td>431870</td>\n",
       "      <td>5</td>\n",
       "      <td>...</td>\n",
       "      <td>NaN</td>\n",
       "      <td>NaN</td>\n",
       "      <td>NaN</td>\n",
       "      <td>NaN</td>\n",
       "      <td>NaN</td>\n",
       "      <td>NaN</td>\n",
       "      <td>NaN</td>\n",
       "      <td>NaN</td>\n",
       "      <td>0.0</td>\n",
       "      <td>NaN</td>\n",
       "    </tr>\n",
       "    <tr>\n",
       "      <th>561341</th>\n",
       "      <td>202206</td>\n",
       "      <td>EP</td>\n",
       "      <td>430000</td>\n",
       "      <td>2228602</td>\n",
       "      <td>4322207313017</td>\n",
       "      <td>2022-06-01</td>\n",
       "      <td>305010107.0</td>\n",
       "      <td>2858.13</td>\n",
       "      <td>430850</td>\n",
       "      <td>5</td>\n",
       "      <td>...</td>\n",
       "      <td>NaN</td>\n",
       "      <td>NaN</td>\n",
       "      <td>NaN</td>\n",
       "      <td>NaN</td>\n",
       "      <td>NaN</td>\n",
       "      <td>NaN</td>\n",
       "      <td>NaN</td>\n",
       "      <td>NaN</td>\n",
       "      <td>0.0</td>\n",
       "      <td>NaN</td>\n",
       "    </tr>\n",
       "    <tr>\n",
       "      <th>614993</th>\n",
       "      <td>202302</td>\n",
       "      <td>PG</td>\n",
       "      <td>430210</td>\n",
       "      <td>2241021</td>\n",
       "      <td>4323202798850</td>\n",
       "      <td>2023-02-01</td>\n",
       "      <td>305010107.0</td>\n",
       "      <td>2621.64</td>\n",
       "      <td>430210</td>\n",
       "      <td>5</td>\n",
       "      <td>...</td>\n",
       "      <td>N</td>\n",
       "      <td>N</td>\n",
       "      <td>N</td>\n",
       "      <td>N</td>\n",
       "      <td>0001</td>\n",
       "      <td>0001</td>\n",
       "      <td>1.0</td>\n",
       "      <td>3999.0</td>\n",
       "      <td>32.0</td>\n",
       "      <td>NaN</td>\n",
       "    </tr>\n",
       "  </tbody>\n",
       "</table>\n",
       "<p>5 rows × 124 columns</p>\n",
       "</div>"
      ],
      "text/plain": [
       "        AP_MVM AP_CONDIC  AP_GESTAO  AP_CODUNI     AP_AUTORIZ      AP_CMP  \\\n",
       "5805    201408        EP     430000    2226952  4314200153780  2014-08-01   \n",
       "281346  201808        PG     431710    2247488  4318210064070  2018-08-01   \n",
       "140177  201608        PG     431870    2232022  4316204728726  2016-08-01   \n",
       "561341  202206        EP     430000    2228602  4322207313017  2022-06-01   \n",
       "614993  202302        PG     430210    2241021  4323202798850  2023-02-01   \n",
       "\n",
       "          AP_PRIPAL  AP_VL_AP  AP_UFMUN  AP_TPUPS  ...  fav_ACF_FLEBIT  \\\n",
       "5805    305010107.0   2516.84    432120        36  ...             NaN   \n",
       "281346  305010107.0   2602.14    431710        39  ...               N   \n",
       "140177  305010107.0   2346.46    431870         5  ...             NaN   \n",
       "561341  305010107.0   2858.13    430850         5  ...             NaN   \n",
       "614993  305010107.0   2621.64    430210         5  ...               N   \n",
       "\n",
       "       fav_ACF_HEMATO  fav_ACF_VEIAVI  fav_ACF_PULSO fav_ACF_VEIDIA  \\\n",
       "5805              NaN             NaN            NaN            NaN   \n",
       "281346              N               N              N           0000   \n",
       "140177            NaN             NaN            NaN            NaN   \n",
       "561341            NaN             NaN            NaN            NaN   \n",
       "614993              N               N              N           0001   \n",
       "\n",
       "        fav_ACF_ARTDIA  fav_ACF_FREMIT fav_AP_NATJUR  fav_repeticao  \\\n",
       "5805               NaN             NaN           NaN            0.0   \n",
       "281346            0000             1.0           NaN           42.0   \n",
       "140177             NaN             NaN           NaN            0.0   \n",
       "561341             NaN             NaN           NaN            0.0   \n",
       "614993            0001             1.0        3999.0           32.0   \n",
       "\n",
       "        espera_fav  \n",
       "5805           NaN  \n",
       "281346         NaN  \n",
       "140177         NaN  \n",
       "561341         NaN  \n",
       "614993         NaN  \n",
       "\n",
       "[5 rows x 124 columns]"
      ]
     },
     "execution_count": 3,
     "metadata": {},
     "output_type": "execute_result"
    }
   ],
   "source": [
    "df = pd.read_csv('dialise_fav_final3.csv', sep=';')\n",
    "df.sample(5)"
   ]
  },
  {
   "cell_type": "code",
   "execution_count": 5,
   "id": "646bc4c9",
   "metadata": {},
   "outputs": [],
   "source": [
    "paleta = {\n",
    "    'azul_principal': '#0077B6',\n",
    "    'azul_claro'    : '#90E0EF',\n",
    "    'ciano'         : '#48CAE4',\n",
    "    'azul_escuro'   : '#023E8A',\n",
    "    'cinza_texto'   : '#6C757D',\n",
    "    'fundo'         : '#FFFFFF',\n",
    "    'cinza_claro'   : '#F8F9FA'\n",
    "}"
   ]
  },
  {
   "cell_type": "markdown",
   "id": "85798fbb",
   "metadata": {},
   "source": [
    "# Pergunta 1"
   ]
  },
  {
   "cell_type": "code",
   "execution_count": 6,
   "id": "cec06454",
   "metadata": {},
   "outputs": [
    {
     "data": {
      "text/html": [
       "<div>\n",
       "<style scoped>\n",
       "    .dataframe tbody tr th:only-of-type {\n",
       "        vertical-align: middle;\n",
       "    }\n",
       "\n",
       "    .dataframe tbody tr th {\n",
       "        vertical-align: top;\n",
       "    }\n",
       "\n",
       "    .dataframe thead th {\n",
       "        text-align: right;\n",
       "    }\n",
       "</style>\n",
       "<table border=\"1\" class=\"dataframe\">\n",
       "  <thead>\n",
       "    <tr style=\"text-align: right;\">\n",
       "      <th></th>\n",
       "      <th>data_primeira_dialise</th>\n",
       "      <th>cronico</th>\n",
       "      <th>data_atendimento_dialitico</th>\n",
       "      <th>obito</th>\n",
       "      <th>data_atendimento_fav</th>\n",
       "    </tr>\n",
       "  </thead>\n",
       "  <tbody>\n",
       "    <tr>\n",
       "      <th>111124</th>\n",
       "      <td>2006-01-10</td>\n",
       "      <td>repetido</td>\n",
       "      <td>2016-03-01</td>\n",
       "      <td>0</td>\n",
       "      <td>NaN</td>\n",
       "    </tr>\n",
       "    <tr>\n",
       "      <th>195416</th>\n",
       "      <td>2016-06-01</td>\n",
       "      <td>repetido</td>\n",
       "      <td>2017-05-01</td>\n",
       "      <td>0</td>\n",
       "      <td>2016-07-01</td>\n",
       "    </tr>\n",
       "    <tr>\n",
       "      <th>387124</th>\n",
       "      <td>2015-05-21</td>\n",
       "      <td>repetido</td>\n",
       "      <td>2020-01-01</td>\n",
       "      <td>0</td>\n",
       "      <td>2015-08-01</td>\n",
       "    </tr>\n",
       "    <tr>\n",
       "      <th>140455</th>\n",
       "      <td>2014-09-26</td>\n",
       "      <td>repetido</td>\n",
       "      <td>2016-08-01</td>\n",
       "      <td>0</td>\n",
       "      <td>2014-11-01</td>\n",
       "    </tr>\n",
       "    <tr>\n",
       "      <th>527575</th>\n",
       "      <td>2021-07-16</td>\n",
       "      <td>repetido</td>\n",
       "      <td>2021-12-01</td>\n",
       "      <td>0</td>\n",
       "      <td>NaN</td>\n",
       "    </tr>\n",
       "    <tr>\n",
       "      <th>472051</th>\n",
       "      <td>2020-05-29</td>\n",
       "      <td>repetido</td>\n",
       "      <td>2021-03-01</td>\n",
       "      <td>0</td>\n",
       "      <td>2020-09-01</td>\n",
       "    </tr>\n",
       "    <tr>\n",
       "      <th>700659</th>\n",
       "      <td>2022-10-17</td>\n",
       "      <td>repetido</td>\n",
       "      <td>2024-03-01</td>\n",
       "      <td>0</td>\n",
       "      <td>2022-01-01</td>\n",
       "    </tr>\n",
       "    <tr>\n",
       "      <th>547538</th>\n",
       "      <td>2021-10-29</td>\n",
       "      <td>repetido</td>\n",
       "      <td>2022-02-01</td>\n",
       "      <td>0</td>\n",
       "      <td>2021-11-01</td>\n",
       "    </tr>\n",
       "    <tr>\n",
       "      <th>736430</th>\n",
       "      <td>2024-05-09</td>\n",
       "      <td>repetido</td>\n",
       "      <td>2024-09-01</td>\n",
       "      <td>0</td>\n",
       "      <td>2024-10-01</td>\n",
       "    </tr>\n",
       "    <tr>\n",
       "      <th>77490</th>\n",
       "      <td>2014-04-10</td>\n",
       "      <td>repetido</td>\n",
       "      <td>2015-09-01</td>\n",
       "      <td>0</td>\n",
       "      <td>NaN</td>\n",
       "    </tr>\n",
       "  </tbody>\n",
       "</table>\n",
       "</div>"
      ],
      "text/plain": [
       "       data_primeira_dialise   cronico data_atendimento_dialitico  obito  \\\n",
       "111124            2006-01-10  repetido                 2016-03-01      0   \n",
       "195416            2016-06-01  repetido                 2017-05-01      0   \n",
       "387124            2015-05-21  repetido                 2020-01-01      0   \n",
       "140455            2014-09-26  repetido                 2016-08-01      0   \n",
       "527575            2021-07-16  repetido                 2021-12-01      0   \n",
       "472051            2020-05-29  repetido                 2021-03-01      0   \n",
       "700659            2022-10-17  repetido                 2024-03-01      0   \n",
       "547538            2021-10-29  repetido                 2022-02-01      0   \n",
       "736430            2024-05-09  repetido                 2024-09-01      0   \n",
       "77490             2014-04-10  repetido                 2015-09-01      0   \n",
       "\n",
       "       data_atendimento_fav  \n",
       "111124                  NaN  \n",
       "195416           2016-07-01  \n",
       "387124           2015-08-01  \n",
       "140455           2014-11-01  \n",
       "527575                  NaN  \n",
       "472051           2020-09-01  \n",
       "700659           2022-01-01  \n",
       "547538           2021-11-01  \n",
       "736430           2024-10-01  \n",
       "77490                   NaN  "
      ]
     },
     "execution_count": 6,
     "metadata": {},
     "output_type": "execute_result"
    }
   ],
   "source": [
    "# Tempo de espera - Grafico de Linha + média por ano\n",
    "df_espera = pd.DataFrame()\n",
    "df_espera['data_primeira_dialise']      = df['ATD_DTPDR']\n",
    "df_espera['cronico']                    = df['Cronico']\n",
    "df_espera['data_atendimento_dialitico'] = df['AP_CMP']\n",
    "df_espera['obito']                      = df['AP_OBITO']\n",
    "df_espera['data_atendimento_fav']       = df['fav_AP_CMP']\n",
    "df_espera.sample(10)"
   ]
  },
  {
   "cell_type": "code",
   "execution_count": 7,
   "id": "4b0159e7",
   "metadata": {},
   "outputs": [
    {
     "name": "stderr",
     "output_type": "stream",
     "text": [
      "/tmp/ipykernel_10737/2896329900.py:2: UserWarning: Boolean Series key will be reindexed to match DataFrame index.\n",
      "  df_espera_mortos_validos = df_espera[df_espera.obito == 1][df_espera.data_atendimento_fav.notna()]\n"
     ]
    },
    {
     "data": {
      "text/html": [
       "<div>\n",
       "<style scoped>\n",
       "    .dataframe tbody tr th:only-of-type {\n",
       "        vertical-align: middle;\n",
       "    }\n",
       "\n",
       "    .dataframe tbody tr th {\n",
       "        vertical-align: top;\n",
       "    }\n",
       "\n",
       "    .dataframe thead th {\n",
       "        text-align: right;\n",
       "    }\n",
       "</style>\n",
       "<table border=\"1\" class=\"dataframe\">\n",
       "  <thead>\n",
       "    <tr style=\"text-align: right;\">\n",
       "      <th></th>\n",
       "      <th>data_primeira_dialise</th>\n",
       "      <th>cronico</th>\n",
       "      <th>data_atendimento_dialitico</th>\n",
       "      <th>obito</th>\n",
       "      <th>data_atendimento_fav</th>\n",
       "    </tr>\n",
       "  </thead>\n",
       "  <tbody>\n",
       "    <tr>\n",
       "      <th>400521</th>\n",
       "      <td>2016-06-11</td>\n",
       "      <td>repetido</td>\n",
       "      <td>2020-04-01</td>\n",
       "      <td>0</td>\n",
       "      <td>2016-06-01</td>\n",
       "    </tr>\n",
       "    <tr>\n",
       "      <th>551433</th>\n",
       "      <td>2020-09-01</td>\n",
       "      <td>repetido</td>\n",
       "      <td>2022-03-01</td>\n",
       "      <td>0</td>\n",
       "      <td>2021-01-01</td>\n",
       "    </tr>\n",
       "    <tr>\n",
       "      <th>345048</th>\n",
       "      <td>2019-05-18</td>\n",
       "      <td>agudo</td>\n",
       "      <td>2019-07-01</td>\n",
       "      <td>0</td>\n",
       "      <td>2019-06-01</td>\n",
       "    </tr>\n",
       "    <tr>\n",
       "      <th>473989</th>\n",
       "      <td>2021-02-25</td>\n",
       "      <td>agudo</td>\n",
       "      <td>2021-03-01</td>\n",
       "      <td>0</td>\n",
       "      <td>2021-04-01</td>\n",
       "    </tr>\n",
       "    <tr>\n",
       "      <th>55666</th>\n",
       "      <td>2012-01-14</td>\n",
       "      <td>repetido</td>\n",
       "      <td>2015-05-01</td>\n",
       "      <td>0</td>\n",
       "      <td>2021-03-01</td>\n",
       "    </tr>\n",
       "    <tr>\n",
       "      <th>186328</th>\n",
       "      <td>2015-08-24</td>\n",
       "      <td>repetido</td>\n",
       "      <td>2017-04-01</td>\n",
       "      <td>0</td>\n",
       "      <td>2015-10-01</td>\n",
       "    </tr>\n",
       "    <tr>\n",
       "      <th>163969</th>\n",
       "      <td>2016-09-12</td>\n",
       "      <td>cronico</td>\n",
       "      <td>2016-12-01</td>\n",
       "      <td>0</td>\n",
       "      <td>NaN</td>\n",
       "    </tr>\n",
       "    <tr>\n",
       "      <th>104751</th>\n",
       "      <td>2014-04-10</td>\n",
       "      <td>repetido</td>\n",
       "      <td>2016-02-01</td>\n",
       "      <td>0</td>\n",
       "      <td>NaN</td>\n",
       "    </tr>\n",
       "    <tr>\n",
       "      <th>727872</th>\n",
       "      <td>2023-03-29</td>\n",
       "      <td>repetido</td>\n",
       "      <td>2024-07-01</td>\n",
       "      <td>0</td>\n",
       "      <td>2024-03-01</td>\n",
       "    </tr>\n",
       "    <tr>\n",
       "      <th>490595</th>\n",
       "      <td>2011-03-10</td>\n",
       "      <td>repetido</td>\n",
       "      <td>2021-06-01</td>\n",
       "      <td>0</td>\n",
       "      <td>NaN</td>\n",
       "    </tr>\n",
       "  </tbody>\n",
       "</table>\n",
       "</div>"
      ],
      "text/plain": [
       "       data_primeira_dialise   cronico data_atendimento_dialitico  obito  \\\n",
       "400521            2016-06-11  repetido                 2020-04-01      0   \n",
       "551433            2020-09-01  repetido                 2022-03-01      0   \n",
       "345048            2019-05-18     agudo                 2019-07-01      0   \n",
       "473989            2021-02-25     agudo                 2021-03-01      0   \n",
       "55666             2012-01-14  repetido                 2015-05-01      0   \n",
       "186328            2015-08-24  repetido                 2017-04-01      0   \n",
       "163969            2016-09-12   cronico                 2016-12-01      0   \n",
       "104751            2014-04-10  repetido                 2016-02-01      0   \n",
       "727872            2023-03-29  repetido                 2024-07-01      0   \n",
       "490595            2011-03-10  repetido                 2021-06-01      0   \n",
       "\n",
       "       data_atendimento_fav  \n",
       "400521           2016-06-01  \n",
       "551433           2021-01-01  \n",
       "345048           2019-06-01  \n",
       "473989           2021-04-01  \n",
       "55666            2021-03-01  \n",
       "186328           2015-10-01  \n",
       "163969                  NaN  \n",
       "104751                  NaN  \n",
       "727872           2024-03-01  \n",
       "490595                  NaN  "
      ]
     },
     "execution_count": 7,
     "metadata": {},
     "output_type": "execute_result"
    }
   ],
   "source": [
    "# Para os casos de morte, podemos desconsiderar o tempo de espera (?)\n",
    "df_espera_mortos_validos = df_espera[df_espera.obito == 1][df_espera.data_atendimento_fav.notna()]\n",
    "\n",
    "# Remover todos os mortos\n",
    "df_espera = df_espera[df_espera.obito != 1]\n",
    "\n",
    "# Inserir apenas falecidos válidos\n",
    "df_espera = pd.concat([df_espera, df_espera_mortos_validos])\n",
    "df_espera.sample(10)"
   ]
  },
  {
   "cell_type": "code",
   "execution_count": 8,
   "id": "0e00c490",
   "metadata": {},
   "outputs": [
    {
     "data": {
      "text/html": [
       "<div>\n",
       "<style scoped>\n",
       "    .dataframe tbody tr th:only-of-type {\n",
       "        vertical-align: middle;\n",
       "    }\n",
       "\n",
       "    .dataframe tbody tr th {\n",
       "        vertical-align: top;\n",
       "    }\n",
       "\n",
       "    .dataframe thead th {\n",
       "        text-align: right;\n",
       "    }\n",
       "</style>\n",
       "<table border=\"1\" class=\"dataframe\">\n",
       "  <thead>\n",
       "    <tr style=\"text-align: right;\">\n",
       "      <th></th>\n",
       "      <th>data_primeira_dialise</th>\n",
       "      <th>cronico</th>\n",
       "      <th>data_atendimento_dialitico</th>\n",
       "      <th>obito</th>\n",
       "      <th>data_atendimento_fav</th>\n",
       "    </tr>\n",
       "  </thead>\n",
       "  <tbody>\n",
       "    <tr>\n",
       "      <th>429165</th>\n",
       "      <td>2020-07-23</td>\n",
       "      <td>agudo</td>\n",
       "      <td>2020-08-01</td>\n",
       "      <td>0</td>\n",
       "      <td>2020-08-01</td>\n",
       "    </tr>\n",
       "    <tr>\n",
       "      <th>326365</th>\n",
       "      <td>2019-02-27</td>\n",
       "      <td>agudo</td>\n",
       "      <td>2019-02-01</td>\n",
       "      <td>0</td>\n",
       "      <td>NaN</td>\n",
       "    </tr>\n",
       "    <tr>\n",
       "      <th>202269</th>\n",
       "      <td>2017-06-12</td>\n",
       "      <td>agudo</td>\n",
       "      <td>2017-06-01</td>\n",
       "      <td>0</td>\n",
       "      <td>2017-02-01</td>\n",
       "    </tr>\n",
       "    <tr>\n",
       "      <th>423325</th>\n",
       "      <td>2020-06-18</td>\n",
       "      <td>agudo</td>\n",
       "      <td>2020-07-01</td>\n",
       "      <td>0</td>\n",
       "      <td>NaN</td>\n",
       "    </tr>\n",
       "    <tr>\n",
       "      <th>289182</th>\n",
       "      <td>2018-06-09</td>\n",
       "      <td>cronico</td>\n",
       "      <td>2018-09-01</td>\n",
       "      <td>0</td>\n",
       "      <td>2018-08-01</td>\n",
       "    </tr>\n",
       "  </tbody>\n",
       "</table>\n",
       "</div>"
      ],
      "text/plain": [
       "       data_primeira_dialise  cronico data_atendimento_dialitico  obito  \\\n",
       "429165            2020-07-23    agudo                 2020-08-01      0   \n",
       "326365            2019-02-27    agudo                 2019-02-01      0   \n",
       "202269            2017-06-12    agudo                 2017-06-01      0   \n",
       "423325            2020-06-18    agudo                 2020-07-01      0   \n",
       "289182            2018-06-09  cronico                 2018-09-01      0   \n",
       "\n",
       "       data_atendimento_fav  \n",
       "429165           2020-08-01  \n",
       "326365                  NaN  \n",
       "202269           2017-02-01  \n",
       "423325                  NaN  \n",
       "289182           2018-08-01  "
      ]
     },
     "execution_count": 8,
     "metadata": {},
     "output_type": "execute_result"
    }
   ],
   "source": [
    "# Priorizar remover repetidos NaN\n",
    "df_espera = df_espera[df_espera.cronico != 'repetido']\n",
    "df_espera.sample(5)"
   ]
  },
  {
   "cell_type": "code",
   "execution_count": 9,
   "id": "9dad058e",
   "metadata": {},
   "outputs": [
    {
     "data": {
      "text/html": [
       "<div>\n",
       "<style scoped>\n",
       "    .dataframe tbody tr th:only-of-type {\n",
       "        vertical-align: middle;\n",
       "    }\n",
       "\n",
       "    .dataframe tbody tr th {\n",
       "        vertical-align: top;\n",
       "    }\n",
       "\n",
       "    .dataframe thead th {\n",
       "        text-align: right;\n",
       "    }\n",
       "</style>\n",
       "<table border=\"1\" class=\"dataframe\">\n",
       "  <thead>\n",
       "    <tr style=\"text-align: right;\">\n",
       "      <th></th>\n",
       "      <th>data_primeira_dialise</th>\n",
       "      <th>cronico</th>\n",
       "      <th>data_atendimento_dialitico</th>\n",
       "      <th>obito</th>\n",
       "      <th>data_atendimento_fav</th>\n",
       "    </tr>\n",
       "  </thead>\n",
       "  <tbody>\n",
       "    <tr>\n",
       "      <th>438612</th>\n",
       "      <td>2020-07-23</td>\n",
       "      <td>cronico</td>\n",
       "      <td>2020-10-01</td>\n",
       "      <td>0</td>\n",
       "      <td>2021-08-01</td>\n",
       "    </tr>\n",
       "    <tr>\n",
       "      <th>103576</th>\n",
       "      <td>2015-10-20</td>\n",
       "      <td>cronico</td>\n",
       "      <td>2016-01-01</td>\n",
       "      <td>0</td>\n",
       "      <td>2015-11-01</td>\n",
       "    </tr>\n",
       "    <tr>\n",
       "      <th>171170</th>\n",
       "      <td>2016-10-13</td>\n",
       "      <td>cronico</td>\n",
       "      <td>2017-01-01</td>\n",
       "      <td>0</td>\n",
       "      <td>2016-10-01</td>\n",
       "    </tr>\n",
       "    <tr>\n",
       "      <th>702689</th>\n",
       "      <td>2022-10-20</td>\n",
       "      <td>cronico</td>\n",
       "      <td>2024-04-01</td>\n",
       "      <td>0</td>\n",
       "      <td>2024-04-01</td>\n",
       "    </tr>\n",
       "    <tr>\n",
       "      <th>1972</th>\n",
       "      <td>2010-01-28</td>\n",
       "      <td>cronico</td>\n",
       "      <td>2014-08-01</td>\n",
       "      <td>0</td>\n",
       "      <td>2022-07-01</td>\n",
       "    </tr>\n",
       "    <tr>\n",
       "      <th>349414</th>\n",
       "      <td>2019-04-18</td>\n",
       "      <td>cronico</td>\n",
       "      <td>2019-07-01</td>\n",
       "      <td>0</td>\n",
       "      <td>2019-04-01</td>\n",
       "    </tr>\n",
       "    <tr>\n",
       "      <th>51328</th>\n",
       "      <td>2015-01-12</td>\n",
       "      <td>cronico</td>\n",
       "      <td>2015-04-01</td>\n",
       "      <td>0</td>\n",
       "      <td>2016-02-01</td>\n",
       "    </tr>\n",
       "    <tr>\n",
       "      <th>295991</th>\n",
       "      <td>2018-07-05</td>\n",
       "      <td>cronico</td>\n",
       "      <td>2018-10-01</td>\n",
       "      <td>0</td>\n",
       "      <td>2018-08-01</td>\n",
       "    </tr>\n",
       "    <tr>\n",
       "      <th>260037</th>\n",
       "      <td>2018-01-31</td>\n",
       "      <td>cronico</td>\n",
       "      <td>2018-04-01</td>\n",
       "      <td>0</td>\n",
       "      <td>2018-02-01</td>\n",
       "    </tr>\n",
       "    <tr>\n",
       "      <th>311042</th>\n",
       "      <td>2018-10-15</td>\n",
       "      <td>cronico</td>\n",
       "      <td>2019-01-01</td>\n",
       "      <td>0</td>\n",
       "      <td>2019-10-01</td>\n",
       "    </tr>\n",
       "  </tbody>\n",
       "</table>\n",
       "</div>"
      ],
      "text/plain": [
       "       data_primeira_dialise  cronico data_atendimento_dialitico  obito  \\\n",
       "438612            2020-07-23  cronico                 2020-10-01      0   \n",
       "103576            2015-10-20  cronico                 2016-01-01      0   \n",
       "171170            2016-10-13  cronico                 2017-01-01      0   \n",
       "702689            2022-10-20  cronico                 2024-04-01      0   \n",
       "1972              2010-01-28  cronico                 2014-08-01      0   \n",
       "349414            2019-04-18  cronico                 2019-07-01      0   \n",
       "51328             2015-01-12  cronico                 2015-04-01      0   \n",
       "295991            2018-07-05  cronico                 2018-10-01      0   \n",
       "260037            2018-01-31  cronico                 2018-04-01      0   \n",
       "311042            2018-10-15  cronico                 2019-01-01      0   \n",
       "\n",
       "       data_atendimento_fav  \n",
       "438612           2021-08-01  \n",
       "103576           2015-11-01  \n",
       "171170           2016-10-01  \n",
       "702689           2024-04-01  \n",
       "1972             2022-07-01  \n",
       "349414           2019-04-01  \n",
       "51328            2016-02-01  \n",
       "295991           2018-08-01  \n",
       "260037           2018-02-01  \n",
       "311042           2019-10-01  "
      ]
     },
     "execution_count": 9,
     "metadata": {},
     "output_type": "execute_result"
    }
   ],
   "source": [
    "# Remover observações que não são agudos e que não tiveram atendimento FAV\n",
    "# Para garantir, vamos remover todos que não tiveram data_primeira_dialise também\n",
    "df_espera = df_espera[df_espera.cronico != 'agudo']\n",
    "df_espera = df_espera[df_espera.data_atendimento_fav.notna()]\n",
    "df_espera = df_espera[df_espera.data_primeira_dialise.notna()]\n",
    "df_espera.sample(10)"
   ]
  },
  {
   "cell_type": "code",
   "execution_count": 10,
   "id": "2eec2b5a",
   "metadata": {},
   "outputs": [
    {
     "data": {
      "text/html": [
       "<div>\n",
       "<style scoped>\n",
       "    .dataframe tbody tr th:only-of-type {\n",
       "        vertical-align: middle;\n",
       "    }\n",
       "\n",
       "    .dataframe tbody tr th {\n",
       "        vertical-align: top;\n",
       "    }\n",
       "\n",
       "    .dataframe thead th {\n",
       "        text-align: right;\n",
       "    }\n",
       "</style>\n",
       "<table border=\"1\" class=\"dataframe\">\n",
       "  <thead>\n",
       "    <tr style=\"text-align: right;\">\n",
       "      <th></th>\n",
       "      <th>data_primeira_dialise</th>\n",
       "      <th>cronico</th>\n",
       "      <th>data_atendimento_dialitico</th>\n",
       "      <th>obito</th>\n",
       "      <th>data_atendimento_fav</th>\n",
       "      <th>tempo_entre_fav_e_primeira_dialise</th>\n",
       "      <th>tempo_anos</th>\n",
       "    </tr>\n",
       "  </thead>\n",
       "  <tbody>\n",
       "    <tr>\n",
       "      <th>469849</th>\n",
       "      <td>2020-12-17</td>\n",
       "      <td>cronico</td>\n",
       "      <td>2021-03-01</td>\n",
       "      <td>0</td>\n",
       "      <td>2021-01-01</td>\n",
       "      <td>15</td>\n",
       "      <td>0.041068</td>\n",
       "    </tr>\n",
       "    <tr>\n",
       "      <th>698392</th>\n",
       "      <td>2023-12-28</td>\n",
       "      <td>cronico</td>\n",
       "      <td>2024-03-01</td>\n",
       "      <td>0</td>\n",
       "      <td>2024-01-01</td>\n",
       "      <td>4</td>\n",
       "      <td>0.010951</td>\n",
       "    </tr>\n",
       "    <tr>\n",
       "      <th>391946</th>\n",
       "      <td>2019-11-23</td>\n",
       "      <td>cronico</td>\n",
       "      <td>2020-02-01</td>\n",
       "      <td>0</td>\n",
       "      <td>2020-12-01</td>\n",
       "      <td>374</td>\n",
       "      <td>1.023956</td>\n",
       "    </tr>\n",
       "    <tr>\n",
       "      <th>389001</th>\n",
       "      <td>2019-10-14</td>\n",
       "      <td>cronico</td>\n",
       "      <td>2020-02-01</td>\n",
       "      <td>0</td>\n",
       "      <td>2020-05-01</td>\n",
       "      <td>200</td>\n",
       "      <td>0.547570</td>\n",
       "    </tr>\n",
       "    <tr>\n",
       "      <th>507145</th>\n",
       "      <td>2021-06-02</td>\n",
       "      <td>cronico</td>\n",
       "      <td>2021-09-01</td>\n",
       "      <td>0</td>\n",
       "      <td>2021-07-01</td>\n",
       "      <td>29</td>\n",
       "      <td>0.079398</td>\n",
       "    </tr>\n",
       "    <tr>\n",
       "      <th>5399</th>\n",
       "      <td>2013-04-18</td>\n",
       "      <td>cronico</td>\n",
       "      <td>2014-08-01</td>\n",
       "      <td>0</td>\n",
       "      <td>2014-11-01</td>\n",
       "      <td>562</td>\n",
       "      <td>1.538672</td>\n",
       "    </tr>\n",
       "    <tr>\n",
       "      <th>1488</th>\n",
       "      <td>2003-05-14</td>\n",
       "      <td>cronico</td>\n",
       "      <td>2014-08-01</td>\n",
       "      <td>0</td>\n",
       "      <td>2015-03-01</td>\n",
       "      <td>4309</td>\n",
       "      <td>11.797399</td>\n",
       "    </tr>\n",
       "    <tr>\n",
       "      <th>2223</th>\n",
       "      <td>2004-12-23</td>\n",
       "      <td>cronico</td>\n",
       "      <td>2014-08-01</td>\n",
       "      <td>0</td>\n",
       "      <td>2021-05-01</td>\n",
       "      <td>5973</td>\n",
       "      <td>16.353183</td>\n",
       "    </tr>\n",
       "    <tr>\n",
       "      <th>5798</th>\n",
       "      <td>2004-12-09</td>\n",
       "      <td>cronico</td>\n",
       "      <td>2014-08-01</td>\n",
       "      <td>0</td>\n",
       "      <td>2017-12-01</td>\n",
       "      <td>4740</td>\n",
       "      <td>12.977413</td>\n",
       "    </tr>\n",
       "    <tr>\n",
       "      <th>679195</th>\n",
       "      <td>2023-05-19</td>\n",
       "      <td>cronico</td>\n",
       "      <td>2023-12-01</td>\n",
       "      <td>0</td>\n",
       "      <td>2024-11-01</td>\n",
       "      <td>532</td>\n",
       "      <td>1.456537</td>\n",
       "    </tr>\n",
       "  </tbody>\n",
       "</table>\n",
       "</div>"
      ],
      "text/plain": [
       "       data_primeira_dialise  cronico data_atendimento_dialitico  obito  \\\n",
       "469849            2020-12-17  cronico                 2021-03-01      0   \n",
       "698392            2023-12-28  cronico                 2024-03-01      0   \n",
       "391946            2019-11-23  cronico                 2020-02-01      0   \n",
       "389001            2019-10-14  cronico                 2020-02-01      0   \n",
       "507145            2021-06-02  cronico                 2021-09-01      0   \n",
       "5399              2013-04-18  cronico                 2014-08-01      0   \n",
       "1488              2003-05-14  cronico                 2014-08-01      0   \n",
       "2223              2004-12-23  cronico                 2014-08-01      0   \n",
       "5798              2004-12-09  cronico                 2014-08-01      0   \n",
       "679195            2023-05-19  cronico                 2023-12-01      0   \n",
       "\n",
       "       data_atendimento_fav  tempo_entre_fav_e_primeira_dialise  tempo_anos  \n",
       "469849           2021-01-01                                  15    0.041068  \n",
       "698392           2024-01-01                                   4    0.010951  \n",
       "391946           2020-12-01                                 374    1.023956  \n",
       "389001           2020-05-01                                 200    0.547570  \n",
       "507145           2021-07-01                                  29    0.079398  \n",
       "5399             2014-11-01                                 562    1.538672  \n",
       "1488             2015-03-01                                4309   11.797399  \n",
       "2223             2021-05-01                                5973   16.353183  \n",
       "5798             2017-12-01                                4740   12.977413  \n",
       "679195           2024-11-01                                 532    1.456537  "
      ]
     },
     "execution_count": 10,
     "metadata": {},
     "output_type": "execute_result"
    }
   ],
   "source": [
    "# Calcular tempo de espera\n",
    "df_espera['data_atendimento_fav'] = pd.to_datetime(df_espera['data_atendimento_fav'])\n",
    "df_espera['data_primeira_dialise'] = pd.to_datetime(df_espera['data_primeira_dialise'])\n",
    "\n",
    "# Calcular a diferença\n",
    "df_espera['tempo_entre_fav_e_primeira_dialise'] = (\n",
    "    df_espera['data_atendimento_fav'] - df_espera['data_primeira_dialise']\n",
    ").dt.days  # em dias\n",
    "\n",
    "df_espera['tempo_anos'] = df_espera['tempo_entre_fav_e_primeira_dialise'] / 365.25\n",
    "\n",
    "# Remover esperas negativas\n",
    "df_espera = df_espera[df_espera['tempo_entre_fav_e_primeira_dialise'] > 0]\n",
    "df_espera.sample(10)"
   ]
  },
  {
   "cell_type": "code",
   "execution_count": 11,
   "id": "0dad0711",
   "metadata": {},
   "outputs": [],
   "source": [
    "# Manter dados apenas a partir de janeiro de 2014 devido criação do dataset\n",
    "\n",
    "df_espera['data_atendimento_dialitico'] = pd.to_datetime(df_espera['data_atendimento_dialitico'])\n",
    "df_espera['data_atendimento_fav'] = pd.to_datetime(df_espera['data_atendimento_fav'])\n",
    "df_espera['data_primeira_dialise'] = pd.to_datetime(df_espera['data_primeira_dialise'])\n",
    "\n",
    "df_espera = df_espera[\n",
    "        (df_espera['data_atendimento_dialitico'] >= '2014-01-01') &\n",
    "        (df_espera['data_atendimento_fav'] >= '2014-01-01') &\n",
    "        (df_espera['data_primeira_dialise'] >= '2014-01-01') ]"
   ]
  },
  {
   "cell_type": "code",
   "execution_count": 12,
   "id": "af5352cf",
   "metadata": {},
   "outputs": [
    {
     "data": {
      "application/vnd.plotly.v1+json": {
       "config": {
        "plotlyServerURL": "https://plot.ly"
       },
       "data": [
        {
         "bingroup": "x",
         "hovertemplate": "Tempo de espera (dias)=%{x}<br>count=%{y}<extra></extra>",
         "legendgroup": "",
         "marker": {
          "color": "#0077B6",
          "pattern": {
           "shape": ""
          }
         },
         "name": "",
         "nbinsx": 394,
         "orientation": "v",
         "showlegend": false,
         "type": "histogram",
         "x": {
          "bdata": "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",
          "dtype": "i2"
         },
         "xaxis": "x",
         "yaxis": "y"
        }
       ],
       "layout": {
        "bargap": 0.05,
        "barmode": "relative",
        "font": {
         "color": "#023E8A"
        },
        "legend": {
         "tracegroupgap": 0
        },
        "paper_bgcolor": "#FFFFFF",
        "plot_bgcolor": "#FFFFFF",
        "template": {
         "data": {
          "bar": [
           {
            "error_x": {
             "color": "#2a3f5f"
            },
            "error_y": {
             "color": "#2a3f5f"
            },
            "marker": {
             "line": {
              "color": "white",
              "width": 0.5
             },
             "pattern": {
              "fillmode": "overlay",
              "size": 10,
              "solidity": 0.2
             }
            },
            "type": "bar"
           }
          ],
          "barpolar": [
           {
            "marker": {
             "line": {
              "color": "white",
              "width": 0.5
             },
             "pattern": {
              "fillmode": "overlay",
              "size": 10,
              "solidity": 0.2
             }
            },
            "type": "barpolar"
           }
          ],
          "carpet": [
           {
            "aaxis": {
             "endlinecolor": "#2a3f5f",
             "gridcolor": "#C8D4E3",
             "linecolor": "#C8D4E3",
             "minorgridcolor": "#C8D4E3",
             "startlinecolor": "#2a3f5f"
            },
            "baxis": {
             "endlinecolor": "#2a3f5f",
             "gridcolor": "#C8D4E3",
             "linecolor": "#C8D4E3",
             "minorgridcolor": "#C8D4E3",
             "startlinecolor": "#2a3f5f"
            },
            "type": "carpet"
           }
          ],
          "choropleth": [
           {
            "colorbar": {
             "outlinewidth": 0,
             "ticks": ""
            },
            "type": "choropleth"
           }
          ],
          "contour": [
           {
            "colorbar": {
             "outlinewidth": 0,
             "ticks": ""
            },
            "colorscale": [
             [
              0,
              "#0d0887"
             ],
             [
              0.1111111111111111,
              "#46039f"
             ],
             [
              0.2222222222222222,
              "#7201a8"
             ],
             [
              0.3333333333333333,
              "#9c179e"
             ],
             [
              0.4444444444444444,
              "#bd3786"
             ],
             [
              0.5555555555555556,
              "#d8576b"
             ],
             [
              0.6666666666666666,
              "#ed7953"
             ],
             [
              0.7777777777777778,
              "#fb9f3a"
             ],
             [
              0.8888888888888888,
              "#fdca26"
             ],
             [
              1,
              "#f0f921"
             ]
            ],
            "type": "contour"
           }
          ],
          "contourcarpet": [
           {
            "colorbar": {
             "outlinewidth": 0,
             "ticks": ""
            },
            "type": "contourcarpet"
           }
          ],
          "heatmap": [
           {
            "colorbar": {
             "outlinewidth": 0,
             "ticks": ""
            },
            "colorscale": [
             [
              0,
              "#0d0887"
             ],
             [
              0.1111111111111111,
              "#46039f"
             ],
             [
              0.2222222222222222,
              "#7201a8"
             ],
             [
              0.3333333333333333,
              "#9c179e"
             ],
             [
              0.4444444444444444,
              "#bd3786"
             ],
             [
              0.5555555555555556,
              "#d8576b"
             ],
             [
              0.6666666666666666,
              "#ed7953"
             ],
             [
              0.7777777777777778,
              "#fb9f3a"
             ],
             [
              0.8888888888888888,
              "#fdca26"
             ],
             [
              1,
              "#f0f921"
             ]
            ],
            "type": "heatmap"
           }
          ],
          "histogram": [
           {
            "marker": {
             "pattern": {
              "fillmode": "overlay",
              "size": 10,
              "solidity": 0.2
             }
            },
            "type": "histogram"
           }
          ],
          "histogram2d": [
           {
            "colorbar": {
             "outlinewidth": 0,
             "ticks": ""
            },
            "colorscale": [
             [
              0,
              "#0d0887"
             ],
             [
              0.1111111111111111,
              "#46039f"
             ],
             [
              0.2222222222222222,
              "#7201a8"
             ],
             [
              0.3333333333333333,
              "#9c179e"
             ],
             [
              0.4444444444444444,
              "#bd3786"
             ],
             [
              0.5555555555555556,
              "#d8576b"
             ],
             [
              0.6666666666666666,
              "#ed7953"
             ],
             [
              0.7777777777777778,
              "#fb9f3a"
             ],
             [
              0.8888888888888888,
              "#fdca26"
             ],
             [
              1,
              "#f0f921"
             ]
            ],
            "type": "histogram2d"
           }
          ],
          "histogram2dcontour": [
           {
            "colorbar": {
             "outlinewidth": 0,
             "ticks": ""
            },
            "colorscale": [
             [
              0,
              "#0d0887"
             ],
             [
              0.1111111111111111,
              "#46039f"
             ],
             [
              0.2222222222222222,
              "#7201a8"
             ],
             [
              0.3333333333333333,
              "#9c179e"
             ],
             [
              0.4444444444444444,
              "#bd3786"
             ],
             [
              0.5555555555555556,
              "#d8576b"
             ],
             [
              0.6666666666666666,
              "#ed7953"
             ],
             [
              0.7777777777777778,
              "#fb9f3a"
             ],
             [
              0.8888888888888888,
              "#fdca26"
             ],
             [
              1,
              "#f0f921"
             ]
            ],
            "type": "histogram2dcontour"
           }
          ],
          "mesh3d": [
           {
            "colorbar": {
             "outlinewidth": 0,
             "ticks": ""
            },
            "type": "mesh3d"
           }
          ],
          "parcoords": [
           {
            "line": {
             "colorbar": {
              "outlinewidth": 0,
              "ticks": ""
             }
            },
            "type": "parcoords"
           }
          ],
          "pie": [
           {
            "automargin": true,
            "type": "pie"
           }
          ],
          "scatter": [
           {
            "fillpattern": {
             "fillmode": "overlay",
             "size": 10,
             "solidity": 0.2
            },
            "type": "scatter"
           }
          ],
          "scatter3d": [
           {
            "line": {
             "colorbar": {
              "outlinewidth": 0,
              "ticks": ""
             }
            },
            "marker": {
             "colorbar": {
              "outlinewidth": 0,
              "ticks": ""
             }
            },
            "type": "scatter3d"
           }
          ],
          "scattercarpet": [
           {
            "marker": {
             "colorbar": {
              "outlinewidth": 0,
              "ticks": ""
             }
            },
            "type": "scattercarpet"
           }
          ],
          "scattergeo": [
           {
            "marker": {
             "colorbar": {
              "outlinewidth": 0,
              "ticks": ""
             }
            },
            "type": "scattergeo"
           }
          ],
          "scattergl": [
           {
            "marker": {
             "colorbar": {
              "outlinewidth": 0,
              "ticks": ""
             }
            },
            "type": "scattergl"
           }
          ],
          "scattermap": [
           {
            "marker": {
             "colorbar": {
              "outlinewidth": 0,
              "ticks": ""
             }
            },
            "type": "scattermap"
           }
          ],
          "scattermapbox": [
           {
            "marker": {
             "colorbar": {
              "outlinewidth": 0,
              "ticks": ""
             }
            },
            "type": "scattermapbox"
           }
          ],
          "scatterpolar": [
           {
            "marker": {
             "colorbar": {
              "outlinewidth": 0,
              "ticks": ""
             }
            },
            "type": "scatterpolar"
           }
          ],
          "scatterpolargl": [
           {
            "marker": {
             "colorbar": {
              "outlinewidth": 0,
              "ticks": ""
             }
            },
            "type": "scatterpolargl"
           }
          ],
          "scatterternary": [
           {
            "marker": {
             "colorbar": {
              "outlinewidth": 0,
              "ticks": ""
             }
            },
            "type": "scatterternary"
           }
          ],
          "surface": [
           {
            "colorbar": {
             "outlinewidth": 0,
             "ticks": ""
            },
            "colorscale": [
             [
              0,
              "#0d0887"
             ],
             [
              0.1111111111111111,
              "#46039f"
             ],
             [
              0.2222222222222222,
              "#7201a8"
             ],
             [
              0.3333333333333333,
              "#9c179e"
             ],
             [
              0.4444444444444444,
              "#bd3786"
             ],
             [
              0.5555555555555556,
              "#d8576b"
             ],
             [
              0.6666666666666666,
              "#ed7953"
             ],
             [
              0.7777777777777778,
              "#fb9f3a"
             ],
             [
              0.8888888888888888,
              "#fdca26"
             ],
             [
              1,
              "#f0f921"
             ]
            ],
            "type": "surface"
           }
          ],
          "table": [
           {
            "cells": {
             "fill": {
              "color": "#EBF0F8"
             },
             "line": {
              "color": "white"
             }
            },
            "header": {
             "fill": {
              "color": "#C8D4E3"
             },
             "line": {
              "color": "white"
             }
            },
            "type": "table"
           }
          ]
         },
         "layout": {
          "annotationdefaults": {
           "arrowcolor": "#2a3f5f",
           "arrowhead": 0,
           "arrowwidth": 1
          },
          "autotypenumbers": "strict",
          "coloraxis": {
           "colorbar": {
            "outlinewidth": 0,
            "ticks": ""
           }
          },
          "colorscale": {
           "diverging": [
            [
             0,
             "#8e0152"
            ],
            [
             0.1,
             "#c51b7d"
            ],
            [
             0.2,
             "#de77ae"
            ],
            [
             0.3,
             "#f1b6da"
            ],
            [
             0.4,
             "#fde0ef"
            ],
            [
             0.5,
             "#f7f7f7"
            ],
            [
             0.6,
             "#e6f5d0"
            ],
            [
             0.7,
             "#b8e186"
            ],
            [
             0.8,
             "#7fbc41"
            ],
            [
             0.9,
             "#4d9221"
            ],
            [
             1,
             "#276419"
            ]
           ],
           "sequential": [
            [
             0,
             "#0d0887"
            ],
            [
             0.1111111111111111,
             "#46039f"
            ],
            [
             0.2222222222222222,
             "#7201a8"
            ],
            [
             0.3333333333333333,
             "#9c179e"
            ],
            [
             0.4444444444444444,
             "#bd3786"
            ],
            [
             0.5555555555555556,
             "#d8576b"
            ],
            [
             0.6666666666666666,
             "#ed7953"
            ],
            [
             0.7777777777777778,
             "#fb9f3a"
            ],
            [
             0.8888888888888888,
             "#fdca26"
            ],
            [
             1,
             "#f0f921"
            ]
           ],
           "sequentialminus": [
            [
             0,
             "#0d0887"
            ],
            [
             0.1111111111111111,
             "#46039f"
            ],
            [
             0.2222222222222222,
             "#7201a8"
            ],
            [
             0.3333333333333333,
             "#9c179e"
            ],
            [
             0.4444444444444444,
             "#bd3786"
            ],
            [
             0.5555555555555556,
             "#d8576b"
            ],
            [
             0.6666666666666666,
             "#ed7953"
            ],
            [
             0.7777777777777778,
             "#fb9f3a"
            ],
            [
             0.8888888888888888,
             "#fdca26"
            ],
            [
             1,
             "#f0f921"
            ]
           ]
          },
          "colorway": [
           "#636efa",
           "#EF553B",
           "#00cc96",
           "#ab63fa",
           "#FFA15A",
           "#19d3f3",
           "#FF6692",
           "#B6E880",
           "#FF97FF",
           "#FECB52"
          ],
          "font": {
           "color": "#2a3f5f"
          },
          "geo": {
           "bgcolor": "white",
           "lakecolor": "white",
           "landcolor": "white",
           "showlakes": true,
           "showland": true,
           "subunitcolor": "#C8D4E3"
          },
          "hoverlabel": {
           "align": "left"
          },
          "hovermode": "closest",
          "mapbox": {
           "style": "light"
          },
          "paper_bgcolor": "white",
          "plot_bgcolor": "white",
          "polar": {
           "angularaxis": {
            "gridcolor": "#EBF0F8",
            "linecolor": "#EBF0F8",
            "ticks": ""
           },
           "bgcolor": "white",
           "radialaxis": {
            "gridcolor": "#EBF0F8",
            "linecolor": "#EBF0F8",
            "ticks": ""
           }
          },
          "scene": {
           "xaxis": {
            "backgroundcolor": "white",
            "gridcolor": "#DFE8F3",
            "gridwidth": 2,
            "linecolor": "#EBF0F8",
            "showbackground": true,
            "ticks": "",
            "zerolinecolor": "#EBF0F8"
           },
           "yaxis": {
            "backgroundcolor": "white",
            "gridcolor": "#DFE8F3",
            "gridwidth": 2,
            "linecolor": "#EBF0F8",
            "showbackground": true,
            "ticks": "",
            "zerolinecolor": "#EBF0F8"
           },
           "zaxis": {
            "backgroundcolor": "white",
            "gridcolor": "#DFE8F3",
            "gridwidth": 2,
            "linecolor": "#EBF0F8",
            "showbackground": true,
            "ticks": "",
            "zerolinecolor": "#EBF0F8"
           }
          },
          "shapedefaults": {
           "line": {
            "color": "#2a3f5f"
           }
          },
          "ternary": {
           "aaxis": {
            "gridcolor": "#DFE8F3",
            "linecolor": "#A2B1C6",
            "ticks": ""
           },
           "baxis": {
            "gridcolor": "#DFE8F3",
            "linecolor": "#A2B1C6",
            "ticks": ""
           },
           "bgcolor": "white",
           "caxis": {
            "gridcolor": "#DFE8F3",
            "linecolor": "#A2B1C6",
            "ticks": ""
           }
          },
          "title": {
           "x": 0.05
          },
          "xaxis": {
           "automargin": true,
           "gridcolor": "#EBF0F8",
           "linecolor": "#EBF0F8",
           "ticks": "",
           "title": {
            "standoff": 15
           },
           "zerolinecolor": "#EBF0F8",
           "zerolinewidth": 2
          },
          "yaxis": {
           "automargin": true,
           "gridcolor": "#EBF0F8",
           "linecolor": "#EBF0F8",
           "ticks": "",
           "title": {
            "standoff": 15
           },
           "zerolinecolor": "#EBF0F8",
           "zerolinewidth": 2
          }
         }
        },
        "title": {
         "font": {
          "color": "#023E8A",
          "size": 18
         },
         "text": "Distribuição do Tempo de Espera para Atendimento no FAV"
        },
        "xaxis": {
         "anchor": "y",
         "domain": [
          0,
          1
         ],
         "gridcolor": "#F8F9FA",
         "linecolor": "#6C757D",
         "tickfont": {
          "color": "#023E8A"
         },
         "title": {
          "text": "Tempo de espera (dias)"
         }
        },
        "yaxis": {
         "anchor": "x",
         "domain": [
          0,
          1
         ],
         "gridcolor": "#F8F9FA",
         "linecolor": "#6C757D",
         "tickfont": {
          "color": "#023E8A"
         },
         "title": {
          "text": "Quantidade de pessoas"
         }
        }
       }
      }
     },
     "metadata": {},
     "output_type": "display_data"
    }
   ],
   "source": [
    "# Gráfico de tempo de espera\n",
    "max_tempo = df_espera['tempo_entre_fav_e_primeira_dialise'].max()\n",
    "bins = list(range(0, int(max_tempo) + 10, 10))\n",
    "\n",
    "# Plotar histograma\n",
    "fig1_p1 = px.histogram(\n",
    "    df_espera,\n",
    "    x='tempo_entre_fav_e_primeira_dialise',\n",
    "    nbins=len(bins),\n",
    "    title='Distribuição do Tempo de Espera para Atendimento no FAV',\n",
    "    labels={\n",
    "        'tempo_entre_fav_e_primeira_dialise': 'Tempo de espera (dias)',\n",
    "        'count': 'Quantidade de pessoas'\n",
    "    },\n",
    "    color_discrete_sequence=[paleta['azul_principal']]  # Cor das barras\n",
    ")\n",
    "\n",
    "# Layout personalizado com a paleta\n",
    "fig1_p1.update_layout(\n",
    "    xaxis_title='Tempo de espera (dias)',\n",
    "    yaxis_title='Quantidade de pessoas',\n",
    "    bargap=0.05,\n",
    "    template='plotly_white',\n",
    "    plot_bgcolor=paleta['fundo'],\n",
    "    paper_bgcolor=paleta['fundo'],\n",
    "    font=dict(color=paleta['azul_escuro']),\n",
    "    title_font=dict(size=18, color=paleta['azul_escuro']),\n",
    "    xaxis=dict(\n",
    "        gridcolor=paleta['cinza_claro'],\n",
    "        linecolor=paleta['cinza_texto'],\n",
    "        tickfont=dict(color=paleta['azul_escuro'])\n",
    "    ),\n",
    "    yaxis=dict(\n",
    "        gridcolor=paleta['cinza_claro'],\n",
    "        linecolor=paleta['cinza_texto'],\n",
    "        tickfont=dict(color=paleta['azul_escuro'])\n",
    "    )\n",
    ")\n",
    "\n",
    "fig1_p1.show()"
   ]
  },
  {
   "cell_type": "code",
   "execution_count": 14,
   "id": "263aa07d",
   "metadata": {},
   "outputs": [
    {
     "data": {
      "application/vnd.plotly.v1+json": {
       "config": {
        "plotlyServerURL": "https://plot.ly"
       },
       "data": [
        {
         "hovertemplate": "Ano da Primeira Diálise=%{x}<br>Tempo médio de espera (dias)=%{marker.color}<extra></extra>",
         "legendgroup": "",
         "marker": {
          "color": {
           "bdata": "m0DhZKwpfEC5i7u4i3tuQCpnt/CrMWtADEVmi1qta0Ar+TYtV/xmQKzmE15IMGRA6D6tJRBQY0B4IH4H4sdhQC6GdN5iWGJARSFsH+arXUDWXoEchJVRQA==",
           "dtype": "f8"
          },
          "coloraxis": "coloraxis",
          "pattern": {
           "shape": ""
          }
         },
         "name": "",
         "orientation": "v",
         "showlegend": false,
         "text": {
          "bdata": "m0DhZKwpfEC5i7u4i3tuQCpnt/CrMWtADEVmi1qta0Ar+TYtV/xmQKzmE15IMGRA6D6tJRBQY0B4IH4H4sdhQC6GdN5iWGJARSFsH+arXUDWXoEchJVRQA==",
          "dtype": "f8"
         },
         "textposition": "outside",
         "texttemplate": "%{text:.0f} dias",
         "type": "bar",
         "x": {
          "bdata": "3gcAAN8HAADgBwAA4QcAAOIHAADjBwAA5AcAAOUHAADmBwAA5wcAAOgHAAA=",
          "dtype": "i4"
         },
         "xaxis": "x",
         "y": {
          "bdata": "m0DhZKwpfEC5i7u4i3tuQCpnt/CrMWtADEVmi1qta0Ar+TYtV/xmQKzmE15IMGRA6D6tJRBQY0B4IH4H4sdhQC6GdN5iWGJARSFsH+arXUDWXoEchJVRQA==",
          "dtype": "f8"
         },
         "yaxis": "y"
        }
       ],
       "layout": {
        "barmode": "relative",
        "coloraxis": {
         "colorbar": {
          "title": {
           "text": "Tempo médio de espera (dias)"
          }
         },
         "colorscale": [
          [
           0,
           "rgb(247,251,255)"
          ],
          [
           0.125,
           "rgb(222,235,247)"
          ],
          [
           0.25,
           "rgb(198,219,239)"
          ],
          [
           0.375,
           "rgb(158,202,225)"
          ],
          [
           0.5,
           "rgb(107,174,214)"
          ],
          [
           0.625,
           "rgb(66,146,198)"
          ],
          [
           0.75,
           "rgb(33,113,181)"
          ],
          [
           0.875,
           "rgb(8,81,156)"
          ],
          [
           1,
           "rgb(8,48,107)"
          ]
         ]
        },
        "height": 500,
        "legend": {
         "tracegroupgap": 0
        },
        "plot_bgcolor": "white",
        "template": {
         "data": {
          "bar": [
           {
            "error_x": {
             "color": "#2a3f5f"
            },
            "error_y": {
             "color": "#2a3f5f"
            },
            "marker": {
             "line": {
              "color": "#E5ECF6",
              "width": 0.5
             },
             "pattern": {
              "fillmode": "overlay",
              "size": 10,
              "solidity": 0.2
             }
            },
            "type": "bar"
           }
          ],
          "barpolar": [
           {
            "marker": {
             "line": {
              "color": "#E5ECF6",
              "width": 0.5
             },
             "pattern": {
              "fillmode": "overlay",
              "size": 10,
              "solidity": 0.2
             }
            },
            "type": "barpolar"
           }
          ],
          "carpet": [
           {
            "aaxis": {
             "endlinecolor": "#2a3f5f",
             "gridcolor": "white",
             "linecolor": "white",
             "minorgridcolor": "white",
             "startlinecolor": "#2a3f5f"
            },
            "baxis": {
             "endlinecolor": "#2a3f5f",
             "gridcolor": "white",
             "linecolor": "white",
             "minorgridcolor": "white",
             "startlinecolor": "#2a3f5f"
            },
            "type": "carpet"
           }
          ],
          "choropleth": [
           {
            "colorbar": {
             "outlinewidth": 0,
             "ticks": ""
            },
            "type": "choropleth"
           }
          ],
          "contour": [
           {
            "colorbar": {
             "outlinewidth": 0,
             "ticks": ""
            },
            "colorscale": [
             [
              0,
              "#0d0887"
             ],
             [
              0.1111111111111111,
              "#46039f"
             ],
             [
              0.2222222222222222,
              "#7201a8"
             ],
             [
              0.3333333333333333,
              "#9c179e"
             ],
             [
              0.4444444444444444,
              "#bd3786"
             ],
             [
              0.5555555555555556,
              "#d8576b"
             ],
             [
              0.6666666666666666,
              "#ed7953"
             ],
             [
              0.7777777777777778,
              "#fb9f3a"
             ],
             [
              0.8888888888888888,
              "#fdca26"
             ],
             [
              1,
              "#f0f921"
             ]
            ],
            "type": "contour"
           }
          ],
          "contourcarpet": [
           {
            "colorbar": {
             "outlinewidth": 0,
             "ticks": ""
            },
            "type": "contourcarpet"
           }
          ],
          "heatmap": [
           {
            "colorbar": {
             "outlinewidth": 0,
             "ticks": ""
            },
            "colorscale": [
             [
              0,
              "#0d0887"
             ],
             [
              0.1111111111111111,
              "#46039f"
             ],
             [
              0.2222222222222222,
              "#7201a8"
             ],
             [
              0.3333333333333333,
              "#9c179e"
             ],
             [
              0.4444444444444444,
              "#bd3786"
             ],
             [
              0.5555555555555556,
              "#d8576b"
             ],
             [
              0.6666666666666666,
              "#ed7953"
             ],
             [
              0.7777777777777778,
              "#fb9f3a"
             ],
             [
              0.8888888888888888,
              "#fdca26"
             ],
             [
              1,
              "#f0f921"
             ]
            ],
            "type": "heatmap"
           }
          ],
          "histogram": [
           {
            "marker": {
             "pattern": {
              "fillmode": "overlay",
              "size": 10,
              "solidity": 0.2
             }
            },
            "type": "histogram"
           }
          ],
          "histogram2d": [
           {
            "colorbar": {
             "outlinewidth": 0,
             "ticks": ""
            },
            "colorscale": [
             [
              0,
              "#0d0887"
             ],
             [
              0.1111111111111111,
              "#46039f"
             ],
             [
              0.2222222222222222,
              "#7201a8"
             ],
             [
              0.3333333333333333,
              "#9c179e"
             ],
             [
              0.4444444444444444,
              "#bd3786"
             ],
             [
              0.5555555555555556,
              "#d8576b"
             ],
             [
              0.6666666666666666,
              "#ed7953"
             ],
             [
              0.7777777777777778,
              "#fb9f3a"
             ],
             [
              0.8888888888888888,
              "#fdca26"
             ],
             [
              1,
              "#f0f921"
             ]
            ],
            "type": "histogram2d"
           }
          ],
          "histogram2dcontour": [
           {
            "colorbar": {
             "outlinewidth": 0,
             "ticks": ""
            },
            "colorscale": [
             [
              0,
              "#0d0887"
             ],
             [
              0.1111111111111111,
              "#46039f"
             ],
             [
              0.2222222222222222,
              "#7201a8"
             ],
             [
              0.3333333333333333,
              "#9c179e"
             ],
             [
              0.4444444444444444,
              "#bd3786"
             ],
             [
              0.5555555555555556,
              "#d8576b"
             ],
             [
              0.6666666666666666,
              "#ed7953"
             ],
             [
              0.7777777777777778,
              "#fb9f3a"
             ],
             [
              0.8888888888888888,
              "#fdca26"
             ],
             [
              1,
              "#f0f921"
             ]
            ],
            "type": "histogram2dcontour"
           }
          ],
          "mesh3d": [
           {
            "colorbar": {
             "outlinewidth": 0,
             "ticks": ""
            },
            "type": "mesh3d"
           }
          ],
          "parcoords": [
           {
            "line": {
             "colorbar": {
              "outlinewidth": 0,
              "ticks": ""
             }
            },
            "type": "parcoords"
           }
          ],
          "pie": [
           {
            "automargin": true,
            "type": "pie"
           }
          ],
          "scatter": [
           {
            "fillpattern": {
             "fillmode": "overlay",
             "size": 10,
             "solidity": 0.2
            },
            "type": "scatter"
           }
          ],
          "scatter3d": [
           {
            "line": {
             "colorbar": {
              "outlinewidth": 0,
              "ticks": ""
             }
            },
            "marker": {
             "colorbar": {
              "outlinewidth": 0,
              "ticks": ""
             }
            },
            "type": "scatter3d"
           }
          ],
          "scattercarpet": [
           {
            "marker": {
             "colorbar": {
              "outlinewidth": 0,
              "ticks": ""
             }
            },
            "type": "scattercarpet"
           }
          ],
          "scattergeo": [
           {
            "marker": {
             "colorbar": {
              "outlinewidth": 0,
              "ticks": ""
             }
            },
            "type": "scattergeo"
           }
          ],
          "scattergl": [
           {
            "marker": {
             "colorbar": {
              "outlinewidth": 0,
              "ticks": ""
             }
            },
            "type": "scattergl"
           }
          ],
          "scattermap": [
           {
            "marker": {
             "colorbar": {
              "outlinewidth": 0,
              "ticks": ""
             }
            },
            "type": "scattermap"
           }
          ],
          "scattermapbox": [
           {
            "marker": {
             "colorbar": {
              "outlinewidth": 0,
              "ticks": ""
             }
            },
            "type": "scattermapbox"
           }
          ],
          "scatterpolar": [
           {
            "marker": {
             "colorbar": {
              "outlinewidth": 0,
              "ticks": ""
             }
            },
            "type": "scatterpolar"
           }
          ],
          "scatterpolargl": [
           {
            "marker": {
             "colorbar": {
              "outlinewidth": 0,
              "ticks": ""
             }
            },
            "type": "scatterpolargl"
           }
          ],
          "scatterternary": [
           {
            "marker": {
             "colorbar": {
              "outlinewidth": 0,
              "ticks": ""
             }
            },
            "type": "scatterternary"
           }
          ],
          "surface": [
           {
            "colorbar": {
             "outlinewidth": 0,
             "ticks": ""
            },
            "colorscale": [
             [
              0,
              "#0d0887"
             ],
             [
              0.1111111111111111,
              "#46039f"
             ],
             [
              0.2222222222222222,
              "#7201a8"
             ],
             [
              0.3333333333333333,
              "#9c179e"
             ],
             [
              0.4444444444444444,
              "#bd3786"
             ],
             [
              0.5555555555555556,
              "#d8576b"
             ],
             [
              0.6666666666666666,
              "#ed7953"
             ],
             [
              0.7777777777777778,
              "#fb9f3a"
             ],
             [
              0.8888888888888888,
              "#fdca26"
             ],
             [
              1,
              "#f0f921"
             ]
            ],
            "type": "surface"
           }
          ],
          "table": [
           {
            "cells": {
             "fill": {
              "color": "#EBF0F8"
             },
             "line": {
              "color": "white"
             }
            },
            "header": {
             "fill": {
              "color": "#C8D4E3"
             },
             "line": {
              "color": "white"
             }
            },
            "type": "table"
           }
          ]
         },
         "layout": {
          "annotationdefaults": {
           "arrowcolor": "#2a3f5f",
           "arrowhead": 0,
           "arrowwidth": 1
          },
          "autotypenumbers": "strict",
          "coloraxis": {
           "colorbar": {
            "outlinewidth": 0,
            "ticks": ""
           }
          },
          "colorscale": {
           "diverging": [
            [
             0,
             "#8e0152"
            ],
            [
             0.1,
             "#c51b7d"
            ],
            [
             0.2,
             "#de77ae"
            ],
            [
             0.3,
             "#f1b6da"
            ],
            [
             0.4,
             "#fde0ef"
            ],
            [
             0.5,
             "#f7f7f7"
            ],
            [
             0.6,
             "#e6f5d0"
            ],
            [
             0.7,
             "#b8e186"
            ],
            [
             0.8,
             "#7fbc41"
            ],
            [
             0.9,
             "#4d9221"
            ],
            [
             1,
             "#276419"
            ]
           ],
           "sequential": [
            [
             0,
             "#0d0887"
            ],
            [
             0.1111111111111111,
             "#46039f"
            ],
            [
             0.2222222222222222,
             "#7201a8"
            ],
            [
             0.3333333333333333,
             "#9c179e"
            ],
            [
             0.4444444444444444,
             "#bd3786"
            ],
            [
             0.5555555555555556,
             "#d8576b"
            ],
            [
             0.6666666666666666,
             "#ed7953"
            ],
            [
             0.7777777777777778,
             "#fb9f3a"
            ],
            [
             0.8888888888888888,
             "#fdca26"
            ],
            [
             1,
             "#f0f921"
            ]
           ],
           "sequentialminus": [
            [
             0,
             "#0d0887"
            ],
            [
             0.1111111111111111,
             "#46039f"
            ],
            [
             0.2222222222222222,
             "#7201a8"
            ],
            [
             0.3333333333333333,
             "#9c179e"
            ],
            [
             0.4444444444444444,
             "#bd3786"
            ],
            [
             0.5555555555555556,
             "#d8576b"
            ],
            [
             0.6666666666666666,
             "#ed7953"
            ],
            [
             0.7777777777777778,
             "#fb9f3a"
            ],
            [
             0.8888888888888888,
             "#fdca26"
            ],
            [
             1,
             "#f0f921"
            ]
           ]
          },
          "colorway": [
           "#636efa",
           "#EF553B",
           "#00cc96",
           "#ab63fa",
           "#FFA15A",
           "#19d3f3",
           "#FF6692",
           "#B6E880",
           "#FF97FF",
           "#FECB52"
          ],
          "font": {
           "color": "#2a3f5f"
          },
          "geo": {
           "bgcolor": "white",
           "lakecolor": "white",
           "landcolor": "#E5ECF6",
           "showlakes": true,
           "showland": true,
           "subunitcolor": "white"
          },
          "hoverlabel": {
           "align": "left"
          },
          "hovermode": "closest",
          "mapbox": {
           "style": "light"
          },
          "paper_bgcolor": "white",
          "plot_bgcolor": "#E5ECF6",
          "polar": {
           "angularaxis": {
            "gridcolor": "white",
            "linecolor": "white",
            "ticks": ""
           },
           "bgcolor": "#E5ECF6",
           "radialaxis": {
            "gridcolor": "white",
            "linecolor": "white",
            "ticks": ""
           }
          },
          "scene": {
           "xaxis": {
            "backgroundcolor": "#E5ECF6",
            "gridcolor": "white",
            "gridwidth": 2,
            "linecolor": "white",
            "showbackground": true,
            "ticks": "",
            "zerolinecolor": "white"
           },
           "yaxis": {
            "backgroundcolor": "#E5ECF6",
            "gridcolor": "white",
            "gridwidth": 2,
            "linecolor": "white",
            "showbackground": true,
            "ticks": "",
            "zerolinecolor": "white"
           },
           "zaxis": {
            "backgroundcolor": "#E5ECF6",
            "gridcolor": "white",
            "gridwidth": 2,
            "linecolor": "white",
            "showbackground": true,
            "ticks": "",
            "zerolinecolor": "white"
           }
          },
          "shapedefaults": {
           "line": {
            "color": "#2a3f5f"
           }
          },
          "ternary": {
           "aaxis": {
            "gridcolor": "white",
            "linecolor": "white",
            "ticks": ""
           },
           "baxis": {
            "gridcolor": "white",
            "linecolor": "white",
            "ticks": ""
           },
           "bgcolor": "#E5ECF6",
           "caxis": {
            "gridcolor": "white",
            "linecolor": "white",
            "ticks": ""
           }
          },
          "title": {
           "x": 0.05
          },
          "xaxis": {
           "automargin": true,
           "gridcolor": "white",
           "linecolor": "white",
           "ticks": "",
           "title": {
            "standoff": 15
           },
           "zerolinecolor": "white",
           "zerolinewidth": 2
          },
          "yaxis": {
           "automargin": true,
           "gridcolor": "white",
           "linecolor": "white",
           "ticks": "",
           "title": {
            "standoff": 15
           },
           "zerolinecolor": "white",
           "zerolinewidth": 2
          }
         }
        },
        "title": {
         "text": "Tempo Médio de Espera por Ano da Primeira Diálise até a FAV"
        },
        "uniformtext": {
         "minsize": 8,
         "mode": "hide"
        },
        "width": 900,
        "xaxis": {
         "anchor": "y",
         "domain": [
          0,
          1
         ],
         "tickmode": "linear",
         "title": {
          "text": "Ano da primeira diálise"
         }
        },
        "yaxis": {
         "anchor": "x",
         "domain": [
          0,
          1
         ],
         "title": {
          "text": "Tempo médio de espera (dias)"
         }
        }
       }
      }
     },
     "metadata": {},
     "output_type": "display_data"
    }
   ],
   "source": [
    "df_espera['ano_primeira_dialise'] = df_espera['data_primeira_dialise'].dt.year\n",
    "df_agrupado = df_espera.groupby('ano_primeira_dialise')['tempo_entre_fav_e_primeira_dialise'].mean().reset_index()\n",
    "\n",
    "fig2_p1 = px.bar(\n",
    "    df_agrupado,\n",
    "    x='ano_primeira_dialise',\n",
    "    y='tempo_entre_fav_e_primeira_dialise',\n",
    "    text='tempo_entre_fav_e_primeira_dialise',\n",
    "    labels={\n",
    "        'ano_primeira_dialise': 'Ano da Primeira Diálise',\n",
    "        'tempo_entre_fav_e_primeira_dialise': 'Tempo médio de espera (dias)'\n",
    "    },\n",
    "    title='Tempo Médio de Espera por Ano da Primeira Diálise até a FAV',\n",
    "    color='tempo_entre_fav_e_primeira_dialise',\n",
    "    color_continuous_scale='Blues'\n",
    ")\n",
    "\n",
    "# Personalizar layout\n",
    "fig2_p1.update_traces(texttemplate='%{text:.0f} dias', textposition='outside')\n",
    "\n",
    "fig2_p1.update_layout(\n",
    "    xaxis=dict(tickmode='linear'),\n",
    "    yaxis_title='Tempo médio de espera (dias)',\n",
    "    xaxis_title='Ano da primeira diálise',\n",
    "    uniformtext_minsize=8,\n",
    "    uniformtext_mode='hide',\n",
    "    plot_bgcolor='white',\n",
    "    width=900,\n",
    "    height=500\n",
    ")\n",
    "\n",
    "fig2_p1.show()\n"
   ]
  },
  {
   "cell_type": "markdown",
   "id": "9d0940cc",
   "metadata": {},
   "source": [
    "# Pergunta 2"
   ]
  },
  {
   "cell_type": "code",
   "execution_count": 15,
   "id": "bd4843c6",
   "metadata": {},
   "outputs": [
    {
     "data": {
      "application/vnd.plotly.v1+json": {
       "config": {
        "plotlyServerURL": "https://plot.ly"
       },
       "data": [
        {
         "line": {
          "color": "#0077B6",
          "width": 3
         },
         "mode": "lines",
         "name": "Tempo médio de espera",
         "type": "scatter",
         "x": [
          "2014-01-01T00:00:00.000000000",
          "2014-02-01T00:00:00.000000000",
          "2014-03-01T00:00:00.000000000",
          "2014-04-01T00:00:00.000000000",
          "2014-05-01T00:00:00.000000000",
          "2014-06-01T00:00:00.000000000",
          "2014-07-01T00:00:00.000000000",
          "2014-08-01T00:00:00.000000000",
          "2014-09-01T00:00:00.000000000",
          "2014-10-01T00:00:00.000000000",
          "2014-11-01T00:00:00.000000000",
          "2014-12-01T00:00:00.000000000",
          "2015-01-01T00:00:00.000000000",
          "2015-02-01T00:00:00.000000000",
          "2015-03-01T00:00:00.000000000",
          "2015-04-01T00:00:00.000000000",
          "2015-05-01T00:00:00.000000000",
          "2015-06-01T00:00:00.000000000",
          "2015-07-01T00:00:00.000000000",
          "2015-08-01T00:00:00.000000000",
          "2015-09-01T00:00:00.000000000",
          "2015-10-01T00:00:00.000000000",
          "2015-11-01T00:00:00.000000000",
          "2015-12-01T00:00:00.000000000",
          "2016-01-01T00:00:00.000000000",
          "2016-02-01T00:00:00.000000000",
          "2016-03-01T00:00:00.000000000",
          "2016-04-01T00:00:00.000000000",
          "2016-05-01T00:00:00.000000000",
          "2016-06-01T00:00:00.000000000",
          "2016-07-01T00:00:00.000000000",
          "2016-08-01T00:00:00.000000000",
          "2016-09-01T00:00:00.000000000",
          "2016-10-01T00:00:00.000000000",
          "2016-11-01T00:00:00.000000000",
          "2016-12-01T00:00:00.000000000",
          "2017-01-01T00:00:00.000000000",
          "2017-02-01T00:00:00.000000000",
          "2017-03-01T00:00:00.000000000",
          "2017-04-01T00:00:00.000000000",
          "2017-05-01T00:00:00.000000000",
          "2017-06-01T00:00:00.000000000",
          "2017-07-01T00:00:00.000000000",
          "2017-08-01T00:00:00.000000000",
          "2017-09-01T00:00:00.000000000",
          "2017-10-01T00:00:00.000000000",
          "2017-11-01T00:00:00.000000000",
          "2017-12-01T00:00:00.000000000",
          "2018-01-01T00:00:00.000000000",
          "2018-02-01T00:00:00.000000000",
          "2018-03-01T00:00:00.000000000",
          "2018-04-01T00:00:00.000000000",
          "2018-05-01T00:00:00.000000000",
          "2018-06-01T00:00:00.000000000",
          "2018-07-01T00:00:00.000000000",
          "2018-08-01T00:00:00.000000000",
          "2018-09-01T00:00:00.000000000",
          "2018-10-01T00:00:00.000000000",
          "2018-11-01T00:00:00.000000000",
          "2018-12-01T00:00:00.000000000",
          "2019-01-01T00:00:00.000000000",
          "2019-02-01T00:00:00.000000000",
          "2019-03-01T00:00:00.000000000",
          "2019-04-01T00:00:00.000000000",
          "2019-05-01T00:00:00.000000000",
          "2019-06-01T00:00:00.000000000",
          "2019-07-01T00:00:00.000000000",
          "2019-08-01T00:00:00.000000000",
          "2019-09-01T00:00:00.000000000",
          "2019-10-01T00:00:00.000000000",
          "2019-11-01T00:00:00.000000000",
          "2019-12-01T00:00:00.000000000",
          "2020-01-01T00:00:00.000000000",
          "2020-02-01T00:00:00.000000000",
          "2020-03-01T00:00:00.000000000",
          "2020-04-01T00:00:00.000000000",
          "2020-05-01T00:00:00.000000000",
          "2020-06-01T00:00:00.000000000",
          "2020-07-01T00:00:00.000000000",
          "2020-08-01T00:00:00.000000000",
          "2020-09-01T00:00:00.000000000",
          "2020-10-01T00:00:00.000000000",
          "2020-11-01T00:00:00.000000000",
          "2020-12-01T00:00:00.000000000",
          "2021-01-01T00:00:00.000000000",
          "2021-02-01T00:00:00.000000000",
          "2021-03-01T00:00:00.000000000",
          "2021-04-01T00:00:00.000000000",
          "2021-05-01T00:00:00.000000000",
          "2021-06-01T00:00:00.000000000",
          "2021-07-01T00:00:00.000000000",
          "2021-08-01T00:00:00.000000000",
          "2021-09-01T00:00:00.000000000",
          "2021-10-01T00:00:00.000000000",
          "2021-11-01T00:00:00.000000000",
          "2021-12-01T00:00:00.000000000",
          "2022-01-01T00:00:00.000000000",
          "2022-02-01T00:00:00.000000000",
          "2022-03-01T00:00:00.000000000",
          "2022-04-01T00:00:00.000000000",
          "2022-05-01T00:00:00.000000000",
          "2022-06-01T00:00:00.000000000",
          "2022-07-01T00:00:00.000000000",
          "2022-08-01T00:00:00.000000000",
          "2022-09-01T00:00:00.000000000",
          "2022-10-01T00:00:00.000000000",
          "2022-11-01T00:00:00.000000000",
          "2022-12-01T00:00:00.000000000",
          "2023-01-01T00:00:00.000000000",
          "2023-02-01T00:00:00.000000000",
          "2023-03-01T00:00:00.000000000",
          "2023-04-01T00:00:00.000000000",
          "2023-05-01T00:00:00.000000000",
          "2023-06-01T00:00:00.000000000",
          "2023-07-01T00:00:00.000000000",
          "2023-08-01T00:00:00.000000000",
          "2023-09-01T00:00:00.000000000",
          "2023-10-01T00:00:00.000000000",
          "2023-11-01T00:00:00.000000000",
          "2023-12-01T00:00:00.000000000",
          "2024-01-01T00:00:00.000000000",
          "2024-02-01T00:00:00.000000000",
          "2024-03-01T00:00:00.000000000",
          "2024-04-01T00:00:00.000000000",
          "2024-05-01T00:00:00.000000000",
          "2024-06-01T00:00:00.000000000",
          "2024-07-01T00:00:00.000000000",
          "2024-08-01T00:00:00.000000000",
          "2024-09-01T00:00:00.000000000"
         ],
         "y": {
          "bdata": "uuiiiy50i0AZnI/B+RiQQG7btm3b9opAdmIndmIBhEBQcckQrHuCQBQUFBQUpHRAi5swv6tFbECvRO1K1GZxQIhKR/YMBHNAfdYNpshfdkDKJptssslvQAd1UAd1IHRArfyEOCvfbkB2tHmf4iJ2QOU1lNdQtm5AtbS0tLQ0YkBTK7VSK5VpQEtH9gxExWtAymsor6Gsb0DohV7ohV5qQAAAAAAAsGxArfyEOCufbUDjK77iK45xQAAAAADAiHFAfPDBBx9MbEB5DeU1lAdwQAAAAAAAJG1AJr9Y8ovlYkAAAAAAwPh0QBy5kRu5EVdAqIM6qINKakDirPyEOEtwQL2G8hrKY25ATjbZZJMNYUAAAAAAgCdsQJqZmZmZGW9AAAAAAADqZkB605ve9EZuQFmWZVmWxWdAkYUsZCHbZUAWX/EVXwFtQKuqqqqqPm5A3zE1sHesZEB3d3d3d1dyQA4cOHDggG5AMI+tCBrObECO4ziO4zRpQBzHcRzHsWxAm2yyySabYUBcvuVbvqVtQNu2bdu2uWZADw8PDw+/ZUB7x9TA3nFuQGqC8Vb2eWlAAAAAAABQZkBVVVVVVXFpQJqmaZqmCW9A6Hme53nOYkDwwQcffMBhQFBxyRCsY19AtJfQXkIbZ0DJEKyjzXtjQFLiZ5T4WV1AMZ3FdBazZ0A/gvsI7gNoQIiHh4eHh11A3IT5XS3uZ0CISkf2DKRrQLdt27ZtY2JAbMEWbMEWYUBPG+i0gW5lQK+hvIbyql9AKVyPwvXoa0DFTuzETmRrQAAAAAAARmNAspCFLGQBVECrqqqqquphQAAAAAAAQFxA6wZT5LN+YUAHU+SzbkBgQMhWBA0ntWFAjuM4juNAZkCvXr169aplQDvavE9xyWBAK/scUhPMX0CvobyG8lpcQFf2OaQm2GZAdrR5n+IyYEA3ciM3cqNiQHIcx3Ecu2FAG8prKK+pYkDS1Pm1h5xhQFdqpVZqJWBAs6asKWvqZECkQRqkQZpgQHepJ+O3K2FAAAAAAAC6ZUAN5TWU1+BjQMs9jbDcM2RAH3zwwQevY0ByHMdxHEdjQMmN3MiNHGJAJUmSJEmiXUBUOrJnIAphQODp1vywyF9AZmZmZmamZECXlpaWlq5iQFVVVVVV9V5AISEhISEhY0AAAAAAgEthQFRcMgTrqF5ALL7iK76iWUBjIj1QOTthQNYNpshn/V1AMzMzMzOzWkAzMzMzM79aQMprKK+hnF5A5MePHz++WkDy48ePH79ZQFVVVVVV4VZAep7neZ6nVUAs9zTCcq9WQMxjK4KGk1RAiYiIiIjIVECrqqqqqt5RQOaeRljuqU9AriAmVxCTSkAzMzMzM0NCQPHw8PDw8EFA",
          "dtype": "f8"
         }
        }
       ],
       "layout": {
        "annotations": [
         {
          "font": {
           "color": "red",
           "size": 12
          },
          "showarrow": false,
          "text": "COVID-19",
          "x": "2020-03-01",
          "xanchor": "left",
          "xref": "x",
          "y": 1,
          "yanchor": "top",
          "yref": "y domain"
         }
        ],
        "font": {
         "color": "#023E8A"
        },
        "height": 500,
        "paper_bgcolor": "#FFFFFF",
        "plot_bgcolor": "#FFFFFF",
        "shapes": [
         {
          "fillcolor": "red",
          "layer": "below",
          "line": {
           "width": 0
          },
          "opacity": 0.2,
          "type": "rect",
          "x0": "2020-03-01",
          "x1": "2021-12-31",
          "xref": "x",
          "y0": 0,
          "y1": 1,
          "yref": "y domain"
         }
        ],
        "template": {
         "data": {
          "bar": [
           {
            "error_x": {
             "color": "#2a3f5f"
            },
            "error_y": {
             "color": "#2a3f5f"
            },
            "marker": {
             "line": {
              "color": "white",
              "width": 0.5
             },
             "pattern": {
              "fillmode": "overlay",
              "size": 10,
              "solidity": 0.2
             }
            },
            "type": "bar"
           }
          ],
          "barpolar": [
           {
            "marker": {
             "line": {
              "color": "white",
              "width": 0.5
             },
             "pattern": {
              "fillmode": "overlay",
              "size": 10,
              "solidity": 0.2
             }
            },
            "type": "barpolar"
           }
          ],
          "carpet": [
           {
            "aaxis": {
             "endlinecolor": "#2a3f5f",
             "gridcolor": "#C8D4E3",
             "linecolor": "#C8D4E3",
             "minorgridcolor": "#C8D4E3",
             "startlinecolor": "#2a3f5f"
            },
            "baxis": {
             "endlinecolor": "#2a3f5f",
             "gridcolor": "#C8D4E3",
             "linecolor": "#C8D4E3",
             "minorgridcolor": "#C8D4E3",
             "startlinecolor": "#2a3f5f"
            },
            "type": "carpet"
           }
          ],
          "choropleth": [
           {
            "colorbar": {
             "outlinewidth": 0,
             "ticks": ""
            },
            "type": "choropleth"
           }
          ],
          "contour": [
           {
            "colorbar": {
             "outlinewidth": 0,
             "ticks": ""
            },
            "colorscale": [
             [
              0,
              "#0d0887"
             ],
             [
              0.1111111111111111,
              "#46039f"
             ],
             [
              0.2222222222222222,
              "#7201a8"
             ],
             [
              0.3333333333333333,
              "#9c179e"
             ],
             [
              0.4444444444444444,
              "#bd3786"
             ],
             [
              0.5555555555555556,
              "#d8576b"
             ],
             [
              0.6666666666666666,
              "#ed7953"
             ],
             [
              0.7777777777777778,
              "#fb9f3a"
             ],
             [
              0.8888888888888888,
              "#fdca26"
             ],
             [
              1,
              "#f0f921"
             ]
            ],
            "type": "contour"
           }
          ],
          "contourcarpet": [
           {
            "colorbar": {
             "outlinewidth": 0,
             "ticks": ""
            },
            "type": "contourcarpet"
           }
          ],
          "heatmap": [
           {
            "colorbar": {
             "outlinewidth": 0,
             "ticks": ""
            },
            "colorscale": [
             [
              0,
              "#0d0887"
             ],
             [
              0.1111111111111111,
              "#46039f"
             ],
             [
              0.2222222222222222,
              "#7201a8"
             ],
             [
              0.3333333333333333,
              "#9c179e"
             ],
             [
              0.4444444444444444,
              "#bd3786"
             ],
             [
              0.5555555555555556,
              "#d8576b"
             ],
             [
              0.6666666666666666,
              "#ed7953"
             ],
             [
              0.7777777777777778,
              "#fb9f3a"
             ],
             [
              0.8888888888888888,
              "#fdca26"
             ],
             [
              1,
              "#f0f921"
             ]
            ],
            "type": "heatmap"
           }
          ],
          "histogram": [
           {
            "marker": {
             "pattern": {
              "fillmode": "overlay",
              "size": 10,
              "solidity": 0.2
             }
            },
            "type": "histogram"
           }
          ],
          "histogram2d": [
           {
            "colorbar": {
             "outlinewidth": 0,
             "ticks": ""
            },
            "colorscale": [
             [
              0,
              "#0d0887"
             ],
             [
              0.1111111111111111,
              "#46039f"
             ],
             [
              0.2222222222222222,
              "#7201a8"
             ],
             [
              0.3333333333333333,
              "#9c179e"
             ],
             [
              0.4444444444444444,
              "#bd3786"
             ],
             [
              0.5555555555555556,
              "#d8576b"
             ],
             [
              0.6666666666666666,
              "#ed7953"
             ],
             [
              0.7777777777777778,
              "#fb9f3a"
             ],
             [
              0.8888888888888888,
              "#fdca26"
             ],
             [
              1,
              "#f0f921"
             ]
            ],
            "type": "histogram2d"
           }
          ],
          "histogram2dcontour": [
           {
            "colorbar": {
             "outlinewidth": 0,
             "ticks": ""
            },
            "colorscale": [
             [
              0,
              "#0d0887"
             ],
             [
              0.1111111111111111,
              "#46039f"
             ],
             [
              0.2222222222222222,
              "#7201a8"
             ],
             [
              0.3333333333333333,
              "#9c179e"
             ],
             [
              0.4444444444444444,
              "#bd3786"
             ],
             [
              0.5555555555555556,
              "#d8576b"
             ],
             [
              0.6666666666666666,
              "#ed7953"
             ],
             [
              0.7777777777777778,
              "#fb9f3a"
             ],
             [
              0.8888888888888888,
              "#fdca26"
             ],
             [
              1,
              "#f0f921"
             ]
            ],
            "type": "histogram2dcontour"
           }
          ],
          "mesh3d": [
           {
            "colorbar": {
             "outlinewidth": 0,
             "ticks": ""
            },
            "type": "mesh3d"
           }
          ],
          "parcoords": [
           {
            "line": {
             "colorbar": {
              "outlinewidth": 0,
              "ticks": ""
             }
            },
            "type": "parcoords"
           }
          ],
          "pie": [
           {
            "automargin": true,
            "type": "pie"
           }
          ],
          "scatter": [
           {
            "fillpattern": {
             "fillmode": "overlay",
             "size": 10,
             "solidity": 0.2
            },
            "type": "scatter"
           }
          ],
          "scatter3d": [
           {
            "line": {
             "colorbar": {
              "outlinewidth": 0,
              "ticks": ""
             }
            },
            "marker": {
             "colorbar": {
              "outlinewidth": 0,
              "ticks": ""
             }
            },
            "type": "scatter3d"
           }
          ],
          "scattercarpet": [
           {
            "marker": {
             "colorbar": {
              "outlinewidth": 0,
              "ticks": ""
             }
            },
            "type": "scattercarpet"
           }
          ],
          "scattergeo": [
           {
            "marker": {
             "colorbar": {
              "outlinewidth": 0,
              "ticks": ""
             }
            },
            "type": "scattergeo"
           }
          ],
          "scattergl": [
           {
            "marker": {
             "colorbar": {
              "outlinewidth": 0,
              "ticks": ""
             }
            },
            "type": "scattergl"
           }
          ],
          "scattermap": [
           {
            "marker": {
             "colorbar": {
              "outlinewidth": 0,
              "ticks": ""
             }
            },
            "type": "scattermap"
           }
          ],
          "scattermapbox": [
           {
            "marker": {
             "colorbar": {
              "outlinewidth": 0,
              "ticks": ""
             }
            },
            "type": "scattermapbox"
           }
          ],
          "scatterpolar": [
           {
            "marker": {
             "colorbar": {
              "outlinewidth": 0,
              "ticks": ""
             }
            },
            "type": "scatterpolar"
           }
          ],
          "scatterpolargl": [
           {
            "marker": {
             "colorbar": {
              "outlinewidth": 0,
              "ticks": ""
             }
            },
            "type": "scatterpolargl"
           }
          ],
          "scatterternary": [
           {
            "marker": {
             "colorbar": {
              "outlinewidth": 0,
              "ticks": ""
             }
            },
            "type": "scatterternary"
           }
          ],
          "surface": [
           {
            "colorbar": {
             "outlinewidth": 0,
             "ticks": ""
            },
            "colorscale": [
             [
              0,
              "#0d0887"
             ],
             [
              0.1111111111111111,
              "#46039f"
             ],
             [
              0.2222222222222222,
              "#7201a8"
             ],
             [
              0.3333333333333333,
              "#9c179e"
             ],
             [
              0.4444444444444444,
              "#bd3786"
             ],
             [
              0.5555555555555556,
              "#d8576b"
             ],
             [
              0.6666666666666666,
              "#ed7953"
             ],
             [
              0.7777777777777778,
              "#fb9f3a"
             ],
             [
              0.8888888888888888,
              "#fdca26"
             ],
             [
              1,
              "#f0f921"
             ]
            ],
            "type": "surface"
           }
          ],
          "table": [
           {
            "cells": {
             "fill": {
              "color": "#EBF0F8"
             },
             "line": {
              "color": "white"
             }
            },
            "header": {
             "fill": {
              "color": "#C8D4E3"
             },
             "line": {
              "color": "white"
             }
            },
            "type": "table"
           }
          ]
         },
         "layout": {
          "annotationdefaults": {
           "arrowcolor": "#2a3f5f",
           "arrowhead": 0,
           "arrowwidth": 1
          },
          "autotypenumbers": "strict",
          "coloraxis": {
           "colorbar": {
            "outlinewidth": 0,
            "ticks": ""
           }
          },
          "colorscale": {
           "diverging": [
            [
             0,
             "#8e0152"
            ],
            [
             0.1,
             "#c51b7d"
            ],
            [
             0.2,
             "#de77ae"
            ],
            [
             0.3,
             "#f1b6da"
            ],
            [
             0.4,
             "#fde0ef"
            ],
            [
             0.5,
             "#f7f7f7"
            ],
            [
             0.6,
             "#e6f5d0"
            ],
            [
             0.7,
             "#b8e186"
            ],
            [
             0.8,
             "#7fbc41"
            ],
            [
             0.9,
             "#4d9221"
            ],
            [
             1,
             "#276419"
            ]
           ],
           "sequential": [
            [
             0,
             "#0d0887"
            ],
            [
             0.1111111111111111,
             "#46039f"
            ],
            [
             0.2222222222222222,
             "#7201a8"
            ],
            [
             0.3333333333333333,
             "#9c179e"
            ],
            [
             0.4444444444444444,
             "#bd3786"
            ],
            [
             0.5555555555555556,
             "#d8576b"
            ],
            [
             0.6666666666666666,
             "#ed7953"
            ],
            [
             0.7777777777777778,
             "#fb9f3a"
            ],
            [
             0.8888888888888888,
             "#fdca26"
            ],
            [
             1,
             "#f0f921"
            ]
           ],
           "sequentialminus": [
            [
             0,
             "#0d0887"
            ],
            [
             0.1111111111111111,
             "#46039f"
            ],
            [
             0.2222222222222222,
             "#7201a8"
            ],
            [
             0.3333333333333333,
             "#9c179e"
            ],
            [
             0.4444444444444444,
             "#bd3786"
            ],
            [
             0.5555555555555556,
             "#d8576b"
            ],
            [
             0.6666666666666666,
             "#ed7953"
            ],
            [
             0.7777777777777778,
             "#fb9f3a"
            ],
            [
             0.8888888888888888,
             "#fdca26"
            ],
            [
             1,
             "#f0f921"
            ]
           ]
          },
          "colorway": [
           "#636efa",
           "#EF553B",
           "#00cc96",
           "#ab63fa",
           "#FFA15A",
           "#19d3f3",
           "#FF6692",
           "#B6E880",
           "#FF97FF",
           "#FECB52"
          ],
          "font": {
           "color": "#2a3f5f"
          },
          "geo": {
           "bgcolor": "white",
           "lakecolor": "white",
           "landcolor": "white",
           "showlakes": true,
           "showland": true,
           "subunitcolor": "#C8D4E3"
          },
          "hoverlabel": {
           "align": "left"
          },
          "hovermode": "closest",
          "mapbox": {
           "style": "light"
          },
          "paper_bgcolor": "white",
          "plot_bgcolor": "white",
          "polar": {
           "angularaxis": {
            "gridcolor": "#EBF0F8",
            "linecolor": "#EBF0F8",
            "ticks": ""
           },
           "bgcolor": "white",
           "radialaxis": {
            "gridcolor": "#EBF0F8",
            "linecolor": "#EBF0F8",
            "ticks": ""
           }
          },
          "scene": {
           "xaxis": {
            "backgroundcolor": "white",
            "gridcolor": "#DFE8F3",
            "gridwidth": 2,
            "linecolor": "#EBF0F8",
            "showbackground": true,
            "ticks": "",
            "zerolinecolor": "#EBF0F8"
           },
           "yaxis": {
            "backgroundcolor": "white",
            "gridcolor": "#DFE8F3",
            "gridwidth": 2,
            "linecolor": "#EBF0F8",
            "showbackground": true,
            "ticks": "",
            "zerolinecolor": "#EBF0F8"
           },
           "zaxis": {
            "backgroundcolor": "white",
            "gridcolor": "#DFE8F3",
            "gridwidth": 2,
            "linecolor": "#EBF0F8",
            "showbackground": true,
            "ticks": "",
            "zerolinecolor": "#EBF0F8"
           }
          },
          "shapedefaults": {
           "line": {
            "color": "#2a3f5f"
           }
          },
          "ternary": {
           "aaxis": {
            "gridcolor": "#DFE8F3",
            "linecolor": "#A2B1C6",
            "ticks": ""
           },
           "baxis": {
            "gridcolor": "#DFE8F3",
            "linecolor": "#A2B1C6",
            "ticks": ""
           },
           "bgcolor": "white",
           "caxis": {
            "gridcolor": "#DFE8F3",
            "linecolor": "#A2B1C6",
            "ticks": ""
           }
          },
          "title": {
           "x": 0.05
          },
          "xaxis": {
           "automargin": true,
           "gridcolor": "#EBF0F8",
           "linecolor": "#EBF0F8",
           "ticks": "",
           "title": {
            "standoff": 15
           },
           "zerolinecolor": "#EBF0F8",
           "zerolinewidth": 2
          },
          "yaxis": {
           "automargin": true,
           "gridcolor": "#EBF0F8",
           "linecolor": "#EBF0F8",
           "ticks": "",
           "title": {
            "standoff": 15
           },
           "zerolinecolor": "#EBF0F8",
           "zerolinewidth": 2
          }
         }
        },
        "title": {
         "font": {
          "color": "#023E8A",
          "size": 18
         },
         "text": "Média do Tempo de Espera por Mês"
        },
        "width": 1000,
        "xaxis": {
         "dtick": "M12",
         "gridcolor": "#F8F9FA",
         "linecolor": "#6C757D",
         "showgrid": true,
         "tickfont": {
          "color": "#023E8A"
         },
         "tickformat": "%Y",
         "title": {
          "text": "Ano"
         }
        },
        "yaxis": {
         "gridcolor": "#F8F9FA",
         "linecolor": "#6C757D",
         "showgrid": true,
         "tickfont": {
          "color": "#023E8A"
         },
         "title": {
          "text": "Tempo médio de espera (dias)"
         }
        }
       }
      }
     },
     "metadata": {},
     "output_type": "display_data"
    }
   ],
   "source": [
    "# Garantir que a coluna data_primeira_dialise está em datetime\n",
    "df_espera['data_primeira_dialise'] = pd.to_datetime(df_espera['data_primeira_dialise'])\n",
    "\n",
    "# Criar coluna de ano-mês\n",
    "df_espera['ano_mes'] = df_espera['data_primeira_dialise'].dt.to_period('M').astype(str)\n",
    "\n",
    "# Agrupar por ano-mês\n",
    "df_mes = df_espera.groupby('ano_mes')['tempo_entre_fav_e_primeira_dialise'].mean().reset_index()\n",
    "\n",
    "# Converter ano-mês para datetime (para plotar no eixo)\n",
    "df_mes['ano_mes_dt'] = pd.to_datetime(df_mes['ano_mes'])\n",
    "\n",
    "# Gráfico de Linha (sem pontos)\n",
    "fig1_p2 = go.Figure()\n",
    "\n",
    "fig1_p2.add_trace(go.Scatter(\n",
    "    x=df_mes['ano_mes_dt'],\n",
    "    y=df_mes['tempo_entre_fav_e_primeira_dialise'],\n",
    "    mode='lines',\n",
    "    name='Tempo médio de espera',\n",
    "    line=dict(color=paleta['azul_principal'], width=3)\n",
    "))\n",
    "\n",
    "# Tarja vermelha para COVID-19 (março de 2020 até dezembro de 2021)\n",
    "fig1_p2.add_vrect(\n",
    "    x0=\"2020-03-01\", x1=\"2021-12-31\",\n",
    "    fillcolor=\"red\", opacity=0.2,\n",
    "    layer=\"below\", line_width=0,\n",
    "    annotation_text=\"COVID-19\", annotation_position=\"top left\",\n",
    "    annotation_font_size=12, annotation_font_color=\"red\"\n",
    ")\n",
    "\n",
    "# Layout final com paleta aplicada\n",
    "fig1_p2.update_layout(\n",
    "    title='Média do Tempo de Espera por Mês',\n",
    "    xaxis_title='Ano',\n",
    "    yaxis_title='Tempo médio de espera (dias)',\n",
    "    template='plotly_white',\n",
    "    plot_bgcolor=paleta['fundo'],\n",
    "    paper_bgcolor=paleta['fundo'],\n",
    "    font=dict(color=paleta['azul_escuro']),\n",
    "    title_font=dict(size=18, color=paleta['azul_escuro']),\n",
    "    width=1000,\n",
    "    height=500,\n",
    "    xaxis=dict(\n",
    "        tickformat='%Y',\n",
    "        dtick=\"M12\",\n",
    "        showgrid=True,\n",
    "        gridcolor=paleta['cinza_claro'],\n",
    "        linecolor=paleta['cinza_texto'],\n",
    "        tickfont=dict(color=paleta['azul_escuro'])\n",
    "    ),\n",
    "    yaxis=dict(\n",
    "        showgrid=True,\n",
    "        gridcolor=paleta['cinza_claro'],\n",
    "        linecolor=paleta['cinza_texto'],\n",
    "        tickfont=dict(color=paleta['azul_escuro'])\n",
    "    )\n",
    ")\n",
    "\n",
    "fig1_p2.show()"
   ]
  },
  {
   "cell_type": "markdown",
   "id": "4bee7b48",
   "metadata": {},
   "source": [
    "# 3) Existem perfis de pacientes que apresentam maior demora para a confecção da FAV?"
   ]
  },
  {
   "cell_type": "markdown",
   "id": "7494261f",
   "metadata": {},
   "source": [
    "# DASH Dashboard"
   ]
  },
  {
   "cell_type": "code",
   "execution_count": 74,
   "id": "605a6a03",
   "metadata": {},
   "outputs": [
    {
     "data": {
      "text/html": [
       "\n",
       "        <iframe\n",
       "            width=\"100%\"\n",
       "            height=\"650\"\n",
       "            src=\"http://127.0.0.1:8050/\"\n",
       "            frameborder=\"0\"\n",
       "            allowfullscreen\n",
       "            \n",
       "        ></iframe>\n",
       "        "
      ],
      "text/plain": [
       "<IPython.lib.display.IFrame at 0x27acf1e5e50>"
      ]
     },
     "metadata": {},
     "output_type": "display_data"
    }
   ],
   "source": [
    "# === App Dash ===\n",
    "app = Dash(__name__)\n",
    "\n",
    "app.layout = html.Div(children=[\n",
    "    html.H1(children='Dashboard - Tempo de Espera na FAV'),\n",
    "\n",
    "    html.Div(children='''\n",
    "        Análise dos tempos de espera entre a primeira diálise e o atendimento na FAV.\n",
    "    '''),\n",
    "\n",
    "    dcc.Graph(\n",
    "        id='bar-plot',\n",
    "        figure=fig1_p1\n",
    "    ),\n",
    "    dcc.Graph(\n",
    "        id='histogram',\n",
    "        figure=fig2_p1\n",
    "    ),\n",
    "\n",
    "    dcc.Graph(\n",
    "    id='line-plot',\n",
    "    figure=fig1_p2\n",
    "    )\n",
    "])\n",
    "\n",
    "if __name__ == '__main__':\n",
    "    app.run_server(debug=True)"
   ]
  },
  {
   "cell_type": "code",
   "execution_count": null,
   "id": "3fa3bb2b",
   "metadata": {},
   "outputs": [],
   "source": []
  }
 ],
 "metadata": {
  "kernelspec": {
   "display_name": "TicTacToe",
   "language": "python",
   "name": "python3"
  },
  "language_info": {
   "codemirror_mode": {
    "name": "ipython",
    "version": 3
   },
   "file_extension": ".py",
   "mimetype": "text/x-python",
   "name": "python",
   "nbconvert_exporter": "python",
   "pygments_lexer": "ipython3",
   "version": "3.12.2"
  }
 },
 "nbformat": 4,
 "nbformat_minor": 5
}
