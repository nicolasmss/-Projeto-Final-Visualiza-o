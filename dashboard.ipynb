{
 "cells": [
  {
   "cell_type": "markdown",
   "id": "6024f68d",
   "metadata": {},
   "source": [
    "# Imports"
   ]
  },
  {
   "cell_type": "code",
   "execution_count": 24,
   "id": "cfdebc9b",
   "metadata": {},
   "outputs": [],
   "source": [
    "import pandas as pd\n",
    "from dash import Dash, html, dcc, dash_table\n",
    "import dash_bootstrap_components as dbc\n",
    "import plotly.express as px\n",
    "import plotly.graph_objects as go"
   ]
  },
  {
   "cell_type": "markdown",
   "id": "37878fdb",
   "metadata": {},
   "source": [
    "# Configurações"
   ]
  },
  {
   "cell_type": "code",
   "execution_count": 25,
   "id": "646bc4c9",
   "metadata": {},
   "outputs": [],
   "source": [
    "ARQUIVO_CSV   = 'dialise_fav_final3.csv'\n",
    "SEPARADOR_CSV = ';'\n",
    "\n",
    "paleta = {\n",
    "    'principal'   : '#0077B6',\n",
    "    'secundario'  : '#90E0EF',\n",
    "    'terceario'   : '#48CAE4',\n",
    "    'quarto'      : '#023E8A',\n",
    "    'quinto'      : '#F8F9FA',\n",
    "    'texto'       : '#6C757D',\n",
    "    'fundo'       : '#FFFFFF'\n",
    "}\n",
    "\n",
    "PORTA_HTTP = 8080"
   ]
  },
  {
   "cell_type": "markdown",
   "id": "18bd03e1",
   "metadata": {},
   "source": [
    "# Pré Processamento de Dados"
   ]
  },
  {
   "cell_type": "code",
   "execution_count": 26,
   "id": "37b90c3a",
   "metadata": {},
   "outputs": [
    {
     "name": "stderr",
     "output_type": "stream",
     "text": [
      "C:\\Users\\Marnie\\AppData\\Local\\Temp\\ipykernel_17740\\840471732.py:1: DtypeWarning:\n",
      "\n",
      "Columns (20,37,104) have mixed types. Specify dtype option on import or set low_memory=False.\n",
      "\n"
     ]
    },
    {
     "data": {
      "text/html": [
       "<div>\n",
       "<style scoped>\n",
       "    .dataframe tbody tr th:only-of-type {\n",
       "        vertical-align: middle;\n",
       "    }\n",
       "\n",
       "    .dataframe tbody tr th {\n",
       "        vertical-align: top;\n",
       "    }\n",
       "\n",
       "    .dataframe thead th {\n",
       "        text-align: right;\n",
       "    }\n",
       "</style>\n",
       "<table border=\"1\" class=\"dataframe\">\n",
       "  <thead>\n",
       "    <tr style=\"text-align: right;\">\n",
       "      <th></th>\n",
       "      <th>AP_MVM</th>\n",
       "      <th>AP_CONDIC</th>\n",
       "      <th>AP_GESTAO</th>\n",
       "      <th>AP_CODUNI</th>\n",
       "      <th>AP_AUTORIZ</th>\n",
       "      <th>AP_CMP</th>\n",
       "      <th>AP_PRIPAL</th>\n",
       "      <th>AP_VL_AP</th>\n",
       "      <th>AP_UFMUN</th>\n",
       "      <th>AP_TPUPS</th>\n",
       "      <th>...</th>\n",
       "      <th>fav_ACF_FLEBIT</th>\n",
       "      <th>fav_ACF_HEMATO</th>\n",
       "      <th>fav_ACF_VEIAVI</th>\n",
       "      <th>fav_ACF_PULSO</th>\n",
       "      <th>fav_ACF_VEIDIA</th>\n",
       "      <th>fav_ACF_ARTDIA</th>\n",
       "      <th>fav_ACF_FREMIT</th>\n",
       "      <th>fav_AP_NATJUR</th>\n",
       "      <th>fav_repeticao</th>\n",
       "      <th>espera_fav</th>\n",
       "    </tr>\n",
       "  </thead>\n",
       "  <tbody>\n",
       "    <tr>\n",
       "      <th>725301</th>\n",
       "      <td>202407</td>\n",
       "      <td>EP</td>\n",
       "      <td>430000</td>\n",
       "      <td>2242397</td>\n",
       "      <td>4324201737560</td>\n",
       "      <td>2024-07-01</td>\n",
       "      <td>305010166.0</td>\n",
       "      <td>3356.94</td>\n",
       "      <td>431690</td>\n",
       "      <td>39</td>\n",
       "      <td>...</td>\n",
       "      <td>NaN</td>\n",
       "      <td>NaN</td>\n",
       "      <td>NaN</td>\n",
       "      <td>NaN</td>\n",
       "      <td>NaN</td>\n",
       "      <td>NaN</td>\n",
       "      <td>NaN</td>\n",
       "      <td>NaN</td>\n",
       "      <td>0.0</td>\n",
       "      <td>NaN</td>\n",
       "    </tr>\n",
       "    <tr>\n",
       "      <th>128519</th>\n",
       "      <td>201606</td>\n",
       "      <td>EP</td>\n",
       "      <td>430000</td>\n",
       "      <td>2242397</td>\n",
       "      <td>4316200942515</td>\n",
       "      <td>2016-06-01</td>\n",
       "      <td>305010166.0</td>\n",
       "      <td>2864.88</td>\n",
       "      <td>431690</td>\n",
       "      <td>39</td>\n",
       "      <td>...</td>\n",
       "      <td>NaN</td>\n",
       "      <td>NaN</td>\n",
       "      <td>NaN</td>\n",
       "      <td>NaN</td>\n",
       "      <td>NaN</td>\n",
       "      <td>NaN</td>\n",
       "      <td>NaN</td>\n",
       "      <td>NaN</td>\n",
       "      <td>0.0</td>\n",
       "      <td>NaN</td>\n",
       "    </tr>\n",
       "    <tr>\n",
       "      <th>363524</th>\n",
       "      <td>201910</td>\n",
       "      <td>EP</td>\n",
       "      <td>430000</td>\n",
       "      <td>2707829</td>\n",
       "      <td>4319202027228</td>\n",
       "      <td>2019-10-01</td>\n",
       "      <td>305010107.0</td>\n",
       "      <td>2615.36</td>\n",
       "      <td>432150</td>\n",
       "      <td>36</td>\n",
       "      <td>...</td>\n",
       "      <td>N</td>\n",
       "      <td>N</td>\n",
       "      <td>S</td>\n",
       "      <td>S</td>\n",
       "      <td>0</td>\n",
       "      <td>0</td>\n",
       "      <td>3.0</td>\n",
       "      <td>2062.0</td>\n",
       "      <td>3.0</td>\n",
       "      <td>NaN</td>\n",
       "    </tr>\n",
       "    <tr>\n",
       "      <th>84552</th>\n",
       "      <td>201510</td>\n",
       "      <td>PG</td>\n",
       "      <td>430510</td>\n",
       "      <td>2223546</td>\n",
       "      <td>4315207374137</td>\n",
       "      <td>2015-10-01</td>\n",
       "      <td>305010107.0</td>\n",
       "      <td>2548.87</td>\n",
       "      <td>430510</td>\n",
       "      <td>5</td>\n",
       "      <td>...</td>\n",
       "      <td>N</td>\n",
       "      <td>N</td>\n",
       "      <td>S</td>\n",
       "      <td>N</td>\n",
       "      <td>0005</td>\n",
       "      <td>0006</td>\n",
       "      <td>1.0</td>\n",
       "      <td>NaN</td>\n",
       "      <td>13.0</td>\n",
       "      <td>NaN</td>\n",
       "    </tr>\n",
       "    <tr>\n",
       "      <th>185942</th>\n",
       "      <td>201704</td>\n",
       "      <td>PG</td>\n",
       "      <td>430300</td>\n",
       "      <td>2266474</td>\n",
       "      <td>4317203391050</td>\n",
       "      <td>2017-04-01</td>\n",
       "      <td>305010107.0</td>\n",
       "      <td>388.40</td>\n",
       "      <td>430300</td>\n",
       "      <td>5</td>\n",
       "      <td>...</td>\n",
       "      <td>N</td>\n",
       "      <td>N</td>\n",
       "      <td>N</td>\n",
       "      <td>N</td>\n",
       "      <td>02,6</td>\n",
       "      <td>02,9</td>\n",
       "      <td>2.0</td>\n",
       "      <td>3999.0</td>\n",
       "      <td>1.0</td>\n",
       "      <td>NaN</td>\n",
       "    </tr>\n",
       "  </tbody>\n",
       "</table>\n",
       "<p>5 rows × 124 columns</p>\n",
       "</div>"
      ],
      "text/plain": [
       "        AP_MVM AP_CONDIC  AP_GESTAO  AP_CODUNI     AP_AUTORIZ      AP_CMP  \\\n",
       "725301  202407        EP     430000    2242397  4324201737560  2024-07-01   \n",
       "128519  201606        EP     430000    2242397  4316200942515  2016-06-01   \n",
       "363524  201910        EP     430000    2707829  4319202027228  2019-10-01   \n",
       "84552   201510        PG     430510    2223546  4315207374137  2015-10-01   \n",
       "185942  201704        PG     430300    2266474  4317203391050  2017-04-01   \n",
       "\n",
       "          AP_PRIPAL  AP_VL_AP  AP_UFMUN  AP_TPUPS  ...  fav_ACF_FLEBIT  \\\n",
       "725301  305010166.0   3356.94    431690        39  ...             NaN   \n",
       "128519  305010166.0   2864.88    431690        39  ...             NaN   \n",
       "363524  305010107.0   2615.36    432150        36  ...               N   \n",
       "84552   305010107.0   2548.87    430510         5  ...               N   \n",
       "185942  305010107.0    388.40    430300         5  ...               N   \n",
       "\n",
       "       fav_ACF_HEMATO  fav_ACF_VEIAVI  fav_ACF_PULSO fav_ACF_VEIDIA  \\\n",
       "725301            NaN             NaN            NaN            NaN   \n",
       "128519            NaN             NaN            NaN            NaN   \n",
       "363524              N               S              S              0   \n",
       "84552               N               S              N           0005   \n",
       "185942              N               N              N           02,6   \n",
       "\n",
       "        fav_ACF_ARTDIA  fav_ACF_FREMIT fav_AP_NATJUR  fav_repeticao  \\\n",
       "725301             NaN             NaN           NaN            0.0   \n",
       "128519             NaN             NaN           NaN            0.0   \n",
       "363524               0             3.0        2062.0            3.0   \n",
       "84552             0006             1.0           NaN           13.0   \n",
       "185942            02,9             2.0        3999.0            1.0   \n",
       "\n",
       "        espera_fav  \n",
       "725301         NaN  \n",
       "128519         NaN  \n",
       "363524         NaN  \n",
       "84552          NaN  \n",
       "185942         NaN  \n",
       "\n",
       "[5 rows x 124 columns]"
      ]
     },
     "execution_count": 26,
     "metadata": {},
     "output_type": "execute_result"
    }
   ],
   "source": [
    "df = pd.read_csv(ARQUIVO_CSV, sep=SEPARADOR_CSV)\n",
    "df.sample(5)"
   ]
  },
  {
   "cell_type": "code",
   "execution_count": 27,
   "id": "7a6dd6b9",
   "metadata": {},
   "outputs": [
    {
     "data": {
      "text/html": [
       "<div>\n",
       "<style scoped>\n",
       "    .dataframe tbody tr th:only-of-type {\n",
       "        vertical-align: middle;\n",
       "    }\n",
       "\n",
       "    .dataframe tbody tr th {\n",
       "        vertical-align: top;\n",
       "    }\n",
       "\n",
       "    .dataframe thead th {\n",
       "        text-align: right;\n",
       "    }\n",
       "</style>\n",
       "<table border=\"1\" class=\"dataframe\">\n",
       "  <thead>\n",
       "    <tr style=\"text-align: right;\">\n",
       "      <th></th>\n",
       "      <th>AP_MVM</th>\n",
       "      <th>AP_CONDIC</th>\n",
       "      <th>AP_GESTAO</th>\n",
       "      <th>AP_CODUNI</th>\n",
       "      <th>AP_AUTORIZ</th>\n",
       "      <th>AP_CMP</th>\n",
       "      <th>AP_PRIPAL</th>\n",
       "      <th>AP_VL_AP</th>\n",
       "      <th>AP_TPUPS</th>\n",
       "      <th>AP_TIPPRE</th>\n",
       "      <th>...</th>\n",
       "      <th>fav_ACF_FLEBIT</th>\n",
       "      <th>fav_ACF_HEMATO</th>\n",
       "      <th>fav_ACF_VEIAVI</th>\n",
       "      <th>fav_ACF_PULSO</th>\n",
       "      <th>fav_ACF_VEIDIA</th>\n",
       "      <th>fav_ACF_ARTDIA</th>\n",
       "      <th>fav_ACF_FREMIT</th>\n",
       "      <th>fav_AP_NATJUR</th>\n",
       "      <th>fav_repeticao</th>\n",
       "      <th>espera_fav</th>\n",
       "    </tr>\n",
       "  </thead>\n",
       "  <tbody>\n",
       "    <tr>\n",
       "      <th>0</th>\n",
       "      <td>201408</td>\n",
       "      <td>MN</td>\n",
       "      <td>431490</td>\n",
       "      <td>2237253</td>\n",
       "      <td>4314203219370</td>\n",
       "      <td>2014-08-01</td>\n",
       "      <td>305010166.0</td>\n",
       "      <td>2149.62</td>\n",
       "      <td>5</td>\n",
       "      <td>61</td>\n",
       "      <td>...</td>\n",
       "      <td>N</td>\n",
       "      <td>N</td>\n",
       "      <td>N</td>\n",
       "      <td>N</td>\n",
       "      <td>0000</td>\n",
       "      <td>0000</td>\n",
       "      <td>1.0</td>\n",
       "      <td>3069.0</td>\n",
       "      <td>1.0</td>\n",
       "      <td>1126.0</td>\n",
       "    </tr>\n",
       "    <tr>\n",
       "      <th>1</th>\n",
       "      <td>201408</td>\n",
       "      <td>MN</td>\n",
       "      <td>431490</td>\n",
       "      <td>2262568</td>\n",
       "      <td>4314203319756</td>\n",
       "      <td>2014-08-01</td>\n",
       "      <td>305010166.0</td>\n",
       "      <td>400.00</td>\n",
       "      <td>5</td>\n",
       "      <td>61</td>\n",
       "      <td>...</td>\n",
       "      <td>NaN</td>\n",
       "      <td>NaN</td>\n",
       "      <td>NaN</td>\n",
       "      <td>NaN</td>\n",
       "      <td>NaN</td>\n",
       "      <td>NaN</td>\n",
       "      <td>NaN</td>\n",
       "      <td>NaN</td>\n",
       "      <td>0.0</td>\n",
       "      <td>NaN</td>\n",
       "    </tr>\n",
       "    <tr>\n",
       "      <th>2</th>\n",
       "      <td>201408</td>\n",
       "      <td>MN</td>\n",
       "      <td>431490</td>\n",
       "      <td>2262568</td>\n",
       "      <td>4314203240490</td>\n",
       "      <td>2014-08-01</td>\n",
       "      <td>305010166.0</td>\n",
       "      <td>2149.62</td>\n",
       "      <td>5</td>\n",
       "      <td>61</td>\n",
       "      <td>...</td>\n",
       "      <td>NaN</td>\n",
       "      <td>NaN</td>\n",
       "      <td>NaN</td>\n",
       "      <td>NaN</td>\n",
       "      <td>NaN</td>\n",
       "      <td>NaN</td>\n",
       "      <td>NaN</td>\n",
       "      <td>NaN</td>\n",
       "      <td>0.0</td>\n",
       "      <td>NaN</td>\n",
       "    </tr>\n",
       "    <tr>\n",
       "      <th>3</th>\n",
       "      <td>201408</td>\n",
       "      <td>MN</td>\n",
       "      <td>431490</td>\n",
       "      <td>2237601</td>\n",
       "      <td>4314201305645</td>\n",
       "      <td>2014-08-01</td>\n",
       "      <td>305010166.0</td>\n",
       "      <td>2204.49</td>\n",
       "      <td>5</td>\n",
       "      <td>30</td>\n",
       "      <td>...</td>\n",
       "      <td>NaN</td>\n",
       "      <td>NaN</td>\n",
       "      <td>NaN</td>\n",
       "      <td>NaN</td>\n",
       "      <td>NaN</td>\n",
       "      <td>NaN</td>\n",
       "      <td>NaN</td>\n",
       "      <td>NaN</td>\n",
       "      <td>0.0</td>\n",
       "      <td>NaN</td>\n",
       "    </tr>\n",
       "    <tr>\n",
       "      <th>4</th>\n",
       "      <td>201408</td>\n",
       "      <td>MN</td>\n",
       "      <td>431490</td>\n",
       "      <td>2237598</td>\n",
       "      <td>4314203319162</td>\n",
       "      <td>2014-08-01</td>\n",
       "      <td>305010166.0</td>\n",
       "      <td>1529.46</td>\n",
       "      <td>5</td>\n",
       "      <td>61</td>\n",
       "      <td>...</td>\n",
       "      <td>NaN</td>\n",
       "      <td>NaN</td>\n",
       "      <td>NaN</td>\n",
       "      <td>NaN</td>\n",
       "      <td>NaN</td>\n",
       "      <td>NaN</td>\n",
       "      <td>NaN</td>\n",
       "      <td>NaN</td>\n",
       "      <td>0.0</td>\n",
       "      <td>NaN</td>\n",
       "    </tr>\n",
       "    <tr>\n",
       "      <th>...</th>\n",
       "      <td>...</td>\n",
       "      <td>...</td>\n",
       "      <td>...</td>\n",
       "      <td>...</td>\n",
       "      <td>...</td>\n",
       "      <td>...</td>\n",
       "      <td>...</td>\n",
       "      <td>...</td>\n",
       "      <td>...</td>\n",
       "      <td>...</td>\n",
       "      <td>...</td>\n",
       "      <td>...</td>\n",
       "      <td>...</td>\n",
       "      <td>...</td>\n",
       "      <td>...</td>\n",
       "      <td>...</td>\n",
       "      <td>...</td>\n",
       "      <td>...</td>\n",
       "      <td>...</td>\n",
       "      <td>...</td>\n",
       "      <td>...</td>\n",
       "    </tr>\n",
       "    <tr>\n",
       "      <th>762586</th>\n",
       "      <td>202412</td>\n",
       "      <td>PG</td>\n",
       "      <td>431490</td>\n",
       "      <td>2237253</td>\n",
       "      <td>4324204775100</td>\n",
       "      <td>2024-12-01</td>\n",
       "      <td>305010107.0</td>\n",
       "      <td>1686.79</td>\n",
       "      <td>5</td>\n",
       "      <td>0</td>\n",
       "      <td>...</td>\n",
       "      <td>N</td>\n",
       "      <td>N</td>\n",
       "      <td>S</td>\n",
       "      <td>S</td>\n",
       "      <td>0</td>\n",
       "      <td>0</td>\n",
       "      <td>3.0</td>\n",
       "      <td>NaN</td>\n",
       "      <td>3.0</td>\n",
       "      <td>NaN</td>\n",
       "    </tr>\n",
       "    <tr>\n",
       "      <th>762587</th>\n",
       "      <td>202412</td>\n",
       "      <td>PG</td>\n",
       "      <td>431490</td>\n",
       "      <td>2237253</td>\n",
       "      <td>4324204756179</td>\n",
       "      <td>2024-12-01</td>\n",
       "      <td>305010107.0</td>\n",
       "      <td>1445.82</td>\n",
       "      <td>5</td>\n",
       "      <td>0</td>\n",
       "      <td>...</td>\n",
       "      <td>N</td>\n",
       "      <td>N</td>\n",
       "      <td>N</td>\n",
       "      <td>N</td>\n",
       "      <td>0010</td>\n",
       "      <td>0003</td>\n",
       "      <td>1.0</td>\n",
       "      <td>2240.0</td>\n",
       "      <td>58.0</td>\n",
       "      <td>NaN</td>\n",
       "    </tr>\n",
       "    <tr>\n",
       "      <th>762588</th>\n",
       "      <td>202412</td>\n",
       "      <td>PG</td>\n",
       "      <td>431490</td>\n",
       "      <td>2237253</td>\n",
       "      <td>4324204657036</td>\n",
       "      <td>2024-12-01</td>\n",
       "      <td>305010107.0</td>\n",
       "      <td>3132.61</td>\n",
       "      <td>5</td>\n",
       "      <td>0</td>\n",
       "      <td>...</td>\n",
       "      <td>N</td>\n",
       "      <td>N</td>\n",
       "      <td>N</td>\n",
       "      <td>N</td>\n",
       "      <td>0001</td>\n",
       "      <td>0001</td>\n",
       "      <td>1.0</td>\n",
       "      <td>3069.0</td>\n",
       "      <td>41.0</td>\n",
       "      <td>NaN</td>\n",
       "    </tr>\n",
       "    <tr>\n",
       "      <th>762589</th>\n",
       "      <td>202412</td>\n",
       "      <td>PG</td>\n",
       "      <td>431490</td>\n",
       "      <td>2237253</td>\n",
       "      <td>4324204659533</td>\n",
       "      <td>2024-12-01</td>\n",
       "      <td>305010107.0</td>\n",
       "      <td>3132.61</td>\n",
       "      <td>5</td>\n",
       "      <td>0</td>\n",
       "      <td>...</td>\n",
       "      <td>NaN</td>\n",
       "      <td>NaN</td>\n",
       "      <td>NaN</td>\n",
       "      <td>NaN</td>\n",
       "      <td>NaN</td>\n",
       "      <td>NaN</td>\n",
       "      <td>NaN</td>\n",
       "      <td>NaN</td>\n",
       "      <td>0.0</td>\n",
       "      <td>NaN</td>\n",
       "    </tr>\n",
       "    <tr>\n",
       "      <th>762590</th>\n",
       "      <td>202412</td>\n",
       "      <td>PG</td>\n",
       "      <td>431490</td>\n",
       "      <td>2237253</td>\n",
       "      <td>4324204659544</td>\n",
       "      <td>2024-12-01</td>\n",
       "      <td>305010107.0</td>\n",
       "      <td>2891.64</td>\n",
       "      <td>5</td>\n",
       "      <td>0</td>\n",
       "      <td>...</td>\n",
       "      <td>NaN</td>\n",
       "      <td>NaN</td>\n",
       "      <td>NaN</td>\n",
       "      <td>NaN</td>\n",
       "      <td>NaN</td>\n",
       "      <td>NaN</td>\n",
       "      <td>NaN</td>\n",
       "      <td>NaN</td>\n",
       "      <td>0.0</td>\n",
       "      <td>NaN</td>\n",
       "    </tr>\n",
       "  </tbody>\n",
       "</table>\n",
       "<p>156398 rows × 118 columns</p>\n",
       "</div>"
      ],
      "text/plain": [
       "        AP_MVM AP_CONDIC  AP_GESTAO  AP_CODUNI     AP_AUTORIZ      AP_CMP  \\\n",
       "0       201408        MN     431490    2237253  4314203219370  2014-08-01   \n",
       "1       201408        MN     431490    2262568  4314203319756  2014-08-01   \n",
       "2       201408        MN     431490    2262568  4314203240490  2014-08-01   \n",
       "3       201408        MN     431490    2237601  4314201305645  2014-08-01   \n",
       "4       201408        MN     431490    2237598  4314203319162  2014-08-01   \n",
       "...        ...       ...        ...        ...            ...         ...   \n",
       "762586  202412        PG     431490    2237253  4324204775100  2024-12-01   \n",
       "762587  202412        PG     431490    2237253  4324204756179  2024-12-01   \n",
       "762588  202412        PG     431490    2237253  4324204657036  2024-12-01   \n",
       "762589  202412        PG     431490    2237253  4324204659533  2024-12-01   \n",
       "762590  202412        PG     431490    2237253  4324204659544  2024-12-01   \n",
       "\n",
       "          AP_PRIPAL  AP_VL_AP  AP_TPUPS  AP_TIPPRE  ... fav_ACF_FLEBIT  \\\n",
       "0       305010166.0   2149.62         5         61  ...              N   \n",
       "1       305010166.0    400.00         5         61  ...            NaN   \n",
       "2       305010166.0   2149.62         5         61  ...            NaN   \n",
       "3       305010166.0   2204.49         5         30  ...            NaN   \n",
       "4       305010166.0   1529.46         5         61  ...            NaN   \n",
       "...             ...       ...       ...        ...  ...            ...   \n",
       "762586  305010107.0   1686.79         5          0  ...              N   \n",
       "762587  305010107.0   1445.82         5          0  ...              N   \n",
       "762588  305010107.0   3132.61         5          0  ...              N   \n",
       "762589  305010107.0   3132.61         5          0  ...            NaN   \n",
       "762590  305010107.0   2891.64         5          0  ...            NaN   \n",
       "\n",
       "        fav_ACF_HEMATO  fav_ACF_VEIAVI fav_ACF_PULSO  fav_ACF_VEIDIA  \\\n",
       "0                    N               N             N            0000   \n",
       "1                  NaN             NaN           NaN             NaN   \n",
       "2                  NaN             NaN           NaN             NaN   \n",
       "3                  NaN             NaN           NaN             NaN   \n",
       "4                  NaN             NaN           NaN             NaN   \n",
       "...                ...             ...           ...             ...   \n",
       "762586               N               S             S               0   \n",
       "762587               N               N             N            0010   \n",
       "762588               N               N             N            0001   \n",
       "762589             NaN             NaN           NaN             NaN   \n",
       "762590             NaN             NaN           NaN             NaN   \n",
       "\n",
       "        fav_ACF_ARTDIA fav_ACF_FREMIT  fav_AP_NATJUR  fav_repeticao  \\\n",
       "0                 0000            1.0         3069.0            1.0   \n",
       "1                  NaN            NaN            NaN            0.0   \n",
       "2                  NaN            NaN            NaN            0.0   \n",
       "3                  NaN            NaN            NaN            0.0   \n",
       "4                  NaN            NaN            NaN            0.0   \n",
       "...                ...            ...            ...            ...   \n",
       "762586               0            3.0            NaN            3.0   \n",
       "762587            0003            1.0         2240.0           58.0   \n",
       "762588            0001            1.0         3069.0           41.0   \n",
       "762589             NaN            NaN            NaN            0.0   \n",
       "762590             NaN            NaN            NaN            0.0   \n",
       "\n",
       "        espera_fav  \n",
       "0           1126.0  \n",
       "1              NaN  \n",
       "2              NaN  \n",
       "3              NaN  \n",
       "4              NaN  \n",
       "...            ...  \n",
       "762586         NaN  \n",
       "762587         NaN  \n",
       "762588         NaN  \n",
       "762589         NaN  \n",
       "762590         NaN  \n",
       "\n",
       "[156398 rows x 118 columns]"
      ]
     },
     "execution_count": 27,
     "metadata": {},
     "output_type": "execute_result"
    }
   ],
   "source": [
    "# Mantém só POA. Deve ser o primeiro passo a ser rodado\n",
    "df = df[df['AP_UFMUN'] == 431490]\n",
    "df.drop(columns=['AP_UFMUN', 'AP_UFDIF', 'AP_UFNACIO', 'fav_AP_UFMUN', 'fav_AP_UFDIF', 'fav_AP_UFNACIO'])"
   ]
  },
  {
   "cell_type": "markdown",
   "id": "efb71656",
   "metadata": {},
   "source": [
    "# Tratamento de Dados"
   ]
  },
  {
   "cell_type": "code",
   "execution_count": 28,
   "id": "cec06454",
   "metadata": {},
   "outputs": [],
   "source": [
    "df_espera = pd.DataFrame()\n",
    "\n",
    "# Pergunta 1 e 2\n",
    "df_espera['data_primeira_dialise']      = df['ATD_DTPDR']\n",
    "df_espera['cronico']                    = df['Cronico']\n",
    "df_espera['data_atendimento_dialitico'] = df['AP_CMP']\n",
    "df_espera['obito']                      = df['AP_OBITO']\n",
    "df_espera['data_atendimento_fav']       = df['fav_AP_CMP']\n",
    "df_espera.sample(10)\n",
    "\n",
    "# Pergunta 3\n",
    "df_espera['genero'] = df['AP_SEXO']\n",
    "df_espera['idade'] = df['AP_NUIDADE']\n",
    "\n",
    "# Pergunta 4\n",
    "df_espera['hospital'] = df['fav_AP_CODUNI']"
   ]
  },
  {
   "cell_type": "code",
   "execution_count": 29,
   "id": "4b0159e7",
   "metadata": {},
   "outputs": [
    {
     "name": "stderr",
     "output_type": "stream",
     "text": [
      "C:\\Users\\Marnie\\AppData\\Local\\Temp\\ipykernel_17740\\2896329900.py:2: UserWarning:\n",
      "\n",
      "Boolean Series key will be reindexed to match DataFrame index.\n",
      "\n"
     ]
    },
    {
     "data": {
      "text/html": [
       "<div>\n",
       "<style scoped>\n",
       "    .dataframe tbody tr th:only-of-type {\n",
       "        vertical-align: middle;\n",
       "    }\n",
       "\n",
       "    .dataframe tbody tr th {\n",
       "        vertical-align: top;\n",
       "    }\n",
       "\n",
       "    .dataframe thead th {\n",
       "        text-align: right;\n",
       "    }\n",
       "</style>\n",
       "<table border=\"1\" class=\"dataframe\">\n",
       "  <thead>\n",
       "    <tr style=\"text-align: right;\">\n",
       "      <th></th>\n",
       "      <th>data_primeira_dialise</th>\n",
       "      <th>cronico</th>\n",
       "      <th>data_atendimento_dialitico</th>\n",
       "      <th>obito</th>\n",
       "      <th>data_atendimento_fav</th>\n",
       "      <th>genero</th>\n",
       "      <th>idade</th>\n",
       "      <th>hospital</th>\n",
       "    </tr>\n",
       "  </thead>\n",
       "  <tbody>\n",
       "    <tr>\n",
       "      <th>727778</th>\n",
       "      <td>2024-05-16</td>\n",
       "      <td>agudo</td>\n",
       "      <td>2024-07-01</td>\n",
       "      <td>1</td>\n",
       "      <td>2018-04-01</td>\n",
       "      <td>F</td>\n",
       "      <td>36</td>\n",
       "      <td>2266474.0</td>\n",
       "    </tr>\n",
       "    <tr>\n",
       "      <th>266106</th>\n",
       "      <td>2008-09-16</td>\n",
       "      <td>repetido</td>\n",
       "      <td>2018-05-01</td>\n",
       "      <td>0</td>\n",
       "      <td>2020-09-01</td>\n",
       "      <td>F</td>\n",
       "      <td>65</td>\n",
       "      <td>2262460.0</td>\n",
       "    </tr>\n",
       "    <tr>\n",
       "      <th>62494</th>\n",
       "      <td>2013-06-09</td>\n",
       "      <td>repetido</td>\n",
       "      <td>2015-06-01</td>\n",
       "      <td>0</td>\n",
       "      <td>NaN</td>\n",
       "      <td>F</td>\n",
       "      <td>75</td>\n",
       "      <td>NaN</td>\n",
       "    </tr>\n",
       "    <tr>\n",
       "      <th>107492</th>\n",
       "      <td>2009-05-29</td>\n",
       "      <td>repetido</td>\n",
       "      <td>2016-02-01</td>\n",
       "      <td>0</td>\n",
       "      <td>2015-04-01</td>\n",
       "      <td>M</td>\n",
       "      <td>70</td>\n",
       "      <td>2237253.0</td>\n",
       "    </tr>\n",
       "    <tr>\n",
       "      <th>7956</th>\n",
       "      <td>2011-09-24</td>\n",
       "      <td>repetido</td>\n",
       "      <td>2014-09-01</td>\n",
       "      <td>0</td>\n",
       "      <td>NaN</td>\n",
       "      <td>M</td>\n",
       "      <td>58</td>\n",
       "      <td>NaN</td>\n",
       "    </tr>\n",
       "    <tr>\n",
       "      <th>575965</th>\n",
       "      <td>2011-05-30</td>\n",
       "      <td>repetido</td>\n",
       "      <td>2022-08-01</td>\n",
       "      <td>0</td>\n",
       "      <td>NaN</td>\n",
       "      <td>M</td>\n",
       "      <td>55</td>\n",
       "      <td>NaN</td>\n",
       "    </tr>\n",
       "    <tr>\n",
       "      <th>217535</th>\n",
       "      <td>2000-05-29</td>\n",
       "      <td>repetido</td>\n",
       "      <td>2017-09-01</td>\n",
       "      <td>0</td>\n",
       "      <td>NaN</td>\n",
       "      <td>M</td>\n",
       "      <td>58</td>\n",
       "      <td>NaN</td>\n",
       "    </tr>\n",
       "    <tr>\n",
       "      <th>217487</th>\n",
       "      <td>1999-08-01</td>\n",
       "      <td>repetido</td>\n",
       "      <td>2017-09-01</td>\n",
       "      <td>0</td>\n",
       "      <td>NaN</td>\n",
       "      <td>M</td>\n",
       "      <td>58</td>\n",
       "      <td>NaN</td>\n",
       "    </tr>\n",
       "    <tr>\n",
       "      <th>398181</th>\n",
       "      <td>2017-11-18</td>\n",
       "      <td>repetido</td>\n",
       "      <td>2020-03-01</td>\n",
       "      <td>0</td>\n",
       "      <td>2018-01-01</td>\n",
       "      <td>F</td>\n",
       "      <td>35</td>\n",
       "      <td>2237601.0</td>\n",
       "    </tr>\n",
       "    <tr>\n",
       "      <th>55940</th>\n",
       "      <td>2005-06-23</td>\n",
       "      <td>repetido</td>\n",
       "      <td>2015-05-01</td>\n",
       "      <td>0</td>\n",
       "      <td>NaN</td>\n",
       "      <td>M</td>\n",
       "      <td>64</td>\n",
       "      <td>NaN</td>\n",
       "    </tr>\n",
       "  </tbody>\n",
       "</table>\n",
       "</div>"
      ],
      "text/plain": [
       "       data_primeira_dialise   cronico data_atendimento_dialitico  obito  \\\n",
       "727778            2024-05-16     agudo                 2024-07-01      1   \n",
       "266106            2008-09-16  repetido                 2018-05-01      0   \n",
       "62494             2013-06-09  repetido                 2015-06-01      0   \n",
       "107492            2009-05-29  repetido                 2016-02-01      0   \n",
       "7956              2011-09-24  repetido                 2014-09-01      0   \n",
       "575965            2011-05-30  repetido                 2022-08-01      0   \n",
       "217535            2000-05-29  repetido                 2017-09-01      0   \n",
       "217487            1999-08-01  repetido                 2017-09-01      0   \n",
       "398181            2017-11-18  repetido                 2020-03-01      0   \n",
       "55940             2005-06-23  repetido                 2015-05-01      0   \n",
       "\n",
       "       data_atendimento_fav genero  idade   hospital  \n",
       "727778           2018-04-01      F     36  2266474.0  \n",
       "266106           2020-09-01      F     65  2262460.0  \n",
       "62494                   NaN      F     75        NaN  \n",
       "107492           2015-04-01      M     70  2237253.0  \n",
       "7956                    NaN      M     58        NaN  \n",
       "575965                  NaN      M     55        NaN  \n",
       "217535                  NaN      M     58        NaN  \n",
       "217487                  NaN      M     58        NaN  \n",
       "398181           2018-01-01      F     35  2237601.0  \n",
       "55940                   NaN      M     64        NaN  "
      ]
     },
     "execution_count": 29,
     "metadata": {},
     "output_type": "execute_result"
    }
   ],
   "source": [
    "# Para os casos de morte, podemos desconsiderar o tempo de espera (?)\n",
    "df_espera_mortos_validos = df_espera[df_espera.obito == 1][df_espera.data_atendimento_fav.notna()]\n",
    "\n",
    "# Remover todos os mortos\n",
    "df_espera = df_espera[df_espera.obito != 1]\n",
    "\n",
    "# Inserir apenas falecidos válidos\n",
    "df_espera = pd.concat([df_espera, df_espera_mortos_validos])\n",
    "df_espera.sample(10)"
   ]
  },
  {
   "cell_type": "code",
   "execution_count": 30,
   "id": "0e00c490",
   "metadata": {},
   "outputs": [
    {
     "data": {
      "text/html": [
       "<div>\n",
       "<style scoped>\n",
       "    .dataframe tbody tr th:only-of-type {\n",
       "        vertical-align: middle;\n",
       "    }\n",
       "\n",
       "    .dataframe tbody tr th {\n",
       "        vertical-align: top;\n",
       "    }\n",
       "\n",
       "    .dataframe thead th {\n",
       "        text-align: right;\n",
       "    }\n",
       "</style>\n",
       "<table border=\"1\" class=\"dataframe\">\n",
       "  <thead>\n",
       "    <tr style=\"text-align: right;\">\n",
       "      <th></th>\n",
       "      <th>data_primeira_dialise</th>\n",
       "      <th>cronico</th>\n",
       "      <th>data_atendimento_dialitico</th>\n",
       "      <th>obito</th>\n",
       "      <th>data_atendimento_fav</th>\n",
       "      <th>genero</th>\n",
       "      <th>idade</th>\n",
       "      <th>hospital</th>\n",
       "    </tr>\n",
       "  </thead>\n",
       "  <tbody>\n",
       "    <tr>\n",
       "      <th>602214</th>\n",
       "      <td>2022-12-22</td>\n",
       "      <td>agudo</td>\n",
       "      <td>2022-12-01</td>\n",
       "      <td>0</td>\n",
       "      <td>NaN</td>\n",
       "      <td>F</td>\n",
       "      <td>75</td>\n",
       "      <td>NaN</td>\n",
       "    </tr>\n",
       "    <tr>\n",
       "      <th>497847</th>\n",
       "      <td>2021-06-02</td>\n",
       "      <td>agudo</td>\n",
       "      <td>2021-07-01</td>\n",
       "      <td>0</td>\n",
       "      <td>2021-03-01</td>\n",
       "      <td>M</td>\n",
       "      <td>64</td>\n",
       "      <td>2231069.0</td>\n",
       "    </tr>\n",
       "    <tr>\n",
       "      <th>642824</th>\n",
       "      <td>2023-05-26</td>\n",
       "      <td>agudo</td>\n",
       "      <td>2023-06-01</td>\n",
       "      <td>0</td>\n",
       "      <td>NaN</td>\n",
       "      <td>M</td>\n",
       "      <td>84</td>\n",
       "      <td>NaN</td>\n",
       "    </tr>\n",
       "    <tr>\n",
       "      <th>540848</th>\n",
       "      <td>2022-02-15</td>\n",
       "      <td>agudo</td>\n",
       "      <td>2022-02-01</td>\n",
       "      <td>0</td>\n",
       "      <td>2017-08-01</td>\n",
       "      <td>F</td>\n",
       "      <td>48</td>\n",
       "      <td>2262584.0</td>\n",
       "    </tr>\n",
       "    <tr>\n",
       "      <th>348978</th>\n",
       "      <td>2015-03-11</td>\n",
       "      <td>cronico</td>\n",
       "      <td>2019-07-01</td>\n",
       "      <td>0</td>\n",
       "      <td>NaN</td>\n",
       "      <td>F</td>\n",
       "      <td>49</td>\n",
       "      <td>NaN</td>\n",
       "    </tr>\n",
       "  </tbody>\n",
       "</table>\n",
       "</div>"
      ],
      "text/plain": [
       "       data_primeira_dialise  cronico data_atendimento_dialitico  obito  \\\n",
       "602214            2022-12-22    agudo                 2022-12-01      0   \n",
       "497847            2021-06-02    agudo                 2021-07-01      0   \n",
       "642824            2023-05-26    agudo                 2023-06-01      0   \n",
       "540848            2022-02-15    agudo                 2022-02-01      0   \n",
       "348978            2015-03-11  cronico                 2019-07-01      0   \n",
       "\n",
       "       data_atendimento_fav genero  idade   hospital  \n",
       "602214                  NaN      F     75        NaN  \n",
       "497847           2021-03-01      M     64  2231069.0  \n",
       "642824                  NaN      M     84        NaN  \n",
       "540848           2017-08-01      F     48  2262584.0  \n",
       "348978                  NaN      F     49        NaN  "
      ]
     },
     "execution_count": 30,
     "metadata": {},
     "output_type": "execute_result"
    }
   ],
   "source": [
    "# Priorizar remover repetidos NaN\n",
    "df_espera = df_espera[df_espera.cronico != 'repetido']\n",
    "df_espera.sample(5)"
   ]
  },
  {
   "cell_type": "code",
   "execution_count": 31,
   "id": "9dad058e",
   "metadata": {},
   "outputs": [
    {
     "data": {
      "text/html": [
       "<div>\n",
       "<style scoped>\n",
       "    .dataframe tbody tr th:only-of-type {\n",
       "        vertical-align: middle;\n",
       "    }\n",
       "\n",
       "    .dataframe tbody tr th {\n",
       "        vertical-align: top;\n",
       "    }\n",
       "\n",
       "    .dataframe thead th {\n",
       "        text-align: right;\n",
       "    }\n",
       "</style>\n",
       "<table border=\"1\" class=\"dataframe\">\n",
       "  <thead>\n",
       "    <tr style=\"text-align: right;\">\n",
       "      <th></th>\n",
       "      <th>data_primeira_dialise</th>\n",
       "      <th>cronico</th>\n",
       "      <th>data_atendimento_dialitico</th>\n",
       "      <th>obito</th>\n",
       "      <th>data_atendimento_fav</th>\n",
       "      <th>genero</th>\n",
       "      <th>idade</th>\n",
       "      <th>hospital</th>\n",
       "    </tr>\n",
       "  </thead>\n",
       "  <tbody>\n",
       "    <tr>\n",
       "      <th>2403</th>\n",
       "      <td>2014-04-24</td>\n",
       "      <td>cronico</td>\n",
       "      <td>2014-08-01</td>\n",
       "      <td>0</td>\n",
       "      <td>2014-09-01</td>\n",
       "      <td>F</td>\n",
       "      <td>51</td>\n",
       "      <td>2237598.0</td>\n",
       "    </tr>\n",
       "    <tr>\n",
       "      <th>163354</th>\n",
       "      <td>2016-09-28</td>\n",
       "      <td>cronico</td>\n",
       "      <td>2016-12-01</td>\n",
       "      <td>0</td>\n",
       "      <td>2016-11-01</td>\n",
       "      <td>M</td>\n",
       "      <td>25</td>\n",
       "      <td>2237253.0</td>\n",
       "    </tr>\n",
       "    <tr>\n",
       "      <th>74162</th>\n",
       "      <td>2015-05-07</td>\n",
       "      <td>cronico</td>\n",
       "      <td>2015-08-01</td>\n",
       "      <td>0</td>\n",
       "      <td>2015-07-01</td>\n",
       "      <td>M</td>\n",
       "      <td>59</td>\n",
       "      <td>2262584.0</td>\n",
       "    </tr>\n",
       "    <tr>\n",
       "      <th>123651</th>\n",
       "      <td>2016-02-29</td>\n",
       "      <td>cronico</td>\n",
       "      <td>2016-05-01</td>\n",
       "      <td>0</td>\n",
       "      <td>2016-04-01</td>\n",
       "      <td>M</td>\n",
       "      <td>86</td>\n",
       "      <td>2237598.0</td>\n",
       "    </tr>\n",
       "    <tr>\n",
       "      <th>584590</th>\n",
       "      <td>2022-06-03</td>\n",
       "      <td>cronico</td>\n",
       "      <td>2022-09-01</td>\n",
       "      <td>0</td>\n",
       "      <td>2022-07-01</td>\n",
       "      <td>M</td>\n",
       "      <td>42</td>\n",
       "      <td>2262509.0</td>\n",
       "    </tr>\n",
       "    <tr>\n",
       "      <th>404628</th>\n",
       "      <td>2020-01-16</td>\n",
       "      <td>cronico</td>\n",
       "      <td>2020-04-01</td>\n",
       "      <td>0</td>\n",
       "      <td>2021-01-01</td>\n",
       "      <td>F</td>\n",
       "      <td>58</td>\n",
       "      <td>2262509.0</td>\n",
       "    </tr>\n",
       "    <tr>\n",
       "      <th>374500</th>\n",
       "      <td>2019-08-17</td>\n",
       "      <td>cronico</td>\n",
       "      <td>2019-11-01</td>\n",
       "      <td>0</td>\n",
       "      <td>2019-11-01</td>\n",
       "      <td>M</td>\n",
       "      <td>47</td>\n",
       "      <td>2262509.0</td>\n",
       "    </tr>\n",
       "    <tr>\n",
       "      <th>499221</th>\n",
       "      <td>2021-05-19</td>\n",
       "      <td>cronico</td>\n",
       "      <td>2021-08-01</td>\n",
       "      <td>0</td>\n",
       "      <td>2021-08-01</td>\n",
       "      <td>M</td>\n",
       "      <td>77</td>\n",
       "      <td>2262460.0</td>\n",
       "    </tr>\n",
       "    <tr>\n",
       "      <th>532167</th>\n",
       "      <td>2021-10-07</td>\n",
       "      <td>cronico</td>\n",
       "      <td>2022-01-01</td>\n",
       "      <td>0</td>\n",
       "      <td>2023-07-01</td>\n",
       "      <td>M</td>\n",
       "      <td>77</td>\n",
       "      <td>2237253.0</td>\n",
       "    </tr>\n",
       "    <tr>\n",
       "      <th>141017</th>\n",
       "      <td>2016-05-13</td>\n",
       "      <td>cronico</td>\n",
       "      <td>2016-08-01</td>\n",
       "      <td>0</td>\n",
       "      <td>2017-11-01</td>\n",
       "      <td>F</td>\n",
       "      <td>63</td>\n",
       "      <td>2262584.0</td>\n",
       "    </tr>\n",
       "  </tbody>\n",
       "</table>\n",
       "</div>"
      ],
      "text/plain": [
       "       data_primeira_dialise  cronico data_atendimento_dialitico  obito  \\\n",
       "2403              2014-04-24  cronico                 2014-08-01      0   \n",
       "163354            2016-09-28  cronico                 2016-12-01      0   \n",
       "74162             2015-05-07  cronico                 2015-08-01      0   \n",
       "123651            2016-02-29  cronico                 2016-05-01      0   \n",
       "584590            2022-06-03  cronico                 2022-09-01      0   \n",
       "404628            2020-01-16  cronico                 2020-04-01      0   \n",
       "374500            2019-08-17  cronico                 2019-11-01      0   \n",
       "499221            2021-05-19  cronico                 2021-08-01      0   \n",
       "532167            2021-10-07  cronico                 2022-01-01      0   \n",
       "141017            2016-05-13  cronico                 2016-08-01      0   \n",
       "\n",
       "       data_atendimento_fav genero  idade   hospital  \n",
       "2403             2014-09-01      F     51  2237598.0  \n",
       "163354           2016-11-01      M     25  2237253.0  \n",
       "74162            2015-07-01      M     59  2262584.0  \n",
       "123651           2016-04-01      M     86  2237598.0  \n",
       "584590           2022-07-01      M     42  2262509.0  \n",
       "404628           2021-01-01      F     58  2262509.0  \n",
       "374500           2019-11-01      M     47  2262509.0  \n",
       "499221           2021-08-01      M     77  2262460.0  \n",
       "532167           2023-07-01      M     77  2237253.0  \n",
       "141017           2017-11-01      F     63  2262584.0  "
      ]
     },
     "execution_count": 31,
     "metadata": {},
     "output_type": "execute_result"
    }
   ],
   "source": [
    "# Remover observações que não são agudos e que não tiveram atendimento FAV\n",
    "# Para garantir, vamos remover todos que não tiveram data_primeira_dialise também\n",
    "df_espera = df_espera[df_espera.cronico != 'agudo']\n",
    "df_espera = df_espera[df_espera.data_atendimento_fav.notna()]\n",
    "df_espera = df_espera[df_espera.data_primeira_dialise.notna()]\n",
    "df_espera.sample(10)"
   ]
  },
  {
   "cell_type": "code",
   "execution_count": 32,
   "id": "2eec2b5a",
   "metadata": {},
   "outputs": [
    {
     "data": {
      "text/html": [
       "<div>\n",
       "<style scoped>\n",
       "    .dataframe tbody tr th:only-of-type {\n",
       "        vertical-align: middle;\n",
       "    }\n",
       "\n",
       "    .dataframe tbody tr th {\n",
       "        vertical-align: top;\n",
       "    }\n",
       "\n",
       "    .dataframe thead th {\n",
       "        text-align: right;\n",
       "    }\n",
       "</style>\n",
       "<table border=\"1\" class=\"dataframe\">\n",
       "  <thead>\n",
       "    <tr style=\"text-align: right;\">\n",
       "      <th></th>\n",
       "      <th>data_primeira_dialise</th>\n",
       "      <th>cronico</th>\n",
       "      <th>data_atendimento_dialitico</th>\n",
       "      <th>obito</th>\n",
       "      <th>data_atendimento_fav</th>\n",
       "      <th>genero</th>\n",
       "      <th>idade</th>\n",
       "      <th>hospital</th>\n",
       "      <th>tempo_entre_fav_e_primeira_dialise</th>\n",
       "      <th>tempo_anos</th>\n",
       "    </tr>\n",
       "  </thead>\n",
       "  <tbody>\n",
       "    <tr>\n",
       "      <th>136610</th>\n",
       "      <td>2016-04-19</td>\n",
       "      <td>cronico</td>\n",
       "      <td>2016-07-01</td>\n",
       "      <td>0</td>\n",
       "      <td>2016-08-01</td>\n",
       "      <td>M</td>\n",
       "      <td>57</td>\n",
       "      <td>2262509.0</td>\n",
       "      <td>104</td>\n",
       "      <td>0.284736</td>\n",
       "    </tr>\n",
       "    <tr>\n",
       "      <th>1606</th>\n",
       "      <td>2012-09-25</td>\n",
       "      <td>cronico</td>\n",
       "      <td>2014-08-01</td>\n",
       "      <td>0</td>\n",
       "      <td>2015-06-01</td>\n",
       "      <td>M</td>\n",
       "      <td>41</td>\n",
       "      <td>2262509.0</td>\n",
       "      <td>979</td>\n",
       "      <td>2.680356</td>\n",
       "    </tr>\n",
       "    <tr>\n",
       "      <th>247638</th>\n",
       "      <td>2017-11-03</td>\n",
       "      <td>cronico</td>\n",
       "      <td>2018-02-01</td>\n",
       "      <td>0</td>\n",
       "      <td>2018-08-01</td>\n",
       "      <td>M</td>\n",
       "      <td>55</td>\n",
       "      <td>2262584.0</td>\n",
       "      <td>271</td>\n",
       "      <td>0.741958</td>\n",
       "    </tr>\n",
       "    <tr>\n",
       "      <th>164763</th>\n",
       "      <td>2015-06-24</td>\n",
       "      <td>cronico</td>\n",
       "      <td>2016-12-01</td>\n",
       "      <td>0</td>\n",
       "      <td>2017-07-01</td>\n",
       "      <td>M</td>\n",
       "      <td>72</td>\n",
       "      <td>2237253.0</td>\n",
       "      <td>738</td>\n",
       "      <td>2.020534</td>\n",
       "    </tr>\n",
       "    <tr>\n",
       "      <th>138116</th>\n",
       "      <td>2016-04-13</td>\n",
       "      <td>cronico</td>\n",
       "      <td>2016-07-01</td>\n",
       "      <td>0</td>\n",
       "      <td>2016-10-01</td>\n",
       "      <td>M</td>\n",
       "      <td>74</td>\n",
       "      <td>2262568.0</td>\n",
       "      <td>171</td>\n",
       "      <td>0.468172</td>\n",
       "    </tr>\n",
       "    <tr>\n",
       "      <th>169587</th>\n",
       "      <td>2016-10-13</td>\n",
       "      <td>cronico</td>\n",
       "      <td>2017-01-01</td>\n",
       "      <td>0</td>\n",
       "      <td>2017-01-01</td>\n",
       "      <td>F</td>\n",
       "      <td>49</td>\n",
       "      <td>2262509.0</td>\n",
       "      <td>80</td>\n",
       "      <td>0.219028</td>\n",
       "    </tr>\n",
       "    <tr>\n",
       "      <th>377881</th>\n",
       "      <td>2019-09-28</td>\n",
       "      <td>cronico</td>\n",
       "      <td>2019-12-01</td>\n",
       "      <td>0</td>\n",
       "      <td>2020-03-01</td>\n",
       "      <td>F</td>\n",
       "      <td>67</td>\n",
       "      <td>2262509.0</td>\n",
       "      <td>155</td>\n",
       "      <td>0.424367</td>\n",
       "    </tr>\n",
       "    <tr>\n",
       "      <th>195891</th>\n",
       "      <td>2000-05-10</td>\n",
       "      <td>cronico</td>\n",
       "      <td>2017-05-01</td>\n",
       "      <td>0</td>\n",
       "      <td>2017-05-01</td>\n",
       "      <td>M</td>\n",
       "      <td>68</td>\n",
       "      <td>2237601.0</td>\n",
       "      <td>6200</td>\n",
       "      <td>16.974675</td>\n",
       "    </tr>\n",
       "    <tr>\n",
       "      <th>450371</th>\n",
       "      <td>2020-08-04</td>\n",
       "      <td>cronico</td>\n",
       "      <td>2020-12-01</td>\n",
       "      <td>0</td>\n",
       "      <td>2020-09-01</td>\n",
       "      <td>F</td>\n",
       "      <td>80</td>\n",
       "      <td>2229706.0</td>\n",
       "      <td>28</td>\n",
       "      <td>0.076660</td>\n",
       "    </tr>\n",
       "    <tr>\n",
       "      <th>141017</th>\n",
       "      <td>2016-05-13</td>\n",
       "      <td>cronico</td>\n",
       "      <td>2016-08-01</td>\n",
       "      <td>0</td>\n",
       "      <td>2017-11-01</td>\n",
       "      <td>F</td>\n",
       "      <td>63</td>\n",
       "      <td>2262584.0</td>\n",
       "      <td>537</td>\n",
       "      <td>1.470226</td>\n",
       "    </tr>\n",
       "  </tbody>\n",
       "</table>\n",
       "</div>"
      ],
      "text/plain": [
       "       data_primeira_dialise  cronico data_atendimento_dialitico  obito  \\\n",
       "136610            2016-04-19  cronico                 2016-07-01      0   \n",
       "1606              2012-09-25  cronico                 2014-08-01      0   \n",
       "247638            2017-11-03  cronico                 2018-02-01      0   \n",
       "164763            2015-06-24  cronico                 2016-12-01      0   \n",
       "138116            2016-04-13  cronico                 2016-07-01      0   \n",
       "169587            2016-10-13  cronico                 2017-01-01      0   \n",
       "377881            2019-09-28  cronico                 2019-12-01      0   \n",
       "195891            2000-05-10  cronico                 2017-05-01      0   \n",
       "450371            2020-08-04  cronico                 2020-12-01      0   \n",
       "141017            2016-05-13  cronico                 2016-08-01      0   \n",
       "\n",
       "       data_atendimento_fav genero  idade   hospital  \\\n",
       "136610           2016-08-01      M     57  2262509.0   \n",
       "1606             2015-06-01      M     41  2262509.0   \n",
       "247638           2018-08-01      M     55  2262584.0   \n",
       "164763           2017-07-01      M     72  2237253.0   \n",
       "138116           2016-10-01      M     74  2262568.0   \n",
       "169587           2017-01-01      F     49  2262509.0   \n",
       "377881           2020-03-01      F     67  2262509.0   \n",
       "195891           2017-05-01      M     68  2237601.0   \n",
       "450371           2020-09-01      F     80  2229706.0   \n",
       "141017           2017-11-01      F     63  2262584.0   \n",
       "\n",
       "        tempo_entre_fav_e_primeira_dialise  tempo_anos  \n",
       "136610                                 104    0.284736  \n",
       "1606                                   979    2.680356  \n",
       "247638                                 271    0.741958  \n",
       "164763                                 738    2.020534  \n",
       "138116                                 171    0.468172  \n",
       "169587                                  80    0.219028  \n",
       "377881                                 155    0.424367  \n",
       "195891                                6200   16.974675  \n",
       "450371                                  28    0.076660  \n",
       "141017                                 537    1.470226  "
      ]
     },
     "execution_count": 32,
     "metadata": {},
     "output_type": "execute_result"
    }
   ],
   "source": [
    "# Calcular tempo de espera\n",
    "df_espera['data_atendimento_fav'] = pd.to_datetime(df_espera['data_atendimento_fav'])\n",
    "df_espera['data_primeira_dialise'] = pd.to_datetime(df_espera['data_primeira_dialise'])\n",
    "\n",
    "# Calcular a diferença\n",
    "df_espera['tempo_entre_fav_e_primeira_dialise'] = (\n",
    "    df_espera['data_atendimento_fav'] - df_espera['data_primeira_dialise']\n",
    ").dt.days  # em dias\n",
    "\n",
    "df_espera['tempo_anos'] = df_espera['tempo_entre_fav_e_primeira_dialise'] / 365.25\n",
    "\n",
    "# Remover esperas negativas\n",
    "df_espera = df_espera[df_espera['tempo_entre_fav_e_primeira_dialise'] > 0]\n",
    "df_espera.sample(10)"
   ]
  },
  {
   "cell_type": "code",
   "execution_count": 33,
   "id": "0dad0711",
   "metadata": {},
   "outputs": [],
   "source": [
    "# Manter dados apenas a partir de janeiro de 2014 devido criação do dataset\n",
    "df_espera['data_atendimento_dialitico'] = pd.to_datetime(df_espera['data_atendimento_dialitico'])\n",
    "df_espera['data_atendimento_fav'] = pd.to_datetime(df_espera['data_atendimento_fav'])\n",
    "df_espera['data_primeira_dialise'] = pd.to_datetime(df_espera['data_primeira_dialise'])\n",
    "\n",
    "df_espera = df_espera[\n",
    "        (df_espera['data_atendimento_dialitico'] >= '2014-01-01') &\n",
    "        (df_espera['data_atendimento_fav'] >= '2014-01-01') &\n",
    "        (df_espera['data_primeira_dialise'] >= '2014-01-01') ]"
   ]
  },
  {
   "cell_type": "code",
   "execution_count": 34,
   "id": "e3c54485",
   "metadata": {},
   "outputs": [],
   "source": [
    "df_perfil = df_espera[(df_espera.genero.notna()) & (df_espera.idade.notna())]\n",
    "\n",
    "df_perfil['perfil_paciente'] = pd.cut(\n",
    "    df_perfil['idade'],\n",
    "    bins=[0, 18, 40, 60, 150],\n",
    "    labels=['Jovem', 'Adulto Jovem', 'Meia Idade', 'Idoso']\n",
    ")\n",
    "df_perfil['ano_primeira_dialise'] = pd.to_datetime(df_perfil['data_primeira_dialise']).dt.year"
   ]
  },
  {
   "cell_type": "code",
   "execution_count": 35,
   "id": "f0f1c7d8",
   "metadata": {},
   "outputs": [],
   "source": [
    "df_hospital = df_espera[df_espera.hospital.notna()]\n",
    "df_hospital.sample()\n",
    "df_hospital['hospital'] = df_hospital['hospital'].astype(str)\n",
    "\n",
    "df_hospital['ano_primeira_dialise'] = pd.to_datetime(df_hospital['data_primeira_dialise']).dt.year\n",
    "# Criar coluna de ano\n",
    "df_hospital['ano_primeira_dialise'] = pd.to_datetime(df_hospital['data_primeira_dialise']).dt.year"
   ]
  },
  {
   "cell_type": "markdown",
   "id": "380d85f9",
   "metadata": {},
   "source": [
    "# 1) Após o início da diálise crônica, qual é o tempo médio até a confecção da Fístula Arterial Venosa (FAV) nos hospitais de POA/RS?"
   ]
  },
  {
   "cell_type": "code",
   "execution_count": 36,
   "id": "af5352cf",
   "metadata": {},
   "outputs": [
    {
     "data": {
      "application/vnd.plotly.v1+json": {
       "config": {
        "plotlyServerURL": "https://plot.ly"
       },
       "data": [
        {
         "bingroup": "x",
         "hovertemplate": "Tempo de espera (dias)=%{x}<br>count=%{y}<extra></extra>",
         "legendgroup": "",
         "marker": {
          "color": "#0077B6",
          "pattern": {
           "shape": ""
          }
         },
         "name": "",
         "nbinsx": 394,
         "orientation": "v",
         "showlegend": false,
         "type": "histogram",
         "x": {
          "bdata": "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",
          "dtype": "i2"
         },
         "xaxis": "x",
         "yaxis": "y"
        }
       ],
       "layout": {
        "bargap": 0.05,
        "barmode": "relative",
        "font": {
         "color": "#023E8A"
        },
        "legend": {
         "tracegroupgap": 0
        },
        "paper_bgcolor": "#FFFFFF",
        "plot_bgcolor": "#FFFFFF",
        "template": {
         "data": {
          "bar": [
           {
            "error_x": {
             "color": "#2a3f5f"
            },
            "error_y": {
             "color": "#2a3f5f"
            },
            "marker": {
             "line": {
              "color": "white",
              "width": 0.5
             },
             "pattern": {
              "fillmode": "overlay",
              "size": 10,
              "solidity": 0.2
             }
            },
            "type": "bar"
           }
          ],
          "barpolar": [
           {
            "marker": {
             "line": {
              "color": "white",
              "width": 0.5
             },
             "pattern": {
              "fillmode": "overlay",
              "size": 10,
              "solidity": 0.2
             }
            },
            "type": "barpolar"
           }
          ],
          "carpet": [
           {
            "aaxis": {
             "endlinecolor": "#2a3f5f",
             "gridcolor": "#C8D4E3",
             "linecolor": "#C8D4E3",
             "minorgridcolor": "#C8D4E3",
             "startlinecolor": "#2a3f5f"
            },
            "baxis": {
             "endlinecolor": "#2a3f5f",
             "gridcolor": "#C8D4E3",
             "linecolor": "#C8D4E3",
             "minorgridcolor": "#C8D4E3",
             "startlinecolor": "#2a3f5f"
            },
            "type": "carpet"
           }
          ],
          "choropleth": [
           {
            "colorbar": {
             "outlinewidth": 0,
             "ticks": ""
            },
            "type": "choropleth"
           }
          ],
          "contour": [
           {
            "colorbar": {
             "outlinewidth": 0,
             "ticks": ""
            },
            "colorscale": [
             [
              0,
              "#0d0887"
             ],
             [
              0.1111111111111111,
              "#46039f"
             ],
             [
              0.2222222222222222,
              "#7201a8"
             ],
             [
              0.3333333333333333,
              "#9c179e"
             ],
             [
              0.4444444444444444,
              "#bd3786"
             ],
             [
              0.5555555555555556,
              "#d8576b"
             ],
             [
              0.6666666666666666,
              "#ed7953"
             ],
             [
              0.7777777777777778,
              "#fb9f3a"
             ],
             [
              0.8888888888888888,
              "#fdca26"
             ],
             [
              1,
              "#f0f921"
             ]
            ],
            "type": "contour"
           }
          ],
          "contourcarpet": [
           {
            "colorbar": {
             "outlinewidth": 0,
             "ticks": ""
            },
            "type": "contourcarpet"
           }
          ],
          "heatmap": [
           {
            "colorbar": {
             "outlinewidth": 0,
             "ticks": ""
            },
            "colorscale": [
             [
              0,
              "#0d0887"
             ],
             [
              0.1111111111111111,
              "#46039f"
             ],
             [
              0.2222222222222222,
              "#7201a8"
             ],
             [
              0.3333333333333333,
              "#9c179e"
             ],
             [
              0.4444444444444444,
              "#bd3786"
             ],
             [
              0.5555555555555556,
              "#d8576b"
             ],
             [
              0.6666666666666666,
              "#ed7953"
             ],
             [
              0.7777777777777778,
              "#fb9f3a"
             ],
             [
              0.8888888888888888,
              "#fdca26"
             ],
             [
              1,
              "#f0f921"
             ]
            ],
            "type": "heatmap"
           }
          ],
          "histogram": [
           {
            "marker": {
             "pattern": {
              "fillmode": "overlay",
              "size": 10,
              "solidity": 0.2
             }
            },
            "type": "histogram"
           }
          ],
          "histogram2d": [
           {
            "colorbar": {
             "outlinewidth": 0,
             "ticks": ""
            },
            "colorscale": [
             [
              0,
              "#0d0887"
             ],
             [
              0.1111111111111111,
              "#46039f"
             ],
             [
              0.2222222222222222,
              "#7201a8"
             ],
             [
              0.3333333333333333,
              "#9c179e"
             ],
             [
              0.4444444444444444,
              "#bd3786"
             ],
             [
              0.5555555555555556,
              "#d8576b"
             ],
             [
              0.6666666666666666,
              "#ed7953"
             ],
             [
              0.7777777777777778,
              "#fb9f3a"
             ],
             [
              0.8888888888888888,
              "#fdca26"
             ],
             [
              1,
              "#f0f921"
             ]
            ],
            "type": "histogram2d"
           }
          ],
          "histogram2dcontour": [
           {
            "colorbar": {
             "outlinewidth": 0,
             "ticks": ""
            },
            "colorscale": [
             [
              0,
              "#0d0887"
             ],
             [
              0.1111111111111111,
              "#46039f"
             ],
             [
              0.2222222222222222,
              "#7201a8"
             ],
             [
              0.3333333333333333,
              "#9c179e"
             ],
             [
              0.4444444444444444,
              "#bd3786"
             ],
             [
              0.5555555555555556,
              "#d8576b"
             ],
             [
              0.6666666666666666,
              "#ed7953"
             ],
             [
              0.7777777777777778,
              "#fb9f3a"
             ],
             [
              0.8888888888888888,
              "#fdca26"
             ],
             [
              1,
              "#f0f921"
             ]
            ],
            "type": "histogram2dcontour"
           }
          ],
          "mesh3d": [
           {
            "colorbar": {
             "outlinewidth": 0,
             "ticks": ""
            },
            "type": "mesh3d"
           }
          ],
          "parcoords": [
           {
            "line": {
             "colorbar": {
              "outlinewidth": 0,
              "ticks": ""
             }
            },
            "type": "parcoords"
           }
          ],
          "pie": [
           {
            "automargin": true,
            "type": "pie"
           }
          ],
          "scatter": [
           {
            "fillpattern": {
             "fillmode": "overlay",
             "size": 10,
             "solidity": 0.2
            },
            "type": "scatter"
           }
          ],
          "scatter3d": [
           {
            "line": {
             "colorbar": {
              "outlinewidth": 0,
              "ticks": ""
             }
            },
            "marker": {
             "colorbar": {
              "outlinewidth": 0,
              "ticks": ""
             }
            },
            "type": "scatter3d"
           }
          ],
          "scattercarpet": [
           {
            "marker": {
             "colorbar": {
              "outlinewidth": 0,
              "ticks": ""
             }
            },
            "type": "scattercarpet"
           }
          ],
          "scattergeo": [
           {
            "marker": {
             "colorbar": {
              "outlinewidth": 0,
              "ticks": ""
             }
            },
            "type": "scattergeo"
           }
          ],
          "scattergl": [
           {
            "marker": {
             "colorbar": {
              "outlinewidth": 0,
              "ticks": ""
             }
            },
            "type": "scattergl"
           }
          ],
          "scattermap": [
           {
            "marker": {
             "colorbar": {
              "outlinewidth": 0,
              "ticks": ""
             }
            },
            "type": "scattermap"
           }
          ],
          "scattermapbox": [
           {
            "marker": {
             "colorbar": {
              "outlinewidth": 0,
              "ticks": ""
             }
            },
            "type": "scattermapbox"
           }
          ],
          "scatterpolar": [
           {
            "marker": {
             "colorbar": {
              "outlinewidth": 0,
              "ticks": ""
             }
            },
            "type": "scatterpolar"
           }
          ],
          "scatterpolargl": [
           {
            "marker": {
             "colorbar": {
              "outlinewidth": 0,
              "ticks": ""
             }
            },
            "type": "scatterpolargl"
           }
          ],
          "scatterternary": [
           {
            "marker": {
             "colorbar": {
              "outlinewidth": 0,
              "ticks": ""
             }
            },
            "type": "scatterternary"
           }
          ],
          "surface": [
           {
            "colorbar": {
             "outlinewidth": 0,
             "ticks": ""
            },
            "colorscale": [
             [
              0,
              "#0d0887"
             ],
             [
              0.1111111111111111,
              "#46039f"
             ],
             [
              0.2222222222222222,
              "#7201a8"
             ],
             [
              0.3333333333333333,
              "#9c179e"
             ],
             [
              0.4444444444444444,
              "#bd3786"
             ],
             [
              0.5555555555555556,
              "#d8576b"
             ],
             [
              0.6666666666666666,
              "#ed7953"
             ],
             [
              0.7777777777777778,
              "#fb9f3a"
             ],
             [
              0.8888888888888888,
              "#fdca26"
             ],
             [
              1,
              "#f0f921"
             ]
            ],
            "type": "surface"
           }
          ],
          "table": [
           {
            "cells": {
             "fill": {
              "color": "#EBF0F8"
             },
             "line": {
              "color": "white"
             }
            },
            "header": {
             "fill": {
              "color": "#C8D4E3"
             },
             "line": {
              "color": "white"
             }
            },
            "type": "table"
           }
          ]
         },
         "layout": {
          "annotationdefaults": {
           "arrowcolor": "#2a3f5f",
           "arrowhead": 0,
           "arrowwidth": 1
          },
          "autotypenumbers": "strict",
          "coloraxis": {
           "colorbar": {
            "outlinewidth": 0,
            "ticks": ""
           }
          },
          "colorscale": {
           "diverging": [
            [
             0,
             "#8e0152"
            ],
            [
             0.1,
             "#c51b7d"
            ],
            [
             0.2,
             "#de77ae"
            ],
            [
             0.3,
             "#f1b6da"
            ],
            [
             0.4,
             "#fde0ef"
            ],
            [
             0.5,
             "#f7f7f7"
            ],
            [
             0.6,
             "#e6f5d0"
            ],
            [
             0.7,
             "#b8e186"
            ],
            [
             0.8,
             "#7fbc41"
            ],
            [
             0.9,
             "#4d9221"
            ],
            [
             1,
             "#276419"
            ]
           ],
           "sequential": [
            [
             0,
             "#0d0887"
            ],
            [
             0.1111111111111111,
             "#46039f"
            ],
            [
             0.2222222222222222,
             "#7201a8"
            ],
            [
             0.3333333333333333,
             "#9c179e"
            ],
            [
             0.4444444444444444,
             "#bd3786"
            ],
            [
             0.5555555555555556,
             "#d8576b"
            ],
            [
             0.6666666666666666,
             "#ed7953"
            ],
            [
             0.7777777777777778,
             "#fb9f3a"
            ],
            [
             0.8888888888888888,
             "#fdca26"
            ],
            [
             1,
             "#f0f921"
            ]
           ],
           "sequentialminus": [
            [
             0,
             "#0d0887"
            ],
            [
             0.1111111111111111,
             "#46039f"
            ],
            [
             0.2222222222222222,
             "#7201a8"
            ],
            [
             0.3333333333333333,
             "#9c179e"
            ],
            [
             0.4444444444444444,
             "#bd3786"
            ],
            [
             0.5555555555555556,
             "#d8576b"
            ],
            [
             0.6666666666666666,
             "#ed7953"
            ],
            [
             0.7777777777777778,
             "#fb9f3a"
            ],
            [
             0.8888888888888888,
             "#fdca26"
            ],
            [
             1,
             "#f0f921"
            ]
           ]
          },
          "colorway": [
           "#636efa",
           "#EF553B",
           "#00cc96",
           "#ab63fa",
           "#FFA15A",
           "#19d3f3",
           "#FF6692",
           "#B6E880",
           "#FF97FF",
           "#FECB52"
          ],
          "font": {
           "color": "#2a3f5f"
          },
          "geo": {
           "bgcolor": "white",
           "lakecolor": "white",
           "landcolor": "white",
           "showlakes": true,
           "showland": true,
           "subunitcolor": "#C8D4E3"
          },
          "hoverlabel": {
           "align": "left"
          },
          "hovermode": "closest",
          "mapbox": {
           "style": "light"
          },
          "paper_bgcolor": "white",
          "plot_bgcolor": "white",
          "polar": {
           "angularaxis": {
            "gridcolor": "#EBF0F8",
            "linecolor": "#EBF0F8",
            "ticks": ""
           },
           "bgcolor": "white",
           "radialaxis": {
            "gridcolor": "#EBF0F8",
            "linecolor": "#EBF0F8",
            "ticks": ""
           }
          },
          "scene": {
           "xaxis": {
            "backgroundcolor": "white",
            "gridcolor": "#DFE8F3",
            "gridwidth": 2,
            "linecolor": "#EBF0F8",
            "showbackground": true,
            "ticks": "",
            "zerolinecolor": "#EBF0F8"
           },
           "yaxis": {
            "backgroundcolor": "white",
            "gridcolor": "#DFE8F3",
            "gridwidth": 2,
            "linecolor": "#EBF0F8",
            "showbackground": true,
            "ticks": "",
            "zerolinecolor": "#EBF0F8"
           },
           "zaxis": {
            "backgroundcolor": "white",
            "gridcolor": "#DFE8F3",
            "gridwidth": 2,
            "linecolor": "#EBF0F8",
            "showbackground": true,
            "ticks": "",
            "zerolinecolor": "#EBF0F8"
           }
          },
          "shapedefaults": {
           "line": {
            "color": "#2a3f5f"
           }
          },
          "ternary": {
           "aaxis": {
            "gridcolor": "#DFE8F3",
            "linecolor": "#A2B1C6",
            "ticks": ""
           },
           "baxis": {
            "gridcolor": "#DFE8F3",
            "linecolor": "#A2B1C6",
            "ticks": ""
           },
           "bgcolor": "white",
           "caxis": {
            "gridcolor": "#DFE8F3",
            "linecolor": "#A2B1C6",
            "ticks": ""
           }
          },
          "title": {
           "x": 0.05
          },
          "xaxis": {
           "automargin": true,
           "gridcolor": "#EBF0F8",
           "linecolor": "#EBF0F8",
           "ticks": "",
           "title": {
            "standoff": 15
           },
           "zerolinecolor": "#EBF0F8",
           "zerolinewidth": 2
          },
          "yaxis": {
           "automargin": true,
           "gridcolor": "#EBF0F8",
           "linecolor": "#EBF0F8",
           "ticks": "",
           "title": {
            "standoff": 15
           },
           "zerolinecolor": "#EBF0F8",
           "zerolinewidth": 2
          }
         }
        },
        "title": {
         "font": {
          "color": "#023E8A",
          "size": 18
         },
         "text": "Distribuição do Tempo de Espera para Atendimento no FAV"
        },
        "xaxis": {
         "anchor": "y",
         "domain": [
          0,
          1
         ],
         "gridcolor": "#F8F9FA",
         "linecolor": "#6C757D",
         "tickfont": {
          "color": "#023E8A"
         },
         "title": {
          "text": "Tempo de espera (dias)"
         }
        },
        "yaxis": {
         "anchor": "x",
         "domain": [
          0,
          1
         ],
         "gridcolor": "#F8F9FA",
         "linecolor": "#6C757D",
         "tickfont": {
          "color": "#023E8A"
         },
         "title": {
          "text": "Quantidade de pessoas"
         }
        }
       }
      }
     },
     "metadata": {},
     "output_type": "display_data"
    }
   ],
   "source": [
    "# Gráfico de tempo de espera\n",
    "max_tempo = df_espera['tempo_entre_fav_e_primeira_dialise'].max()\n",
    "bins = list(range(0, int(max_tempo) + 10, 10))\n",
    "\n",
    "# Plotar histograma\n",
    "fig1_p1 = px.histogram(\n",
    "    df_espera,\n",
    "    x='tempo_entre_fav_e_primeira_dialise',\n",
    "    nbins=len(bins),\n",
    "    title='Distribuição do Tempo de Espera para Atendimento no FAV',\n",
    "    labels={\n",
    "        'tempo_entre_fav_e_primeira_dialise': 'Tempo de espera (dias)',\n",
    "        'count': 'Quantidade de pessoas'\n",
    "    },\n",
    "    color_discrete_sequence=[paleta['principal']]  # Cor das barras\n",
    ")\n",
    "\n",
    "# Layout personalizado com a paleta\n",
    "fig1_p1.update_layout(\n",
    "    xaxis_title='Tempo de espera (dias)',\n",
    "    yaxis_title='Quantidade de pessoas',\n",
    "    bargap=0.05,\n",
    "    template='plotly_white',\n",
    "    plot_bgcolor=paleta['fundo'],\n",
    "    paper_bgcolor=paleta['fundo'],\n",
    "    font=dict(color=paleta['quarto']),\n",
    "    title_font=dict(size=18, color=paleta['quarto']),\n",
    "    xaxis=dict(\n",
    "        gridcolor=paleta['quinto'],\n",
    "        linecolor=paleta['texto'],\n",
    "        tickfont=dict(color=paleta['quarto'])\n",
    "    ),\n",
    "    yaxis=dict(\n",
    "        gridcolor=paleta['quinto'],\n",
    "        linecolor=paleta['texto'],\n",
    "        tickfont=dict(color=paleta['quarto'])\n",
    "    )\n",
    ")\n",
    "\n",
    "fig1_p1.show()"
   ]
  },
  {
   "cell_type": "code",
   "execution_count": 37,
   "id": "263aa07d",
   "metadata": {},
   "outputs": [
    {
     "data": {
      "application/vnd.plotly.v1+json": {
       "config": {
        "plotlyServerURL": "https://plot.ly"
       },
       "data": [
        {
         "hovertemplate": "Ano da Primeira Diálise=%{x}<br>Tempo médio de espera (dias)=%{marker.color}<extra></extra>",
         "legendgroup": "",
         "marker": {
          "color": {
           "bdata": "juM4juN/gkCaaKKJJpJ0QF/ohV7ohXZAtJfQXkLjckB5K/scUnNrQJT4GSV+1m1AF1100UUfb0CKndiJnThoQMXPKPEzGmlAVVVVVVXxY0BvZZ9DaoJYQA==",
           "dtype": "f8"
          },
          "coloraxis": "coloraxis",
          "pattern": {
           "shape": ""
          }
         },
         "name": "",
         "orientation": "v",
         "showlegend": false,
         "text": {
          "bdata": "juM4juN/gkCaaKKJJpJ0QF/ohV7ohXZAtJfQXkLjckB5K/scUnNrQJT4GSV+1m1AF1100UUfb0CKndiJnThoQMXPKPEzGmlAVVVVVVXxY0BvZZ9DaoJYQA==",
          "dtype": "f8"
         },
         "textposition": "outside",
         "texttemplate": "%{text:.0f} dias",
         "type": "bar",
         "x": {
          "bdata": "3gcAAN8HAADgBwAA4QcAAOIHAADjBwAA5AcAAOUHAADmBwAA5wcAAOgHAAA=",
          "dtype": "i4"
         },
         "xaxis": "x",
         "y": {
          "bdata": "juM4juN/gkCaaKKJJpJ0QF/ohV7ohXZAtJfQXkLjckB5K/scUnNrQJT4GSV+1m1AF1100UUfb0CKndiJnThoQMXPKPEzGmlAVVVVVVXxY0BvZZ9DaoJYQA==",
          "dtype": "f8"
         },
         "yaxis": "y"
        }
       ],
       "layout": {
        "barmode": "relative",
        "coloraxis": {
         "colorbar": {
          "title": {
           "text": "Tempo médio de espera (dias)"
          }
         },
         "colorscale": [
          [
           0,
           "rgb(247,251,255)"
          ],
          [
           0.125,
           "rgb(222,235,247)"
          ],
          [
           0.25,
           "rgb(198,219,239)"
          ],
          [
           0.375,
           "rgb(158,202,225)"
          ],
          [
           0.5,
           "rgb(107,174,214)"
          ],
          [
           0.625,
           "rgb(66,146,198)"
          ],
          [
           0.75,
           "rgb(33,113,181)"
          ],
          [
           0.875,
           "rgb(8,81,156)"
          ],
          [
           1,
           "rgb(8,48,107)"
          ]
         ]
        },
        "height": 500,
        "legend": {
         "tracegroupgap": 0
        },
        "plot_bgcolor": "white",
        "template": {
         "data": {
          "bar": [
           {
            "error_x": {
             "color": "#2a3f5f"
            },
            "error_y": {
             "color": "#2a3f5f"
            },
            "marker": {
             "line": {
              "color": "#E5ECF6",
              "width": 0.5
             },
             "pattern": {
              "fillmode": "overlay",
              "size": 10,
              "solidity": 0.2
             }
            },
            "type": "bar"
           }
          ],
          "barpolar": [
           {
            "marker": {
             "line": {
              "color": "#E5ECF6",
              "width": 0.5
             },
             "pattern": {
              "fillmode": "overlay",
              "size": 10,
              "solidity": 0.2
             }
            },
            "type": "barpolar"
           }
          ],
          "carpet": [
           {
            "aaxis": {
             "endlinecolor": "#2a3f5f",
             "gridcolor": "white",
             "linecolor": "white",
             "minorgridcolor": "white",
             "startlinecolor": "#2a3f5f"
            },
            "baxis": {
             "endlinecolor": "#2a3f5f",
             "gridcolor": "white",
             "linecolor": "white",
             "minorgridcolor": "white",
             "startlinecolor": "#2a3f5f"
            },
            "type": "carpet"
           }
          ],
          "choropleth": [
           {
            "colorbar": {
             "outlinewidth": 0,
             "ticks": ""
            },
            "type": "choropleth"
           }
          ],
          "contour": [
           {
            "colorbar": {
             "outlinewidth": 0,
             "ticks": ""
            },
            "colorscale": [
             [
              0,
              "#0d0887"
             ],
             [
              0.1111111111111111,
              "#46039f"
             ],
             [
              0.2222222222222222,
              "#7201a8"
             ],
             [
              0.3333333333333333,
              "#9c179e"
             ],
             [
              0.4444444444444444,
              "#bd3786"
             ],
             [
              0.5555555555555556,
              "#d8576b"
             ],
             [
              0.6666666666666666,
              "#ed7953"
             ],
             [
              0.7777777777777778,
              "#fb9f3a"
             ],
             [
              0.8888888888888888,
              "#fdca26"
             ],
             [
              1,
              "#f0f921"
             ]
            ],
            "type": "contour"
           }
          ],
          "contourcarpet": [
           {
            "colorbar": {
             "outlinewidth": 0,
             "ticks": ""
            },
            "type": "contourcarpet"
           }
          ],
          "heatmap": [
           {
            "colorbar": {
             "outlinewidth": 0,
             "ticks": ""
            },
            "colorscale": [
             [
              0,
              "#0d0887"
             ],
             [
              0.1111111111111111,
              "#46039f"
             ],
             [
              0.2222222222222222,
              "#7201a8"
             ],
             [
              0.3333333333333333,
              "#9c179e"
             ],
             [
              0.4444444444444444,
              "#bd3786"
             ],
             [
              0.5555555555555556,
              "#d8576b"
             ],
             [
              0.6666666666666666,
              "#ed7953"
             ],
             [
              0.7777777777777778,
              "#fb9f3a"
             ],
             [
              0.8888888888888888,
              "#fdca26"
             ],
             [
              1,
              "#f0f921"
             ]
            ],
            "type": "heatmap"
           }
          ],
          "histogram": [
           {
            "marker": {
             "pattern": {
              "fillmode": "overlay",
              "size": 10,
              "solidity": 0.2
             }
            },
            "type": "histogram"
           }
          ],
          "histogram2d": [
           {
            "colorbar": {
             "outlinewidth": 0,
             "ticks": ""
            },
            "colorscale": [
             [
              0,
              "#0d0887"
             ],
             [
              0.1111111111111111,
              "#46039f"
             ],
             [
              0.2222222222222222,
              "#7201a8"
             ],
             [
              0.3333333333333333,
              "#9c179e"
             ],
             [
              0.4444444444444444,
              "#bd3786"
             ],
             [
              0.5555555555555556,
              "#d8576b"
             ],
             [
              0.6666666666666666,
              "#ed7953"
             ],
             [
              0.7777777777777778,
              "#fb9f3a"
             ],
             [
              0.8888888888888888,
              "#fdca26"
             ],
             [
              1,
              "#f0f921"
             ]
            ],
            "type": "histogram2d"
           }
          ],
          "histogram2dcontour": [
           {
            "colorbar": {
             "outlinewidth": 0,
             "ticks": ""
            },
            "colorscale": [
             [
              0,
              "#0d0887"
             ],
             [
              0.1111111111111111,
              "#46039f"
             ],
             [
              0.2222222222222222,
              "#7201a8"
             ],
             [
              0.3333333333333333,
              "#9c179e"
             ],
             [
              0.4444444444444444,
              "#bd3786"
             ],
             [
              0.5555555555555556,
              "#d8576b"
             ],
             [
              0.6666666666666666,
              "#ed7953"
             ],
             [
              0.7777777777777778,
              "#fb9f3a"
             ],
             [
              0.8888888888888888,
              "#fdca26"
             ],
             [
              1,
              "#f0f921"
             ]
            ],
            "type": "histogram2dcontour"
           }
          ],
          "mesh3d": [
           {
            "colorbar": {
             "outlinewidth": 0,
             "ticks": ""
            },
            "type": "mesh3d"
           }
          ],
          "parcoords": [
           {
            "line": {
             "colorbar": {
              "outlinewidth": 0,
              "ticks": ""
             }
            },
            "type": "parcoords"
           }
          ],
          "pie": [
           {
            "automargin": true,
            "type": "pie"
           }
          ],
          "scatter": [
           {
            "fillpattern": {
             "fillmode": "overlay",
             "size": 10,
             "solidity": 0.2
            },
            "type": "scatter"
           }
          ],
          "scatter3d": [
           {
            "line": {
             "colorbar": {
              "outlinewidth": 0,
              "ticks": ""
             }
            },
            "marker": {
             "colorbar": {
              "outlinewidth": 0,
              "ticks": ""
             }
            },
            "type": "scatter3d"
           }
          ],
          "scattercarpet": [
           {
            "marker": {
             "colorbar": {
              "outlinewidth": 0,
              "ticks": ""
             }
            },
            "type": "scattercarpet"
           }
          ],
          "scattergeo": [
           {
            "marker": {
             "colorbar": {
              "outlinewidth": 0,
              "ticks": ""
             }
            },
            "type": "scattergeo"
           }
          ],
          "scattergl": [
           {
            "marker": {
             "colorbar": {
              "outlinewidth": 0,
              "ticks": ""
             }
            },
            "type": "scattergl"
           }
          ],
          "scattermap": [
           {
            "marker": {
             "colorbar": {
              "outlinewidth": 0,
              "ticks": ""
             }
            },
            "type": "scattermap"
           }
          ],
          "scattermapbox": [
           {
            "marker": {
             "colorbar": {
              "outlinewidth": 0,
              "ticks": ""
             }
            },
            "type": "scattermapbox"
           }
          ],
          "scatterpolar": [
           {
            "marker": {
             "colorbar": {
              "outlinewidth": 0,
              "ticks": ""
             }
            },
            "type": "scatterpolar"
           }
          ],
          "scatterpolargl": [
           {
            "marker": {
             "colorbar": {
              "outlinewidth": 0,
              "ticks": ""
             }
            },
            "type": "scatterpolargl"
           }
          ],
          "scatterternary": [
           {
            "marker": {
             "colorbar": {
              "outlinewidth": 0,
              "ticks": ""
             }
            },
            "type": "scatterternary"
           }
          ],
          "surface": [
           {
            "colorbar": {
             "outlinewidth": 0,
             "ticks": ""
            },
            "colorscale": [
             [
              0,
              "#0d0887"
             ],
             [
              0.1111111111111111,
              "#46039f"
             ],
             [
              0.2222222222222222,
              "#7201a8"
             ],
             [
              0.3333333333333333,
              "#9c179e"
             ],
             [
              0.4444444444444444,
              "#bd3786"
             ],
             [
              0.5555555555555556,
              "#d8576b"
             ],
             [
              0.6666666666666666,
              "#ed7953"
             ],
             [
              0.7777777777777778,
              "#fb9f3a"
             ],
             [
              0.8888888888888888,
              "#fdca26"
             ],
             [
              1,
              "#f0f921"
             ]
            ],
            "type": "surface"
           }
          ],
          "table": [
           {
            "cells": {
             "fill": {
              "color": "#EBF0F8"
             },
             "line": {
              "color": "white"
             }
            },
            "header": {
             "fill": {
              "color": "#C8D4E3"
             },
             "line": {
              "color": "white"
             }
            },
            "type": "table"
           }
          ]
         },
         "layout": {
          "annotationdefaults": {
           "arrowcolor": "#2a3f5f",
           "arrowhead": 0,
           "arrowwidth": 1
          },
          "autotypenumbers": "strict",
          "coloraxis": {
           "colorbar": {
            "outlinewidth": 0,
            "ticks": ""
           }
          },
          "colorscale": {
           "diverging": [
            [
             0,
             "#8e0152"
            ],
            [
             0.1,
             "#c51b7d"
            ],
            [
             0.2,
             "#de77ae"
            ],
            [
             0.3,
             "#f1b6da"
            ],
            [
             0.4,
             "#fde0ef"
            ],
            [
             0.5,
             "#f7f7f7"
            ],
            [
             0.6,
             "#e6f5d0"
            ],
            [
             0.7,
             "#b8e186"
            ],
            [
             0.8,
             "#7fbc41"
            ],
            [
             0.9,
             "#4d9221"
            ],
            [
             1,
             "#276419"
            ]
           ],
           "sequential": [
            [
             0,
             "#0d0887"
            ],
            [
             0.1111111111111111,
             "#46039f"
            ],
            [
             0.2222222222222222,
             "#7201a8"
            ],
            [
             0.3333333333333333,
             "#9c179e"
            ],
            [
             0.4444444444444444,
             "#bd3786"
            ],
            [
             0.5555555555555556,
             "#d8576b"
            ],
            [
             0.6666666666666666,
             "#ed7953"
            ],
            [
             0.7777777777777778,
             "#fb9f3a"
            ],
            [
             0.8888888888888888,
             "#fdca26"
            ],
            [
             1,
             "#f0f921"
            ]
           ],
           "sequentialminus": [
            [
             0,
             "#0d0887"
            ],
            [
             0.1111111111111111,
             "#46039f"
            ],
            [
             0.2222222222222222,
             "#7201a8"
            ],
            [
             0.3333333333333333,
             "#9c179e"
            ],
            [
             0.4444444444444444,
             "#bd3786"
            ],
            [
             0.5555555555555556,
             "#d8576b"
            ],
            [
             0.6666666666666666,
             "#ed7953"
            ],
            [
             0.7777777777777778,
             "#fb9f3a"
            ],
            [
             0.8888888888888888,
             "#fdca26"
            ],
            [
             1,
             "#f0f921"
            ]
           ]
          },
          "colorway": [
           "#636efa",
           "#EF553B",
           "#00cc96",
           "#ab63fa",
           "#FFA15A",
           "#19d3f3",
           "#FF6692",
           "#B6E880",
           "#FF97FF",
           "#FECB52"
          ],
          "font": {
           "color": "#2a3f5f"
          },
          "geo": {
           "bgcolor": "white",
           "lakecolor": "white",
           "landcolor": "#E5ECF6",
           "showlakes": true,
           "showland": true,
           "subunitcolor": "white"
          },
          "hoverlabel": {
           "align": "left"
          },
          "hovermode": "closest",
          "mapbox": {
           "style": "light"
          },
          "paper_bgcolor": "white",
          "plot_bgcolor": "#E5ECF6",
          "polar": {
           "angularaxis": {
            "gridcolor": "white",
            "linecolor": "white",
            "ticks": ""
           },
           "bgcolor": "#E5ECF6",
           "radialaxis": {
            "gridcolor": "white",
            "linecolor": "white",
            "ticks": ""
           }
          },
          "scene": {
           "xaxis": {
            "backgroundcolor": "#E5ECF6",
            "gridcolor": "white",
            "gridwidth": 2,
            "linecolor": "white",
            "showbackground": true,
            "ticks": "",
            "zerolinecolor": "white"
           },
           "yaxis": {
            "backgroundcolor": "#E5ECF6",
            "gridcolor": "white",
            "gridwidth": 2,
            "linecolor": "white",
            "showbackground": true,
            "ticks": "",
            "zerolinecolor": "white"
           },
           "zaxis": {
            "backgroundcolor": "#E5ECF6",
            "gridcolor": "white",
            "gridwidth": 2,
            "linecolor": "white",
            "showbackground": true,
            "ticks": "",
            "zerolinecolor": "white"
           }
          },
          "shapedefaults": {
           "line": {
            "color": "#2a3f5f"
           }
          },
          "ternary": {
           "aaxis": {
            "gridcolor": "white",
            "linecolor": "white",
            "ticks": ""
           },
           "baxis": {
            "gridcolor": "white",
            "linecolor": "white",
            "ticks": ""
           },
           "bgcolor": "#E5ECF6",
           "caxis": {
            "gridcolor": "white",
            "linecolor": "white",
            "ticks": ""
           }
          },
          "title": {
           "x": 0.05
          },
          "xaxis": {
           "automargin": true,
           "gridcolor": "white",
           "linecolor": "white",
           "ticks": "",
           "title": {
            "standoff": 15
           },
           "zerolinecolor": "white",
           "zerolinewidth": 2
          },
          "yaxis": {
           "automargin": true,
           "gridcolor": "white",
           "linecolor": "white",
           "ticks": "",
           "title": {
            "standoff": 15
           },
           "zerolinecolor": "white",
           "zerolinewidth": 2
          }
         }
        },
        "title": {
         "text": "Tempo Médio de Espera por Ano da Primeira Diálise até a FAV"
        },
        "uniformtext": {
         "minsize": 8,
         "mode": "hide"
        },
        "width": 900,
        "xaxis": {
         "anchor": "y",
         "domain": [
          0,
          1
         ],
         "tickmode": "linear",
         "title": {
          "text": "Ano da primeira diálise"
         }
        },
        "yaxis": {
         "anchor": "x",
         "domain": [
          0,
          1
         ],
         "title": {
          "text": "Tempo médio de espera (dias)"
         }
        }
       }
      }
     },
     "metadata": {},
     "output_type": "display_data"
    }
   ],
   "source": [
    "df_espera['ano_primeira_dialise'] = df_espera['data_primeira_dialise'].dt.year\n",
    "df_agrupado = df_espera.groupby('ano_primeira_dialise')['tempo_entre_fav_e_primeira_dialise'].mean().reset_index()\n",
    "\n",
    "fig2_p1 = px.bar(\n",
    "    df_agrupado,\n",
    "    x='ano_primeira_dialise',\n",
    "    y='tempo_entre_fav_e_primeira_dialise',\n",
    "    text='tempo_entre_fav_e_primeira_dialise',\n",
    "    labels={\n",
    "        'ano_primeira_dialise': 'Ano da Primeira Diálise',\n",
    "        'tempo_entre_fav_e_primeira_dialise': 'Tempo médio de espera (dias)'\n",
    "    },\n",
    "    title='Tempo Médio de Espera por Ano da Primeira Diálise até a FAV',\n",
    "    color='tempo_entre_fav_e_primeira_dialise',\n",
    "    color_continuous_scale='Blues'\n",
    ")\n",
    "\n",
    "# Personalizar layout\n",
    "fig2_p1.update_traces(texttemplate='%{text:.0f} dias', textposition='outside')\n",
    "\n",
    "fig2_p1.update_layout(\n",
    "    xaxis=dict(tickmode='linear'),\n",
    "    yaxis_title='Tempo médio de espera (dias)',\n",
    "    xaxis_title='Ano da primeira diálise',\n",
    "    uniformtext_minsize=8,\n",
    "    uniformtext_mode='hide',\n",
    "    plot_bgcolor='white',\n",
    "    width=900,\n",
    "    height=500\n",
    ")\n",
    "\n",
    "fig2_p1.show()\n"
   ]
  },
  {
   "cell_type": "markdown",
   "id": "9d0940cc",
   "metadata": {},
   "source": [
    "# 2) Houve mudanças na demora ao longo dos anos, especialmente em períodos críticos como a pandemia de COVID-19?"
   ]
  },
  {
   "cell_type": "code",
   "execution_count": 38,
   "id": "bd4843c6",
   "metadata": {},
   "outputs": [
    {
     "data": {
      "application/vnd.plotly.v1+json": {
       "config": {
        "plotlyServerURL": "https://plot.ly"
       },
       "data": [
        {
         "line": {
          "color": "#0077B6",
          "width": 3
         },
         "mode": "lines",
         "name": "Tempo médio de espera",
         "type": "scatter",
         "x": [
          "2014-01-01T00:00:00.000000000",
          "2014-02-01T00:00:00.000000000",
          "2014-03-01T00:00:00.000000000",
          "2014-04-01T00:00:00.000000000",
          "2014-05-01T00:00:00.000000000",
          "2014-06-01T00:00:00.000000000",
          "2014-07-01T00:00:00.000000000",
          "2014-08-01T00:00:00.000000000",
          "2014-09-01T00:00:00.000000000",
          "2014-10-01T00:00:00.000000000",
          "2014-11-01T00:00:00.000000000",
          "2014-12-01T00:00:00.000000000",
          "2015-01-01T00:00:00.000000000",
          "2015-02-01T00:00:00.000000000",
          "2015-03-01T00:00:00.000000000",
          "2015-04-01T00:00:00.000000000",
          "2015-05-01T00:00:00.000000000",
          "2015-06-01T00:00:00.000000000",
          "2015-07-01T00:00:00.000000000",
          "2015-08-01T00:00:00.000000000",
          "2015-09-01T00:00:00.000000000",
          "2015-10-01T00:00:00.000000000",
          "2015-11-01T00:00:00.000000000",
          "2015-12-01T00:00:00.000000000",
          "2016-01-01T00:00:00.000000000",
          "2016-02-01T00:00:00.000000000",
          "2016-03-01T00:00:00.000000000",
          "2016-04-01T00:00:00.000000000",
          "2016-05-01T00:00:00.000000000",
          "2016-06-01T00:00:00.000000000",
          "2016-07-01T00:00:00.000000000",
          "2016-08-01T00:00:00.000000000",
          "2016-09-01T00:00:00.000000000",
          "2016-10-01T00:00:00.000000000",
          "2016-11-01T00:00:00.000000000",
          "2016-12-01T00:00:00.000000000",
          "2017-01-01T00:00:00.000000000",
          "2017-02-01T00:00:00.000000000",
          "2017-03-01T00:00:00.000000000",
          "2017-04-01T00:00:00.000000000",
          "2017-05-01T00:00:00.000000000",
          "2017-06-01T00:00:00.000000000",
          "2017-07-01T00:00:00.000000000",
          "2017-08-01T00:00:00.000000000",
          "2017-09-01T00:00:00.000000000",
          "2017-10-01T00:00:00.000000000",
          "2017-11-01T00:00:00.000000000",
          "2017-12-01T00:00:00.000000000",
          "2018-01-01T00:00:00.000000000",
          "2018-02-01T00:00:00.000000000",
          "2018-03-01T00:00:00.000000000",
          "2018-04-01T00:00:00.000000000",
          "2018-05-01T00:00:00.000000000",
          "2018-06-01T00:00:00.000000000",
          "2018-07-01T00:00:00.000000000",
          "2018-08-01T00:00:00.000000000",
          "2018-09-01T00:00:00.000000000",
          "2018-10-01T00:00:00.000000000",
          "2018-11-01T00:00:00.000000000",
          "2018-12-01T00:00:00.000000000",
          "2019-01-01T00:00:00.000000000",
          "2019-02-01T00:00:00.000000000",
          "2019-03-01T00:00:00.000000000",
          "2019-04-01T00:00:00.000000000",
          "2019-05-01T00:00:00.000000000",
          "2019-06-01T00:00:00.000000000",
          "2019-07-01T00:00:00.000000000",
          "2019-08-01T00:00:00.000000000",
          "2019-09-01T00:00:00.000000000",
          "2019-10-01T00:00:00.000000000",
          "2019-11-01T00:00:00.000000000",
          "2019-12-01T00:00:00.000000000",
          "2020-01-01T00:00:00.000000000",
          "2020-02-01T00:00:00.000000000",
          "2020-03-01T00:00:00.000000000",
          "2020-04-01T00:00:00.000000000",
          "2020-05-01T00:00:00.000000000",
          "2020-06-01T00:00:00.000000000",
          "2020-07-01T00:00:00.000000000",
          "2020-08-01T00:00:00.000000000",
          "2020-09-01T00:00:00.000000000",
          "2020-10-01T00:00:00.000000000",
          "2020-11-01T00:00:00.000000000",
          "2020-12-01T00:00:00.000000000",
          "2021-01-01T00:00:00.000000000",
          "2021-02-01T00:00:00.000000000",
          "2021-03-01T00:00:00.000000000",
          "2021-04-01T00:00:00.000000000",
          "2021-05-01T00:00:00.000000000",
          "2021-06-01T00:00:00.000000000",
          "2021-07-01T00:00:00.000000000",
          "2021-08-01T00:00:00.000000000",
          "2021-09-01T00:00:00.000000000",
          "2021-10-01T00:00:00.000000000",
          "2021-11-01T00:00:00.000000000",
          "2021-12-01T00:00:00.000000000",
          "2022-01-01T00:00:00.000000000",
          "2022-02-01T00:00:00.000000000",
          "2022-03-01T00:00:00.000000000",
          "2022-04-01T00:00:00.000000000",
          "2022-05-01T00:00:00.000000000",
          "2022-06-01T00:00:00.000000000",
          "2022-07-01T00:00:00.000000000",
          "2022-08-01T00:00:00.000000000",
          "2022-09-01T00:00:00.000000000",
          "2022-10-01T00:00:00.000000000",
          "2022-11-01T00:00:00.000000000",
          "2022-12-01T00:00:00.000000000",
          "2023-01-01T00:00:00.000000000",
          "2023-02-01T00:00:00.000000000",
          "2023-03-01T00:00:00.000000000",
          "2023-04-01T00:00:00.000000000",
          "2023-05-01T00:00:00.000000000",
          "2023-06-01T00:00:00.000000000",
          "2023-07-01T00:00:00.000000000",
          "2023-08-01T00:00:00.000000000",
          "2023-09-01T00:00:00.000000000",
          "2023-10-01T00:00:00.000000000",
          "2023-11-01T00:00:00.000000000",
          "2023-12-01T00:00:00.000000000",
          "2024-01-01T00:00:00.000000000",
          "2024-02-01T00:00:00.000000000",
          "2024-03-01T00:00:00.000000000",
          "2024-04-01T00:00:00.000000000",
          "2024-05-01T00:00:00.000000000",
          "2024-06-01T00:00:00.000000000",
          "2024-07-01T00:00:00.000000000",
          "2024-08-01T00:00:00.000000000",
          "2024-09-01T00:00:00.000000000"
         ],
         "y": {
          "bdata": "AAAAAADclUAAAAAAgNaVQGZmZmZmPn1AAAAAAABwhUDbtm3btoWSQHZiJ3ZiJ21AVVVVVVX5e0BiGIZhGOZ3QAAAAACApIRAAAAAAADYfUAcx3Ecx7F0QAAAAAAAQGtAVVVVVVUVfUDNzMzMzAx1QF100UUX0YBAAAAAAABAV0BsKK+hvIZdQFVVVVVV3XtAMzMzMzOTe0AAAAAAACBVQHIcx3EcJ2lAAAAAAAAYfECIh4eHh8dpQHh4eHh4KHRAWlpaWlracUAAAAAAANB0QJIkSZIkkXtAAAAAAADobEB4eHh4eACEQHh4eHh4eF9AvLu7u7vrd0AAAAAAAHh4QKuqqqqqAnhAvLu7u7u7akAAAAAAAOh5QBQ7sRM78X1AkiRJkiRJbUAAAAAAAIh4QNu2bdu2NXdAT+zETuxEckDEw8PDw1N0QNmJndiJ3XVAMzMzMzPTckAcx3Ecx0lzQAAAAAAA3HlAMzMzMzNjY0Bu27Zt20ZjQMdxHMdxHHZA27Zt27bNZkAAAAAAAHB8QDMzMzMzs2VA5DiO4zhOZEDHcRzHcSxnQLETO7ETW2ZAxMPDw8Pja0AAAAAAAOBgQO/u7u7ubmJAFDuxEztRbEDFTuzETqx2QOmiiy66GHVAAAAAAADATUBmZmZmZmZkQFVVVVVVFWpAq6qqqqpSaECKndiJndh1QDmO4ziOY2VAiYiIiIjodEAAAAAAACB0QA3lNZTXEGdA0UUXXXSRYkAcx3Ecx+F4QNFFF110cW1AMzMzMzMLd0A5juM4jmNkQOmiiy66GHRASZIkSZIkZ0CamZmZmfFyQOQ4juM4TmtAAAAAAAD4Y0BiJ3ZiJxZwQBdddNFFd21AAAAAAACQeUB2Yid2YgdyQGIndmIntl1AOY7jOI6jaEAAAAAAAKBlQLdt27Ztu3BASZIkSZL0ZECjiy666OJnQLrooosuenBAq6qqqqq6bkCMLrrooutrQOmiiy66SGNAAAAAAABDcUCO4ziO4/heQCd2Yid2oldARhdddNElZkBmZmZmZsZiQAAAAAAAfGdAO7ETO7GDdUDRRRdddBFyQEYXXXTRBV9AAAAAAAC4ZEBLS0tLS8tnQNu2bdu2rWhAAAAAAACgZEAzMzMzM5NsQAAAAAAAnGRAVVVVVVUla0BVVVVVVZVoQAAAAAAAgFdAuuiiiy46ZkAAAAAAAG5kQOQ4juM4DmJAHMdxHMeRYUBmZmZmZsZaQJIkSZIkCWtAHMdxHMexZUBVVVVVVfVfQAAAAAAA6GFAAAAAAADAWUDbtm3btq1bQAAAAAAAEFpAAAAAAAAQX0BVVVVVVRVgQAAAAAAAIFJAAAAAAADgQEAAAAAAAABJQAAAAAAAAENA",
          "dtype": "f8"
         }
        }
       ],
       "layout": {
        "annotations": [
         {
          "font": {
           "color": "red",
           "size": 12
          },
          "showarrow": false,
          "text": "COVID-19",
          "x": "2020-03-01",
          "xanchor": "left",
          "xref": "x",
          "y": 1,
          "yanchor": "top",
          "yref": "y domain"
         }
        ],
        "font": {
         "color": "#023E8A"
        },
        "height": 500,
        "paper_bgcolor": "#FFFFFF",
        "plot_bgcolor": "#FFFFFF",
        "shapes": [
         {
          "fillcolor": "red",
          "layer": "below",
          "line": {
           "width": 0
          },
          "opacity": 0.2,
          "type": "rect",
          "x0": "2020-03-01",
          "x1": "2021-12-31",
          "xref": "x",
          "y0": 0,
          "y1": 1,
          "yref": "y domain"
         }
        ],
        "template": {
         "data": {
          "bar": [
           {
            "error_x": {
             "color": "#2a3f5f"
            },
            "error_y": {
             "color": "#2a3f5f"
            },
            "marker": {
             "line": {
              "color": "white",
              "width": 0.5
             },
             "pattern": {
              "fillmode": "overlay",
              "size": 10,
              "solidity": 0.2
             }
            },
            "type": "bar"
           }
          ],
          "barpolar": [
           {
            "marker": {
             "line": {
              "color": "white",
              "width": 0.5
             },
             "pattern": {
              "fillmode": "overlay",
              "size": 10,
              "solidity": 0.2
             }
            },
            "type": "barpolar"
           }
          ],
          "carpet": [
           {
            "aaxis": {
             "endlinecolor": "#2a3f5f",
             "gridcolor": "#C8D4E3",
             "linecolor": "#C8D4E3",
             "minorgridcolor": "#C8D4E3",
             "startlinecolor": "#2a3f5f"
            },
            "baxis": {
             "endlinecolor": "#2a3f5f",
             "gridcolor": "#C8D4E3",
             "linecolor": "#C8D4E3",
             "minorgridcolor": "#C8D4E3",
             "startlinecolor": "#2a3f5f"
            },
            "type": "carpet"
           }
          ],
          "choropleth": [
           {
            "colorbar": {
             "outlinewidth": 0,
             "ticks": ""
            },
            "type": "choropleth"
           }
          ],
          "contour": [
           {
            "colorbar": {
             "outlinewidth": 0,
             "ticks": ""
            },
            "colorscale": [
             [
              0,
              "#0d0887"
             ],
             [
              0.1111111111111111,
              "#46039f"
             ],
             [
              0.2222222222222222,
              "#7201a8"
             ],
             [
              0.3333333333333333,
              "#9c179e"
             ],
             [
              0.4444444444444444,
              "#bd3786"
             ],
             [
              0.5555555555555556,
              "#d8576b"
             ],
             [
              0.6666666666666666,
              "#ed7953"
             ],
             [
              0.7777777777777778,
              "#fb9f3a"
             ],
             [
              0.8888888888888888,
              "#fdca26"
             ],
             [
              1,
              "#f0f921"
             ]
            ],
            "type": "contour"
           }
          ],
          "contourcarpet": [
           {
            "colorbar": {
             "outlinewidth": 0,
             "ticks": ""
            },
            "type": "contourcarpet"
           }
          ],
          "heatmap": [
           {
            "colorbar": {
             "outlinewidth": 0,
             "ticks": ""
            },
            "colorscale": [
             [
              0,
              "#0d0887"
             ],
             [
              0.1111111111111111,
              "#46039f"
             ],
             [
              0.2222222222222222,
              "#7201a8"
             ],
             [
              0.3333333333333333,
              "#9c179e"
             ],
             [
              0.4444444444444444,
              "#bd3786"
             ],
             [
              0.5555555555555556,
              "#d8576b"
             ],
             [
              0.6666666666666666,
              "#ed7953"
             ],
             [
              0.7777777777777778,
              "#fb9f3a"
             ],
             [
              0.8888888888888888,
              "#fdca26"
             ],
             [
              1,
              "#f0f921"
             ]
            ],
            "type": "heatmap"
           }
          ],
          "histogram": [
           {
            "marker": {
             "pattern": {
              "fillmode": "overlay",
              "size": 10,
              "solidity": 0.2
             }
            },
            "type": "histogram"
           }
          ],
          "histogram2d": [
           {
            "colorbar": {
             "outlinewidth": 0,
             "ticks": ""
            },
            "colorscale": [
             [
              0,
              "#0d0887"
             ],
             [
              0.1111111111111111,
              "#46039f"
             ],
             [
              0.2222222222222222,
              "#7201a8"
             ],
             [
              0.3333333333333333,
              "#9c179e"
             ],
             [
              0.4444444444444444,
              "#bd3786"
             ],
             [
              0.5555555555555556,
              "#d8576b"
             ],
             [
              0.6666666666666666,
              "#ed7953"
             ],
             [
              0.7777777777777778,
              "#fb9f3a"
             ],
             [
              0.8888888888888888,
              "#fdca26"
             ],
             [
              1,
              "#f0f921"
             ]
            ],
            "type": "histogram2d"
           }
          ],
          "histogram2dcontour": [
           {
            "colorbar": {
             "outlinewidth": 0,
             "ticks": ""
            },
            "colorscale": [
             [
              0,
              "#0d0887"
             ],
             [
              0.1111111111111111,
              "#46039f"
             ],
             [
              0.2222222222222222,
              "#7201a8"
             ],
             [
              0.3333333333333333,
              "#9c179e"
             ],
             [
              0.4444444444444444,
              "#bd3786"
             ],
             [
              0.5555555555555556,
              "#d8576b"
             ],
             [
              0.6666666666666666,
              "#ed7953"
             ],
             [
              0.7777777777777778,
              "#fb9f3a"
             ],
             [
              0.8888888888888888,
              "#fdca26"
             ],
             [
              1,
              "#f0f921"
             ]
            ],
            "type": "histogram2dcontour"
           }
          ],
          "mesh3d": [
           {
            "colorbar": {
             "outlinewidth": 0,
             "ticks": ""
            },
            "type": "mesh3d"
           }
          ],
          "parcoords": [
           {
            "line": {
             "colorbar": {
              "outlinewidth": 0,
              "ticks": ""
             }
            },
            "type": "parcoords"
           }
          ],
          "pie": [
           {
            "automargin": true,
            "type": "pie"
           }
          ],
          "scatter": [
           {
            "fillpattern": {
             "fillmode": "overlay",
             "size": 10,
             "solidity": 0.2
            },
            "type": "scatter"
           }
          ],
          "scatter3d": [
           {
            "line": {
             "colorbar": {
              "outlinewidth": 0,
              "ticks": ""
             }
            },
            "marker": {
             "colorbar": {
              "outlinewidth": 0,
              "ticks": ""
             }
            },
            "type": "scatter3d"
           }
          ],
          "scattercarpet": [
           {
            "marker": {
             "colorbar": {
              "outlinewidth": 0,
              "ticks": ""
             }
            },
            "type": "scattercarpet"
           }
          ],
          "scattergeo": [
           {
            "marker": {
             "colorbar": {
              "outlinewidth": 0,
              "ticks": ""
             }
            },
            "type": "scattergeo"
           }
          ],
          "scattergl": [
           {
            "marker": {
             "colorbar": {
              "outlinewidth": 0,
              "ticks": ""
             }
            },
            "type": "scattergl"
           }
          ],
          "scattermap": [
           {
            "marker": {
             "colorbar": {
              "outlinewidth": 0,
              "ticks": ""
             }
            },
            "type": "scattermap"
           }
          ],
          "scattermapbox": [
           {
            "marker": {
             "colorbar": {
              "outlinewidth": 0,
              "ticks": ""
             }
            },
            "type": "scattermapbox"
           }
          ],
          "scatterpolar": [
           {
            "marker": {
             "colorbar": {
              "outlinewidth": 0,
              "ticks": ""
             }
            },
            "type": "scatterpolar"
           }
          ],
          "scatterpolargl": [
           {
            "marker": {
             "colorbar": {
              "outlinewidth": 0,
              "ticks": ""
             }
            },
            "type": "scatterpolargl"
           }
          ],
          "scatterternary": [
           {
            "marker": {
             "colorbar": {
              "outlinewidth": 0,
              "ticks": ""
             }
            },
            "type": "scatterternary"
           }
          ],
          "surface": [
           {
            "colorbar": {
             "outlinewidth": 0,
             "ticks": ""
            },
            "colorscale": [
             [
              0,
              "#0d0887"
             ],
             [
              0.1111111111111111,
              "#46039f"
             ],
             [
              0.2222222222222222,
              "#7201a8"
             ],
             [
              0.3333333333333333,
              "#9c179e"
             ],
             [
              0.4444444444444444,
              "#bd3786"
             ],
             [
              0.5555555555555556,
              "#d8576b"
             ],
             [
              0.6666666666666666,
              "#ed7953"
             ],
             [
              0.7777777777777778,
              "#fb9f3a"
             ],
             [
              0.8888888888888888,
              "#fdca26"
             ],
             [
              1,
              "#f0f921"
             ]
            ],
            "type": "surface"
           }
          ],
          "table": [
           {
            "cells": {
             "fill": {
              "color": "#EBF0F8"
             },
             "line": {
              "color": "white"
             }
            },
            "header": {
             "fill": {
              "color": "#C8D4E3"
             },
             "line": {
              "color": "white"
             }
            },
            "type": "table"
           }
          ]
         },
         "layout": {
          "annotationdefaults": {
           "arrowcolor": "#2a3f5f",
           "arrowhead": 0,
           "arrowwidth": 1
          },
          "autotypenumbers": "strict",
          "coloraxis": {
           "colorbar": {
            "outlinewidth": 0,
            "ticks": ""
           }
          },
          "colorscale": {
           "diverging": [
            [
             0,
             "#8e0152"
            ],
            [
             0.1,
             "#c51b7d"
            ],
            [
             0.2,
             "#de77ae"
            ],
            [
             0.3,
             "#f1b6da"
            ],
            [
             0.4,
             "#fde0ef"
            ],
            [
             0.5,
             "#f7f7f7"
            ],
            [
             0.6,
             "#e6f5d0"
            ],
            [
             0.7,
             "#b8e186"
            ],
            [
             0.8,
             "#7fbc41"
            ],
            [
             0.9,
             "#4d9221"
            ],
            [
             1,
             "#276419"
            ]
           ],
           "sequential": [
            [
             0,
             "#0d0887"
            ],
            [
             0.1111111111111111,
             "#46039f"
            ],
            [
             0.2222222222222222,
             "#7201a8"
            ],
            [
             0.3333333333333333,
             "#9c179e"
            ],
            [
             0.4444444444444444,
             "#bd3786"
            ],
            [
             0.5555555555555556,
             "#d8576b"
            ],
            [
             0.6666666666666666,
             "#ed7953"
            ],
            [
             0.7777777777777778,
             "#fb9f3a"
            ],
            [
             0.8888888888888888,
             "#fdca26"
            ],
            [
             1,
             "#f0f921"
            ]
           ],
           "sequentialminus": [
            [
             0,
             "#0d0887"
            ],
            [
             0.1111111111111111,
             "#46039f"
            ],
            [
             0.2222222222222222,
             "#7201a8"
            ],
            [
             0.3333333333333333,
             "#9c179e"
            ],
            [
             0.4444444444444444,
             "#bd3786"
            ],
            [
             0.5555555555555556,
             "#d8576b"
            ],
            [
             0.6666666666666666,
             "#ed7953"
            ],
            [
             0.7777777777777778,
             "#fb9f3a"
            ],
            [
             0.8888888888888888,
             "#fdca26"
            ],
            [
             1,
             "#f0f921"
            ]
           ]
          },
          "colorway": [
           "#636efa",
           "#EF553B",
           "#00cc96",
           "#ab63fa",
           "#FFA15A",
           "#19d3f3",
           "#FF6692",
           "#B6E880",
           "#FF97FF",
           "#FECB52"
          ],
          "font": {
           "color": "#2a3f5f"
          },
          "geo": {
           "bgcolor": "white",
           "lakecolor": "white",
           "landcolor": "white",
           "showlakes": true,
           "showland": true,
           "subunitcolor": "#C8D4E3"
          },
          "hoverlabel": {
           "align": "left"
          },
          "hovermode": "closest",
          "mapbox": {
           "style": "light"
          },
          "paper_bgcolor": "white",
          "plot_bgcolor": "white",
          "polar": {
           "angularaxis": {
            "gridcolor": "#EBF0F8",
            "linecolor": "#EBF0F8",
            "ticks": ""
           },
           "bgcolor": "white",
           "radialaxis": {
            "gridcolor": "#EBF0F8",
            "linecolor": "#EBF0F8",
            "ticks": ""
           }
          },
          "scene": {
           "xaxis": {
            "backgroundcolor": "white",
            "gridcolor": "#DFE8F3",
            "gridwidth": 2,
            "linecolor": "#EBF0F8",
            "showbackground": true,
            "ticks": "",
            "zerolinecolor": "#EBF0F8"
           },
           "yaxis": {
            "backgroundcolor": "white",
            "gridcolor": "#DFE8F3",
            "gridwidth": 2,
            "linecolor": "#EBF0F8",
            "showbackground": true,
            "ticks": "",
            "zerolinecolor": "#EBF0F8"
           },
           "zaxis": {
            "backgroundcolor": "white",
            "gridcolor": "#DFE8F3",
            "gridwidth": 2,
            "linecolor": "#EBF0F8",
            "showbackground": true,
            "ticks": "",
            "zerolinecolor": "#EBF0F8"
           }
          },
          "shapedefaults": {
           "line": {
            "color": "#2a3f5f"
           }
          },
          "ternary": {
           "aaxis": {
            "gridcolor": "#DFE8F3",
            "linecolor": "#A2B1C6",
            "ticks": ""
           },
           "baxis": {
            "gridcolor": "#DFE8F3",
            "linecolor": "#A2B1C6",
            "ticks": ""
           },
           "bgcolor": "white",
           "caxis": {
            "gridcolor": "#DFE8F3",
            "linecolor": "#A2B1C6",
            "ticks": ""
           }
          },
          "title": {
           "x": 0.05
          },
          "xaxis": {
           "automargin": true,
           "gridcolor": "#EBF0F8",
           "linecolor": "#EBF0F8",
           "ticks": "",
           "title": {
            "standoff": 15
           },
           "zerolinecolor": "#EBF0F8",
           "zerolinewidth": 2
          },
          "yaxis": {
           "automargin": true,
           "gridcolor": "#EBF0F8",
           "linecolor": "#EBF0F8",
           "ticks": "",
           "title": {
            "standoff": 15
           },
           "zerolinecolor": "#EBF0F8",
           "zerolinewidth": 2
          }
         }
        },
        "title": {
         "font": {
          "color": "#023E8A",
          "size": 18
         },
         "text": "Média do Tempo de Espera por Mês"
        },
        "width": 1000,
        "xaxis": {
         "dtick": "M12",
         "gridcolor": "#F8F9FA",
         "linecolor": "#6C757D",
         "showgrid": true,
         "tickfont": {
          "color": "#023E8A"
         },
         "tickformat": "%Y",
         "title": {
          "text": "Ano"
         }
        },
        "yaxis": {
         "gridcolor": "#F8F9FA",
         "linecolor": "#6C757D",
         "showgrid": true,
         "tickfont": {
          "color": "#023E8A"
         },
         "title": {
          "text": "Tempo médio de espera (dias)"
         }
        }
       }
      }
     },
     "metadata": {},
     "output_type": "display_data"
    }
   ],
   "source": [
    "# Garantir que a coluna data_primeira_dialise está em datetime\n",
    "df_espera['data_primeira_dialise'] = pd.to_datetime(df_espera['data_primeira_dialise'])\n",
    "\n",
    "# Criar coluna de ano-mês\n",
    "df_espera['ano_mes'] = df_espera['data_primeira_dialise'].dt.to_period('M').astype(str)\n",
    "\n",
    "# Agrupar por ano-mês\n",
    "df_mes = df_espera.groupby('ano_mes')['tempo_entre_fav_e_primeira_dialise'].mean().reset_index()\n",
    "\n",
    "# Converter ano-mês para datetime (para plotar no eixo)\n",
    "df_mes['ano_mes_dt'] = pd.to_datetime(df_mes['ano_mes'])\n",
    "\n",
    "# Gráfico de Linha (sem pontos)\n",
    "fig1_p2 = go.Figure()\n",
    "\n",
    "fig1_p2.add_trace(go.Scatter(\n",
    "    x=df_mes['ano_mes_dt'],\n",
    "    y=df_mes['tempo_entre_fav_e_primeira_dialise'],\n",
    "    mode='lines',\n",
    "    name='Tempo médio de espera',\n",
    "    line=dict(color=paleta['principal'], width=3)\n",
    "))\n",
    "\n",
    "# Tarja vermelha para COVID-19 (março de 2020 até dezembro de 2021)\n",
    "fig1_p2.add_vrect(\n",
    "    x0=\"2020-03-01\", x1=\"2021-12-31\",\n",
    "    fillcolor=\"red\", opacity=0.2,\n",
    "    layer=\"below\", line_width=0,\n",
    "    annotation_text=\"COVID-19\", annotation_position=\"top left\",\n",
    "    annotation_font_size=12, annotation_font_color=\"red\"\n",
    ")\n",
    "\n",
    "# Layout final com paleta aplicada\n",
    "fig1_p2.update_layout(\n",
    "    title='Média do Tempo de Espera por Mês',\n",
    "    xaxis_title='Ano',\n",
    "    yaxis_title='Tempo médio de espera (dias)',\n",
    "    template='plotly_white',\n",
    "    plot_bgcolor=paleta['fundo'],\n",
    "    paper_bgcolor=paleta['fundo'],\n",
    "    font=dict(color=paleta['quarto']),\n",
    "    title_font=dict(size=18, color=paleta['quarto']),\n",
    "    width=1000,\n",
    "    height=500,\n",
    "    xaxis=dict(\n",
    "        tickformat='%Y',\n",
    "        dtick=\"M12\",\n",
    "        showgrid=True,\n",
    "        gridcolor=paleta['quinto'],\n",
    "        linecolor=paleta['texto'],\n",
    "        tickfont=dict(color=paleta['quarto'])\n",
    "    ),\n",
    "    yaxis=dict(\n",
    "        showgrid=True,\n",
    "        gridcolor=paleta['quinto'],\n",
    "        linecolor=paleta['texto'],\n",
    "        tickfont=dict(color=paleta['quarto'])\n",
    "    )\n",
    ")\n",
    "\n",
    "fig1_p2.show()"
   ]
  },
  {
   "cell_type": "code",
   "execution_count": 39,
   "id": "d9700665",
   "metadata": {},
   "outputs": [
    {
     "data": {
      "application/vnd.plotly.v1+json": {
       "config": {
        "plotlyServerURL": "https://plot.ly"
       },
       "data": [
        {
         "hovertemplate": "ano_primeira_dialise=%{x}<br>tempo_entre_fav_e_primeira_dialise=%{y}<extra></extra>",
         "legendgroup": "",
         "line": {
          "color": "#636efa",
          "dash": "solid",
          "width": 3
         },
         "marker": {
          "size": 8,
          "symbol": "circle"
         },
         "mode": "lines+markers",
         "name": "",
         "orientation": "v",
         "showlegend": false,
         "type": "scatter",
         "x": {
          "bdata": "3gcAAN8HAADgBwAA4QcAAOIHAADjBwAA5AcAAOUHAADmBwAA5wcAAOgHAAA=",
          "dtype": "i4"
         },
         "xaxis": "x",
         "y": {
          "bdata": "juM4juN/gkCaaKKJJpJ0QF/ohV7ohXZAtJfQXkLjckB5K/scUnNrQJT4GSV+1m1AF1100UUfb0CKndiJnThoQMXPKPEzGmlAVVVVVVXxY0BvZZ9DaoJYQA==",
          "dtype": "f8"
         },
         "yaxis": "y"
        }
       ],
       "layout": {
        "font": {
         "color": "#333333",
         "family": "Arial, sans-serif",
         "size": 14
        },
        "hovermode": "x unified",
        "legend": {
         "tracegroupgap": 0
        },
        "paper_bgcolor": "white",
        "plot_bgcolor": "white",
        "template": {
         "data": {
          "bar": [
           {
            "error_x": {
             "color": "#2a3f5f"
            },
            "error_y": {
             "color": "#2a3f5f"
            },
            "marker": {
             "line": {
              "color": "#E5ECF6",
              "width": 0.5
             },
             "pattern": {
              "fillmode": "overlay",
              "size": 10,
              "solidity": 0.2
             }
            },
            "type": "bar"
           }
          ],
          "barpolar": [
           {
            "marker": {
             "line": {
              "color": "#E5ECF6",
              "width": 0.5
             },
             "pattern": {
              "fillmode": "overlay",
              "size": 10,
              "solidity": 0.2
             }
            },
            "type": "barpolar"
           }
          ],
          "carpet": [
           {
            "aaxis": {
             "endlinecolor": "#2a3f5f",
             "gridcolor": "white",
             "linecolor": "white",
             "minorgridcolor": "white",
             "startlinecolor": "#2a3f5f"
            },
            "baxis": {
             "endlinecolor": "#2a3f5f",
             "gridcolor": "white",
             "linecolor": "white",
             "minorgridcolor": "white",
             "startlinecolor": "#2a3f5f"
            },
            "type": "carpet"
           }
          ],
          "choropleth": [
           {
            "colorbar": {
             "outlinewidth": 0,
             "ticks": ""
            },
            "type": "choropleth"
           }
          ],
          "contour": [
           {
            "colorbar": {
             "outlinewidth": 0,
             "ticks": ""
            },
            "colorscale": [
             [
              0,
              "#0d0887"
             ],
             [
              0.1111111111111111,
              "#46039f"
             ],
             [
              0.2222222222222222,
              "#7201a8"
             ],
             [
              0.3333333333333333,
              "#9c179e"
             ],
             [
              0.4444444444444444,
              "#bd3786"
             ],
             [
              0.5555555555555556,
              "#d8576b"
             ],
             [
              0.6666666666666666,
              "#ed7953"
             ],
             [
              0.7777777777777778,
              "#fb9f3a"
             ],
             [
              0.8888888888888888,
              "#fdca26"
             ],
             [
              1,
              "#f0f921"
             ]
            ],
            "type": "contour"
           }
          ],
          "contourcarpet": [
           {
            "colorbar": {
             "outlinewidth": 0,
             "ticks": ""
            },
            "type": "contourcarpet"
           }
          ],
          "heatmap": [
           {
            "colorbar": {
             "outlinewidth": 0,
             "ticks": ""
            },
            "colorscale": [
             [
              0,
              "#0d0887"
             ],
             [
              0.1111111111111111,
              "#46039f"
             ],
             [
              0.2222222222222222,
              "#7201a8"
             ],
             [
              0.3333333333333333,
              "#9c179e"
             ],
             [
              0.4444444444444444,
              "#bd3786"
             ],
             [
              0.5555555555555556,
              "#d8576b"
             ],
             [
              0.6666666666666666,
              "#ed7953"
             ],
             [
              0.7777777777777778,
              "#fb9f3a"
             ],
             [
              0.8888888888888888,
              "#fdca26"
             ],
             [
              1,
              "#f0f921"
             ]
            ],
            "type": "heatmap"
           }
          ],
          "histogram": [
           {
            "marker": {
             "pattern": {
              "fillmode": "overlay",
              "size": 10,
              "solidity": 0.2
             }
            },
            "type": "histogram"
           }
          ],
          "histogram2d": [
           {
            "colorbar": {
             "outlinewidth": 0,
             "ticks": ""
            },
            "colorscale": [
             [
              0,
              "#0d0887"
             ],
             [
              0.1111111111111111,
              "#46039f"
             ],
             [
              0.2222222222222222,
              "#7201a8"
             ],
             [
              0.3333333333333333,
              "#9c179e"
             ],
             [
              0.4444444444444444,
              "#bd3786"
             ],
             [
              0.5555555555555556,
              "#d8576b"
             ],
             [
              0.6666666666666666,
              "#ed7953"
             ],
             [
              0.7777777777777778,
              "#fb9f3a"
             ],
             [
              0.8888888888888888,
              "#fdca26"
             ],
             [
              1,
              "#f0f921"
             ]
            ],
            "type": "histogram2d"
           }
          ],
          "histogram2dcontour": [
           {
            "colorbar": {
             "outlinewidth": 0,
             "ticks": ""
            },
            "colorscale": [
             [
              0,
              "#0d0887"
             ],
             [
              0.1111111111111111,
              "#46039f"
             ],
             [
              0.2222222222222222,
              "#7201a8"
             ],
             [
              0.3333333333333333,
              "#9c179e"
             ],
             [
              0.4444444444444444,
              "#bd3786"
             ],
             [
              0.5555555555555556,
              "#d8576b"
             ],
             [
              0.6666666666666666,
              "#ed7953"
             ],
             [
              0.7777777777777778,
              "#fb9f3a"
             ],
             [
              0.8888888888888888,
              "#fdca26"
             ],
             [
              1,
              "#f0f921"
             ]
            ],
            "type": "histogram2dcontour"
           }
          ],
          "mesh3d": [
           {
            "colorbar": {
             "outlinewidth": 0,
             "ticks": ""
            },
            "type": "mesh3d"
           }
          ],
          "parcoords": [
           {
            "line": {
             "colorbar": {
              "outlinewidth": 0,
              "ticks": ""
             }
            },
            "type": "parcoords"
           }
          ],
          "pie": [
           {
            "automargin": true,
            "type": "pie"
           }
          ],
          "scatter": [
           {
            "fillpattern": {
             "fillmode": "overlay",
             "size": 10,
             "solidity": 0.2
            },
            "type": "scatter"
           }
          ],
          "scatter3d": [
           {
            "line": {
             "colorbar": {
              "outlinewidth": 0,
              "ticks": ""
             }
            },
            "marker": {
             "colorbar": {
              "outlinewidth": 0,
              "ticks": ""
             }
            },
            "type": "scatter3d"
           }
          ],
          "scattercarpet": [
           {
            "marker": {
             "colorbar": {
              "outlinewidth": 0,
              "ticks": ""
             }
            },
            "type": "scattercarpet"
           }
          ],
          "scattergeo": [
           {
            "marker": {
             "colorbar": {
              "outlinewidth": 0,
              "ticks": ""
             }
            },
            "type": "scattergeo"
           }
          ],
          "scattergl": [
           {
            "marker": {
             "colorbar": {
              "outlinewidth": 0,
              "ticks": ""
             }
            },
            "type": "scattergl"
           }
          ],
          "scattermap": [
           {
            "marker": {
             "colorbar": {
              "outlinewidth": 0,
              "ticks": ""
             }
            },
            "type": "scattermap"
           }
          ],
          "scattermapbox": [
           {
            "marker": {
             "colorbar": {
              "outlinewidth": 0,
              "ticks": ""
             }
            },
            "type": "scattermapbox"
           }
          ],
          "scatterpolar": [
           {
            "marker": {
             "colorbar": {
              "outlinewidth": 0,
              "ticks": ""
             }
            },
            "type": "scatterpolar"
           }
          ],
          "scatterpolargl": [
           {
            "marker": {
             "colorbar": {
              "outlinewidth": 0,
              "ticks": ""
             }
            },
            "type": "scatterpolargl"
           }
          ],
          "scatterternary": [
           {
            "marker": {
             "colorbar": {
              "outlinewidth": 0,
              "ticks": ""
             }
            },
            "type": "scatterternary"
           }
          ],
          "surface": [
           {
            "colorbar": {
             "outlinewidth": 0,
             "ticks": ""
            },
            "colorscale": [
             [
              0,
              "#0d0887"
             ],
             [
              0.1111111111111111,
              "#46039f"
             ],
             [
              0.2222222222222222,
              "#7201a8"
             ],
             [
              0.3333333333333333,
              "#9c179e"
             ],
             [
              0.4444444444444444,
              "#bd3786"
             ],
             [
              0.5555555555555556,
              "#d8576b"
             ],
             [
              0.6666666666666666,
              "#ed7953"
             ],
             [
              0.7777777777777778,
              "#fb9f3a"
             ],
             [
              0.8888888888888888,
              "#fdca26"
             ],
             [
              1,
              "#f0f921"
             ]
            ],
            "type": "surface"
           }
          ],
          "table": [
           {
            "cells": {
             "fill": {
              "color": "#EBF0F8"
             },
             "line": {
              "color": "white"
             }
            },
            "header": {
             "fill": {
              "color": "#C8D4E3"
             },
             "line": {
              "color": "white"
             }
            },
            "type": "table"
           }
          ]
         },
         "layout": {
          "annotationdefaults": {
           "arrowcolor": "#2a3f5f",
           "arrowhead": 0,
           "arrowwidth": 1
          },
          "autotypenumbers": "strict",
          "coloraxis": {
           "colorbar": {
            "outlinewidth": 0,
            "ticks": ""
           }
          },
          "colorscale": {
           "diverging": [
            [
             0,
             "#8e0152"
            ],
            [
             0.1,
             "#c51b7d"
            ],
            [
             0.2,
             "#de77ae"
            ],
            [
             0.3,
             "#f1b6da"
            ],
            [
             0.4,
             "#fde0ef"
            ],
            [
             0.5,
             "#f7f7f7"
            ],
            [
             0.6,
             "#e6f5d0"
            ],
            [
             0.7,
             "#b8e186"
            ],
            [
             0.8,
             "#7fbc41"
            ],
            [
             0.9,
             "#4d9221"
            ],
            [
             1,
             "#276419"
            ]
           ],
           "sequential": [
            [
             0,
             "#0d0887"
            ],
            [
             0.1111111111111111,
             "#46039f"
            ],
            [
             0.2222222222222222,
             "#7201a8"
            ],
            [
             0.3333333333333333,
             "#9c179e"
            ],
            [
             0.4444444444444444,
             "#bd3786"
            ],
            [
             0.5555555555555556,
             "#d8576b"
            ],
            [
             0.6666666666666666,
             "#ed7953"
            ],
            [
             0.7777777777777778,
             "#fb9f3a"
            ],
            [
             0.8888888888888888,
             "#fdca26"
            ],
            [
             1,
             "#f0f921"
            ]
           ],
           "sequentialminus": [
            [
             0,
             "#0d0887"
            ],
            [
             0.1111111111111111,
             "#46039f"
            ],
            [
             0.2222222222222222,
             "#7201a8"
            ],
            [
             0.3333333333333333,
             "#9c179e"
            ],
            [
             0.4444444444444444,
             "#bd3786"
            ],
            [
             0.5555555555555556,
             "#d8576b"
            ],
            [
             0.6666666666666666,
             "#ed7953"
            ],
            [
             0.7777777777777778,
             "#fb9f3a"
            ],
            [
             0.8888888888888888,
             "#fdca26"
            ],
            [
             1,
             "#f0f921"
            ]
           ]
          },
          "colorway": [
           "#636efa",
           "#EF553B",
           "#00cc96",
           "#ab63fa",
           "#FFA15A",
           "#19d3f3",
           "#FF6692",
           "#B6E880",
           "#FF97FF",
           "#FECB52"
          ],
          "font": {
           "color": "#2a3f5f"
          },
          "geo": {
           "bgcolor": "white",
           "lakecolor": "white",
           "landcolor": "#E5ECF6",
           "showlakes": true,
           "showland": true,
           "subunitcolor": "white"
          },
          "hoverlabel": {
           "align": "left"
          },
          "hovermode": "closest",
          "mapbox": {
           "style": "light"
          },
          "paper_bgcolor": "white",
          "plot_bgcolor": "#E5ECF6",
          "polar": {
           "angularaxis": {
            "gridcolor": "white",
            "linecolor": "white",
            "ticks": ""
           },
           "bgcolor": "#E5ECF6",
           "radialaxis": {
            "gridcolor": "white",
            "linecolor": "white",
            "ticks": ""
           }
          },
          "scene": {
           "xaxis": {
            "backgroundcolor": "#E5ECF6",
            "gridcolor": "white",
            "gridwidth": 2,
            "linecolor": "white",
            "showbackground": true,
            "ticks": "",
            "zerolinecolor": "white"
           },
           "yaxis": {
            "backgroundcolor": "#E5ECF6",
            "gridcolor": "white",
            "gridwidth": 2,
            "linecolor": "white",
            "showbackground": true,
            "ticks": "",
            "zerolinecolor": "white"
           },
           "zaxis": {
            "backgroundcolor": "#E5ECF6",
            "gridcolor": "white",
            "gridwidth": 2,
            "linecolor": "white",
            "showbackground": true,
            "ticks": "",
            "zerolinecolor": "white"
           }
          },
          "shapedefaults": {
           "line": {
            "color": "#2a3f5f"
           }
          },
          "ternary": {
           "aaxis": {
            "gridcolor": "white",
            "linecolor": "white",
            "ticks": ""
           },
           "baxis": {
            "gridcolor": "white",
            "linecolor": "white",
            "ticks": ""
           },
           "bgcolor": "#E5ECF6",
           "caxis": {
            "gridcolor": "white",
            "linecolor": "white",
            "ticks": ""
           }
          },
          "title": {
           "x": 0.05
          },
          "xaxis": {
           "automargin": true,
           "gridcolor": "white",
           "linecolor": "white",
           "ticks": "",
           "title": {
            "standoff": 15
           },
           "zerolinecolor": "white",
           "zerolinewidth": 2
          },
          "yaxis": {
           "automargin": true,
           "gridcolor": "white",
           "linecolor": "white",
           "ticks": "",
           "title": {
            "standoff": 15
           },
           "zerolinecolor": "white",
           "zerolinewidth": 2
          }
         }
        },
        "title": {
         "text": "Evolução do Tempo Médio de Espera entre FAV e Primeira Diálise",
         "x": 0.5,
         "xanchor": "center",
         "y": 0.95,
         "yanchor": "top"
        },
        "xaxis": {
         "anchor": "y",
         "domain": [
          0,
          1
         ],
         "gridcolor": "lightgrey",
         "linecolor": "black",
         "linewidth": 1,
         "showline": true,
         "tickmode": "linear",
         "title": {
          "text": "Ano da Primeira Diálise"
         }
        },
        "yaxis": {
         "anchor": "x",
         "domain": [
          0,
          1
         ],
         "gridcolor": "lightgrey",
         "linecolor": "black",
         "linewidth": 1,
         "showline": true,
         "title": {
          "text": "Tempo Médio de Espera (dias)"
         }
        }
       }
      }
     },
     "metadata": {},
     "output_type": "display_data"
    }
   ],
   "source": [
    "# Preparar dados\n",
    "df_evolucao = df_espera.groupby(\"ano_primeira_dialise\")['tempo_entre_fav_e_primeira_dialise'].mean().reset_index()\n",
    "\n",
    "# Criar o gráfico com melhorias\n",
    "fig2_p2 = px.line(\n",
    "    df_evolucao,\n",
    "    x=\"ano_primeira_dialise\",\n",
    "    y=\"tempo_entre_fav_e_primeira_dialise\",\n",
    "    markers=True,\n",
    "    title=\"Evolução do Tempo Médio de Espera entre FAV e Primeira Diálise\"\n",
    ")\n",
    "\n",
    "# Melhorias visuais\n",
    "fig2_p2.update_traces(line=dict(width=3), marker=dict(size=8))\n",
    "\n",
    "fig2_p2.update_layout(\n",
    "    title={\n",
    "        'text': 'Evolução do Tempo Médio de Espera entre FAV e Primeira Diálise',\n",
    "        'y':0.95,\n",
    "        'x':0.5,\n",
    "        'xanchor': 'center',\n",
    "        'yanchor': 'top'\n",
    "    },\n",
    "    xaxis_title=\"Ano da Primeira Diálise\",\n",
    "    yaxis_title=\"Tempo Médio de Espera (dias)\",\n",
    "    font=dict(\n",
    "        family=\"Arial, sans-serif\",\n",
    "        size=14,\n",
    "        color=\"#333333\"\n",
    "    ),\n",
    "    plot_bgcolor=\"white\",\n",
    "    paper_bgcolor=\"white\",\n",
    "    xaxis=dict(\n",
    "        showline=True,\n",
    "        linewidth=1,\n",
    "        linecolor='black',\n",
    "        gridcolor='lightgrey',\n",
    "        tickmode='linear'\n",
    "    ),\n",
    "    yaxis=dict(\n",
    "        showline=True,\n",
    "        linewidth=1,\n",
    "        linecolor='black',\n",
    "        gridcolor='lightgrey'\n",
    "    ),\n",
    "    hovermode=\"x unified\"\n",
    ")\n",
    "\n",
    "fig2_p2.show()"
   ]
  },
  {
   "cell_type": "markdown",
   "id": "4bee7b48",
   "metadata": {},
   "source": [
    "# 3) Existem perfis de pacientes que apresentam maior demora para a confecção da FAV?"
   ]
  },
  {
   "cell_type": "code",
   "execution_count": 40,
   "id": "2067ec57",
   "metadata": {},
   "outputs": [],
   "source": [
    "genero_cores = {\n",
    "    'F': paleta['quarto'],\n",
    "    'M': paleta['secundario']\n",
    "}"
   ]
  },
  {
   "cell_type": "code",
   "execution_count": 41,
   "id": "7c70a9ef",
   "metadata": {},
   "outputs": [
    {
     "data": {
      "application/vnd.plotly.v1+json": {
       "config": {
        "plotlyServerURL": "https://plot.ly"
       },
       "data": [
        {
         "hovertemplate": "Gênero=F<br>Idade=%{x}<br>Tempo de espera (dias)=%{y}<extra></extra>",
         "legendgroup": "F",
         "marker": {
          "color": "#023E8A",
          "symbol": "circle"
         },
         "mode": "markers",
         "name": "F",
         "showlegend": true,
         "type": "scattergl",
         "x": {
          "bdata": "OyYoNFQnKUMzKlJDOjlMTTVALUpEGRhMTTE2HjguPkEkKy05MT8iMzRJNT0dRB1CNEEsMkg4QkxML0MzJzlIOTo2M0FITD1GNTNCNTs0QTE6PEw5Q0QzPToiQyA3JTYzSzJLRkVJRDAbPEc3PxYsOiQ4MUU/TkFGQhI5KUVTIzYyPCVPQzsgNCkrPT06OiRHLjpMPh1IJT9MHychMC87MipAISY7NztHQiA/ND8eOjc9NyEvGi5AMTFQQUUyNSsWQTQyL0BHPi0WPj41EBI+KyY+SjsvJzc9PDQ5RixGRlYvHEwgPUcgSkVSOxJASUEsRj8yJxUcMEElOyghJwIpLB82HTVSShU4Qz8cOE09HRZOL0Q3UUE4JCUSOCc2RT5FGzQ4KyFOQjgbPw88JEUmHCtIQBJEQDEbQ0M8LCkyLBUtKiFHJjAyLz5HGDAxFkJFNks6OjdQNDwxKzc+PkQZFi5CPCorRD4/Li4+RkM8Ky1EHyo0NTo+K0ZMS0AkIiAkIxhBNjlHH0U+ECs3PTg5GC5DHTYSOjAvNkBBRkxDKE5COUlAJyA2Phk+JRM6WzdBQRg+N0BEJyIUFj48UkQ/Ojw+G0EqRCs9PSlPIzJIOEJQKkIuK004Q0giOC06OhAtOzpESSoiLTU0PjwdR0I6Ky0xQEdMNCIyND03PjgwUDsyRBU6L0UKGistJ0M6K0E4LRY9Oyk/Qw0+MjsYOTM0Fz1URFFSRz44Kx0bRjJGQy8fNCYXNzksPztHPDBQKjQaGTtIITgPTgwkUUoRQjQ3QxU/JkFTL0YoQC4cMx8uLDgXUipJLk8+F0E9TD8wOUEzLihSPSItFyQjLignJiIuRS8nJUAyJTpLMz8sP0EwMUFDST02RzNDJi48PTI7OD07REtBOzRL",
          "dtype": "i1"
         },
         "xaxis": "x",
         "y": {
          "bdata": "vgDVACEDKAGeALoBZgLxAoIAXQIbAtgAIQGZCFYA4QJqAJwAhgATATEAbgAeABEAfgASAR4ATwCtADUA5wALALgApAJMAUQAtQBTAHEAigC1AHYBVgChARUAiQAnABQAtABSACgBPQAvAZAAEQBaAGIAlgdbAC4AXAAUAI0AYQBOADAAMQBOAIIJawAvANQCaACCADIANABtAEYASwBQAEMAfwGFAEIAfgDfAEAAIAAGABkApAAdAAwAXADEAB0AjwBnAUYDJwAqAJIAkgIfAKsAVgA3AH8AigAlABkBJgAPAO8CPgFhAJwAnwB7AIQAXgD5AXgAOgCnAKcAZQBzAJsIBACyABsANwBmADIAsgDgALwAfwAaALoA+wInAoEAbQAHBPkBKgBGAIwAAgIZAtkDiQCJAB0AOgTJCI0AQQABAMgBPwA2AP4A2QG0AbEDyQAWAKsATgKaAF4AcQF8AIkAJAC5AIYAvgClADsAvQBQAJMBMQCXAFUABgAYAUIADAA2AA4DJgMPAX4BdwO/AngAVAGSAD8AwgCNB7wAkgDyAGAB9wJzAAMEXgCGASUAYgBJADAAMAHhAAQALQCbABcA1ABVAEMAlQJ4AcEJPAA3AVUA6AMGAAoB3AB2ADEAuwCJAXEAXwR2ALYA7wB0AE4BbgWNBRMBYgBfADsAGQAsAecBFQBAAokAxgAJAPwAEQIoAD4B1gRaAOMABgASAAsADABUACAABAEHAEAAdw5WAGYAfgCGACoAOAAYAfIALgB6APwAYwDGBAUBNAKAALUAngCAACUAvwBpASQA8gXbB4kATAA6ALQAjgD8ABgASgBeAGoAqgARBKwFIQA6ADwALgBxAAcAjAEbAOEILwZJANQASAA9AGcAEQErASgADACTAFYAdQA3AOAGHgAiAFEALgAgAO8AxwDoAKkEIAByCjMA5wBRAWICHQAdABQAVQHaA9wA1wAjASsAVwDdAHgATwA5ANkAqgnPADEFBADeBEAAEQUqAL0COQC2BtgHZwESAREAXwIfBWgA1wDwAIcALQWjBW8A2QHVBm8BnQMNAJsAsQEOAOcBDABUASUBjABfAUMAfADKAYIAQQC4AOEAAAVqABoBSgKkAowAUAF7B84AiwDEBV8BqQDhARQB1QA8ACsBtQUfAPMBhAU1AJUAKQB7AaEAqAA8AOMAFAEGAHoAaAAcAMIEJwAPAHgASwDJAg0CNQC2ADQBXwJoABwAbgE8AR0AowYOAO4DXwA1AGYEKwDsAUQAlQPwAI4A1wBeAMgADAHtAEULzgCgBHcABAGRASsAlgCcAHQDOwCqAMMHKQCzBBoACwBRAJ0BXgADBBEA1wMMALAA/wBoAAwAzwKnAG0AbgCYASUAiwCGB0EAOAFIABoB3AAjBFcABQAjADcBtwCyADoASAZSAXcA5wBOADkA3wDwC0kASgBjAPIAEwE+AO4ADAGZAbcAQQA8Al4BTwC4AIIAXAAsAHcASACTDGgAgAARAEkCLAAoAIsAPQCGAZ0AMQhjAD0AVgAFABYACABJALAAoQKcAnMAPABaAGoAQQBsAcEAOwADAJEA0AI9AKsAJQqAAH0AkwCcAIgB5QK9AAkAHAAeAIsAqgAPADUCfwBbASIAdQAcAQUCFgA7AVMACABeAMAAAwELAnYAUgE3ACIAaACsAEEATwAgAUEAcwBnAF8BYQDjAHYA+w4HALIArQA6AUoADQAZAEkA9gBRABUAvABRDxwAhQCzAEAADAB1AFkAYgCiAO0AwgCYAGsA+woKAEIAnQM2ACUAEgBUAFkA",
          "dtype": "i2"
         },
         "yaxis": "y"
        },
        {
         "hovertemplate": "Gênero=M<br>Idade=%{x}<br>Tempo de espera (dias)=%{y}<extra></extra>",
         "legendgroup": "M",
         "marker": {
          "color": "#90E0EF",
          "symbol": "circle"
         },
         "mode": "markers",
         "name": "M",
         "showlegend": true,
         "type": "scattergl",
         "x": {
          "bdata": "QFUdM0c7TDpAJz8xHSs6OU0ZKzU/QDMiKkxAMD88FkAuQi5ENkk4SyNFMVpFKTkUNzo0NTw7OUhEFS88ODUiMSdPQUAXFxsuNBpDM0FWRSQmITVNIT85TE87LiZJN0I5ODhGHypIOTI1HDQuNCZFP0g4IiIyPj8aFic8EzxIOC82OUseKDxEODk9NTlBRENGQj8qFkpCJjc/KkBWPzVGLTZJOCgzGhs6HTwzOUlISkNOH0QxUxIhPTA3NDpFSTlDLFIuMyVEQ0NJS0MXTQ8lLDxKJDk9IVA8UTw+SBkRSCc+RTQkFjlLHD87SUU3OkVCUB4dIz4yRRwwQB5TSxs4NVVNNE84MD8/Sy8+MR0yQEEmLzs4IDIQPyg3O0YiQEdPQEBLMEJJOE4+P0wvNzgZSSw+Qyg6RUQkLDs9VT8rNzJSKkQ5NzxIIi06JkBEPS8xFjJBNkdAIUNERhUwKz8qLTURMTY0PC0sEygvTRdIPj0uIVg9PTMfOB46IzpWOiQfUiNIKTw+NCgyPUQgSC0xQ0I3QjtEQi4xNTc5OjsWEjQ+QT4+JCAmFkExMAkyUDg6SSoUK0w4KlVNKzksLzc+QFMoOzw3LEpARTM3KjEtPTw/QT5NPEA+LypEK0wuREFBP0grMi9MLTctIDENRyE3RD5VREE+JEgvQy4VFyJTREBIND1FKEhDPE4zQjY2SEkhRkE4OSspS0o+STFHTjI2RkI1OkEUPlQ1U0IwJScYNTxKNyQ+Qy8xNz0oNkM6L1NGQTFCOyxOLEg/MVJEMzIwHkArMyJLOkQ+OE1JJ0xIND0pMhI6HDQ5LzQ0O1A8TTxHLTFPKRpXJzpNRyxNQT4pMkk/QB05LjlRUSg2KkFISEAjQDxHKjQ2NUFNM0w2PSlJODdBJTUdNFk8PC4WGx0qRzUSMjk9JA0vL0NEQjYlQz8wR0xHNi9IS0lFQC1FPkE5ESRHMklFOSlCNzs2KjZBFjwtPUszUiZASjtVQUkxJS47MUEzODpCNkQxNkcYNiRTNkAzQjM/JUNJPhY7JjMeSEs4T01BSCU/MSRDNz5EQBZDPTErMTo2OidSMh47OUo2NEMzKkEUNjs2JEJBUDE3Pz5KQTM2KTRKIFAqM1EtJC9QMBxIEyg9Ek4sRDdGIUU9ODU3REhIP0EzIzwzP0IyRVAnKDkxTCZAOVdCOg==",
          "dtype": "i1"
         },
         "xaxis": "x",
         "y": {
          "bdata": "aAGRAFcArgGKBXwAgwJFBegAzAFuAckABgDDALIBPABFADcAVgIZAF8ANwCKALgAdQhYAGgAbwAVADgAAwARAA8ALwAgADMASwCWAD8ARgCRAx4AzgKBAIAAeQA/AE8HigKRAFYACwABAYcAQAAJALYAOQAsAB4AHQAFAOAAWgAgAAwApQZIADsABABDAN4BiAAVASMAjQANAVMAHQATAAEAagCMAKMAswCgABcADABuADcAQgASB3EARgAVAGAADwA4AIIAmwEIADUAdgAaAMkAdwAYACQABgAwACUA2QBZADcATQFAAA4BFgCiBGACIwAhAPUBkwCqAAwB3AiMAIsA8wB8AAcAKwC+AGACkAASADEAKQAwADAFSQANADoBTgEkAJ4AMgMqACoBWQ0yAEQAaAGbASAAfQANADMAJQMHAH4AdwCDANEAIQA7AHoABgAMAE4AaAA6ACoAqwBIAa8ADgC9Ab0ACwAuAnwAXwA8ADgAPwAEAJQAcANPABMAjQCbAMoAOgCnAAUBSgBEADAAdwB8AI4AVwB7DGwAHgCAAMoATwhjAL8AuABMASsIRgBrABcBRgAiAIQA4gKaAUQAXgAiAHgBJABCAFsBJQBCACEBTACRAKIBegDUAVYA2QBDAIIJFgA6AE8AyACTAJ8BlQC1AYcACAAOACIAyAA4AGICOgA2ACcASADwATgATQBiBEgAIgAJAJ0AgAJiASYAJAFsAIcDIwCGAI8AEQBcAG8DcQAIAYcLbAGbAE0AyAAvAAIEQAAwAIAAzABKAMUAtQBdAKsA5wGdAF0AFwDdAEwAcQBGAEkAAwApAB0A2QoOAWAAxwEJAFgAWACeAAkAMQAnAEsADwFaAeYAwwNmAIQAGgAjAEsAmgF5AFQAJQGqACwAwwUbADMAWAEeAFgAIgAfAOEARwC7ABIAcAA6AOEIPgsRACoATQQDANcBQQYGAH0AjgByABkAcABoARUAPQCeANEHYACAAJ8BNgABABYAuABkAO0AOAIjABgArgD1AEwBMgBPAMABJgBQAHIBVABXAAIAAQBgASYAEQBEAFgALwA0AEMAKgA4ABAA6QFCAYwAYABlALIGbQBbBGwEBAIYARcACwTGACkAfgQRADQAIwD8BBkBLQBIADgAFQBAAIoATwBWAJ4AOQB3AFgATAD/AmwAIQAWAAcApAECAQYApQCDAOcBGwBvACUADwBXAHMEoQCRACgDnAB4AE8AMADGABAAdgAXAOgBYgAmAB4ALgUVATIAtQBUAC8AAwAyABcANQBMAJIAGwExANkEfgAVALcAKwEbABMAVAADADkBLABVAQsBTwD1AAsAVASpAjEBHgCOACABDwACAH4HWAESALIAyAN4AG4BvwA9AA4BEwCEAOoCVABKABYAOwDSAjsAFAGrAHcAHgCvAIwAhwBhAF4AqwBlABoBsgIAAVsASQBAACoAKQ5MAB8BkwBcAA4AmgOgACwBrgMlAhsADQBsABIAbQCQAMUEBQCDAEEBmACuBQACjQDIADkDLwA3APoAmgHLAnMAYgaAAMIAewDZABAADwA9AF4AeQDLAFQAIgDoAJcBegBYAUgADAA6AD4AUwDiACMAKgJ9ALIJ9AJQAPQAbwZGAAIABQD8AOkAEgF5ABEASgCQAJEA4QIkAMAAUwCqALoAxgNFAFILmwFFABMADwC3Af4AuABOABAAtQFVBFEAbgBoAQwACABxACkACwBXAJEBmQBDAGoFIwBYAMEAeAA0AJMDTgAaAHgCYgB1AAUA+ADqAQkCogCGAHsAOgAnABQADQEJAc0ATAAMAE0AcQBpAJYAgQBJAAIAKQAqAEwAWgJNAVQAugB9AHkALwBHAF0ATwD1AQwANwFrAA0AVACBAGUAPQJiAE4BXgBJAIQBBABAAEgC9wBJAz4AXgAWAU4BnwOqADcBIAAgAasAHAC1ACoAGwAaAEcAdAADAqMA7wAUAB4IJwAzAL4ACQN6AEYBKAAvAOkAQQJ5ABkAQQKfABgAUABVAAsCjQAAAfwAMQG6B3wAmQCHAM0BrwABAWkAEQC/AL0AXwAFAZoCKQDmAMUBaQB5AEsA3wGmAL0ATwAXAIkAnQBcAFsA/QBlAVEAHgDvAgkBCACZABIAYwAVAB0A2QCsANsBYQADACIARwAyABoAfABDABQBMQHRAB8ApQE8AAcAeAAyAAwALQCTABMBLgC4AJAAlQDIAE4A/gBhAUwBtgANAC4ARAChAXcAjAF0ANYAGAAKAA0AkAHRAJUADwDXAIEAaQCRAEUAPAAxAOMACQB1AAYAjQDCAGkAqAA/ADwAnQB9AFQATgBxACAANwAvABcAMgAIABkANQA1AFEAAwA3ADkABAA=",
          "dtype": "i2"
         },
         "yaxis": "y"
        }
       ],
       "layout": {
        "font": {
         "color": "#023E8A"
        },
        "legend": {
         "title": {
          "text": "Gênero"
         },
         "tracegroupgap": 0
        },
        "paper_bgcolor": "#FFFFFF",
        "plot_bgcolor": "#FFFFFF",
        "template": {
         "data": {
          "bar": [
           {
            "error_x": {
             "color": "#2a3f5f"
            },
            "error_y": {
             "color": "#2a3f5f"
            },
            "marker": {
             "line": {
              "color": "#E5ECF6",
              "width": 0.5
             },
             "pattern": {
              "fillmode": "overlay",
              "size": 10,
              "solidity": 0.2
             }
            },
            "type": "bar"
           }
          ],
          "barpolar": [
           {
            "marker": {
             "line": {
              "color": "#E5ECF6",
              "width": 0.5
             },
             "pattern": {
              "fillmode": "overlay",
              "size": 10,
              "solidity": 0.2
             }
            },
            "type": "barpolar"
           }
          ],
          "carpet": [
           {
            "aaxis": {
             "endlinecolor": "#2a3f5f",
             "gridcolor": "white",
             "linecolor": "white",
             "minorgridcolor": "white",
             "startlinecolor": "#2a3f5f"
            },
            "baxis": {
             "endlinecolor": "#2a3f5f",
             "gridcolor": "white",
             "linecolor": "white",
             "minorgridcolor": "white",
             "startlinecolor": "#2a3f5f"
            },
            "type": "carpet"
           }
          ],
          "choropleth": [
           {
            "colorbar": {
             "outlinewidth": 0,
             "ticks": ""
            },
            "type": "choropleth"
           }
          ],
          "contour": [
           {
            "colorbar": {
             "outlinewidth": 0,
             "ticks": ""
            },
            "colorscale": [
             [
              0,
              "#0d0887"
             ],
             [
              0.1111111111111111,
              "#46039f"
             ],
             [
              0.2222222222222222,
              "#7201a8"
             ],
             [
              0.3333333333333333,
              "#9c179e"
             ],
             [
              0.4444444444444444,
              "#bd3786"
             ],
             [
              0.5555555555555556,
              "#d8576b"
             ],
             [
              0.6666666666666666,
              "#ed7953"
             ],
             [
              0.7777777777777778,
              "#fb9f3a"
             ],
             [
              0.8888888888888888,
              "#fdca26"
             ],
             [
              1,
              "#f0f921"
             ]
            ],
            "type": "contour"
           }
          ],
          "contourcarpet": [
           {
            "colorbar": {
             "outlinewidth": 0,
             "ticks": ""
            },
            "type": "contourcarpet"
           }
          ],
          "heatmap": [
           {
            "colorbar": {
             "outlinewidth": 0,
             "ticks": ""
            },
            "colorscale": [
             [
              0,
              "#0d0887"
             ],
             [
              0.1111111111111111,
              "#46039f"
             ],
             [
              0.2222222222222222,
              "#7201a8"
             ],
             [
              0.3333333333333333,
              "#9c179e"
             ],
             [
              0.4444444444444444,
              "#bd3786"
             ],
             [
              0.5555555555555556,
              "#d8576b"
             ],
             [
              0.6666666666666666,
              "#ed7953"
             ],
             [
              0.7777777777777778,
              "#fb9f3a"
             ],
             [
              0.8888888888888888,
              "#fdca26"
             ],
             [
              1,
              "#f0f921"
             ]
            ],
            "type": "heatmap"
           }
          ],
          "histogram": [
           {
            "marker": {
             "pattern": {
              "fillmode": "overlay",
              "size": 10,
              "solidity": 0.2
             }
            },
            "type": "histogram"
           }
          ],
          "histogram2d": [
           {
            "colorbar": {
             "outlinewidth": 0,
             "ticks": ""
            },
            "colorscale": [
             [
              0,
              "#0d0887"
             ],
             [
              0.1111111111111111,
              "#46039f"
             ],
             [
              0.2222222222222222,
              "#7201a8"
             ],
             [
              0.3333333333333333,
              "#9c179e"
             ],
             [
              0.4444444444444444,
              "#bd3786"
             ],
             [
              0.5555555555555556,
              "#d8576b"
             ],
             [
              0.6666666666666666,
              "#ed7953"
             ],
             [
              0.7777777777777778,
              "#fb9f3a"
             ],
             [
              0.8888888888888888,
              "#fdca26"
             ],
             [
              1,
              "#f0f921"
             ]
            ],
            "type": "histogram2d"
           }
          ],
          "histogram2dcontour": [
           {
            "colorbar": {
             "outlinewidth": 0,
             "ticks": ""
            },
            "colorscale": [
             [
              0,
              "#0d0887"
             ],
             [
              0.1111111111111111,
              "#46039f"
             ],
             [
              0.2222222222222222,
              "#7201a8"
             ],
             [
              0.3333333333333333,
              "#9c179e"
             ],
             [
              0.4444444444444444,
              "#bd3786"
             ],
             [
              0.5555555555555556,
              "#d8576b"
             ],
             [
              0.6666666666666666,
              "#ed7953"
             ],
             [
              0.7777777777777778,
              "#fb9f3a"
             ],
             [
              0.8888888888888888,
              "#fdca26"
             ],
             [
              1,
              "#f0f921"
             ]
            ],
            "type": "histogram2dcontour"
           }
          ],
          "mesh3d": [
           {
            "colorbar": {
             "outlinewidth": 0,
             "ticks": ""
            },
            "type": "mesh3d"
           }
          ],
          "parcoords": [
           {
            "line": {
             "colorbar": {
              "outlinewidth": 0,
              "ticks": ""
             }
            },
            "type": "parcoords"
           }
          ],
          "pie": [
           {
            "automargin": true,
            "type": "pie"
           }
          ],
          "scatter": [
           {
            "fillpattern": {
             "fillmode": "overlay",
             "size": 10,
             "solidity": 0.2
            },
            "type": "scatter"
           }
          ],
          "scatter3d": [
           {
            "line": {
             "colorbar": {
              "outlinewidth": 0,
              "ticks": ""
             }
            },
            "marker": {
             "colorbar": {
              "outlinewidth": 0,
              "ticks": ""
             }
            },
            "type": "scatter3d"
           }
          ],
          "scattercarpet": [
           {
            "marker": {
             "colorbar": {
              "outlinewidth": 0,
              "ticks": ""
             }
            },
            "type": "scattercarpet"
           }
          ],
          "scattergeo": [
           {
            "marker": {
             "colorbar": {
              "outlinewidth": 0,
              "ticks": ""
             }
            },
            "type": "scattergeo"
           }
          ],
          "scattergl": [
           {
            "marker": {
             "colorbar": {
              "outlinewidth": 0,
              "ticks": ""
             }
            },
            "type": "scattergl"
           }
          ],
          "scattermap": [
           {
            "marker": {
             "colorbar": {
              "outlinewidth": 0,
              "ticks": ""
             }
            },
            "type": "scattermap"
           }
          ],
          "scattermapbox": [
           {
            "marker": {
             "colorbar": {
              "outlinewidth": 0,
              "ticks": ""
             }
            },
            "type": "scattermapbox"
           }
          ],
          "scatterpolar": [
           {
            "marker": {
             "colorbar": {
              "outlinewidth": 0,
              "ticks": ""
             }
            },
            "type": "scatterpolar"
           }
          ],
          "scatterpolargl": [
           {
            "marker": {
             "colorbar": {
              "outlinewidth": 0,
              "ticks": ""
             }
            },
            "type": "scatterpolargl"
           }
          ],
          "scatterternary": [
           {
            "marker": {
             "colorbar": {
              "outlinewidth": 0,
              "ticks": ""
             }
            },
            "type": "scatterternary"
           }
          ],
          "surface": [
           {
            "colorbar": {
             "outlinewidth": 0,
             "ticks": ""
            },
            "colorscale": [
             [
              0,
              "#0d0887"
             ],
             [
              0.1111111111111111,
              "#46039f"
             ],
             [
              0.2222222222222222,
              "#7201a8"
             ],
             [
              0.3333333333333333,
              "#9c179e"
             ],
             [
              0.4444444444444444,
              "#bd3786"
             ],
             [
              0.5555555555555556,
              "#d8576b"
             ],
             [
              0.6666666666666666,
              "#ed7953"
             ],
             [
              0.7777777777777778,
              "#fb9f3a"
             ],
             [
              0.8888888888888888,
              "#fdca26"
             ],
             [
              1,
              "#f0f921"
             ]
            ],
            "type": "surface"
           }
          ],
          "table": [
           {
            "cells": {
             "fill": {
              "color": "#EBF0F8"
             },
             "line": {
              "color": "white"
             }
            },
            "header": {
             "fill": {
              "color": "#C8D4E3"
             },
             "line": {
              "color": "white"
             }
            },
            "type": "table"
           }
          ]
         },
         "layout": {
          "annotationdefaults": {
           "arrowcolor": "#2a3f5f",
           "arrowhead": 0,
           "arrowwidth": 1
          },
          "autotypenumbers": "strict",
          "coloraxis": {
           "colorbar": {
            "outlinewidth": 0,
            "ticks": ""
           }
          },
          "colorscale": {
           "diverging": [
            [
             0,
             "#8e0152"
            ],
            [
             0.1,
             "#c51b7d"
            ],
            [
             0.2,
             "#de77ae"
            ],
            [
             0.3,
             "#f1b6da"
            ],
            [
             0.4,
             "#fde0ef"
            ],
            [
             0.5,
             "#f7f7f7"
            ],
            [
             0.6,
             "#e6f5d0"
            ],
            [
             0.7,
             "#b8e186"
            ],
            [
             0.8,
             "#7fbc41"
            ],
            [
             0.9,
             "#4d9221"
            ],
            [
             1,
             "#276419"
            ]
           ],
           "sequential": [
            [
             0,
             "#0d0887"
            ],
            [
             0.1111111111111111,
             "#46039f"
            ],
            [
             0.2222222222222222,
             "#7201a8"
            ],
            [
             0.3333333333333333,
             "#9c179e"
            ],
            [
             0.4444444444444444,
             "#bd3786"
            ],
            [
             0.5555555555555556,
             "#d8576b"
            ],
            [
             0.6666666666666666,
             "#ed7953"
            ],
            [
             0.7777777777777778,
             "#fb9f3a"
            ],
            [
             0.8888888888888888,
             "#fdca26"
            ],
            [
             1,
             "#f0f921"
            ]
           ],
           "sequentialminus": [
            [
             0,
             "#0d0887"
            ],
            [
             0.1111111111111111,
             "#46039f"
            ],
            [
             0.2222222222222222,
             "#7201a8"
            ],
            [
             0.3333333333333333,
             "#9c179e"
            ],
            [
             0.4444444444444444,
             "#bd3786"
            ],
            [
             0.5555555555555556,
             "#d8576b"
            ],
            [
             0.6666666666666666,
             "#ed7953"
            ],
            [
             0.7777777777777778,
             "#fb9f3a"
            ],
            [
             0.8888888888888888,
             "#fdca26"
            ],
            [
             1,
             "#f0f921"
            ]
           ]
          },
          "colorway": [
           "#636efa",
           "#EF553B",
           "#00cc96",
           "#ab63fa",
           "#FFA15A",
           "#19d3f3",
           "#FF6692",
           "#B6E880",
           "#FF97FF",
           "#FECB52"
          ],
          "font": {
           "color": "#2a3f5f"
          },
          "geo": {
           "bgcolor": "white",
           "lakecolor": "white",
           "landcolor": "#E5ECF6",
           "showlakes": true,
           "showland": true,
           "subunitcolor": "white"
          },
          "hoverlabel": {
           "align": "left"
          },
          "hovermode": "closest",
          "mapbox": {
           "style": "light"
          },
          "paper_bgcolor": "white",
          "plot_bgcolor": "#E5ECF6",
          "polar": {
           "angularaxis": {
            "gridcolor": "white",
            "linecolor": "white",
            "ticks": ""
           },
           "bgcolor": "#E5ECF6",
           "radialaxis": {
            "gridcolor": "white",
            "linecolor": "white",
            "ticks": ""
           }
          },
          "scene": {
           "xaxis": {
            "backgroundcolor": "#E5ECF6",
            "gridcolor": "white",
            "gridwidth": 2,
            "linecolor": "white",
            "showbackground": true,
            "ticks": "",
            "zerolinecolor": "white"
           },
           "yaxis": {
            "backgroundcolor": "#E5ECF6",
            "gridcolor": "white",
            "gridwidth": 2,
            "linecolor": "white",
            "showbackground": true,
            "ticks": "",
            "zerolinecolor": "white"
           },
           "zaxis": {
            "backgroundcolor": "#E5ECF6",
            "gridcolor": "white",
            "gridwidth": 2,
            "linecolor": "white",
            "showbackground": true,
            "ticks": "",
            "zerolinecolor": "white"
           }
          },
          "shapedefaults": {
           "line": {
            "color": "#2a3f5f"
           }
          },
          "ternary": {
           "aaxis": {
            "gridcolor": "white",
            "linecolor": "white",
            "ticks": ""
           },
           "baxis": {
            "gridcolor": "white",
            "linecolor": "white",
            "ticks": ""
           },
           "bgcolor": "#E5ECF6",
           "caxis": {
            "gridcolor": "white",
            "linecolor": "white",
            "ticks": ""
           }
          },
          "title": {
           "x": 0.05
          },
          "xaxis": {
           "automargin": true,
           "gridcolor": "white",
           "linecolor": "white",
           "ticks": "",
           "title": {
            "standoff": 15
           },
           "zerolinecolor": "white",
           "zerolinewidth": 2
          },
          "yaxis": {
           "automargin": true,
           "gridcolor": "white",
           "linecolor": "white",
           "ticks": "",
           "title": {
            "standoff": 15
           },
           "zerolinecolor": "white",
           "zerolinewidth": 2
          }
         }
        },
        "title": {
         "font": {
          "color": "#023E8A",
          "size": 18
         },
         "text": "Perfil dos Pacientes vs Tempo de Espera para Confecção da FAV"
        },
        "xaxis": {
         "anchor": "y",
         "domain": [
          0,
          1
         ],
         "gridcolor": "#F8F9FA",
         "linecolor": "#6C757D",
         "title": {
          "text": "Idade"
         }
        },
        "yaxis": {
         "anchor": "x",
         "domain": [
          0,
          1
         ],
         "gridcolor": "#F8F9FA",
         "linecolor": "#6C757D",
         "title": {
          "text": "Tempo de espera (dias)"
         }
        }
       }
      }
     },
     "metadata": {},
     "output_type": "display_data"
    }
   ],
   "source": [
    "fig1_p3 = px.scatter(\n",
    "    df_perfil,\n",
    "    x='idade',\n",
    "    y='tempo_entre_fav_e_primeira_dialise',\n",
    "    color='genero',\n",
    "    labels={\n",
    "        'idade': 'Idade',\n",
    "        'tempo_entre_fav_e_primeira_dialise': 'Tempo de espera (dias)',\n",
    "        'genero': 'Gênero'\n",
    "    },\n",
    "    title='Perfil dos Pacientes vs Tempo de Espera para Confecção da FAV',\n",
    "    color_discrete_map=genero_cores\n",
    ")\n",
    "\n",
    "# Layout com paleta médica\n",
    "fig1_p3.update_layout(\n",
    "    plot_bgcolor=paleta['fundo'],\n",
    "    paper_bgcolor=paleta['fundo'],\n",
    "    font=dict(color=paleta['quarto']),\n",
    "    title_font=dict(size=18, color=paleta['quarto']),\n",
    "    xaxis=dict(\n",
    "        title='Idade',\n",
    "        gridcolor=paleta['quinto'],\n",
    "        linecolor=paleta['texto']\n",
    "    ),\n",
    "    yaxis=dict(\n",
    "        title='Tempo de espera (dias)',\n",
    "        gridcolor=paleta['quinto'],\n",
    "        linecolor=paleta['texto']\n",
    "    )\n",
    ")\n",
    "\n",
    "fig1_p3.show()"
   ]
  },
  {
   "cell_type": "code",
   "execution_count": 42,
   "id": "81ba80c1",
   "metadata": {},
   "outputs": [
    {
     "name": "stderr",
     "output_type": "stream",
     "text": [
      "C:\\Users\\Marnie\\AppData\\Local\\Temp\\ipykernel_17740\\1246220067.py:3: FutureWarning:\n",
      "\n",
      "The default of observed=False is deprecated and will be changed to True in a future version of pandas. Pass observed=False to retain current behavior or observed=True to adopt the future default and silence this warning.\n",
      "\n"
     ]
    },
    {
     "data": {
      "application/vnd.plotly.v1+json": {
       "config": {
        "plotlyServerURL": "https://plot.ly"
       },
       "data": [
        {
         "hovertemplate": "genero=F<br>perfil_paciente=%{x}<br>tempo_entre_fav_e_primeira_dialise=%{y}<extra></extra>",
         "legendgroup": "F",
         "marker": {
          "color": "#023E8A",
          "pattern": {
           "shape": ""
          }
         },
         "name": "F",
         "orientation": "v",
         "showlegend": true,
         "textposition": "outside",
         "texttemplate": "%{y:.1f}",
         "type": "bar",
         "x": [
          "Jovem",
          "Adulto Jovem",
          "Meia Idade",
          "Idoso"
         ],
         "xaxis": "x",
         "y": {
          "bdata": "AAAAAAD+eEDpA6pjb914QJd3wJGiuXZAdIxzjHMscEA=",
          "dtype": "f8"
         },
         "yaxis": "y"
        },
        {
         "hovertemplate": "genero=M<br>perfil_paciente=%{x}<br>tempo_entre_fav_e_primeira_dialise=%{y}<extra></extra>",
         "legendgroup": "M",
         "marker": {
          "color": "#90E0EF",
          "pattern": {
           "shape": ""
          }
         },
         "name": "M",
         "orientation": "v",
         "showlegend": true,
         "textposition": "outside",
         "texttemplate": "%{y:.1f}",
         "type": "bar",
         "x": [
          "Jovem",
          "Adulto Jovem",
          "Meia Idade",
          "Idoso"
         ],
         "xaxis": "x",
         "y": {
          "bdata": "sRM7sROLhEDHcRzHcSd1QDVXczVXM21AQyWOho+wakA=",
          "dtype": "f8"
         },
         "yaxis": "y"
        }
       ],
       "layout": {
        "bargap": 0.15,
        "barmode": "stack",
        "font": {
         "color": "#6C757D",
         "family": "Arial, sans-serif",
         "size": 14
        },
        "legend": {
         "title": {
          "text": "Gênero"
         },
         "tracegroupgap": 0
        },
        "paper_bgcolor": "#FFFFFF",
        "plot_bgcolor": "#FFFFFF",
        "template": {
         "data": {
          "bar": [
           {
            "error_x": {
             "color": "#2a3f5f"
            },
            "error_y": {
             "color": "#2a3f5f"
            },
            "marker": {
             "line": {
              "color": "#E5ECF6",
              "width": 0.5
             },
             "pattern": {
              "fillmode": "overlay",
              "size": 10,
              "solidity": 0.2
             }
            },
            "type": "bar"
           }
          ],
          "barpolar": [
           {
            "marker": {
             "line": {
              "color": "#E5ECF6",
              "width": 0.5
             },
             "pattern": {
              "fillmode": "overlay",
              "size": 10,
              "solidity": 0.2
             }
            },
            "type": "barpolar"
           }
          ],
          "carpet": [
           {
            "aaxis": {
             "endlinecolor": "#2a3f5f",
             "gridcolor": "white",
             "linecolor": "white",
             "minorgridcolor": "white",
             "startlinecolor": "#2a3f5f"
            },
            "baxis": {
             "endlinecolor": "#2a3f5f",
             "gridcolor": "white",
             "linecolor": "white",
             "minorgridcolor": "white",
             "startlinecolor": "#2a3f5f"
            },
            "type": "carpet"
           }
          ],
          "choropleth": [
           {
            "colorbar": {
             "outlinewidth": 0,
             "ticks": ""
            },
            "type": "choropleth"
           }
          ],
          "contour": [
           {
            "colorbar": {
             "outlinewidth": 0,
             "ticks": ""
            },
            "colorscale": [
             [
              0,
              "#0d0887"
             ],
             [
              0.1111111111111111,
              "#46039f"
             ],
             [
              0.2222222222222222,
              "#7201a8"
             ],
             [
              0.3333333333333333,
              "#9c179e"
             ],
             [
              0.4444444444444444,
              "#bd3786"
             ],
             [
              0.5555555555555556,
              "#d8576b"
             ],
             [
              0.6666666666666666,
              "#ed7953"
             ],
             [
              0.7777777777777778,
              "#fb9f3a"
             ],
             [
              0.8888888888888888,
              "#fdca26"
             ],
             [
              1,
              "#f0f921"
             ]
            ],
            "type": "contour"
           }
          ],
          "contourcarpet": [
           {
            "colorbar": {
             "outlinewidth": 0,
             "ticks": ""
            },
            "type": "contourcarpet"
           }
          ],
          "heatmap": [
           {
            "colorbar": {
             "outlinewidth": 0,
             "ticks": ""
            },
            "colorscale": [
             [
              0,
              "#0d0887"
             ],
             [
              0.1111111111111111,
              "#46039f"
             ],
             [
              0.2222222222222222,
              "#7201a8"
             ],
             [
              0.3333333333333333,
              "#9c179e"
             ],
             [
              0.4444444444444444,
              "#bd3786"
             ],
             [
              0.5555555555555556,
              "#d8576b"
             ],
             [
              0.6666666666666666,
              "#ed7953"
             ],
             [
              0.7777777777777778,
              "#fb9f3a"
             ],
             [
              0.8888888888888888,
              "#fdca26"
             ],
             [
              1,
              "#f0f921"
             ]
            ],
            "type": "heatmap"
           }
          ],
          "histogram": [
           {
            "marker": {
             "pattern": {
              "fillmode": "overlay",
              "size": 10,
              "solidity": 0.2
             }
            },
            "type": "histogram"
           }
          ],
          "histogram2d": [
           {
            "colorbar": {
             "outlinewidth": 0,
             "ticks": ""
            },
            "colorscale": [
             [
              0,
              "#0d0887"
             ],
             [
              0.1111111111111111,
              "#46039f"
             ],
             [
              0.2222222222222222,
              "#7201a8"
             ],
             [
              0.3333333333333333,
              "#9c179e"
             ],
             [
              0.4444444444444444,
              "#bd3786"
             ],
             [
              0.5555555555555556,
              "#d8576b"
             ],
             [
              0.6666666666666666,
              "#ed7953"
             ],
             [
              0.7777777777777778,
              "#fb9f3a"
             ],
             [
              0.8888888888888888,
              "#fdca26"
             ],
             [
              1,
              "#f0f921"
             ]
            ],
            "type": "histogram2d"
           }
          ],
          "histogram2dcontour": [
           {
            "colorbar": {
             "outlinewidth": 0,
             "ticks": ""
            },
            "colorscale": [
             [
              0,
              "#0d0887"
             ],
             [
              0.1111111111111111,
              "#46039f"
             ],
             [
              0.2222222222222222,
              "#7201a8"
             ],
             [
              0.3333333333333333,
              "#9c179e"
             ],
             [
              0.4444444444444444,
              "#bd3786"
             ],
             [
              0.5555555555555556,
              "#d8576b"
             ],
             [
              0.6666666666666666,
              "#ed7953"
             ],
             [
              0.7777777777777778,
              "#fb9f3a"
             ],
             [
              0.8888888888888888,
              "#fdca26"
             ],
             [
              1,
              "#f0f921"
             ]
            ],
            "type": "histogram2dcontour"
           }
          ],
          "mesh3d": [
           {
            "colorbar": {
             "outlinewidth": 0,
             "ticks": ""
            },
            "type": "mesh3d"
           }
          ],
          "parcoords": [
           {
            "line": {
             "colorbar": {
              "outlinewidth": 0,
              "ticks": ""
             }
            },
            "type": "parcoords"
           }
          ],
          "pie": [
           {
            "automargin": true,
            "type": "pie"
           }
          ],
          "scatter": [
           {
            "fillpattern": {
             "fillmode": "overlay",
             "size": 10,
             "solidity": 0.2
            },
            "type": "scatter"
           }
          ],
          "scatter3d": [
           {
            "line": {
             "colorbar": {
              "outlinewidth": 0,
              "ticks": ""
             }
            },
            "marker": {
             "colorbar": {
              "outlinewidth": 0,
              "ticks": ""
             }
            },
            "type": "scatter3d"
           }
          ],
          "scattercarpet": [
           {
            "marker": {
             "colorbar": {
              "outlinewidth": 0,
              "ticks": ""
             }
            },
            "type": "scattercarpet"
           }
          ],
          "scattergeo": [
           {
            "marker": {
             "colorbar": {
              "outlinewidth": 0,
              "ticks": ""
             }
            },
            "type": "scattergeo"
           }
          ],
          "scattergl": [
           {
            "marker": {
             "colorbar": {
              "outlinewidth": 0,
              "ticks": ""
             }
            },
            "type": "scattergl"
           }
          ],
          "scattermap": [
           {
            "marker": {
             "colorbar": {
              "outlinewidth": 0,
              "ticks": ""
             }
            },
            "type": "scattermap"
           }
          ],
          "scattermapbox": [
           {
            "marker": {
             "colorbar": {
              "outlinewidth": 0,
              "ticks": ""
             }
            },
            "type": "scattermapbox"
           }
          ],
          "scatterpolar": [
           {
            "marker": {
             "colorbar": {
              "outlinewidth": 0,
              "ticks": ""
             }
            },
            "type": "scatterpolar"
           }
          ],
          "scatterpolargl": [
           {
            "marker": {
             "colorbar": {
              "outlinewidth": 0,
              "ticks": ""
             }
            },
            "type": "scatterpolargl"
           }
          ],
          "scatterternary": [
           {
            "marker": {
             "colorbar": {
              "outlinewidth": 0,
              "ticks": ""
             }
            },
            "type": "scatterternary"
           }
          ],
          "surface": [
           {
            "colorbar": {
             "outlinewidth": 0,
             "ticks": ""
            },
            "colorscale": [
             [
              0,
              "#0d0887"
             ],
             [
              0.1111111111111111,
              "#46039f"
             ],
             [
              0.2222222222222222,
              "#7201a8"
             ],
             [
              0.3333333333333333,
              "#9c179e"
             ],
             [
              0.4444444444444444,
              "#bd3786"
             ],
             [
              0.5555555555555556,
              "#d8576b"
             ],
             [
              0.6666666666666666,
              "#ed7953"
             ],
             [
              0.7777777777777778,
              "#fb9f3a"
             ],
             [
              0.8888888888888888,
              "#fdca26"
             ],
             [
              1,
              "#f0f921"
             ]
            ],
            "type": "surface"
           }
          ],
          "table": [
           {
            "cells": {
             "fill": {
              "color": "#EBF0F8"
             },
             "line": {
              "color": "white"
             }
            },
            "header": {
             "fill": {
              "color": "#C8D4E3"
             },
             "line": {
              "color": "white"
             }
            },
            "type": "table"
           }
          ]
         },
         "layout": {
          "annotationdefaults": {
           "arrowcolor": "#2a3f5f",
           "arrowhead": 0,
           "arrowwidth": 1
          },
          "autotypenumbers": "strict",
          "coloraxis": {
           "colorbar": {
            "outlinewidth": 0,
            "ticks": ""
           }
          },
          "colorscale": {
           "diverging": [
            [
             0,
             "#8e0152"
            ],
            [
             0.1,
             "#c51b7d"
            ],
            [
             0.2,
             "#de77ae"
            ],
            [
             0.3,
             "#f1b6da"
            ],
            [
             0.4,
             "#fde0ef"
            ],
            [
             0.5,
             "#f7f7f7"
            ],
            [
             0.6,
             "#e6f5d0"
            ],
            [
             0.7,
             "#b8e186"
            ],
            [
             0.8,
             "#7fbc41"
            ],
            [
             0.9,
             "#4d9221"
            ],
            [
             1,
             "#276419"
            ]
           ],
           "sequential": [
            [
             0,
             "#0d0887"
            ],
            [
             0.1111111111111111,
             "#46039f"
            ],
            [
             0.2222222222222222,
             "#7201a8"
            ],
            [
             0.3333333333333333,
             "#9c179e"
            ],
            [
             0.4444444444444444,
             "#bd3786"
            ],
            [
             0.5555555555555556,
             "#d8576b"
            ],
            [
             0.6666666666666666,
             "#ed7953"
            ],
            [
             0.7777777777777778,
             "#fb9f3a"
            ],
            [
             0.8888888888888888,
             "#fdca26"
            ],
            [
             1,
             "#f0f921"
            ]
           ],
           "sequentialminus": [
            [
             0,
             "#0d0887"
            ],
            [
             0.1111111111111111,
             "#46039f"
            ],
            [
             0.2222222222222222,
             "#7201a8"
            ],
            [
             0.3333333333333333,
             "#9c179e"
            ],
            [
             0.4444444444444444,
             "#bd3786"
            ],
            [
             0.5555555555555556,
             "#d8576b"
            ],
            [
             0.6666666666666666,
             "#ed7953"
            ],
            [
             0.7777777777777778,
             "#fb9f3a"
            ],
            [
             0.8888888888888888,
             "#fdca26"
            ],
            [
             1,
             "#f0f921"
            ]
           ]
          },
          "colorway": [
           "#636efa",
           "#EF553B",
           "#00cc96",
           "#ab63fa",
           "#FFA15A",
           "#19d3f3",
           "#FF6692",
           "#B6E880",
           "#FF97FF",
           "#FECB52"
          ],
          "font": {
           "color": "#2a3f5f"
          },
          "geo": {
           "bgcolor": "white",
           "lakecolor": "white",
           "landcolor": "#E5ECF6",
           "showlakes": true,
           "showland": true,
           "subunitcolor": "white"
          },
          "hoverlabel": {
           "align": "left"
          },
          "hovermode": "closest",
          "mapbox": {
           "style": "light"
          },
          "paper_bgcolor": "white",
          "plot_bgcolor": "#E5ECF6",
          "polar": {
           "angularaxis": {
            "gridcolor": "white",
            "linecolor": "white",
            "ticks": ""
           },
           "bgcolor": "#E5ECF6",
           "radialaxis": {
            "gridcolor": "white",
            "linecolor": "white",
            "ticks": ""
           }
          },
          "scene": {
           "xaxis": {
            "backgroundcolor": "#E5ECF6",
            "gridcolor": "white",
            "gridwidth": 2,
            "linecolor": "white",
            "showbackground": true,
            "ticks": "",
            "zerolinecolor": "white"
           },
           "yaxis": {
            "backgroundcolor": "#E5ECF6",
            "gridcolor": "white",
            "gridwidth": 2,
            "linecolor": "white",
            "showbackground": true,
            "ticks": "",
            "zerolinecolor": "white"
           },
           "zaxis": {
            "backgroundcolor": "#E5ECF6",
            "gridcolor": "white",
            "gridwidth": 2,
            "linecolor": "white",
            "showbackground": true,
            "ticks": "",
            "zerolinecolor": "white"
           }
          },
          "shapedefaults": {
           "line": {
            "color": "#2a3f5f"
           }
          },
          "ternary": {
           "aaxis": {
            "gridcolor": "white",
            "linecolor": "white",
            "ticks": ""
           },
           "baxis": {
            "gridcolor": "white",
            "linecolor": "white",
            "ticks": ""
           },
           "bgcolor": "#E5ECF6",
           "caxis": {
            "gridcolor": "white",
            "linecolor": "white",
            "ticks": ""
           }
          },
          "title": {
           "x": 0.05
          },
          "xaxis": {
           "automargin": true,
           "gridcolor": "white",
           "linecolor": "white",
           "ticks": "",
           "title": {
            "standoff": 15
           },
           "zerolinecolor": "white",
           "zerolinewidth": 2
          },
          "yaxis": {
           "automargin": true,
           "gridcolor": "white",
           "linecolor": "white",
           "ticks": "",
           "title": {
            "standoff": 15
           },
           "zerolinecolor": "white",
           "zerolinewidth": 2
          }
         }
        },
        "title": {
         "text": "Tempo Médio de Espera por Perfil de Paciente e Gênero",
         "x": 0.5,
         "xanchor": "center",
         "y": 0.95,
         "yanchor": "top"
        },
        "xaxis": {
         "anchor": "y",
         "domain": [
          0,
          1
         ],
         "gridcolor": "lightgrey",
         "linecolor": "black",
         "linewidth": 1,
         "showline": true,
         "title": {
          "text": "Perfil do Paciente"
         }
        },
        "yaxis": {
         "anchor": "x",
         "domain": [
          0,
          1
         ],
         "gridcolor": "lightgrey",
         "linecolor": "black",
         "linewidth": 1,
         "showline": true,
         "title": {
          "text": "Tempo Médio de Espera (dias)"
         }
        }
       }
      }
     },
     "metadata": {},
     "output_type": "display_data"
    }
   ],
   "source": [
    "# Agrupar dados por perfil e gênero\n",
    "df_perfil_group = (\n",
    "    df_perfil.groupby(['perfil_paciente', 'genero'])['tempo_entre_fav_e_primeira_dialise']\n",
    "    .mean()\n",
    "    .reset_index()\n",
    ")\n",
    "\n",
    "# Criar o gráfico de barras empilhadas\n",
    "fig2_p3 = px.bar(\n",
    "    df_perfil_group,\n",
    "    x=\"perfil_paciente\",\n",
    "    y=\"tempo_entre_fav_e_primeira_dialise\",\n",
    "    color=\"genero\",\n",
    "    color_discrete_map=genero_cores,\n",
    "    barmode=\"stack\",\n",
    "    text_auto=\".1f\",\n",
    "    title=\"Tempo Médio de Espera entre FAV e Primeira Diálise por Perfil de Paciente e Gênero\"\n",
    ")\n",
    "\n",
    "# Melhorias visuais e layout\n",
    "fig2_p3.update_layout(\n",
    "    title={\n",
    "        'text': 'Tempo Médio de Espera por Perfil de Paciente e Gênero',\n",
    "        'y': 0.95,\n",
    "        'x': 0.5,\n",
    "        'xanchor': 'center',\n",
    "        'yanchor': 'top'\n",
    "    },\n",
    "    xaxis_title=\"Perfil do Paciente\",\n",
    "    yaxis_title=\"Tempo Médio de Espera (dias)\",\n",
    "    font=dict(\n",
    "        family=\"Arial, sans-serif\",\n",
    "        size=14,\n",
    "        color=paleta['texto']\n",
    "    ),\n",
    "    plot_bgcolor=paleta['fundo'],\n",
    "    paper_bgcolor=paleta['fundo'],\n",
    "    xaxis=dict(\n",
    "        showline=True,\n",
    "        linewidth=1,\n",
    "        linecolor='black',\n",
    "        gridcolor='lightgrey'\n",
    "    ),\n",
    "    yaxis=dict(\n",
    "        showline=True,\n",
    "        linewidth=1,\n",
    "        linecolor='black',\n",
    "        gridcolor='lightgrey'\n",
    "    ),\n",
    "    legend_title_text='Gênero',\n",
    "    bargap=0.15\n",
    ")\n",
    "\n",
    "# Ajuste de rótulos nas barras\n",
    "fig2_p3.update_traces(textposition='outside')\n",
    "\n",
    "fig2_p3.show()"
   ]
  },
  {
   "cell_type": "markdown",
   "id": "abb1937f",
   "metadata": {},
   "source": [
    "# 4) Existe variação no tempo de espera para a confecção da FAV entre diferentes unidades hospitalares de Porto Alegre?"
   ]
  },
  {
   "cell_type": "code",
   "execution_count": 43,
   "id": "3a170546",
   "metadata": {},
   "outputs": [
    {
     "data": {
      "text/html": [
       "<div>\n",
       "<style scoped>\n",
       "    .dataframe tbody tr th:only-of-type {\n",
       "        vertical-align: middle;\n",
       "    }\n",
       "\n",
       "    .dataframe tbody tr th {\n",
       "        vertical-align: top;\n",
       "    }\n",
       "\n",
       "    .dataframe thead th {\n",
       "        text-align: right;\n",
       "    }\n",
       "</style>\n",
       "<table border=\"1\" class=\"dataframe\">\n",
       "  <thead>\n",
       "    <tr style=\"text-align: right;\">\n",
       "      <th></th>\n",
       "      <th>data_primeira_dialise</th>\n",
       "      <th>cronico</th>\n",
       "      <th>data_atendimento_dialitico</th>\n",
       "      <th>obito</th>\n",
       "      <th>data_atendimento_fav</th>\n",
       "      <th>genero</th>\n",
       "      <th>idade</th>\n",
       "      <th>hospital</th>\n",
       "      <th>tempo_entre_fav_e_primeira_dialise</th>\n",
       "      <th>tempo_anos</th>\n",
       "      <th>ano_primeira_dialise</th>\n",
       "      <th>ano_mes</th>\n",
       "    </tr>\n",
       "  </thead>\n",
       "  <tbody>\n",
       "    <tr>\n",
       "      <th>49</th>\n",
       "      <td>2021-04-26</td>\n",
       "      <td>cronico</td>\n",
       "      <td>2021-07-01</td>\n",
       "      <td>0</td>\n",
       "      <td>2021-05-01</td>\n",
       "      <td>M</td>\n",
       "      <td>47</td>\n",
       "      <td>2262509.0</td>\n",
       "      <td>5</td>\n",
       "      <td>0.013689</td>\n",
       "      <td>2021</td>\n",
       "      <td>2021-04</td>\n",
       "    </tr>\n",
       "    <tr>\n",
       "      <th>40</th>\n",
       "      <td>2019-08-29</td>\n",
       "      <td>cronico</td>\n",
       "      <td>2019-11-01</td>\n",
       "      <td>0</td>\n",
       "      <td>2019-09-01</td>\n",
       "      <td>M</td>\n",
       "      <td>63</td>\n",
       "      <td>2262770.0</td>\n",
       "      <td>3</td>\n",
       "      <td>0.008214</td>\n",
       "      <td>2019</td>\n",
       "      <td>2019-08</td>\n",
       "    </tr>\n",
       "    <tr>\n",
       "      <th>35</th>\n",
       "      <td>2022-08-29</td>\n",
       "      <td>cronico</td>\n",
       "      <td>2023-01-01</td>\n",
       "      <td>0</td>\n",
       "      <td>2022-09-01</td>\n",
       "      <td>F</td>\n",
       "      <td>21</td>\n",
       "      <td>2237253.0</td>\n",
       "      <td>3</td>\n",
       "      <td>0.008214</td>\n",
       "      <td>2022</td>\n",
       "      <td>2022-08</td>\n",
       "    </tr>\n",
       "    <tr>\n",
       "      <th>19</th>\n",
       "      <td>2016-12-01</td>\n",
       "      <td>cronico</td>\n",
       "      <td>2017-03-01</td>\n",
       "      <td>0</td>\n",
       "      <td>2023-08-01</td>\n",
       "      <td>M</td>\n",
       "      <td>29</td>\n",
       "      <td>2262568.0</td>\n",
       "      <td>2434</td>\n",
       "      <td>6.663929</td>\n",
       "      <td>2016</td>\n",
       "      <td>2016-12</td>\n",
       "    </tr>\n",
       "    <tr>\n",
       "      <th>37</th>\n",
       "      <td>2019-10-29</td>\n",
       "      <td>cronico</td>\n",
       "      <td>2020-01-01</td>\n",
       "      <td>0</td>\n",
       "      <td>2019-11-01</td>\n",
       "      <td>M</td>\n",
       "      <td>62</td>\n",
       "      <td>2262770.0</td>\n",
       "      <td>3</td>\n",
       "      <td>0.008214</td>\n",
       "      <td>2019</td>\n",
       "      <td>2019-10</td>\n",
       "    </tr>\n",
       "  </tbody>\n",
       "</table>\n",
       "</div>"
      ],
      "text/plain": [
       "   data_primeira_dialise  cronico data_atendimento_dialitico  obito  \\\n",
       "49            2021-04-26  cronico                 2021-07-01      0   \n",
       "40            2019-08-29  cronico                 2019-11-01      0   \n",
       "35            2022-08-29  cronico                 2023-01-01      0   \n",
       "19            2016-12-01  cronico                 2017-03-01      0   \n",
       "37            2019-10-29  cronico                 2020-01-01      0   \n",
       "\n",
       "   data_atendimento_fav genero  idade   hospital  \\\n",
       "49           2021-05-01      M     47  2262509.0   \n",
       "40           2019-09-01      M     63  2262770.0   \n",
       "35           2022-09-01      F     21  2237253.0   \n",
       "19           2023-08-01      M     29  2262568.0   \n",
       "37           2019-11-01      M     62  2262770.0   \n",
       "\n",
       "    tempo_entre_fav_e_primeira_dialise  tempo_anos  ano_primeira_dialise  \\\n",
       "49                                   5    0.013689                  2021   \n",
       "40                                   3    0.008214                  2019   \n",
       "35                                   3    0.008214                  2022   \n",
       "19                                2434    6.663929                  2016   \n",
       "37                                   3    0.008214                  2019   \n",
       "\n",
       "    ano_mes  \n",
       "49  2021-04  \n",
       "40  2019-08  \n",
       "35  2022-08  \n",
       "19  2016-12  \n",
       "37  2019-10  "
      ]
     },
     "execution_count": 43,
     "metadata": {},
     "output_type": "execute_result"
    }
   ],
   "source": [
    "df_espera['hospital'] = df_espera['hospital'].astype(str)\n",
    "\n",
    "top_25_maiores = df_espera.sort_values(by='tempo_entre_fav_e_primeira_dialise', ascending=False).head(25)\n",
    "\n",
    "top_25_menores = df_espera.sort_values(by='tempo_entre_fav_e_primeira_dialise', ascending=True).head(25)\n",
    "\n",
    "df_extremos = pd.concat([top_25_maiores, top_25_menores]).reset_index(drop=True)\n",
    "df_extremos[['hospital', 'idade', 'genero', 'tempo_entre_fav_e_primeira_dialise', 'data_primeira_dialise', 'data_atendimento_fav']]\n",
    "df_extremos.sample(5)"
   ]
  },
  {
   "cell_type": "code",
   "execution_count": 44,
   "id": "abfe5993",
   "metadata": {},
   "outputs": [
    {
     "data": {
      "application/vnd.plotly.v1+json": {
       "config": {
        "plotlyServerURL": "https://plot.ly"
       },
       "data": [
        {
         "colorbar": {
          "title": {
           "text": "Tempo médio (dias)"
          }
         },
         "colorscale": [
          [
           0,
           "rgb(99,99,99)"
          ],
          [
           0.00001,
           "rgb(239,243,255)"
          ],
          [
           0.2,
           "rgb(189,215,231)"
          ],
          [
           0.4,
           "rgb(107,174,214)"
          ],
          [
           0.6,
           "rgb(33,113,181)"
          ],
          [
           1,
           "rgb(8,48,107)"
          ]
         ],
         "hoverinfo": "text",
         "hoverongaps": false,
         "text": [
          [
           "Hospital: 2223538.0<br>Ano: 2014<br><b>Sem informação</b>",
           "Hospital: 2223538.0<br>Ano: 2015<br><b>Sem informação</b>",
           "Hospital: 2223538.0<br>Ano: 2016<br><b>Sem informação</b>",
           "Hospital: 2223538.0<br>Ano: 2017<br><b>Sem informação</b>",
           "Hospital: 2223538.0<br>Ano: 2018<br><b>Sem informação</b>",
           "Hospital: 2223538.0<br>Ano: 2019<br><b>Sem informação</b>",
           "Hospital: 2223538.0<br>Ano: 2020<br><b>Sem informação</b>",
           "Hospital: 2223538.0<br>Ano: 2021<br><b>Sem informação</b>",
           "Hospital: 2223538.0<br>Ano: 2022<br>Tempo médio: 741 dias",
           "Hospital: 2223538.0<br>Ano: 2023<br><b>Sem informação</b>",
           "Hospital: 2223538.0<br>Ano: 2024<br><b>Sem informação</b>"
          ],
          [
           "Hospital: 2226952.0<br>Ano: 2014<br>Tempo médio: 1601 dias",
           "Hospital: 2226952.0<br>Ano: 2015<br>Tempo médio: 71 dias",
           "Hospital: 2226952.0<br>Ano: 2016<br><b>Sem informação</b>",
           "Hospital: 2226952.0<br>Ano: 2017<br><b>Sem informação</b>",
           "Hospital: 2226952.0<br>Ano: 2018<br><b>Sem informação</b>",
           "Hospital: 2226952.0<br>Ano: 2019<br><b>Sem informação</b>",
           "Hospital: 2226952.0<br>Ano: 2020<br>Tempo médio: 237 dias",
           "Hospital: 2226952.0<br>Ano: 2021<br><b>Sem informação</b>",
           "Hospital: 2226952.0<br>Ano: 2022<br><b>Sem informação</b>",
           "Hospital: 2226952.0<br>Ano: 2023<br><b>Sem informação</b>",
           "Hospital: 2226952.0<br>Ano: 2024<br><b>Sem informação</b>"
          ],
          [
           "Hospital: 2227290.0<br>Ano: 2014<br><b>Sem informação</b>",
           "Hospital: 2227290.0<br>Ano: 2015<br><b>Sem informação</b>",
           "Hospital: 2227290.0<br>Ano: 2016<br>Tempo médio: 762 dias",
           "Hospital: 2227290.0<br>Ano: 2017<br>Tempo médio: 49 dias",
           "Hospital: 2227290.0<br>Ano: 2018<br><b>Sem informação</b>",
           "Hospital: 2227290.0<br>Ano: 2019<br><b>Sem informação</b>",
           "Hospital: 2227290.0<br>Ano: 2020<br><b>Sem informação</b>",
           "Hospital: 2227290.0<br>Ano: 2021<br>Tempo médio: 36 dias",
           "Hospital: 2227290.0<br>Ano: 2022<br>Tempo médio: 841 dias",
           "Hospital: 2227290.0<br>Ano: 2023<br><b>Sem informação</b>",
           "Hospital: 2227290.0<br>Ano: 2024<br><b>Sem informação</b>"
          ],
          [
           "Hospital: 2227843.0<br>Ano: 2014<br>Tempo médio: 3625 dias",
           "Hospital: 2227843.0<br>Ano: 2015<br><b>Sem informação</b>",
           "Hospital: 2227843.0<br>Ano: 2016<br><b>Sem informação</b>",
           "Hospital: 2227843.0<br>Ano: 2017<br><b>Sem informação</b>",
           "Hospital: 2227843.0<br>Ano: 2018<br><b>Sem informação</b>",
           "Hospital: 2227843.0<br>Ano: 2019<br><b>Sem informação</b>",
           "Hospital: 2227843.0<br>Ano: 2020<br><b>Sem informação</b>",
           "Hospital: 2227843.0<br>Ano: 2021<br><b>Sem informação</b>",
           "Hospital: 2227843.0<br>Ano: 2022<br><b>Sem informação</b>",
           "Hospital: 2227843.0<br>Ano: 2023<br>Tempo médio: 517 dias",
           "Hospital: 2227843.0<br>Ano: 2024<br><b>Sem informação</b>"
          ],
          [
           "Hospital: 2229706.0<br>Ano: 2014<br><b>Sem informação</b>",
           "Hospital: 2229706.0<br>Ano: 2015<br><b>Sem informação</b>",
           "Hospital: 2229706.0<br>Ano: 2016<br><b>Sem informação</b>",
           "Hospital: 2229706.0<br>Ano: 2017<br><b>Sem informação</b>",
           "Hospital: 2229706.0<br>Ano: 2018<br><b>Sem informação</b>",
           "Hospital: 2229706.0<br>Ano: 2019<br><b>Sem informação</b>",
           "Hospital: 2229706.0<br>Ano: 2020<br>Tempo médio: 28 dias",
           "Hospital: 2229706.0<br>Ano: 2021<br><b>Sem informação</b>",
           "Hospital: 2229706.0<br>Ano: 2022<br><b>Sem informação</b>",
           "Hospital: 2229706.0<br>Ano: 2023<br><b>Sem informação</b>",
           "Hospital: 2229706.0<br>Ano: 2024<br><b>Sem informação</b>"
          ],
          [
           "Hospital: 2230577.0<br>Ano: 2014<br>Tempo médio: 86 dias",
           "Hospital: 2230577.0<br>Ano: 2015<br><b>Sem informação</b>",
           "Hospital: 2230577.0<br>Ano: 2016<br><b>Sem informação</b>",
           "Hospital: 2230577.0<br>Ano: 2017<br><b>Sem informação</b>",
           "Hospital: 2230577.0<br>Ano: 2018<br>Tempo médio: 1041 dias",
           "Hospital: 2230577.0<br>Ano: 2019<br><b>Sem informação</b>",
           "Hospital: 2230577.0<br>Ano: 2020<br><b>Sem informação</b>",
           "Hospital: 2230577.0<br>Ano: 2021<br><b>Sem informação</b>",
           "Hospital: 2230577.0<br>Ano: 2022<br><b>Sem informação</b>",
           "Hospital: 2230577.0<br>Ano: 2023<br><b>Sem informação</b>",
           "Hospital: 2230577.0<br>Ano: 2024<br><b>Sem informação</b>"
          ],
          [
           "Hospital: 2231042.0<br>Ano: 2014<br><b>Sem informação</b>",
           "Hospital: 2231042.0<br>Ano: 2015<br><b>Sem informação</b>",
           "Hospital: 2231042.0<br>Ano: 2016<br><b>Sem informação</b>",
           "Hospital: 2231042.0<br>Ano: 2017<br><b>Sem informação</b>",
           "Hospital: 2231042.0<br>Ano: 2018<br><b>Sem informação</b>",
           "Hospital: 2231042.0<br>Ano: 2019<br><b>Sem informação</b>",
           "Hospital: 2231042.0<br>Ano: 2020<br>Tempo médio: 423 dias",
           "Hospital: 2231042.0<br>Ano: 2021<br>Tempo médio: 1027 dias",
           "Hospital: 2231042.0<br>Ano: 2022<br><b>Sem informação</b>",
           "Hospital: 2231042.0<br>Ano: 2023<br><b>Sem informação</b>",
           "Hospital: 2231042.0<br>Ano: 2024<br><b>Sem informação</b>"
          ],
          [
           "Hospital: 2231069.0<br>Ano: 2014<br>Tempo médio: 1696 dias",
           "Hospital: 2231069.0<br>Ano: 2015<br>Tempo médio: 217 dias",
           "Hospital: 2231069.0<br>Ano: 2016<br>Tempo médio: 171 dias",
           "Hospital: 2231069.0<br>Ano: 2017<br><b>Sem informação</b>",
           "Hospital: 2231069.0<br>Ano: 2018<br><b>Sem informação</b>",
           "Hospital: 2231069.0<br>Ano: 2019<br>Tempo médio: 780 dias",
           "Hospital: 2231069.0<br>Ano: 2020<br>Tempo médio: 102 dias",
           "Hospital: 2231069.0<br>Ano: 2021<br><b>Sem informação</b>",
           "Hospital: 2231069.0<br>Ano: 2022<br>Tempo médio: 252 dias",
           "Hospital: 2231069.0<br>Ano: 2023<br>Tempo médio: 392 dias",
           "Hospital: 2231069.0<br>Ano: 2024<br><b>Sem informação</b>"
          ],
          [
           "Hospital: 2231778.0<br>Ano: 2014<br><b>Sem informação</b>",
           "Hospital: 2231778.0<br>Ano: 2015<br>Tempo médio: 48 dias",
           "Hospital: 2231778.0<br>Ano: 2016<br>Tempo médio: 142 dias",
           "Hospital: 2231778.0<br>Ano: 2017<br><b>Sem informação</b>",
           "Hospital: 2231778.0<br>Ano: 2018<br><b>Sem informação</b>",
           "Hospital: 2231778.0<br>Ano: 2019<br>Tempo médio: 140 dias",
           "Hospital: 2231778.0<br>Ano: 2020<br>Tempo médio: 942 dias",
           "Hospital: 2231778.0<br>Ano: 2021<br>Tempo médio: 260 dias",
           "Hospital: 2231778.0<br>Ano: 2022<br>Tempo médio: 301 dias",
           "Hospital: 2231778.0<br>Ano: 2023<br><b>Sem informação</b>",
           "Hospital: 2231778.0<br>Ano: 2024<br><b>Sem informação</b>"
          ],
          [
           "Hospital: 2232022.0<br>Ano: 2014<br><b>Sem informação</b>",
           "Hospital: 2232022.0<br>Ano: 2015<br><b>Sem informação</b>",
           "Hospital: 2232022.0<br>Ano: 2016<br><b>Sem informação</b>",
           "Hospital: 2232022.0<br>Ano: 2017<br><b>Sem informação</b>",
           "Hospital: 2232022.0<br>Ano: 2018<br><b>Sem informação</b>",
           "Hospital: 2232022.0<br>Ano: 2019<br>Tempo médio: 305 dias",
           "Hospital: 2232022.0<br>Ano: 2020<br>Tempo médio: 57 dias",
           "Hospital: 2232022.0<br>Ano: 2021<br><b>Sem informação</b>",
           "Hospital: 2232022.0<br>Ano: 2022<br>Tempo médio: 334 dias",
           "Hospital: 2232022.0<br>Ano: 2023<br>Tempo médio: 31 dias",
           "Hospital: 2232022.0<br>Ano: 2024<br><b>Sem informação</b>"
          ],
          [
           "Hospital: 2232030.0<br>Ano: 2014<br><b>Sem informação</b>",
           "Hospital: 2232030.0<br>Ano: 2015<br>Tempo médio: 25 dias",
           "Hospital: 2232030.0<br>Ano: 2016<br><b>Sem informação</b>",
           "Hospital: 2232030.0<br>Ano: 2017<br>Tempo médio: 198 dias",
           "Hospital: 2232030.0<br>Ano: 2018<br><b>Sem informação</b>",
           "Hospital: 2232030.0<br>Ano: 2019<br><b>Sem informação</b>",
           "Hospital: 2232030.0<br>Ano: 2020<br><b>Sem informação</b>",
           "Hospital: 2232030.0<br>Ano: 2021<br><b>Sem informação</b>",
           "Hospital: 2232030.0<br>Ano: 2022<br><b>Sem informação</b>",
           "Hospital: 2232030.0<br>Ano: 2023<br><b>Sem informação</b>",
           "Hospital: 2232030.0<br>Ano: 2024<br><b>Sem informação</b>"
          ],
          [
           "Hospital: 2232049.0<br>Ano: 2014<br>Tempo médio: 1026 dias",
           "Hospital: 2232049.0<br>Ano: 2015<br><b>Sem informação</b>",
           "Hospital: 2232049.0<br>Ano: 2016<br><b>Sem informação</b>",
           "Hospital: 2232049.0<br>Ano: 2017<br>Tempo médio: 1368 dias",
           "Hospital: 2232049.0<br>Ano: 2018<br>Tempo médio: 125 dias",
           "Hospital: 2232049.0<br>Ano: 2019<br>Tempo médio: 57 dias",
           "Hospital: 2232049.0<br>Ano: 2020<br><b>Sem informação</b>",
           "Hospital: 2232049.0<br>Ano: 2021<br>Tempo médio: 111 dias",
           "Hospital: 2232049.0<br>Ano: 2022<br>Tempo médio: 115 dias",
           "Hospital: 2232049.0<br>Ano: 2023<br><b>Sem informação</b>",
           "Hospital: 2232049.0<br>Ano: 2024<br><b>Sem informação</b>"
          ],
          [
           "Hospital: 2236370.0<br>Ano: 2014<br><b>Sem informação</b>",
           "Hospital: 2236370.0<br>Ano: 2015<br><b>Sem informação</b>",
           "Hospital: 2236370.0<br>Ano: 2016<br>Tempo médio: 132 dias",
           "Hospital: 2236370.0<br>Ano: 2017<br><b>Sem informação</b>",
           "Hospital: 2236370.0<br>Ano: 2018<br><b>Sem informação</b>",
           "Hospital: 2236370.0<br>Ano: 2019<br><b>Sem informação</b>",
           "Hospital: 2236370.0<br>Ano: 2020<br><b>Sem informação</b>",
           "Hospital: 2236370.0<br>Ano: 2021<br><b>Sem informação</b>",
           "Hospital: 2236370.0<br>Ano: 2022<br><b>Sem informação</b>",
           "Hospital: 2236370.0<br>Ano: 2023<br><b>Sem informação</b>",
           "Hospital: 2236370.0<br>Ano: 2024<br><b>Sem informação</b>"
          ],
          [
           "Hospital: 2237253.0<br>Ano: 2014<br>Tempo médio: 845 dias",
           "Hospital: 2237253.0<br>Ano: 2015<br>Tempo médio: 879 dias",
           "Hospital: 2237253.0<br>Ano: 2016<br>Tempo médio: 433 dias",
           "Hospital: 2237253.0<br>Ano: 2017<br>Tempo médio: 581 dias",
           "Hospital: 2237253.0<br>Ano: 2018<br>Tempo médio: 493 dias",
           "Hospital: 2237253.0<br>Ano: 2019<br>Tempo médio: 364 dias",
           "Hospital: 2237253.0<br>Ano: 2020<br>Tempo médio: 360 dias",
           "Hospital: 2237253.0<br>Ano: 2021<br>Tempo médio: 144 dias",
           "Hospital: 2237253.0<br>Ano: 2022<br>Tempo médio: 227 dias",
           "Hospital: 2237253.0<br>Ano: 2023<br>Tempo médio: 108 dias",
           "Hospital: 2237253.0<br>Ano: 2024<br>Tempo médio: 47 dias"
          ],
          [
           "Hospital: 2237571.0<br>Ano: 2014<br>Tempo médio: 740 dias",
           "Hospital: 2237571.0<br>Ano: 2015<br>Tempo médio: 672 dias",
           "Hospital: 2237571.0<br>Ano: 2016<br>Tempo médio: 371 dias",
           "Hospital: 2237571.0<br>Ano: 2017<br>Tempo médio: 185 dias",
           "Hospital: 2237571.0<br>Ano: 2018<br>Tempo médio: 153 dias",
           "Hospital: 2237571.0<br>Ano: 2019<br>Tempo médio: 689 dias",
           "Hospital: 2237571.0<br>Ano: 2020<br>Tempo médio: 157 dias",
           "Hospital: 2237571.0<br>Ano: 2021<br>Tempo médio: 138 dias",
           "Hospital: 2237571.0<br>Ano: 2022<br>Tempo médio: 306 dias",
           "Hospital: 2237571.0<br>Ano: 2023<br>Tempo médio: 220 dias",
           "Hospital: 2237571.0<br>Ano: 2024<br>Tempo médio: 29 dias"
          ],
          [
           "Hospital: 2237598.0<br>Ano: 2014<br>Tempo médio: 209 dias",
           "Hospital: 2237598.0<br>Ano: 2015<br>Tempo médio: 274 dias",
           "Hospital: 2237598.0<br>Ano: 2016<br>Tempo médio: 41 dias",
           "Hospital: 2237598.0<br>Ano: 2017<br>Tempo médio: 197 dias",
           "Hospital: 2237598.0<br>Ano: 2018<br>Tempo médio: 120 dias",
           "Hospital: 2237598.0<br>Ano: 2019<br>Tempo médio: 53 dias",
           "Hospital: 2237598.0<br>Ano: 2020<br><b>Sem informação</b>",
           "Hospital: 2237598.0<br>Ano: 2021<br><b>Sem informação</b>",
           "Hospital: 2237598.0<br>Ano: 2022<br><b>Sem informação</b>",
           "Hospital: 2237598.0<br>Ano: 2023<br><b>Sem informação</b>",
           "Hospital: 2237598.0<br>Ano: 2024<br><b>Sem informação</b>"
          ],
          [
           "Hospital: 2237601.0<br>Ano: 2014<br>Tempo médio: 920 dias",
           "Hospital: 2237601.0<br>Ano: 2015<br>Tempo médio: 523 dias",
           "Hospital: 2237601.0<br>Ano: 2016<br>Tempo médio: 720 dias",
           "Hospital: 2237601.0<br>Ano: 2017<br>Tempo médio: 202 dias",
           "Hospital: 2237601.0<br>Ano: 2018<br>Tempo médio: 230 dias",
           "Hospital: 2237601.0<br>Ano: 2019<br>Tempo médio: 217 dias",
           "Hospital: 2237601.0<br>Ano: 2020<br>Tempo médio: 261 dias",
           "Hospital: 2237601.0<br>Ano: 2021<br>Tempo médio: 253 dias",
           "Hospital: 2237601.0<br>Ano: 2022<br>Tempo médio: 229 dias",
           "Hospital: 2237601.0<br>Ano: 2023<br>Tempo médio: 130 dias",
           "Hospital: 2237601.0<br>Ano: 2024<br>Tempo médio: 81 dias"
          ],
          [
           "Hospital: 2241048.0<br>Ano: 2014<br><b>Sem informação</b>",
           "Hospital: 2241048.0<br>Ano: 2015<br><b>Sem informação</b>",
           "Hospital: 2241048.0<br>Ano: 2016<br><b>Sem informação</b>",
           "Hospital: 2241048.0<br>Ano: 2017<br>Tempo médio: 2008 dias",
           "Hospital: 2241048.0<br>Ano: 2018<br>Tempo médio: 1412 dias",
           "Hospital: 2241048.0<br>Ano: 2019<br><b>Sem informação</b>",
           "Hospital: 2241048.0<br>Ano: 2020<br><b>Sem informação</b>",
           "Hospital: 2241048.0<br>Ano: 2021<br><b>Sem informação</b>",
           "Hospital: 2241048.0<br>Ano: 2022<br><b>Sem informação</b>",
           "Hospital: 2241048.0<br>Ano: 2023<br><b>Sem informação</b>",
           "Hospital: 2241048.0<br>Ano: 2024<br><b>Sem informação</b>"
          ],
          [
           "Hospital: 2247429.0<br>Ano: 2014<br><b>Sem informação</b>",
           "Hospital: 2247429.0<br>Ano: 2015<br><b>Sem informação</b>",
           "Hospital: 2247429.0<br>Ano: 2016<br><b>Sem informação</b>",
           "Hospital: 2247429.0<br>Ano: 2017<br><b>Sem informação</b>",
           "Hospital: 2247429.0<br>Ano: 2018<br><b>Sem informação</b>",
           "Hospital: 2247429.0<br>Ano: 2019<br><b>Sem informação</b>",
           "Hospital: 2247429.0<br>Ano: 2020<br><b>Sem informação</b>",
           "Hospital: 2247429.0<br>Ano: 2021<br>Tempo médio: 338 dias",
           "Hospital: 2247429.0<br>Ano: 2022<br><b>Sem informação</b>",
           "Hospital: 2247429.0<br>Ano: 2023<br><b>Sem informação</b>",
           "Hospital: 2247429.0<br>Ano: 2024<br><b>Sem informação</b>"
          ],
          [
           "Hospital: 2248204.0<br>Ano: 2014<br><b>Sem informação</b>",
           "Hospital: 2248204.0<br>Ano: 2015<br>Tempo médio: 29 dias",
           "Hospital: 2248204.0<br>Ano: 2016<br><b>Sem informação</b>",
           "Hospital: 2248204.0<br>Ano: 2017<br><b>Sem informação</b>",
           "Hospital: 2248204.0<br>Ano: 2018<br><b>Sem informação</b>",
           "Hospital: 2248204.0<br>Ano: 2019<br><b>Sem informação</b>",
           "Hospital: 2248204.0<br>Ano: 2020<br><b>Sem informação</b>",
           "Hospital: 2248204.0<br>Ano: 2021<br><b>Sem informação</b>",
           "Hospital: 2248204.0<br>Ano: 2022<br><b>Sem informação</b>",
           "Hospital: 2248204.0<br>Ano: 2023<br><b>Sem informação</b>",
           "Hospital: 2248204.0<br>Ano: 2024<br><b>Sem informação</b>"
          ],
          [
           "Hospital: 2252287.0<br>Ano: 2014<br><b>Sem informação</b>",
           "Hospital: 2252287.0<br>Ano: 2015<br><b>Sem informação</b>",
           "Hospital: 2252287.0<br>Ano: 2016<br><b>Sem informação</b>",
           "Hospital: 2252287.0<br>Ano: 2017<br><b>Sem informação</b>",
           "Hospital: 2252287.0<br>Ano: 2018<br><b>Sem informação</b>",
           "Hospital: 2252287.0<br>Ano: 2019<br>Tempo médio: 215 dias",
           "Hospital: 2252287.0<br>Ano: 2020<br><b>Sem informação</b>",
           "Hospital: 2252287.0<br>Ano: 2021<br><b>Sem informação</b>",
           "Hospital: 2252287.0<br>Ano: 2022<br><b>Sem informação</b>",
           "Hospital: 2252287.0<br>Ano: 2023<br><b>Sem informação</b>",
           "Hospital: 2252287.0<br>Ano: 2024<br><b>Sem informação</b>"
          ],
          [
           "Hospital: 2252295.0<br>Ano: 2014<br><b>Sem informação</b>",
           "Hospital: 2252295.0<br>Ano: 2015<br><b>Sem informação</b>",
           "Hospital: 2252295.0<br>Ano: 2016<br><b>Sem informação</b>",
           "Hospital: 2252295.0<br>Ano: 2017<br><b>Sem informação</b>",
           "Hospital: 2252295.0<br>Ano: 2018<br><b>Sem informação</b>",
           "Hospital: 2252295.0<br>Ano: 2019<br><b>Sem informação</b>",
           "Hospital: 2252295.0<br>Ano: 2020<br><b>Sem informação</b>",
           "Hospital: 2252295.0<br>Ano: 2021<br>Tempo médio: 21 dias",
           "Hospital: 2252295.0<br>Ano: 2022<br><b>Sem informação</b>",
           "Hospital: 2252295.0<br>Ano: 2023<br><b>Sem informação</b>",
           "Hospital: 2252295.0<br>Ano: 2024<br><b>Sem informação</b>"
          ],
          [
           "Hospital: 2253046.0<br>Ano: 2014<br>Tempo médio: 3703 dias",
           "Hospital: 2253046.0<br>Ano: 2015<br><b>Sem informação</b>",
           "Hospital: 2253046.0<br>Ano: 2016<br><b>Sem informação</b>",
           "Hospital: 2253046.0<br>Ano: 2017<br><b>Sem informação</b>",
           "Hospital: 2253046.0<br>Ano: 2018<br><b>Sem informação</b>",
           "Hospital: 2253046.0<br>Ano: 2019<br><b>Sem informação</b>",
           "Hospital: 2253046.0<br>Ano: 2020<br><b>Sem informação</b>",
           "Hospital: 2253046.0<br>Ano: 2021<br><b>Sem informação</b>",
           "Hospital: 2253046.0<br>Ano: 2022<br><b>Sem informação</b>",
           "Hospital: 2253046.0<br>Ano: 2023<br><b>Sem informação</b>",
           "Hospital: 2253046.0<br>Ano: 2024<br><b>Sem informação</b>"
          ],
          [
           "Hospital: 2253054.0<br>Ano: 2014<br><b>Sem informação</b>",
           "Hospital: 2253054.0<br>Ano: 2015<br><b>Sem informação</b>",
           "Hospital: 2253054.0<br>Ano: 2016<br><b>Sem informação</b>",
           "Hospital: 2253054.0<br>Ano: 2017<br><b>Sem informação</b>",
           "Hospital: 2253054.0<br>Ano: 2018<br><b>Sem informação</b>",
           "Hospital: 2253054.0<br>Ano: 2019<br>Tempo médio: 701 dias",
           "Hospital: 2253054.0<br>Ano: 2020<br><b>Sem informação</b>",
           "Hospital: 2253054.0<br>Ano: 2021<br><b>Sem informação</b>",
           "Hospital: 2253054.0<br>Ano: 2022<br><b>Sem informação</b>",
           "Hospital: 2253054.0<br>Ano: 2023<br><b>Sem informação</b>",
           "Hospital: 2253054.0<br>Ano: 2024<br><b>Sem informação</b>"
          ],
          [
           "Hospital: 2255456.0<br>Ano: 2014<br><b>Sem informação</b>",
           "Hospital: 2255456.0<br>Ano: 2015<br><b>Sem informação</b>",
           "Hospital: 2255456.0<br>Ano: 2016<br>Tempo médio: 151 dias",
           "Hospital: 2255456.0<br>Ano: 2017<br><b>Sem informação</b>",
           "Hospital: 2255456.0<br>Ano: 2018<br><b>Sem informação</b>",
           "Hospital: 2255456.0<br>Ano: 2019<br><b>Sem informação</b>",
           "Hospital: 2255456.0<br>Ano: 2020<br><b>Sem informação</b>",
           "Hospital: 2255456.0<br>Ano: 2021<br>Tempo médio: 437 dias",
           "Hospital: 2255456.0<br>Ano: 2022<br>Tempo médio: 584 dias",
           "Hospital: 2255456.0<br>Ano: 2023<br><b>Sem informação</b>",
           "Hospital: 2255456.0<br>Ano: 2024<br><b>Sem informação</b>"
          ],
          [
           "Hospital: 2257815.0<br>Ano: 2014<br><b>Sem informação</b>",
           "Hospital: 2257815.0<br>Ano: 2015<br><b>Sem informação</b>",
           "Hospital: 2257815.0<br>Ano: 2016<br><b>Sem informação</b>",
           "Hospital: 2257815.0<br>Ano: 2017<br>Tempo médio: 32 dias",
           "Hospital: 2257815.0<br>Ano: 2018<br><b>Sem informação</b>",
           "Hospital: 2257815.0<br>Ano: 2019<br><b>Sem informação</b>",
           "Hospital: 2257815.0<br>Ano: 2020<br>Tempo médio: 433 dias",
           "Hospital: 2257815.0<br>Ano: 2021<br>Tempo médio: 150 dias",
           "Hospital: 2257815.0<br>Ano: 2022<br><b>Sem informação</b>",
           "Hospital: 2257815.0<br>Ano: 2023<br>Tempo médio: 157 dias",
           "Hospital: 2257815.0<br>Ano: 2024<br><b>Sem informação</b>"
          ],
          [
           "Hospital: 2261057.0<br>Ano: 2014<br>Tempo médio: 913 dias",
           "Hospital: 2261057.0<br>Ano: 2015<br><b>Sem informação</b>",
           "Hospital: 2261057.0<br>Ano: 2016<br><b>Sem informação</b>",
           "Hospital: 2261057.0<br>Ano: 2017<br><b>Sem informação</b>",
           "Hospital: 2261057.0<br>Ano: 2018<br><b>Sem informação</b>",
           "Hospital: 2261057.0<br>Ano: 2019<br><b>Sem informação</b>",
           "Hospital: 2261057.0<br>Ano: 2020<br><b>Sem informação</b>",
           "Hospital: 2261057.0<br>Ano: 2021<br><b>Sem informação</b>",
           "Hospital: 2261057.0<br>Ano: 2022<br><b>Sem informação</b>",
           "Hospital: 2261057.0<br>Ano: 2023<br><b>Sem informação</b>",
           "Hospital: 2261057.0<br>Ano: 2024<br><b>Sem informação</b>"
          ],
          [
           "Hospital: 2261898.0<br>Ano: 2014<br><b>Sem informação</b>",
           "Hospital: 2261898.0<br>Ano: 2015<br><b>Sem informação</b>",
           "Hospital: 2261898.0<br>Ano: 2016<br><b>Sem informação</b>",
           "Hospital: 2261898.0<br>Ano: 2017<br>Tempo médio: 88 dias",
           "Hospital: 2261898.0<br>Ano: 2018<br><b>Sem informação</b>",
           "Hospital: 2261898.0<br>Ano: 2019<br><b>Sem informação</b>",
           "Hospital: 2261898.0<br>Ano: 2020<br><b>Sem informação</b>",
           "Hospital: 2261898.0<br>Ano: 2021<br>Tempo médio: 42 dias",
           "Hospital: 2261898.0<br>Ano: 2022<br><b>Sem informação</b>",
           "Hospital: 2261898.0<br>Ano: 2023<br><b>Sem informação</b>",
           "Hospital: 2261898.0<br>Ano: 2024<br><b>Sem informação</b>"
          ],
          [
           "Hospital: 2262274.0<br>Ano: 2014<br><b>Sem informação</b>",
           "Hospital: 2262274.0<br>Ano: 2015<br><b>Sem informação</b>",
           "Hospital: 2262274.0<br>Ano: 2016<br>Tempo médio: 1115 dias",
           "Hospital: 2262274.0<br>Ano: 2017<br><b>Sem informação</b>",
           "Hospital: 2262274.0<br>Ano: 2018<br><b>Sem informação</b>",
           "Hospital: 2262274.0<br>Ano: 2019<br><b>Sem informação</b>",
           "Hospital: 2262274.0<br>Ano: 2020<br><b>Sem informação</b>",
           "Hospital: 2262274.0<br>Ano: 2021<br><b>Sem informação</b>",
           "Hospital: 2262274.0<br>Ano: 2022<br><b>Sem informação</b>",
           "Hospital: 2262274.0<br>Ano: 2023<br><b>Sem informação</b>",
           "Hospital: 2262274.0<br>Ano: 2024<br><b>Sem informação</b>"
          ],
          [
           "Hospital: 2262460.0<br>Ano: 2014<br>Tempo médio: 503 dias",
           "Hospital: 2262460.0<br>Ano: 2015<br>Tempo médio: 93 dias",
           "Hospital: 2262460.0<br>Ano: 2016<br>Tempo médio: 108 dias",
           "Hospital: 2262460.0<br>Ano: 2017<br>Tempo médio: 281 dias",
           "Hospital: 2262460.0<br>Ano: 2018<br>Tempo médio: 266 dias",
           "Hospital: 2262460.0<br>Ano: 2019<br>Tempo médio: 408 dias",
           "Hospital: 2262460.0<br>Ano: 2020<br>Tempo médio: 207 dias",
           "Hospital: 2262460.0<br>Ano: 2021<br>Tempo médio: 247 dias",
           "Hospital: 2262460.0<br>Ano: 2022<br>Tempo médio: 143 dias",
           "Hospital: 2262460.0<br>Ano: 2023<br>Tempo médio: 132 dias",
           "Hospital: 2262460.0<br>Ano: 2024<br>Tempo médio: 57 dias"
          ],
          [
           "Hospital: 2262509.0<br>Ano: 2014<br>Tempo médio: 392 dias",
           "Hospital: 2262509.0<br>Ano: 2015<br>Tempo médio: 113 dias",
           "Hospital: 2262509.0<br>Ano: 2016<br>Tempo médio: 149 dias",
           "Hospital: 2262509.0<br>Ano: 2017<br>Tempo médio: 103 dias",
           "Hospital: 2262509.0<br>Ano: 2018<br>Tempo médio: 98 dias",
           "Hospital: 2262509.0<br>Ano: 2019<br>Tempo médio: 72 dias",
           "Hospital: 2262509.0<br>Ano: 2020<br>Tempo médio: 198 dias",
           "Hospital: 2262509.0<br>Ano: 2021<br>Tempo médio: 151 dias",
           "Hospital: 2262509.0<br>Ano: 2022<br>Tempo médio: 141 dias",
           "Hospital: 2262509.0<br>Ano: 2023<br>Tempo médio: 146 dias",
           "Hospital: 2262509.0<br>Ano: 2024<br>Tempo médio: 122 dias"
          ],
          [
           "Hospital: 2262568.0<br>Ano: 2014<br>Tempo médio: 197 dias",
           "Hospital: 2262568.0<br>Ano: 2015<br>Tempo médio: 466 dias",
           "Hospital: 2262568.0<br>Ano: 2016<br>Tempo médio: 478 dias",
           "Hospital: 2262568.0<br>Ano: 2017<br>Tempo médio: 534 dias",
           "Hospital: 2262568.0<br>Ano: 2018<br>Tempo médio: 268 dias",
           "Hospital: 2262568.0<br>Ano: 2019<br>Tempo médio: 326 dias",
           "Hospital: 2262568.0<br>Ano: 2020<br>Tempo médio: 460 dias",
           "Hospital: 2262568.0<br>Ano: 2021<br>Tempo médio: 244 dias",
           "Hospital: 2262568.0<br>Ano: 2022<br>Tempo médio: 67 dias",
           "Hospital: 2262568.0<br>Ano: 2023<br>Tempo médio: 38 dias",
           "Hospital: 2262568.0<br>Ano: 2024<br>Tempo médio: 159 dias"
          ],
          [
           "Hospital: 2262584.0<br>Ano: 2014<br>Tempo médio: 215 dias",
           "Hospital: 2262584.0<br>Ano: 2015<br>Tempo médio: 157 dias",
           "Hospital: 2262584.0<br>Ano: 2016<br>Tempo médio: 288 dias",
           "Hospital: 2262584.0<br>Ano: 2017<br>Tempo médio: 218 dias",
           "Hospital: 2262584.0<br>Ano: 2018<br>Tempo médio: 191 dias",
           "Hospital: 2262584.0<br>Ano: 2019<br>Tempo médio: 257 dias",
           "Hospital: 2262584.0<br>Ano: 2020<br>Tempo médio: 158 dias",
           "Hospital: 2262584.0<br>Ano: 2021<br>Tempo médio: 934 dias",
           "Hospital: 2262584.0<br>Ano: 2022<br>Tempo médio: 328 dias",
           "Hospital: 2262584.0<br>Ano: 2023<br>Tempo médio: 260 dias",
           "Hospital: 2262584.0<br>Ano: 2024<br>Tempo médio: 246 dias"
          ],
          [
           "Hospital: 2262770.0<br>Ano: 2014<br>Tempo médio: 183 dias",
           "Hospital: 2262770.0<br>Ano: 2015<br>Tempo médio: 295 dias",
           "Hospital: 2262770.0<br>Ano: 2016<br>Tempo médio: 327 dias",
           "Hospital: 2262770.0<br>Ano: 2017<br>Tempo médio: 187 dias",
           "Hospital: 2262770.0<br>Ano: 2018<br>Tempo médio: 93 dias",
           "Hospital: 2262770.0<br>Ano: 2019<br>Tempo médio: 110 dias",
           "Hospital: 2262770.0<br>Ano: 2020<br>Tempo médio: 118 dias",
           "Hospital: 2262770.0<br>Ano: 2021<br>Tempo médio: 139 dias",
           "Hospital: 2262770.0<br>Ano: 2022<br>Tempo médio: 131 dias",
           "Hospital: 2262770.0<br>Ano: 2023<br>Tempo médio: 172 dias",
           "Hospital: 2262770.0<br>Ano: 2024<br>Tempo médio: 121 dias"
          ],
          [
           "Hospital: 2700662.0<br>Ano: 2014<br><b>Sem informação</b>",
           "Hospital: 2700662.0<br>Ano: 2015<br>Tempo médio: 22 dias",
           "Hospital: 2700662.0<br>Ano: 2016<br><b>Sem informação</b>",
           "Hospital: 2700662.0<br>Ano: 2017<br><b>Sem informação</b>",
           "Hospital: 2700662.0<br>Ano: 2018<br><b>Sem informação</b>",
           "Hospital: 2700662.0<br>Ano: 2019<br><b>Sem informação</b>",
           "Hospital: 2700662.0<br>Ano: 2020<br>Tempo médio: 1126 dias",
           "Hospital: 2700662.0<br>Ano: 2021<br><b>Sem informação</b>",
           "Hospital: 2700662.0<br>Ano: 2022<br><b>Sem informação</b>",
           "Hospital: 2700662.0<br>Ano: 2023<br><b>Sem informação</b>",
           "Hospital: 2700662.0<br>Ano: 2024<br><b>Sem informação</b>"
          ],
          [
           "Hospital: 2701146.0<br>Ano: 2014<br><b>Sem informação</b>",
           "Hospital: 2701146.0<br>Ano: 2015<br><b>Sem informação</b>",
           "Hospital: 2701146.0<br>Ano: 2016<br><b>Sem informação</b>",
           "Hospital: 2701146.0<br>Ano: 2017<br>Tempo médio: 1564 dias",
           "Hospital: 2701146.0<br>Ano: 2018<br><b>Sem informação</b>",
           "Hospital: 2701146.0<br>Ano: 2019<br><b>Sem informação</b>",
           "Hospital: 2701146.0<br>Ano: 2020<br>Tempo médio: 499 dias",
           "Hospital: 2701146.0<br>Ano: 2021<br>Tempo médio: 255 dias",
           "Hospital: 2701146.0<br>Ano: 2022<br>Tempo médio: 145 dias",
           "Hospital: 2701146.0<br>Ano: 2023<br><b>Sem informação</b>",
           "Hospital: 2701146.0<br>Ano: 2024<br><b>Sem informação</b>"
          ],
          [
           "Hospital: 2707829.0<br>Ano: 2014<br>Tempo médio: 2091 dias",
           "Hospital: 2707829.0<br>Ano: 2015<br><b>Sem informação</b>",
           "Hospital: 2707829.0<br>Ano: 2016<br><b>Sem informação</b>",
           "Hospital: 2707829.0<br>Ano: 2017<br><b>Sem informação</b>",
           "Hospital: 2707829.0<br>Ano: 2018<br><b>Sem informação</b>",
           "Hospital: 2707829.0<br>Ano: 2019<br><b>Sem informação</b>",
           "Hospital: 2707829.0<br>Ano: 2020<br><b>Sem informação</b>",
           "Hospital: 2707829.0<br>Ano: 2021<br><b>Sem informação</b>",
           "Hospital: 2707829.0<br>Ano: 2022<br><b>Sem informação</b>",
           "Hospital: 2707829.0<br>Ano: 2023<br><b>Sem informação</b>",
           "Hospital: 2707829.0<br>Ano: 2024<br><b>Sem informação</b>"
          ],
          [
           "Hospital: 2707918.0<br>Ano: 2014<br><b>Sem informação</b>",
           "Hospital: 2707918.0<br>Ano: 2015<br><b>Sem informação</b>",
           "Hospital: 2707918.0<br>Ano: 2016<br>Tempo médio: 2001 dias",
           "Hospital: 2707918.0<br>Ano: 2017<br><b>Sem informação</b>",
           "Hospital: 2707918.0<br>Ano: 2018<br><b>Sem informação</b>",
           "Hospital: 2707918.0<br>Ano: 2019<br><b>Sem informação</b>",
           "Hospital: 2707918.0<br>Ano: 2020<br><b>Sem informação</b>",
           "Hospital: 2707918.0<br>Ano: 2021<br><b>Sem informação</b>",
           "Hospital: 2707918.0<br>Ano: 2022<br><b>Sem informação</b>",
           "Hospital: 2707918.0<br>Ano: 2023<br><b>Sem informação</b>",
           "Hospital: 2707918.0<br>Ano: 2024<br><b>Sem informação</b>"
          ],
          [
           "Hospital: 2839938.0<br>Ano: 2014<br><b>Sem informação</b>",
           "Hospital: 2839938.0<br>Ano: 2015<br><b>Sem informação</b>",
           "Hospital: 2839938.0<br>Ano: 2016<br>Tempo médio: 2878 dias",
           "Hospital: 2839938.0<br>Ano: 2017<br><b>Sem informação</b>",
           "Hospital: 2839938.0<br>Ano: 2018<br><b>Sem informação</b>",
           "Hospital: 2839938.0<br>Ano: 2019<br><b>Sem informação</b>",
           "Hospital: 2839938.0<br>Ano: 2020<br><b>Sem informação</b>",
           "Hospital: 2839938.0<br>Ano: 2021<br><b>Sem informação</b>",
           "Hospital: 2839938.0<br>Ano: 2022<br><b>Sem informação</b>",
           "Hospital: 2839938.0<br>Ano: 2023<br><b>Sem informação</b>",
           "Hospital: 2839938.0<br>Ano: 2024<br><b>Sem informação</b>"
          ],
          [
           "Hospital: 5844762.0<br>Ano: 2014<br>Tempo médio: 2183 dias",
           "Hospital: 5844762.0<br>Ano: 2015<br><b>Sem informação</b>",
           "Hospital: 5844762.0<br>Ano: 2016<br><b>Sem informação</b>",
           "Hospital: 5844762.0<br>Ano: 2017<br><b>Sem informação</b>",
           "Hospital: 5844762.0<br>Ano: 2018<br><b>Sem informação</b>",
           "Hospital: 5844762.0<br>Ano: 2019<br>Tempo médio: 240 dias",
           "Hospital: 5844762.0<br>Ano: 2020<br>Tempo médio: 372 dias",
           "Hospital: 5844762.0<br>Ano: 2021<br>Tempo médio: 48 dias",
           "Hospital: 5844762.0<br>Ano: 2022<br>Tempo médio: 83 dias",
           "Hospital: 5844762.0<br>Ano: 2023<br><b>Sem informação</b>",
           "Hospital: 5844762.0<br>Ano: 2024<br>Tempo médio: 84 dias"
          ]
         ],
         "type": "heatmap",
         "x": {
          "bdata": "3gcAAN8HAADgBwAA4QcAAOIHAADjBwAA5AcAAOUHAADmBwAA5wcAAOgHAAA=",
          "dtype": "i4"
         },
         "y": [
          "2223538.0",
          "2226952.0",
          "2227290.0",
          "2227843.0",
          "2229706.0",
          "2230577.0",
          "2231042.0",
          "2231069.0",
          "2231778.0",
          "2232022.0",
          "2232030.0",
          "2232049.0",
          "2236370.0",
          "2237253.0",
          "2237571.0",
          "2237598.0",
          "2237601.0",
          "2241048.0",
          "2247429.0",
          "2248204.0",
          "2252287.0",
          "2252295.0",
          "2253046.0",
          "2253054.0",
          "2255456.0",
          "2257815.0",
          "2261057.0",
          "2261898.0",
          "2262274.0",
          "2262460.0",
          "2262509.0",
          "2262568.0",
          "2262584.0",
          "2262770.0",
          "2700662.0",
          "2701146.0",
          "2707829.0",
          "2707918.0",
          "2839938.0",
          "5844762.0"
         ],
         "z": {
          "bdata": "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",
          "dtype": "f8",
          "shape": "40, 11"
         },
         "zmax": 3703,
         "zmin": 21
        }
       ],
       "layout": {
        "font": {
         "color": "#023E8A"
        },
        "paper_bgcolor": "#FFFFFF",
        "plot_bgcolor": "#FFFFFF",
        "template": {
         "data": {
          "bar": [
           {
            "error_x": {
             "color": "#2a3f5f"
            },
            "error_y": {
             "color": "#2a3f5f"
            },
            "marker": {
             "line": {
              "color": "#E5ECF6",
              "width": 0.5
             },
             "pattern": {
              "fillmode": "overlay",
              "size": 10,
              "solidity": 0.2
             }
            },
            "type": "bar"
           }
          ],
          "barpolar": [
           {
            "marker": {
             "line": {
              "color": "#E5ECF6",
              "width": 0.5
             },
             "pattern": {
              "fillmode": "overlay",
              "size": 10,
              "solidity": 0.2
             }
            },
            "type": "barpolar"
           }
          ],
          "carpet": [
           {
            "aaxis": {
             "endlinecolor": "#2a3f5f",
             "gridcolor": "white",
             "linecolor": "white",
             "minorgridcolor": "white",
             "startlinecolor": "#2a3f5f"
            },
            "baxis": {
             "endlinecolor": "#2a3f5f",
             "gridcolor": "white",
             "linecolor": "white",
             "minorgridcolor": "white",
             "startlinecolor": "#2a3f5f"
            },
            "type": "carpet"
           }
          ],
          "choropleth": [
           {
            "colorbar": {
             "outlinewidth": 0,
             "ticks": ""
            },
            "type": "choropleth"
           }
          ],
          "contour": [
           {
            "colorbar": {
             "outlinewidth": 0,
             "ticks": ""
            },
            "colorscale": [
             [
              0,
              "#0d0887"
             ],
             [
              0.1111111111111111,
              "#46039f"
             ],
             [
              0.2222222222222222,
              "#7201a8"
             ],
             [
              0.3333333333333333,
              "#9c179e"
             ],
             [
              0.4444444444444444,
              "#bd3786"
             ],
             [
              0.5555555555555556,
              "#d8576b"
             ],
             [
              0.6666666666666666,
              "#ed7953"
             ],
             [
              0.7777777777777778,
              "#fb9f3a"
             ],
             [
              0.8888888888888888,
              "#fdca26"
             ],
             [
              1,
              "#f0f921"
             ]
            ],
            "type": "contour"
           }
          ],
          "contourcarpet": [
           {
            "colorbar": {
             "outlinewidth": 0,
             "ticks": ""
            },
            "type": "contourcarpet"
           }
          ],
          "heatmap": [
           {
            "colorbar": {
             "outlinewidth": 0,
             "ticks": ""
            },
            "colorscale": [
             [
              0,
              "#0d0887"
             ],
             [
              0.1111111111111111,
              "#46039f"
             ],
             [
              0.2222222222222222,
              "#7201a8"
             ],
             [
              0.3333333333333333,
              "#9c179e"
             ],
             [
              0.4444444444444444,
              "#bd3786"
             ],
             [
              0.5555555555555556,
              "#d8576b"
             ],
             [
              0.6666666666666666,
              "#ed7953"
             ],
             [
              0.7777777777777778,
              "#fb9f3a"
             ],
             [
              0.8888888888888888,
              "#fdca26"
             ],
             [
              1,
              "#f0f921"
             ]
            ],
            "type": "heatmap"
           }
          ],
          "histogram": [
           {
            "marker": {
             "pattern": {
              "fillmode": "overlay",
              "size": 10,
              "solidity": 0.2
             }
            },
            "type": "histogram"
           }
          ],
          "histogram2d": [
           {
            "colorbar": {
             "outlinewidth": 0,
             "ticks": ""
            },
            "colorscale": [
             [
              0,
              "#0d0887"
             ],
             [
              0.1111111111111111,
              "#46039f"
             ],
             [
              0.2222222222222222,
              "#7201a8"
             ],
             [
              0.3333333333333333,
              "#9c179e"
             ],
             [
              0.4444444444444444,
              "#bd3786"
             ],
             [
              0.5555555555555556,
              "#d8576b"
             ],
             [
              0.6666666666666666,
              "#ed7953"
             ],
             [
              0.7777777777777778,
              "#fb9f3a"
             ],
             [
              0.8888888888888888,
              "#fdca26"
             ],
             [
              1,
              "#f0f921"
             ]
            ],
            "type": "histogram2d"
           }
          ],
          "histogram2dcontour": [
           {
            "colorbar": {
             "outlinewidth": 0,
             "ticks": ""
            },
            "colorscale": [
             [
              0,
              "#0d0887"
             ],
             [
              0.1111111111111111,
              "#46039f"
             ],
             [
              0.2222222222222222,
              "#7201a8"
             ],
             [
              0.3333333333333333,
              "#9c179e"
             ],
             [
              0.4444444444444444,
              "#bd3786"
             ],
             [
              0.5555555555555556,
              "#d8576b"
             ],
             [
              0.6666666666666666,
              "#ed7953"
             ],
             [
              0.7777777777777778,
              "#fb9f3a"
             ],
             [
              0.8888888888888888,
              "#fdca26"
             ],
             [
              1,
              "#f0f921"
             ]
            ],
            "type": "histogram2dcontour"
           }
          ],
          "mesh3d": [
           {
            "colorbar": {
             "outlinewidth": 0,
             "ticks": ""
            },
            "type": "mesh3d"
           }
          ],
          "parcoords": [
           {
            "line": {
             "colorbar": {
              "outlinewidth": 0,
              "ticks": ""
             }
            },
            "type": "parcoords"
           }
          ],
          "pie": [
           {
            "automargin": true,
            "type": "pie"
           }
          ],
          "scatter": [
           {
            "fillpattern": {
             "fillmode": "overlay",
             "size": 10,
             "solidity": 0.2
            },
            "type": "scatter"
           }
          ],
          "scatter3d": [
           {
            "line": {
             "colorbar": {
              "outlinewidth": 0,
              "ticks": ""
             }
            },
            "marker": {
             "colorbar": {
              "outlinewidth": 0,
              "ticks": ""
             }
            },
            "type": "scatter3d"
           }
          ],
          "scattercarpet": [
           {
            "marker": {
             "colorbar": {
              "outlinewidth": 0,
              "ticks": ""
             }
            },
            "type": "scattercarpet"
           }
          ],
          "scattergeo": [
           {
            "marker": {
             "colorbar": {
              "outlinewidth": 0,
              "ticks": ""
             }
            },
            "type": "scattergeo"
           }
          ],
          "scattergl": [
           {
            "marker": {
             "colorbar": {
              "outlinewidth": 0,
              "ticks": ""
             }
            },
            "type": "scattergl"
           }
          ],
          "scattermap": [
           {
            "marker": {
             "colorbar": {
              "outlinewidth": 0,
              "ticks": ""
             }
            },
            "type": "scattermap"
           }
          ],
          "scattermapbox": [
           {
            "marker": {
             "colorbar": {
              "outlinewidth": 0,
              "ticks": ""
             }
            },
            "type": "scattermapbox"
           }
          ],
          "scatterpolar": [
           {
            "marker": {
             "colorbar": {
              "outlinewidth": 0,
              "ticks": ""
             }
            },
            "type": "scatterpolar"
           }
          ],
          "scatterpolargl": [
           {
            "marker": {
             "colorbar": {
              "outlinewidth": 0,
              "ticks": ""
             }
            },
            "type": "scatterpolargl"
           }
          ],
          "scatterternary": [
           {
            "marker": {
             "colorbar": {
              "outlinewidth": 0,
              "ticks": ""
             }
            },
            "type": "scatterternary"
           }
          ],
          "surface": [
           {
            "colorbar": {
             "outlinewidth": 0,
             "ticks": ""
            },
            "colorscale": [
             [
              0,
              "#0d0887"
             ],
             [
              0.1111111111111111,
              "#46039f"
             ],
             [
              0.2222222222222222,
              "#7201a8"
             ],
             [
              0.3333333333333333,
              "#9c179e"
             ],
             [
              0.4444444444444444,
              "#bd3786"
             ],
             [
              0.5555555555555556,
              "#d8576b"
             ],
             [
              0.6666666666666666,
              "#ed7953"
             ],
             [
              0.7777777777777778,
              "#fb9f3a"
             ],
             [
              0.8888888888888888,
              "#fdca26"
             ],
             [
              1,
              "#f0f921"
             ]
            ],
            "type": "surface"
           }
          ],
          "table": [
           {
            "cells": {
             "fill": {
              "color": "#EBF0F8"
             },
             "line": {
              "color": "white"
             }
            },
            "header": {
             "fill": {
              "color": "#C8D4E3"
             },
             "line": {
              "color": "white"
             }
            },
            "type": "table"
           }
          ]
         },
         "layout": {
          "annotationdefaults": {
           "arrowcolor": "#2a3f5f",
           "arrowhead": 0,
           "arrowwidth": 1
          },
          "autotypenumbers": "strict",
          "coloraxis": {
           "colorbar": {
            "outlinewidth": 0,
            "ticks": ""
           }
          },
          "colorscale": {
           "diverging": [
            [
             0,
             "#8e0152"
            ],
            [
             0.1,
             "#c51b7d"
            ],
            [
             0.2,
             "#de77ae"
            ],
            [
             0.3,
             "#f1b6da"
            ],
            [
             0.4,
             "#fde0ef"
            ],
            [
             0.5,
             "#f7f7f7"
            ],
            [
             0.6,
             "#e6f5d0"
            ],
            [
             0.7,
             "#b8e186"
            ],
            [
             0.8,
             "#7fbc41"
            ],
            [
             0.9,
             "#4d9221"
            ],
            [
             1,
             "#276419"
            ]
           ],
           "sequential": [
            [
             0,
             "#0d0887"
            ],
            [
             0.1111111111111111,
             "#46039f"
            ],
            [
             0.2222222222222222,
             "#7201a8"
            ],
            [
             0.3333333333333333,
             "#9c179e"
            ],
            [
             0.4444444444444444,
             "#bd3786"
            ],
            [
             0.5555555555555556,
             "#d8576b"
            ],
            [
             0.6666666666666666,
             "#ed7953"
            ],
            [
             0.7777777777777778,
             "#fb9f3a"
            ],
            [
             0.8888888888888888,
             "#fdca26"
            ],
            [
             1,
             "#f0f921"
            ]
           ],
           "sequentialminus": [
            [
             0,
             "#0d0887"
            ],
            [
             0.1111111111111111,
             "#46039f"
            ],
            [
             0.2222222222222222,
             "#7201a8"
            ],
            [
             0.3333333333333333,
             "#9c179e"
            ],
            [
             0.4444444444444444,
             "#bd3786"
            ],
            [
             0.5555555555555556,
             "#d8576b"
            ],
            [
             0.6666666666666666,
             "#ed7953"
            ],
            [
             0.7777777777777778,
             "#fb9f3a"
            ],
            [
             0.8888888888888888,
             "#fdca26"
            ],
            [
             1,
             "#f0f921"
            ]
           ]
          },
          "colorway": [
           "#636efa",
           "#EF553B",
           "#00cc96",
           "#ab63fa",
           "#FFA15A",
           "#19d3f3",
           "#FF6692",
           "#B6E880",
           "#FF97FF",
           "#FECB52"
          ],
          "font": {
           "color": "#2a3f5f"
          },
          "geo": {
           "bgcolor": "white",
           "lakecolor": "white",
           "landcolor": "#E5ECF6",
           "showlakes": true,
           "showland": true,
           "subunitcolor": "white"
          },
          "hoverlabel": {
           "align": "left"
          },
          "hovermode": "closest",
          "mapbox": {
           "style": "light"
          },
          "paper_bgcolor": "white",
          "plot_bgcolor": "#E5ECF6",
          "polar": {
           "angularaxis": {
            "gridcolor": "white",
            "linecolor": "white",
            "ticks": ""
           },
           "bgcolor": "#E5ECF6",
           "radialaxis": {
            "gridcolor": "white",
            "linecolor": "white",
            "ticks": ""
           }
          },
          "scene": {
           "xaxis": {
            "backgroundcolor": "#E5ECF6",
            "gridcolor": "white",
            "gridwidth": 2,
            "linecolor": "white",
            "showbackground": true,
            "ticks": "",
            "zerolinecolor": "white"
           },
           "yaxis": {
            "backgroundcolor": "#E5ECF6",
            "gridcolor": "white",
            "gridwidth": 2,
            "linecolor": "white",
            "showbackground": true,
            "ticks": "",
            "zerolinecolor": "white"
           },
           "zaxis": {
            "backgroundcolor": "#E5ECF6",
            "gridcolor": "white",
            "gridwidth": 2,
            "linecolor": "white",
            "showbackground": true,
            "ticks": "",
            "zerolinecolor": "white"
           }
          },
          "shapedefaults": {
           "line": {
            "color": "#2a3f5f"
           }
          },
          "ternary": {
           "aaxis": {
            "gridcolor": "white",
            "linecolor": "white",
            "ticks": ""
           },
           "baxis": {
            "gridcolor": "white",
            "linecolor": "white",
            "ticks": ""
           },
           "bgcolor": "#E5ECF6",
           "caxis": {
            "gridcolor": "white",
            "linecolor": "white",
            "ticks": ""
           }
          },
          "title": {
           "x": 0.05
          },
          "xaxis": {
           "automargin": true,
           "gridcolor": "white",
           "linecolor": "white",
           "ticks": "",
           "title": {
            "standoff": 15
           },
           "zerolinecolor": "white",
           "zerolinewidth": 2
          },
          "yaxis": {
           "automargin": true,
           "gridcolor": "white",
           "linecolor": "white",
           "ticks": "",
           "title": {
            "standoff": 15
           },
           "zerolinecolor": "white",
           "zerolinewidth": 2
          }
         }
        },
        "title": {
         "font": {
          "color": "#023E8A",
          "size": 18
         },
         "text": "Tempo Médio de Espera para FAV - Hospital x Ano"
        },
        "xaxis": {
         "side": "bottom",
         "title": {
          "text": "Ano da Primeira Diálise"
         }
        },
        "yaxis": {
         "autorange": "reversed",
         "title": {
          "text": "Hospital"
         }
        }
       }
      }
     },
     "metadata": {},
     "output_type": "display_data"
    }
   ],
   "source": [
    "# Agrupar por hospital e ano\n",
    "df_heat = df_hospital.groupby(['hospital', 'ano_primeira_dialise'])['tempo_entre_fav_e_primeira_dialise'].mean().reset_index()\n",
    "\n",
    "# Pivotar para criar matriz do heatmap\n",
    "heatmap_data = df_heat.pivot(\n",
    "    index='hospital',\n",
    "    columns='ano_primeira_dialise',\n",
    "    values='tempo_entre_fav_e_primeira_dialise'\n",
    ")\n",
    "\n",
    "# 🔵 Substituir NaNs por -1 (para representar ausência de dados no heatmap)\n",
    "z_data = heatmap_data.fillna(-1).values\n",
    "\n",
    "# 🔵 Criar texto do hover personalizado\n",
    "hover_text = []\n",
    "for i, hospital in enumerate(heatmap_data.index):\n",
    "    row = []\n",
    "    for j, ano in enumerate(heatmap_data.columns):\n",
    "        valor = z_data[i][j]\n",
    "        if valor == -1:\n",
    "            row.append(\n",
    "                f\"Hospital: {hospital}<br>Ano: {ano}<br><b>Sem informação</b>\"\n",
    "            )\n",
    "        else:\n",
    "            row.append(\n",
    "                f\"Hospital: {hospital}<br>Ano: {ano}<br>Tempo médio: {valor:.0f} dias\"\n",
    "            )\n",
    "    hover_text.append(row)\n",
    "\n",
    "# 🔵 Definir uma escala de cores personalizada com preto para NaN (-1)\n",
    "colorscale = [\n",
    "    [0.0, 'rgb(99,99,99)'],                           # NaN → preto\n",
    "    [0.00001, 'rgb(239,243,255)'],             # início da paleta Blues\n",
    "    [0.2, 'rgb(189,215,231)'],\n",
    "    [0.4, 'rgb(107,174,214)'],\n",
    "    [0.6, 'rgb(33,113,181)'],\n",
    "    [1.0, 'rgb(8,48,107)']                     # fim da paleta Blues\n",
    "]\n",
    "\n",
    "# 🔵 Construir o Heatmap\n",
    "fig1_p4 = go.Figure(\n",
    "    data=go.Heatmap(\n",
    "        z=z_data,\n",
    "        x=heatmap_data.columns,\n",
    "        y=heatmap_data.index,\n",
    "        text=hover_text,\n",
    "        hoverinfo='text',\n",
    "        colorscale=colorscale,\n",
    "        colorbar=dict(title='Tempo médio (dias)'),\n",
    "        zmin=heatmap_data.min().min(),\n",
    "        zmax=heatmap_data.max().max(),\n",
    "        hoverongaps=False\n",
    "    )\n",
    ")\n",
    "\n",
    "# 🔵 Layout\n",
    "fig1_p4.update_layout(\n",
    "    title='Tempo Médio de Espera para FAV - Hospital x Ano',\n",
    "    xaxis_title='Ano da Primeira Diálise',\n",
    "    yaxis_title='Hospital',\n",
    "    xaxis=dict(side='bottom'),\n",
    "    yaxis=dict(autorange=\"reversed\"),\n",
    "    plot_bgcolor=paleta['fundo'],\n",
    "    paper_bgcolor=paleta['fundo'],\n",
    "    font=dict(color=paleta['quarto']),\n",
    "    title_font=dict(size=18, color=paleta['quarto']),\n",
    ")\n",
    "\n",
    "fig1_p4.show()"
   ]
  },
  {
   "cell_type": "markdown",
   "id": "7494261f",
   "metadata": {},
   "source": [
    "# DASH Dashboard"
   ]
  },
  {
   "cell_type": "code",
   "execution_count": 45,
   "id": "be1f208e",
   "metadata": {},
   "outputs": [],
   "source": [
    "NOMES = 'Gabriela Dellamora, Luciano da Rocha, Nícolas Moraes, Tiago Gambogi'"
   ]
  },
  {
   "cell_type": "code",
   "execution_count": null,
   "id": "605a6a03",
   "metadata": {},
   "outputs": [],
   "source": [
    "app = Dash(__name__, external_stylesheets=[dbc.themes.FLATLY])\n",
    "app.title = \"Dashboard FAV\"\n",
    "\n",
    "def gerar_card(titulo, grafico):\n",
    "    return dbc.Card(\n",
    "        [\n",
    "            dbc.CardHeader(html.H5(titulo, className=\"text-center fw-bold\")),\n",
    "            dbc.CardBody(\n",
    "                dcc.Graph(figure=grafico, config={'displayModeBar': False}),\n",
    "                style={\"height\": \"100%\"}\n",
    "            )\n",
    "        ],\n",
    "        className=\"shadow-sm mb-4 h-100\"\n",
    "    )\n",
    "\n",
    "def gerar_kpi(titulo, valor, cor=\"primary\"):\n",
    "    return dbc.Card(\n",
    "        dbc.CardBody([\n",
    "            html.H6(titulo, className=\"card-title\"),\n",
    "            html.H4(valor, className=\"card-text fw-bold\")\n",
    "        ]),\n",
    "        color=cor, inverse=True, className=\"shadow-sm mb-4\"\n",
    "    )\n",
    "\n",
    "# Layout do App\n",
    "app.layout = dbc.Container([\n",
    "\n",
    "    # Header\n",
    "    dbc.Row([\n",
    "        dbc.Col(html.H1(\n",
    "            \"Dashboard - Tempo de Espera na FAV\",\n",
    "            className=\"text-center text-primary my-4\"\n",
    "        ))\n",
    "    ]),\n",
    "    dbc.Row([\n",
    "        dbc.Col(html.H5(\n",
    "            \"Análise dos tempos de espera entre a primeira diálise e o atendimento na FAV.\",\n",
    "            className=\"text-center text-secondary mb-4\"\n",
    "        ))\n",
    "    ]),\n",
    "\n",
    "    # KPIs\n",
    "    dbc.Row([\n",
    "        dbc.Col(gerar_kpi(\"Tempo Médio de Espera\", f\"{round(df_espera['tempo_entre_fav_e_primeira_dialise'].mean(), 1)} dias\", \"primary\"), width=3),\n",
    "        dbc.Col(gerar_kpi(\"Total de Hospitais\", df_espera['hospital'].nunique(), \"info\"), width=3),\n",
    "        dbc.Col(gerar_kpi(\"Total de Pacientes\", df_espera.shape[0], \"success\"), width=3),\n",
    "        dbc.Col(gerar_kpi(\"Período da Base\", f\"{df_espera['ano_primeira_dialise'].min()} - {df_espera['ano_primeira_dialise'].max()}\", \"warning\"), width=3),\n",
    "    ], class_name=\"mb-4\"),\n",
    "\n",
    "    # Janelas\n",
    "    dbc.Tabs([\n",
    "\n",
    "        # Visão Geral\n",
    "        dbc.Tab(label=\"Visão Geral\", tab_id=\"tab-geral\", children=[\n",
    "            dbc.Row([\n",
    "                dbc.Col(gerar_card(\"Distribuição do Tempo de Espera\", fig1_p1), width=6),\n",
    "                dbc.Col(gerar_card(\"Tempo Médio por Ano\", fig2_p1), width=6),\n",
    "            ]),\n",
    "        ]),\n",
    "\n",
    "        # Análises Detalhadas\n",
    "        dbc.Tab(label=\"Análises Detalhadas\", tab_id=\"tab-detalhes\", children=[\n",
    "            dbc.Row([\n",
    "                dbc.Col(gerar_card(\"Dispersão: Idade x Tempo de Espera\", fig1_p3), width=6),\n",
    "                dbc.Col(gerar_card(\"Tempo Médio por Perfil e Gênero\", fig2_p3), width=6),\n",
    "            ]),\n",
    "        ]),\n",
    "\n",
    "        # Evolução\n",
    "        dbc.Tab(label=\"Evolução do Tempo de Espera\", tab_id=\"tab-evolucao\", children=[\n",
    "            dbc.Row([\n",
    "                dbc.Col(gerar_card(\"Evolução Mensal com COVID\", fig1_p2), width=12),\n",
    "            ]),\n",
    "            dbc.Row([\n",
    "                dbc.Col(gerar_card(\"Evolução Anual\", fig2_p2), width=12),\n",
    "            ]),\n",
    "        ]),\n",
    "\n",
    "        # Análise Hospital/Ano\n",
    "        dbc.Tab(label=\"Hospital x Ano\", tab_id=\"tab-hospital\", children=[\n",
    "            dbc.Row([\n",
    "                dbc.Col(gerar_card(\"Tempo Médio - Heatmap Hospital x Ano\", fig1_p4), width=12),\n",
    "            ])\n",
    "        ]),\n",
    "\n",
    "        # Dados Tabulares\n",
    "        dbc.Tab(label=\"Base de Dados\", tab_id=\"tab-dados\", children=[\n",
    "            dbc.Row([\n",
    "                dbc.Col(html.H5(\n",
    "                    \"Base de dados consolidada utilizada nesta análise:\",\n",
    "                    className=\"text-center text-secondary my-3\"\n",
    "                ), width=12)\n",
    "            ]),\n",
    "            dbc.Row([\n",
    "                dbc.Col(dash_table.DataTable(\n",
    "                    data=df_espera.to_dict('records'),\n",
    "                    columns=[{\"name\": i, \"id\": i} for i in df_espera.columns],\n",
    "                    page_size=20,\n",
    "                    style_table={'overflowX': 'auto'},\n",
    "                    style_header={\n",
    "                        'backgroundColor': 'rgb(230, 230, 230)',\n",
    "                        'fontWeight': 'bold',\n",
    "                        'textAlign': 'center'\n",
    "                    },\n",
    "                    style_cell={\n",
    "                        'textAlign': 'center',\n",
    "                        'padding': '5px',\n",
    "                        'minWidth': '100px', 'width': '100px', 'maxWidth': '180px',\n",
    "                        'whiteSpace': 'normal',\n",
    "                    },\n",
    "                    style_data_conditional=[\n",
    "                        {\n",
    "                            'if': {'row_index': 'odd'},\n",
    "                            'backgroundColor': 'rgb(248, 248, 248)'\n",
    "                        }\n",
    "                    ],\n",
    "                    filter_action=\"native\",\n",
    "                    sort_action=\"native\",\n",
    "                    sort_mode=\"multi\",\n",
    "                    column_selectable=\"single\",\n",
    "                    selected_columns=[],\n",
    "                    selected_rows=[],\n",
    "                    page_action=\"native\",\n",
    "                ), width=12)\n",
    "            ])\n",
    "        ]),\n",
    "\n",
    "    ], id=\"tabs\", active_tab=\"tab-geral\", class_name=\"mb-4\"),\n",
    "\n",
    "    # Footer\n",
    "    dbc.Row([\n",
    "        dbc.Col(html.Hr())\n",
    "    ]),\n",
    "    dbc.Row([\n",
    "        dbc.Col(html.P(\n",
    "            f\"Dashboard desenvolvido por {NOMES} • Dados atualizados automaticamente • Versão 1.0\",\n",
    "            className=\"text-center text-muted\"\n",
    "        ))\n",
    "    ])\n",
    "\n",
    "], fluid=True)"
   ]
  },
  {
   "cell_type": "code",
   "execution_count": 50,
   "id": "a2da32bf",
   "metadata": {},
   "outputs": [
    {
     "data": {
      "text/html": [
       "\n",
       "        <iframe\n",
       "            width=\"100%\"\n",
       "            height=\"650\"\n",
       "            src=\"http://127.0.0.1:8080/\"\n",
       "            frameborder=\"0\"\n",
       "            allowfullscreen\n",
       "            \n",
       "        ></iframe>\n",
       "        "
      ],
      "text/plain": [
       "<IPython.lib.display.IFrame at 0x1f6560abd40>"
      ]
     },
     "metadata": {},
     "output_type": "display_data"
    }
   ],
   "source": [
    "if __name__ == '__main__':\n",
    "    app.run(debug=True, port=PORTA_HTTP)"
   ]
  },
  {
   "cell_type": "code",
   "execution_count": null,
   "id": "f487878d",
   "metadata": {},
   "outputs": [],
   "source": []
  }
 ],
 "metadata": {
  "kernelspec": {
   "display_name": "datasus",
   "language": "python",
   "name": "python3"
  },
  "language_info": {
   "codemirror_mode": {
    "name": "ipython",
    "version": 3
   },
   "file_extension": ".py",
   "mimetype": "text/x-python",
   "name": "python",
   "nbconvert_exporter": "python",
   "pygments_lexer": "ipython3",
   "version": "3.12.0"
  }
 },
 "nbformat": 4,
 "nbformat_minor": 5
}
